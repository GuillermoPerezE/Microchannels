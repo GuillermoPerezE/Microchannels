{
 "cells": [
  {
   "cell_type": "markdown",
   "source": [
    "# CUSTOMHyS for Designing Microchannel Heat Sinks"
   ],
   "metadata": {
    "collapsed": false,
    "pycharm": {
     "name": "#%% md\n"
    }
   }
  },
  {
   "cell_type": "markdown",
   "source": [
    "## 0. Packages' installation and loading"
   ],
   "metadata": {
    "collapsed": false,
    "pycharm": {
     "name": "#%% md\n"
    }
   }
  },
  {
   "cell_type": "code",
   "execution_count": 39,
   "outputs": [
    {
     "data": {
      "text/plain": "'C:\\\\Users\\\\memo_\\\\PycharmProjects\\\\Microchannels'"
     },
     "execution_count": 39,
     "metadata": {},
     "output_type": "execute_result"
    }
   ],
   "source": [
    "%pwd"
   ],
   "metadata": {
    "collapsed": false,
    "pycharm": {
     "name": "#%%\n"
    }
   }
  },
  {
   "cell_type": "markdown",
   "source": [
    "Instalamos el paquete de Customhys directo del repositorio"
   ],
   "metadata": {
    "collapsed": false,
    "pycharm": {
     "name": "#%% md\n"
    }
   }
  },
  {
   "cell_type": "code",
   "execution_count": 40,
   "outputs": [
    {
     "name": "stdout",
     "output_type": "stream",
     "text": [
      "Requirement already satisfied: install in c:\\users\\memo_\\pycharmprojects\\microchannels\\venv\\lib\\site-packages (1.3.5)\n",
      "Requirement already satisfied: customhys==1.0.1.dev1 in c:\\users\\memo_\\pycharmprojects\\microchannels\\venv\\lib\\site-packages (1.0.1.dev1)\n"
     ]
    },
    {
     "name": "stderr",
     "output_type": "stream",
     "text": [
      "WARNING: You are using pip version 21.1.2; however, version 22.3.1 is available.\n",
      "You should consider upgrading via the 'C:\\Users\\memo_\\PycharmProjects\\Microchannels\\venv\\Scripts\\python.exe -m pip install --upgrade pip' command.\n"
     ]
    }
   ],
   "source": [
    "!pip3 install install customhys==1.0.1.dev1"
   ],
   "metadata": {
    "collapsed": false,
    "pycharm": {
     "name": "#%%\n"
    }
   }
  },
  {
   "cell_type": "markdown",
   "source": [
    "Cargamos los paquetes que vamos a utilizar"
   ],
   "metadata": {
    "collapsed": false,
    "pycharm": {
     "name": "#%% md\n"
    }
   }
  },
  {
   "cell_type": "code",
   "execution_count": 41,
   "metadata": {
    "collapsed": true,
    "pycharm": {
     "name": "#%%\n"
    }
   },
   "outputs": [],
   "source": [
    "import numpy as np\n",
    "from microchannels import Microchannel\n",
    "from materials import Copper, Air, Titanium, Aluminium, Graphite, Silicon, AlNF, TiONF, Water\n",
    "from customhys import metaheuristic as mh"
   ]
  },
  {
   "cell_type": "markdown",
   "source": [
    "## 1. Microchannel Heat Sink model preparation\n",
    "En esta parte, preparamos el modelo para utilizarlo y evaluar una configuración de parámetros de diseño en la función objetivo, que en este caso será al generación de entropía."
   ],
   "metadata": {
    "collapsed": false,
    "pycharm": {
     "name": "#%% md\n"
    }
   }
  },
  {
   "cell_type": "code",
   "execution_count": 43,
   "outputs": [],
   "source": [
    "class MicrochannelDesign():\n",
    "    def __init__(self):\n",
    "        self.model = Microchannel(base=Copper(), coolant=Air())\n",
    "        #self.max_search_range = np.array([self.model.W_d/10, self.model.W_d/10, 0.005])\n",
    "        #self.min_search_range = np.array([1e-24, 1e-12, 1e-8])\n",
    "\n",
    "        self.max_search_range = np.array([2.65e-5, 20.4e-5, 0.009])\n",
    "        self.min_search_range = np.array([4.53e-5, 13.6e-5, 0.005])\n",
    "        self.func_name = 'Microchannel entropy generation model'\n",
    "\n",
    "    def get_func_val(self, variables):\n",
    "        self.model.w_w = variables[0]\n",
    "        self.model.w_c = variables[1]\n",
    "        self.model.G_d = variables[2]\n",
    "        #print(self.model.G_d)\n",
    "        #print(self.model.alpha)\n",
    "        #print(self.model.beta)\n",
    "        return self.model.sgen\n",
    "\n",
    "    def get_formatted_problem(self, is_constrained=True):\n",
    "        return dict(function=self.get_func_val,\n",
    "                    boundaries=(self.min_search_range, self.max_search_range),\n",
    "                    is_constrained=is_constrained)\n",
    "\n",
    "fun = MicrochannelDesign()"
   ],
   "metadata": {
    "collapsed": false,
    "pycharm": {
     "name": "#%%\n"
    }
   }
  },
  {
   "cell_type": "markdown",
   "source": [
    "## 2. Metaheuristic preparation"
   ],
   "metadata": {
    "collapsed": false,
    "pycharm": {
     "name": "#%% md\n"
    }
   }
  },
  {
   "cell_type": "code",
   "execution_count": 45,
   "outputs": [],
   "source": [
    "# Primero cargamos la colección de operadores\n",
    "with open('./source/collections/' + 'default.txt', 'r') as operators_file:\n",
    "    heuristic_space = [eval(line.rstrip('\\n')) for line in operators_file]"
   ],
   "metadata": {
    "collapsed": false,
    "pycharm": {
     "name": "#%%\n"
    }
   }
  },
  {
   "cell_type": "markdown",
   "source": [
    "Esta es la parte en donde, utilizando los operadores, ensamblamos la metaheurística a usar:"
   ],
   "metadata": {
    "collapsed": false,
    "pycharm": {
     "name": "#%% md\n"
    }
   }
  },
  {
   "cell_type": "code",
   "execution_count": 17,
   "outputs": [],
   "source": [
    "# Metaheuristic 1: Random Search\n",
    "# heur = [('random_search', {'scale': 0.01, 'distribution': 'uniform'}, 'greedy')]\n",
    "\n",
    "# Metaheuristic 2: Particle Swarm & Genetic Linear Crossover with Random Pairing and Metropolis Selection\n",
    "#heur = [('swarm_dynamic', {'factor': 0.7, 'self_conf': 2.54, 'swarm_conf': 2.56, 'version': 'inertial', 'distribution': 'uniform'}, 'all'),\n",
    "#        ('genetic_crossover', {'pairing': 'random', 'crossover': 'linear_0.5_0.5', 'mating_pool_factor': 0.4}, 'metropolis')]\n",
    "\n",
    "heur = [('genetic_crossover',\n",
    "  {'pairing': 'rank', 'crossover': 'linear_0.5_0.5', 'mating_pool_factor': 0.4},\n",
    "  'all'),\n",
    "        ('swarm_dynamic',\n",
    "  {'factor': 0.7, 'self_conf': 2.54, 'swarm_conf': 2.56, 'version': 'inertial', 'distribution': 'gaussian'},\n",
    "  'probabilistic'),\n",
    "        ('genetic_crossover',\n",
    "  {'pairing': 'random', 'crossover': 'blend', 'mating_pool_factor': 0.4},\n",
    "  'probabilistic')]\n",
    "\n",
    "\n",
    "#Metaheuristic 3: Genetic Algorithm\n",
    "#heur = [('genetic_crossover', {'pairing': 'tournament_2_100', 'crossover': 'single', 'mating_pool_factor': 0.4}, 'all'), ('genetic_mutation', {'scale': 1.0, 'elite_rate': 0.1, 'mutation_rate': 0.25, 'distribution': 'uniform'}, 'all')]"
   ],
   "metadata": {
    "collapsed": false,
    "pycharm": {
     "name": "#%%\n"
    }
   }
  },
  {
   "cell_type": "markdown",
   "source": [
    "Aquí terminamos de definirla empleando CUSTOMHyS\n"
   ],
   "metadata": {
    "collapsed": false,
    "pycharm": {
     "name": "#%% md\n"
    }
   }
  },
  {
   "cell_type": "code",
   "execution_count": 18,
   "outputs": [],
   "source": [
    "met = mh.Metaheuristic(fun.get_formatted_problem(is_constrained=True), heur , num_iterations=100)"
   ],
   "metadata": {
    "collapsed": false,
    "pycharm": {
     "name": "#%%\n"
    }
   }
  },
  {
   "cell_type": "markdown",
   "source": [
    "## 3. Run designing process"
   ],
   "metadata": {
    "collapsed": false,
    "pycharm": {
     "name": "#%% md\n"
    }
   }
  },
  {
   "cell_type": "code",
   "execution_count": 19,
   "outputs": [
    {
     "name": "stdout",
     "output_type": "stream",
     "text": [
      "\n",
      "Search operators to employ:\n",
      "genetic_crossover(pairing='rank',crossover='linear_0.5_0.5',mating_pool_factor=0.4) with all\n",
      "swarm_dynamic(factor=0.7,self_conf=2.54,swarm_conf=2.56,version='inertial',distribution='gaussian') with probabilistic\n",
      "genetic_crossover(pairing='random',crossover='blend',mating_pool_factor=0.4) with probabilistic\n",
      "--------------------------------------------------\n",
      "1\n",
      "pop. radius: 1.31527382987173\n",
      "x_best = [2.65e-05 2.04e-04 5.00e-03], f_best = 0.17220071013264232\n",
      "2\n",
      "pop. radius: 1.2028263578248464\n",
      "x_best = [2.65e-05 2.04e-04 5.00e-03], f_best = 0.17220071013264232\n",
      "3\n",
      "pop. radius: 0.4792584213432369\n",
      "x_best = [2.65000000e-05 2.02731196e-04 5.00000000e-03], f_best = 0.1721710424164918\n",
      "4\n",
      "pop. radius: 0.034312714391235066\n",
      "x_best = [2.65000000e-05 2.02753271e-04 5.00000000e-03], f_best = 0.17216668369634008\n",
      "5\n",
      "pop. radius: 0.03313183465212277\n",
      "x_best = [2.65000000e-05 2.02753271e-04 5.00000000e-03], f_best = 0.17216668369634008\n",
      "6\n",
      "pop. radius: 0.033184007599444176\n",
      "x_best = [2.65000000e-05 2.02962784e-04 5.00000000e-03], f_best = 0.17212540086433883\n",
      "7\n",
      "pop. radius: 0.0\n",
      "x_best = [2.65000000e-05 2.02962784e-04 5.00000000e-03], f_best = 0.17212540086433883\n",
      "8\n",
      "pop. radius: 0.03292462734806445\n",
      "x_best = [2.6500000e-05 2.0296464e-04 5.0000000e-03], f_best = 0.17212503585074806\n",
      "9\n",
      "pop. radius: 0.05920917846969642\n",
      "x_best = [2.6500000e-05 2.0296464e-04 5.0000000e-03], f_best = 0.17212503585074806\n",
      "10\n",
      "pop. radius: 0.028926692188181335\n",
      "x_best = [2.6500000e-05 2.0296464e-04 5.0000000e-03], f_best = 0.17212503585074806\n",
      "11\n",
      "pop. radius: 0.07264073232328216\n",
      "x_best = [2.6500000e-05 2.0296464e-04 5.0000000e-03], f_best = 0.17212503585074806\n",
      "12\n",
      "pop. radius: 0.018102636629730662\n",
      "x_best = [2.65000000e-05 2.02989889e-04 5.00000000e-03], f_best = 0.17212007123382514\n",
      "13\n",
      "pop. radius: 0.0022847793973248542\n",
      "x_best = [2.65000000e-05 2.02989889e-04 5.00000000e-03], f_best = 0.17212007123382514\n",
      "14\n",
      "pop. radius: 0.0015912833974691676\n",
      "x_best = [2.65000000e-05 2.02989889e-04 5.00000000e-03], f_best = 0.17212007123382514\n",
      "15\n",
      "pop. radius: 0.0009399266604097622\n",
      "x_best = [2.65000000e-05 2.02989889e-04 5.00000000e-03], f_best = 0.17212007123382514\n",
      "16\n",
      "pop. radius: 0.0008138731635360941\n",
      "x_best = [2.65000000e-05 2.02989889e-04 5.00000000e-03], f_best = 0.17212007123382514\n",
      "17\n",
      "pop. radius: 0.0003199149442718596\n",
      "x_best = [2.65000000e-05 2.02989889e-04 5.00000000e-03], f_best = 0.17212007123382514\n",
      "18\n",
      "pop. radius: 0.00012811436980941782\n",
      "x_best = [2.65000000e-05 2.02989889e-04 5.00000000e-03], f_best = 0.17212007123382514\n",
      "19\n",
      "pop. radius: 0.00011251346489471459\n",
      "x_best = [2.65000000e-05 2.02989889e-04 5.00000000e-03], f_best = 0.17212007123382514\n",
      "20\n",
      "pop. radius: 8.246671128075977e-05\n",
      "x_best = [2.65000000e-05 2.02989889e-04 5.00000000e-03], f_best = 0.17212007123382514\n",
      "21\n",
      "pop. radius: 0.00015409327295368147\n",
      "x_best = [2.65000000e-05 2.02989889e-04 5.00000000e-03], f_best = 0.17212007123382514\n",
      "22\n",
      "pop. radius: 3.2076245636614154e-05\n",
      "x_best = [2.65000000e-05 2.02989889e-04 5.00000000e-03], f_best = 0.17212007123382514\n",
      "23\n",
      "pop. radius: 0.00023858585120539733\n",
      "x_best = [2.65000000e-05 2.02989889e-04 5.00000000e-03], f_best = 0.17212007123382514\n",
      "24\n",
      "pop. radius: 0.00018770642128040915\n",
      "x_best = [2.65000000e-05 2.02989889e-04 5.00000000e-03], f_best = 0.17212007123382514\n",
      "25\n",
      "pop. radius: 0.00017941487773676101\n",
      "x_best = [2.65000000e-05 2.02989889e-04 5.00000000e-03], f_best = 0.17212007123382514\n",
      "26\n",
      "pop. radius: 0.00012305386590405476\n",
      "x_best = [2.65000000e-05 2.02989889e-04 5.00000000e-03], f_best = 0.17212007123382514\n",
      "27\n",
      "pop. radius: 0.00011579456471144667\n",
      "x_best = [2.65000000e-05 2.02990417e-04 5.00000000e-03], f_best = 0.17211996754266018\n",
      "28\n",
      "pop. radius: 9.922260944117411e-05\n",
      "x_best = [2.65000000e-05 2.02990417e-04 5.00000000e-03], f_best = 0.17211996754266018\n",
      "29\n",
      "pop. radius: 8.016867260252081e-05\n",
      "x_best = [2.65000000e-05 2.02990417e-04 5.00000000e-03], f_best = 0.17211996754266018\n",
      "30\n",
      "pop. radius: 5.766925922856547e-05\n",
      "x_best = [2.65000000e-05 2.02990417e-04 5.00000000e-03], f_best = 0.17211996754266018\n",
      "31\n",
      "pop. radius: 7.704108657646813e-05\n",
      "x_best = [2.65000000e-05 2.02990417e-04 5.00000000e-03], f_best = 0.17211996754266018\n",
      "32\n",
      "pop. radius: 0.0003952931531947931\n",
      "x_best = [2.65000000e-05 2.02990417e-04 5.00000000e-03], f_best = 0.17211996754266018\n",
      "33\n",
      "pop. radius: 5.762466211556294e-05\n",
      "x_best = [2.65000000e-05 2.02990417e-04 5.00000000e-03], f_best = 0.17211996754266018\n",
      "34\n",
      "pop. radius: 2.1537563716478303e-05\n",
      "x_best = [2.65000000e-05 2.02990417e-04 5.00000000e-03], f_best = 0.17211996754266018\n",
      "35\n",
      "pop. radius: 3.348258915447655e-05\n",
      "x_best = [2.65000000e-05 2.02990474e-04 5.00000000e-03], f_best = 0.1721199562914691\n",
      "36\n",
      "pop. radius: 2.13979474683601e-05\n",
      "x_best = [2.65000000e-05 2.02990474e-04 5.00000000e-03], f_best = 0.1721199562914691\n",
      "37\n",
      "pop. radius: 2.9328470178002775e-05\n",
      "x_best = [2.65000000e-05 2.02990856e-04 5.00000000e-03], f_best = 0.17211988116984503\n",
      "38\n",
      "pop. radius: 5.8025390823002176e-05\n",
      "x_best = [2.65000000e-05 2.02990856e-04 5.00000000e-03], f_best = 0.17211988116984503\n",
      "39\n",
      "pop. radius: 1.5299035756699553e-05\n",
      "x_best = [2.65000000e-05 2.02990856e-04 5.00000000e-03], f_best = 0.17211988116984503\n",
      "40\n",
      "pop. radius: 8.499581395815525e-06\n",
      "x_best = [2.65000000e-05 2.02990856e-04 5.00000000e-03], f_best = 0.17211988116984503\n",
      "41\n",
      "pop. radius: 6.329475591759781e-06\n",
      "x_best = [2.65000000e-05 2.02990856e-04 5.00000000e-03], f_best = 0.17211988116984503\n",
      "42\n",
      "pop. radius: 3.831661879227788e-06\n",
      "x_best = [2.65000000e-05 2.02990856e-04 5.00000000e-03], f_best = 0.17211988116984503\n",
      "43\n",
      "pop. radius: 1.1395212420550749e-05\n",
      "x_best = [2.65000000e-05 2.02990988e-04 5.00000000e-03], f_best = 0.17211985524345688\n",
      "44\n",
      "pop. radius: 1.037661074854146e-05\n",
      "x_best = [2.65000000e-05 2.02990988e-04 5.00000000e-03], f_best = 0.17211985524345688\n",
      "45\n",
      "pop. radius: 5.117328173431801e-06\n",
      "x_best = [2.65000000e-05 2.02990988e-04 5.00000000e-03], f_best = 0.17211985524345688\n",
      "46\n",
      "pop. radius: 1.3665202280854771e-06\n",
      "x_best = [2.65000000e-05 2.02990988e-04 5.00000000e-03], f_best = 0.17211985524345688\n",
      "47\n",
      "pop. radius: 3.94185046448392e-06\n",
      "x_best = [2.65000000e-05 2.02990988e-04 5.00000000e-03], f_best = 0.17211985524345688\n",
      "48\n",
      "pop. radius: 3.770252975487942e-06\n",
      "x_best = [2.65000000e-05 2.02990988e-04 5.00000000e-03], f_best = 0.17211985524345688\n",
      "49\n",
      "pop. radius: 4.076050375778628e-06\n",
      "x_best = [2.65000000e-05 2.02990988e-04 5.00000000e-03], f_best = 0.17211985524345688\n",
      "50\n",
      "pop. radius: 3.1947126919451563e-06\n",
      "x_best = [2.65000000e-05 2.02990988e-04 5.00000000e-03], f_best = 0.17211985524345688\n",
      "51\n",
      "pop. radius: 2.5779715006057913e-06\n",
      "x_best = [2.65000000e-05 2.02990988e-04 5.00000000e-03], f_best = 0.17211985524345688\n",
      "52\n",
      "pop. radius: 1.862331352131541e-06\n",
      "x_best = [2.65000000e-05 2.02990988e-04 5.00000000e-03], f_best = 0.17211985524345688\n",
      "53\n",
      "pop. radius: 1.2714137150870997e-06\n",
      "x_best = [2.65000000e-05 2.02990988e-04 5.00000000e-03], f_best = 0.17211985524345688\n",
      "54\n",
      "pop. radius: 4.840838477848664e-07\n",
      "x_best = [2.65000000e-05 2.02990988e-04 5.00000000e-03], f_best = 0.17211985524345688\n",
      "55\n",
      "pop. radius: 4.2030399960424347e-07\n",
      "x_best = [2.65000000e-05 2.02990988e-04 5.00000000e-03], f_best = 0.17211985524345688\n",
      "56\n",
      "pop. radius: 3.1093167607298966e-07\n",
      "x_best = [2.65000000e-05 2.02990988e-04 5.00000000e-03], f_best = 0.17211985524345688\n",
      "57\n",
      "pop. radius: 1.238776310419354e-07\n",
      "x_best = [2.65000000e-05 2.02990988e-04 5.00000000e-03], f_best = 0.17211985524345688\n",
      "58\n",
      "pop. radius: 7.308294436292329e-08\n",
      "x_best = [2.65000000e-05 2.02990988e-04 5.00000000e-03], f_best = 0.17211985524345688\n",
      "59\n",
      "pop. radius: 1.7014208530952146e-07\n",
      "x_best = [2.65000000e-05 2.02990988e-04 5.00000000e-03], f_best = 0.17211985524345688\n",
      "60\n",
      "pop. radius: 1.526783238725571e-07\n",
      "x_best = [2.65000000e-05 2.02990988e-04 5.00000000e-03], f_best = 0.17211985524345688\n",
      "61\n",
      "pop. radius: 7.45401125601397e-07\n",
      "x_best = [2.65000000e-05 2.02990988e-04 5.00000000e-03], f_best = 0.17211985524345688\n",
      "62\n",
      "pop. radius: 7.051628071463867e-07\n",
      "x_best = [2.65000000e-05 2.02990988e-04 5.00000000e-03], f_best = 0.17211985524345688\n",
      "63\n",
      "pop. radius: 6.371647730540886e-07\n",
      "x_best = [2.65000000e-05 2.02990988e-04 5.00000000e-03], f_best = 0.17211985524345688\n",
      "64\n",
      "pop. radius: 2.551652388271819e-07\n",
      "x_best = [2.65000000e-05 2.02990988e-04 5.00000000e-03], f_best = 0.17211985524345688\n",
      "65\n",
      "pop. radius: 1.7805318475172527e-07\n",
      "x_best = [2.65000000e-05 2.02990988e-04 5.00000000e-03], f_best = 0.17211985524345688\n",
      "66\n",
      "pop. radius: 6.774192133907064e-07\n",
      "x_best = [2.65000000e-05 2.02990988e-04 5.00000000e-03], f_best = 0.17211985524345688\n",
      "67\n",
      "pop. radius: 7.329789963872457e-07\n",
      "x_best = [2.65000000e-05 2.02990991e-04 5.00000000e-03], f_best = 0.1721198547689008\n",
      "68\n",
      "pop. radius: 7.144316332974299e-07\n",
      "x_best = [2.65000000e-05 2.02990991e-04 5.00000000e-03], f_best = 0.1721198547689008\n",
      "69\n",
      "pop. radius: 4.276597567187679e-07\n",
      "x_best = [2.65000000e-05 2.02990991e-04 5.00000000e-03], f_best = 0.1721198547689008\n",
      "70\n",
      "pop. radius: 2.0066358674686313e-07\n",
      "x_best = [2.65000000e-05 2.02990991e-04 5.00000000e-03], f_best = 0.1721198547689008\n",
      "71\n",
      "pop. radius: 1.8158702811478944e-06\n",
      "x_best = [2.65000000e-05 2.02990991e-04 5.00000000e-03], f_best = 0.1721198547689008\n",
      "72\n",
      "pop. radius: 1.4975333040290195e-07\n",
      "x_best = [2.65000000e-05 2.02990991e-04 5.00000000e-03], f_best = 0.1721198547689008\n",
      "73\n",
      "pop. radius: 1.2888069433891758e-07\n",
      "x_best = [2.65000000e-05 2.02990991e-04 5.00000000e-03], f_best = 0.1721198547689008\n",
      "74\n",
      "pop. radius: 9.705432724160801e-08\n",
      "x_best = [2.65000000e-05 2.02990991e-04 5.00000000e-03], f_best = 0.1721198547689008\n",
      "75\n",
      "pop. radius: 1.6889409729659022e-06\n",
      "x_best = [2.65000000e-05 2.02990991e-04 5.00000000e-03], f_best = 0.1721198547689008\n",
      "76\n",
      "pop. radius: 8.235975288769152e-07\n",
      "x_best = [2.65000000e-05 2.02990991e-04 5.00000000e-03], f_best = 0.1721198547689008\n",
      "77\n",
      "pop. radius: 1.566960290185027e-06\n",
      "x_best = [2.65000000e-05 2.02990991e-04 5.00000000e-03], f_best = 0.1721198547689008\n",
      "78\n",
      "pop. radius: 2.964393789502205e-07\n",
      "x_best = [2.65000000e-05 2.02990991e-04 5.00000000e-03], f_best = 0.1721198547689008\n",
      "79\n",
      "pop. radius: 1.5405719365891707e-07\n",
      "x_best = [2.65000000e-05 2.02990991e-04 5.00000000e-03], f_best = 0.1721198547689008\n",
      "80\n",
      "pop. radius: 1.6104173188168792e-07\n",
      "x_best = [2.65000000e-05 2.02990991e-04 5.00000000e-03], f_best = 0.1721198547689008\n",
      "81\n",
      "pop. radius: 1.0410993774445431e-07\n",
      "x_best = [2.65000000e-05 2.02990991e-04 5.00000000e-03], f_best = 0.1721198547689008\n",
      "82\n",
      "pop. radius: 3.3563423902490305e-08\n",
      "x_best = [2.65000000e-05 2.02990991e-04 5.00000000e-03], f_best = 0.1721198547689008\n",
      "83\n",
      "pop. radius: 2.179241134033105e-08\n",
      "x_best = [2.65000000e-05 2.02990991e-04 5.00000000e-03], f_best = 0.1721198547689008\n",
      "84\n",
      "pop. radius: 1.2405193819804724e-08\n",
      "x_best = [2.65000000e-05 2.02990991e-04 5.00000000e-03], f_best = 0.1721198547689008\n",
      "85\n",
      "pop. radius: 3.6810132434507447e-08\n",
      "x_best = [2.65000000e-05 2.02990991e-04 5.00000000e-03], f_best = 0.1721198547689008\n",
      "86\n",
      "pop. radius: 3.92418240231104e-08\n",
      "x_best = [2.65000000e-05 2.02990991e-04 5.00000000e-03], f_best = 0.1721198547689008\n",
      "87\n",
      "pop. radius: 2.0404258257337568e-08\n",
      "x_best = [2.65000000e-05 2.02990991e-04 5.00000000e-03], f_best = 0.1721198547689008\n",
      "88\n",
      "pop. radius: 1.238711663765329e-08\n",
      "x_best = [2.65000000e-05 2.02990991e-04 5.00000000e-03], f_best = 0.1721198547689008\n",
      "89\n",
      "pop. radius: 9.835554995845927e-09\n",
      "x_best = [2.65000000e-05 2.02990991e-04 5.00000000e-03], f_best = 0.1721198547689008\n",
      "90\n",
      "pop. radius: 3.7125019498803746e-08\n",
      "x_best = [2.65000000e-05 2.02990991e-04 5.00000000e-03], f_best = 0.17211985473507743\n",
      "91\n",
      "pop. radius: 9.78249137432465e-09\n",
      "x_best = [2.65000000e-05 2.02990991e-04 5.00000000e-03], f_best = 0.17211985473507743\n",
      "92\n",
      "pop. radius: 5.2819486533479034e-09\n",
      "x_best = [2.65000000e-05 2.02990991e-04 5.00000000e-03], f_best = 0.17211985473507743\n",
      "93\n",
      "pop. radius: 4.960896941453547e-09\n",
      "x_best = [2.65000000e-05 2.02990991e-04 5.00000000e-03], f_best = 0.17211985473507743\n",
      "94\n",
      "pop. radius: 1.49039196551571e-08\n",
      "x_best = [2.65000000e-05 2.02990991e-04 5.00000000e-03], f_best = 0.17211985473507743\n",
      "95\n",
      "pop. radius: 9.391918942063517e-09\n",
      "x_best = [2.65000000e-05 2.02990991e-04 5.00000000e-03], f_best = 0.17211985473507743\n",
      "96\n",
      "pop. radius: 6.270466283011347e-09\n",
      "x_best = [2.65000000e-05 2.02990991e-04 5.00000000e-03], f_best = 0.17211985473507743\n",
      "97\n",
      "pop. radius: 9.22882538668242e-09\n",
      "x_best = [2.65000000e-05 2.02990991e-04 5.00000000e-03], f_best = 0.17211985473507743\n",
      "98\n",
      "pop. radius: 8.098673603970393e-09\n",
      "x_best = [2.65000000e-05 2.02990991e-04 5.00000000e-03], f_best = 0.17211985473507743\n",
      "99\n",
      "pop. radius: 2.065472233281526e-08\n",
      "x_best = [2.65000000e-05 2.02990991e-04 5.00000000e-03], f_best = 0.1721198547184438\n",
      "100\n",
      "pop. radius: 6.193102778746252e-09\n",
      "x_best = [2.65000000e-05 2.02990991e-04 5.00000000e-03], f_best = 0.1721198547184438\n"
     ]
    }
   ],
   "source": [
    "# Aquí corremos la metaheurística seleccionada\n",
    "met.verbose = True  # Se puede comentar para que no muestre todo el log\n",
    "met.run()"
   ],
   "metadata": {
    "collapsed": false,
    "pycharm": {
     "name": "#%%\n"
    }
   }
  },
  {
   "cell_type": "markdown",
   "source": [
    "## 4. Results' visualization"
   ],
   "metadata": {
    "collapsed": false,
    "pycharm": {
     "name": "#%% md\n"
    }
   }
  },
  {
   "cell_type": "markdown",
   "source": [
    "En esta primera gráfica, solo veremos la evolución de la función objetivo (generación de entropía)"
   ],
   "metadata": {
    "collapsed": false,
    "pycharm": {
     "name": "#%% md\n"
    }
   }
  },
  {
   "cell_type": "code",
   "execution_count": 20,
   "outputs": [
    {
     "data": {
      "text/plain": "<Figure size 432x288 with 1 Axes>",
      "image/png": "[encoded data removed]"
     },
     "metadata": {
      "needs_background": "light"
     },
     "output_type": "display_data"
    }
   ],
   "source": [
    "import matplotlib.pyplot as plt\n",
    "\n",
    "plt.plot(met.historical[\"fitness\"])\n",
    "plt.ylabel(r'Entropy Generation (W/K)')\n",
    "plt.xlabel(r'Iteration Number')\n",
    "plt.show()"
   ],
   "metadata": {
    "collapsed": false,
    "pycharm": {
     "name": "#%%\n"
    }
   }
  },
  {
   "cell_type": "code",
   "execution_count": 21,
   "outputs": [
    {
     "data": {
      "text/plain": "<Figure size 432x288 with 1 Axes>",
      "image/png": "[encoded data removed]"
     },
     "metadata": {
      "needs_background": "light"
     },
     "output_type": "display_data"
    }
   ],
   "source": [
    "for i in range(1,50):\n",
    "    met = mh.Metaheuristic(fun.get_formatted_problem(is_constrained=True), heur , num_iterations=100)\n",
    "    met.run()\n",
    "    plt.plot(met.historical[\"fitness\"])\n",
    "plt.ylabel(r'Entropy Generation Rate (W/K)')\n",
    "plt.xlabel(r'Iteration Number')\n",
    "plt.gcf()\n",
    "plt.savefig('resultsMH.jpg')\n",
    "plt.show()\n",
    "\n"
   ],
   "metadata": {
    "collapsed": false,
    "pycharm": {
     "name": "#%%\n"
    }
   }
  },
  {
   "cell_type": "code",
   "execution_count": 46,
   "outputs": [
    {
     "name": "stdout",
     "output_type": "stream",
     "text": [
      "MC_results_Copper_Air_1 :: Step: 0, Perf: 0.17361096240645799, e-Sol: [195]\n",
      "MC_results_Copper_Air_1 :: Step: 3, Perf: 0.17211986450293926, e-Sol: [202]\n",
      "MC_results_Copper_Air_1 :: Step: 33, Perf: 0.17211985470670643, e-Sol: [136 186  85]\n",
      "MC_results_Copper_Air_1 :: Step: 52, Perf: 0.1721198547066086, e-Sol: [148]\n",
      "MC_results_Copper_Air_1 :: Step: 83, Perf: 0.17211985470659716, e-Sol: [145]\n",
      "[['random_flight' {'scale': 1.0, 'distribution': 'gaussian'} 'all']] 0.17211985470659716 [145] \n",
      "\n",
      "\n"
     ]
    }
   ],
   "source": [
    "# from source import experiment as ex\n",
    "# expe = ex.Experiment()\n",
    "# expe.hh_configr\n",
    "# expe.exp_config\n",
    "# expe.prob_config\n",
    "# expe.run()\n",
    "from customhys import hyperheuristic as hh\n",
    "prob = fun.get_formatted_problem(is_constrained=True)\n",
    "hyp = None\n",
    "\n",
    "for i in range(1,2):\n",
    "    del hyp\n",
    "    hyp = hh.Hyperheuristic(heuristic_space=heuristic_space, problem=prob, file_label=\"MC_results_Copper_Air_%d\"%i, parameters=\n",
    "                            dict(cardinality=3,                # Max. numb. of SOs in MHs, lvl:1\n",
    "                              num_iterations=100,           # Iterations a MH performs, lvl:1\n",
    "                              num_agents=30,                # Agents in population,     lvl:1\n",
    "                              num_replicas=30,              # Replicas per each MH,     lvl:2\n",
    "                              num_steps=100,                # Trials per HH step,       lvl:2\n",
    "                              stagnation_percentage=0.3,    # Stagnation percentage,    lvl:2\n",
    "                              max_temperature=200,          # Initial temperature (SA), lvl:2\n",
    "                              cooling_rate=0.1)\n",
    "    )\n",
    "    sol, perf, e_sol = hyp.run()\n",
    "    print( sol, perf, e_sol, \"\\n\\n\")\n"
   ],
   "metadata": {
    "collapsed": false,
    "pycharm": {
     "name": "#%%\n"
    }
   }
  },
  {
   "cell_type": "code",
   "execution_count": 11,
   "outputs": [],
   "source": [
    "class MicrochannelDesign():\n",
    "    def __init__(self):\n",
    "        self.model = Microchannel(base=Graphite(), coolant=Water())\n",
    "        #self.max_search_range = np.array([self.model.W_d/10, self.model.W_d/10, 0.005])\n",
    "        #self.min_search_range = np.array([1e-24, 1e-12, 1e-8])\n",
    "        self.max_search_range = np.array([2.65e-5, 20.4e-5, 0.009])\n",
    "        self.min_search_range = np.array([4.53e-5, 13.6e-5, 0.005])\n",
    "        self.func_name = 'Microchannel entropy generation model'\n",
    "\n",
    "    def get_func_val(self, variables):\n",
    "        self.model.w_w = variables[0]\n",
    "        self.model.w_c = variables[1]\n",
    "        self.model.G_d = variables[2]\n",
    "        #print(self.model.G_d)\n",
    "        #print(self.model.alpha)\n",
    "        #print(self.model.beta)\n",
    "        return self.model.sgen\n",
    "\n",
    "    def get_formatted_problem(self, is_constrained=True):\n",
    "        return dict(function=self.get_func_val,\n",
    "                    boundaries=(self.min_search_range, self.max_search_range),\n",
    "                    is_constrained=is_constrained)\n",
    "\n",
    "fun = MicrochannelDesign()"
   ],
   "metadata": {
    "collapsed": false,
    "pycharm": {
     "name": "#%%\n"
    }
   }
  },
  {
   "cell_type": "code",
   "execution_count": 12,
   "outputs": [
    {
     "name": "stdout",
     "output_type": "stream",
     "text": [
      "MC_results2_Graphite_Wat_Ag_50_Stag_10_26 :: Step: 0, Perf: 108.52248126279315, e-Sol: [110]\n",
      "MC_results2_Graphite_Wat_Ag_50_Stag_10_26 :: Step: 1, Perf: 107.49252218594403, e-Sol: [105]\n",
      "MC_results2_Graphite_Wat_Ag_50_Stag_10_26 :: Step: 2, Perf: 94.3618260800781, e-Sol: [190 105]\n",
      "[['swarm_dynamic'\n",
      "  {'factor': 0.7, 'self_conf': 2.54, 'swarm_conf': 2.56, 'version': 'inertial', 'distribution': 'levy'}\n",
      "  'greedy']\n",
      " ['genetic_crossover'\n",
      "  {'pairing': 'rank', 'crossover': 'linear_0.5_0.5', 'mating_pool_factor': 0.4}\n",
      "  'all']] 94.3618260800781 [190 105] \n",
      "\n",
      "\n",
      "MC_results2_Graphite_Wat_Ag_50_Stag_10_27 :: Step: 0, Perf: 94.91237108307433, e-Sol: [195]\n",
      "MC_results2_Graphite_Wat_Ag_50_Stag_10_27 :: Step: 1, Perf: 94.36182203379083, e-Sol: [139 195]\n",
      "[['random_flight' {'scale': 1.0, 'distribution': 'levy', 'beta': 1.5}\n",
      "  'metropolis']\n",
      " ['swarm_dynamic'\n",
      "  {'factor': 1.0, 'self_conf': 2.54, 'swarm_conf': 2.56, 'version': 'constriction', 'distribution': 'uniform'}\n",
      "  'metropolis']] 94.36182203379083 [139 195] \n",
      "\n",
      "\n",
      "MC_results2_Graphite_Wat_Ag_50_Stag_10_28 :: Step: 0, Perf: 94.4269235859916, e-Sol: [189]\n",
      "MC_results2_Graphite_Wat_Ag_50_Stag_10_28 :: Step: 1, Perf: 94.38899502617852, e-Sol: [27]\n",
      "MC_results2_Graphite_Wat_Ag_50_Stag_10_28 :: Step: 5, Perf: 94.37807475542681, e-Sol: [121  77  27]\n",
      "MC_results2_Graphite_Wat_Ag_50_Stag_10_28 :: Step: 6, Perf: 94.37721498160931, e-Sol: [121  27]\n",
      "MC_results2_Graphite_Wat_Ag_50_Stag_10_28 :: Step: 17, Perf: 94.36182203386116, e-Sol: [160 198  99]\n",
      "[['local_random_walk'\n",
      "  {'probability': 0.75, 'scale': 1.0, 'distribution': 'levy'}\n",
      "  'probabilistic']\n",
      " ['swarm_dynamic'\n",
      "  {'factor': 1.0, 'self_conf': 2.54, 'swarm_conf': 2.56, 'version': 'constriction', 'distribution': 'gaussian'}\n",
      "  'greedy']\n",
      " ['genetic_crossover'\n",
      "  {'pairing': 'random', 'crossover': 'blend', 'mating_pool_factor': 0.4}\n",
      "  'metropolis']] 94.36182203386116 [160 198  99] \n",
      "\n",
      "\n",
      "MC_results2_Graphite_Wat_Ag_50_Stag_10_29 :: Step: 0, Perf: 94.41298064307544, e-Sol: [32]\n",
      "MC_results2_Graphite_Wat_Ag_50_Stag_10_29 :: Step: 1, Perf: 94.36430722948829, e-Sol: [32 92]\n",
      "MC_results2_Graphite_Wat_Ag_50_Stag_10_29 :: Step: 2, Perf: 94.36407902660042, e-Sol: [152  32  92]\n",
      "MC_results2_Graphite_Wat_Ag_50_Stag_10_29 :: Step: 3, Perf: 94.36207524695284, e-Sol: [152 134  92]\n",
      "MC_results2_Graphite_Wat_Ag_50_Stag_10_29 :: Step: 4, Perf: 94.3618714932744, e-Sol: [  9 134  92]\n",
      "MC_results2_Graphite_Wat_Ag_50_Stag_10_29 :: Step: 11, Perf: 94.36182203379084, e-Sol: [146]\n",
      "MC_results2_Graphite_Wat_Ag_50_Stag_10_29 :: Step: 17, Perf: 94.36182203379083, e-Sol: [118 132 184]\n",
      "[['genetic_crossover'\n",
      "  {'pairing': 'tournament_2_100', 'crossover': 'linear_0.5_0.5', 'mating_pool_factor': 0.4}\n",
      "  'greedy']\n",
      " ['genetic_mutation'\n",
      "  {'scale': 1.0, 'elite_rate': 0.1, 'mutation_rate': 0.25, 'distribution': 'levy'}\n",
      "  'probabilistic']\n",
      " ['swarm_dynamic'\n",
      "  {'factor': 0.7, 'self_conf': 2.54, 'swarm_conf': 2.56, 'version': 'inertial', 'distribution': 'uniform'}\n",
      "  'probabilistic']] 94.36182203379083 [118 132 184] \n",
      "\n",
      "\n",
      "MC_results2_Graphite_Wat_Ag_50_Stag_10_30 :: Step: 0, Perf: 94.39448072317089, e-Sol: [188]\n",
      "MC_results2_Graphite_Wat_Ag_50_Stag_10_30 :: Step: 2, Perf: 94.362141561655, e-Sol: [188   6 169]\n",
      "MC_results2_Graphite_Wat_Ag_50_Stag_10_30 :: Step: 5, Perf: 94.36184890913017, e-Sol: [188 116]\n",
      "MC_results2_Graphite_Wat_Ag_50_Stag_10_30 :: Step: 13, Perf: 94.36182203379083, e-Sol: [130 104 197]\n",
      "[['genetic_mutation'\n",
      "  {'scale': 1.0, 'elite_rate': 0.1, 'mutation_rate': 0.25, 'distribution': 'levy'}\n",
      "  'greedy']\n",
      " ['genetic_crossover'\n",
      "  {'pairing': 'tournament_2_100', 'crossover': 'blend', 'mating_pool_factor': 0.4}\n",
      "  'probabilistic']\n",
      " ['swarm_dynamic'\n",
      "  {'factor': 1.0, 'self_conf': 2.54, 'swarm_conf': 2.56, 'version': 'constriction', 'distribution': 'gaussian'}\n",
      "  'all']] 94.36182203379083 [130 104 197] \n",
      "\n",
      "\n"
     ]
    }
   ],
   "source": [
    "from customhys  import hyperheuristic as hh\n",
    "prob = fun.get_formatted_problem(is_constrained=True)\n",
    "hyp = None\n",
    "for i in range(26,31):\n",
    "    del hyp\n",
    "    hyp = hh.Hyperheuristic(heuristic_space=heuristic_space, problem=prob, file_label=\"MC_results2_Graphite_Wat_Ag_50_Stag_10_%d\"%i, parameters=\n",
    "                            dict(cardinality=3,                # Max. numb. of SOs in MHs, lvl:1\n",
    "                              num_iterations=100,           # Iterations a MH performs, lvl:1\n",
    "                              num_agents=50,                # Agents in population,     lvl:1\n",
    "                              num_replicas=30,              # Replicas per each MH,     lvl:2\n",
    "                              num_steps=100,                # Trials per HH step,       lvl:2\n",
    "                              stagnation_percentage=0.1,    # Stagnation percentage,    lvl:2\n",
    "                              max_temperature=200,          # Initial temperature (SA), lvl:2\n",
    "                              cooling_rate=0.1)\n",
    "    )\n",
    "    sol, perf, e_sol = hyp.run()\n",
    "    print( sol, perf, e_sol, \"\\n\\n\")"
   ],
   "metadata": {
    "collapsed": false,
    "pycharm": {
     "name": "#%%\n"
    }
   }
  },
  {
   "cell_type": "code",
   "execution_count": null,
   "outputs": [],
   "source": [],
   "metadata": {
    "collapsed": false,
    "pycharm": {
     "name": "#%%\n"
    }
   }
  },
  {
   "cell_type": "code",
   "execution_count": null,
   "outputs": [],
   "source": [
    "parameters=dict(\n",
    "        cardinality=3,  # Max. numb. of SOs in MHs, lvl:1\n",
    "        num_iterations=500,  # Iterations a MH performs, lvl:1\n",
    "        num_agents=300,  # Agents in population,     lvl:1\n",
    "        num_replicas=30,  # Replicas per each MH,     lvl:2\n",
    "        num_steps=100,  # Trials per HH step,       lvl:2\n",
    "        stagnation_percentage=0.5,  # Stagnation percentage,    lvl:2\n",
    "        max_temperature=200,  # Initial temperature (SA), lvl:2\n",
    "        cooling_rate=0.05,  # Cooling rate (SA),        lvl:2)\n",
    "        compute_replicas_in_parallel=False,\n",
    "        compute_agents_in_parallel=True)"
   ],
   "metadata": {
    "collapsed": false,
    "pycharm": {
     "name": "#%%\n"
    }
   }
  },
  {
   "cell_type": "code",
   "execution_count": 6,
   "outputs": [
    {
     "ename": "ValueError",
     "evalue": "max() arg is an empty sequence",
     "output_type": "error",
     "traceback": [
      "\u001B[1;31m---------------------------------------------------------------------------\u001B[0m",
      "\u001B[1;31mValueError\u001B[0m                                Traceback (most recent call last)",
      "Input \u001B[1;32mIn [6]\u001B[0m, in \u001B[0;36m<cell line: 6>\u001B[1;34m()\u001B[0m\n\u001B[0;32m      3\u001B[0m \u001B[38;5;28;01mimport\u001B[39;00m \u001B[38;5;21;01mos\u001B[39;00m\n\u001B[0;32m      5\u001B[0m list_of_files \u001B[38;5;241m=\u001B[39m glob\u001B[38;5;241m.\u001B[39mglob(\u001B[38;5;124m'\u001B[39m\u001B[38;5;124m/path/to/folder/*\u001B[39m\u001B[38;5;124m'\u001B[39m) \u001B[38;5;66;03m# * means all if need specific format then *.csv\u001B[39;00m\n\u001B[1;32m----> 6\u001B[0m latest_file \u001B[38;5;241m=\u001B[39m \u001B[38;5;28;43mmax\u001B[39;49m\u001B[43m(\u001B[49m\u001B[43mlist_of_files\u001B[49m\u001B[43m,\u001B[49m\u001B[43m \u001B[49m\u001B[43mkey\u001B[49m\u001B[38;5;241;43m=\u001B[39;49m\u001B[43mos\u001B[49m\u001B[38;5;241;43m.\u001B[39;49m\u001B[43mpath\u001B[49m\u001B[38;5;241;43m.\u001B[39;49m\u001B[43mgetctime\u001B[49m\u001B[43m)\u001B[49m\n\u001B[0;32m      7\u001B[0m \u001B[38;5;28mprint\u001B[39m(latest_file)\n\u001B[0;32m      8\u001B[0m \u001B[38;5;66;03m# Opening JSON file\u001B[39;00m\n",
      "\u001B[1;31mValueError\u001B[0m: max() arg is an empty sequence"
     ]
    }
   ],
   "source": [
    "import json\n",
    "import glob\n",
    "import os\n",
    "\n",
    "list_of_files = glob.glob('/path/to/folder/*') # * means all if need specific format then *.csv\n",
    "latest_file = max(list_of_files, key=os.path.getctime)\n",
    "print(latest_file)\n",
    "# Opening JSON file\n",
    "with open('data.json') as json_file:\n",
    "    data = json.load(json_file)\n",
    "\n",
    "    # for reading nested data [0] represents\n",
    "    # the index value of the list\n",
    "    print(data['people1'][0])\n",
    "\n",
    "    # for printing the key-value pair of\n",
    "    # nested dictionary for loop can be used\n",
    "    print(\"\\nPrinting nested dictionary as a key-value pair\\n\")\n",
    "    for i in data['people1']:\n",
    "        print(\"Name:\", i['name'])\n",
    "        print(\"Website:\", i['website'])\n",
    "        print(\"From:\", i['from'])\n",
    "        print()"
   ],
   "metadata": {
    "collapsed": false,
    "pycharm": {
     "name": "#%%\n"
    }
   }
  },
  {
   "cell_type": "code",
   "execution_count": 6,
   "outputs": [],
   "source": [],
   "metadata": {
    "collapsed": false,
    "pycharm": {
     "name": "#%%\n"
    }
   }
  },
  {
   "cell_type": "code",
   "execution_count": 33,
   "outputs": [
    {
     "name": "stdout",
     "output_type": "stream",
     "text": [
      "data_files/raw/MC_results_Copper_Air_Stag_10\n",
      "[]\n",
      "[]\n"
     ]
    },
    {
     "ename": "TypeError",
     "evalue": "expected str, bytes or os.PathLike object, not list",
     "output_type": "error",
     "traceback": [
      "\u001B[1;31m---------------------------------------------------------------------------\u001B[0m",
      "\u001B[1;31mTypeError\u001B[0m                                 Traceback (most recent call last)",
      "Input \u001B[1;32mIn [33]\u001B[0m, in \u001B[0;36m<cell line: 12>\u001B[1;34m()\u001B[0m\n\u001B[0;32m     16\u001B[0m \u001B[38;5;66;03m#latest_file = (list_of_files, key=os.path.getmtime)\u001B[39;00m\n\u001B[0;32m     17\u001B[0m \u001B[38;5;28mprint\u001B[39m(latest_file)\n\u001B[1;32m---> 18\u001B[0m \u001B[38;5;28;01mwith\u001B[39;00m \u001B[38;5;28;43mopen\u001B[39;49m\u001B[43m(\u001B[49m\u001B[43mlatest_file\u001B[49m\u001B[43m)\u001B[49m \u001B[38;5;28;01mas\u001B[39;00m json_file:\n\u001B[0;32m     19\u001B[0m     data \u001B[38;5;241m=\u001B[39m json\u001B[38;5;241m.\u001B[39mload(json_file)\n\u001B[0;32m     20\u001B[0m     vec[i]\u001B[38;5;241m=\u001B[39mdata[\u001B[38;5;124m'\u001B[39m\u001B[38;5;124mperformance\u001B[39m\u001B[38;5;124m'\u001B[39m]\n",
      "\u001B[1;31mTypeError\u001B[0m: expected str, bytes or os.PathLike object, not list"
     ]
    }
   ],
   "source": [
    "import glob\n",
    "import os\n",
    "import json\n",
    "import numpy as np\n",
    "import matplotlib.pyplot as plt\n",
    "\n",
    "CA_def=['data_files/raw/' + filename for filename \\\n",
    "                  in os.listdir('data_files/raw/') if filename.startswith(\"MC_results_Copper_Air_Stag\")]\n",
    "vec=np.empty([30])\n",
    "file_type = r'\\*json'\n",
    "i=0\n",
    "for folder in CA_def:\n",
    "    print(folder)\n",
    "    list_of_files = glob.glob(folder + file_type)\n",
    "    print(list_of_files)\n",
    "    #latest_file = (list_of_files, key=os.path.getmtime)\n",
    "    print(latest_file)\n",
    "    with open(latest_file) as json_file:\n",
    "        data = json.load(json_file)\n",
    "        vec[i]=data['performance']\n",
    "    i=i+1\n",
    "\n",
    "# Creating plot\n",
    "plt.boxplot(vec)\n",
    "\n",
    "# show plot\n",
    "plt.show()\n",
    "print(vec)"
   ],
   "metadata": {
    "collapsed": false,
    "pycharm": {
     "name": "#%%\n"
    }
   }
  },
  {
   "cell_type": "code",
   "execution_count": 91,
   "outputs": [
    {
     "name": "stdout",
     "output_type": "stream",
     "text": [
      "data_files/raw/MC_results1_Copper_Air\n",
      "data_files/raw/MC_results1_Copper_Air_Ag_50\n",
      "data_files/raw/MC_results1_Copper_Air_Card_2\n",
      "data_files/raw/MC_results1_Copper_Air_It_50\n",
      "data_files/raw/MC_results1_Copper_Air_Stag_10\n",
      "data_files/raw/MC_results1_Copper_Water\n",
      "data_files/raw/MC_results1_Copper_Water_Ag_50\n",
      "data_files/raw/MC_results1_Copper_Water_Card_2\n",
      "data_files/raw/MC_results1_Copper_Water_It_50\n",
      "data_files/raw/MC_results1_Copper_Water_Stag_10\n",
      "data_files/raw/MC_results1_Graphite_Air\n",
      "data_files/raw/MC_results1_Graphite_Air_Ag_50\n",
      "data_files/raw/MC_results1_Graphite_Air_Card_2\n",
      "data_files/raw/MC_results1_Graphite_Air_It_50\n",
      "data_files/raw/MC_results1_Graphite_Air_Stag_10\n",
      "data_files/raw/MC_results1_Graphite_Water\n",
      "data_files/raw/MC_results1_Graphite_Water_Ag_50\n",
      "data_files/raw/MC_results1_Graphite_Water_Card_2\n",
      "data_files/raw/MC_results1_Graphite_Water_It_50\n",
      "data_files/raw/MC_results1_Graphite_Water_Stag_10\n",
      "[[5.82335215e-02 5.82335215e-02 5.82335215e-02 5.82335215e-02\n",
      "  5.82335292e-02 5.82335215e-02 5.82335215e-02 5.82335215e-02\n",
      "  5.82335215e-02 5.82349894e-02 5.82335215e-02 5.82335215e-02\n",
      "  5.82335215e-02 5.82335215e-02 5.82335215e-02 5.82335215e-02\n",
      "  5.82335215e-02 5.82335215e-02 5.82335215e-02 5.82335215e-02\n",
      "  5.82335215e-02 5.82335215e-02 5.82335215e-02 5.82335215e-02\n",
      "  5.82335246e-02 5.82335215e-02 5.82335226e-02 5.82335215e-02\n",
      "  5.82335215e-02 5.82335222e-02]\n",
      " [5.82335215e-02 5.82335215e-02 5.82335304e-02 5.82335215e-02\n",
      "  5.82335215e-02 5.82335215e-02 5.82335215e-02 5.82335215e-02\n",
      "  5.82335215e-02 5.82335215e-02 5.82335215e-02 5.82335215e-02\n",
      "  5.82335215e-02 5.82335215e-02 5.82335215e-02 5.82335215e-02\n",
      "  5.82335215e-02 5.82335215e-02 5.82335215e-02 5.82335216e-02\n",
      "  5.82335215e-02 5.82335215e-02 5.82335215e-02 5.82335215e-02\n",
      "  5.82335215e-02 5.82335215e-02 5.82335215e-02 5.82335215e-02\n",
      "  5.82335225e-02 5.82335215e-02]\n",
      " [5.82335215e-02 5.82335215e-02 5.82335215e-02 5.82335216e-02\n",
      "  5.82335215e-02 5.82335215e-02 5.82335215e-02 5.82335215e-02\n",
      "  5.82335215e-02 5.82335414e-02 5.82335221e-02 5.82335215e-02\n",
      "  5.82335215e-02 5.82335215e-02 5.82335219e-02 5.82335215e-02\n",
      "  5.82335215e-02 5.82335215e-02 5.82335215e-02 5.82335215e-02\n",
      "  5.82521717e-02 5.82335215e-02 5.82335217e-02 5.82335215e-02\n",
      "  5.82335216e-02 5.82335215e-02 5.82335215e-02 5.82335215e-02\n",
      "  5.82335215e-02 5.82335223e-02]\n",
      " [5.82335216e-02 5.82335215e-02 5.82335215e-02 5.82335216e-02\n",
      "  5.82335263e-02 5.82340788e-02 5.82677164e-02 5.82335394e-02\n",
      "  5.82335215e-02 5.82335223e-02 5.82335215e-02 5.82335222e-02\n",
      "  5.82335320e-02 5.82336608e-02 5.82335401e-02 5.82335215e-02\n",
      "  5.82335924e-02 5.82335219e-02 5.82337876e-02 5.82335215e-02\n",
      "  5.82335215e-02 5.82335228e-02 5.82340529e-02 5.82707848e-02\n",
      "  5.82348932e-02 5.82335215e-02 5.82335215e-02 5.82335215e-02\n",
      "  5.82335215e-02 5.82338924e-02]\n",
      " [5.82335215e-02 5.82335220e-02 5.82916814e-02 5.82335215e-02\n",
      "  5.82335619e-02 5.82335215e-02 5.82335215e-02 5.82335215e-02\n",
      "  5.82335221e-02 5.82335579e-02 5.82336220e-02 5.82335219e-02\n",
      "  5.82653383e-02 5.82335215e-02 5.82335215e-02 5.82335215e-02\n",
      "  5.82349317e-02 5.82851361e-02 5.82335215e-02 5.82335215e-02\n",
      "  5.82799013e-02 5.82335215e-02 5.82875100e-02 5.82335215e-02\n",
      "  5.82335215e-02 5.82415751e-02 5.82335215e-02 5.82335215e-02\n",
      "  5.82336903e-02 5.84333059e-02]\n",
      " [6.08888143e+01 6.08888143e+01 6.08888203e+01 6.08888143e+01\n",
      "  6.08898996e+01 6.08888193e+01 6.08904390e+01 6.08890238e+01\n",
      "  6.08889442e+01 6.08955214e+01 6.08888157e+01 6.08888781e+01\n",
      "  6.08893879e+01 6.08912084e+01 6.08938675e+01 6.08888143e+01\n",
      "  6.08902009e+01 6.08888143e+01 6.08888256e+01 6.08892358e+01\n",
      "  6.08888143e+01 6.08893710e+01 6.08896205e+01 6.08888296e+01\n",
      "  6.08936714e+01 6.08888701e+01 6.09226318e+01 6.08906127e+01\n",
      "  6.08892379e+01 6.08962574e+01]\n",
      " [6.08888143e+01 6.08888143e+01 6.08888143e+01 6.08888143e+01\n",
      "  6.08888143e+01 6.08888201e+01 6.08888186e+01 6.08888154e+01\n",
      "  6.08888143e+01 6.08888149e+01 6.08888143e+01 6.08888143e+01\n",
      "  6.08928784e+01 6.08888143e+01 6.08888143e+01 6.08888149e+01\n",
      "  6.08910891e+01 6.08888415e+01 6.08889211e+01 6.08888143e+01\n",
      "  6.08888143e+01 6.08888143e+01 6.08888143e+01 6.08888143e+01\n",
      "  6.08904963e+01 6.08888143e+01 6.08888143e+01 6.08914184e+01\n",
      "  6.08888143e+01 6.08888143e+01]\n",
      " [6.08967457e+01 6.08892472e+01 6.08908052e+01 6.08890659e+01\n",
      "  6.08970048e+01 6.08942521e+01 6.08897912e+01 6.08888143e+01\n",
      "  6.08949418e+01 6.08888143e+01 6.08966023e+01 6.08940392e+01\n",
      "  6.08889384e+01 6.08888143e+01 6.10396394e+01 6.08963823e+01\n",
      "  6.08894364e+01 6.08888194e+01 6.09347040e+01 6.08993776e+01\n",
      "  6.08954124e+01 6.08929706e+01 6.08888910e+01 6.09030909e+01\n",
      "  6.08893827e+01 6.08894380e+01 6.08888272e+01 6.08888660e+01\n",
      "  6.08894702e+01 6.08888143e+01]\n",
      " [6.08905869e+01 6.08888143e+01 6.09205885e+01 6.08888280e+01\n",
      "  6.08968215e+01 6.08905176e+01 6.09017232e+01 6.08888143e+01\n",
      "  6.08888230e+01 6.08909873e+01 6.08976689e+01 6.08888180e+01\n",
      "  6.08888143e+01 6.08915336e+01 6.09925257e+01 6.08895867e+01\n",
      "  6.08918215e+01 6.08890603e+01 6.08933932e+01 6.08888301e+01\n",
      "  6.08958210e+01 6.08894718e+01 6.08893665e+01 6.08888157e+01\n",
      "  6.08905320e+01 6.08888143e+01 6.08896943e+01 6.09244348e+01\n",
      "  6.08895738e+01 6.08951386e+01]\n",
      " [6.10396394e+01 6.08889973e+01 6.08955670e+01 6.10396394e+01\n",
      "  6.08889447e+01 6.08922553e+01 6.09342571e+01 6.08888402e+01\n",
      "  6.08896521e+01 6.08938196e+01 6.09177233e+01 6.08890675e+01\n",
      "  6.08888421e+01 6.08898789e+01 6.09099357e+01 6.10396394e+01\n",
      "  6.08916262e+01 6.08891426e+01 6.09206648e+01 6.08914514e+01\n",
      "  6.09124836e+01 6.08915086e+01 6.08888143e+01 6.08892394e+01\n",
      "  6.08910834e+01 6.10396394e+01 6.08964498e+01 6.10396394e+01\n",
      "  6.08964463e+01 6.08929791e+01]\n",
      " [5.82335063e-02 5.82335063e-02 5.82335063e-02 5.82335063e-02\n",
      "  5.82335063e-02 5.82335063e-02 5.82335063e-02 5.82335063e-02\n",
      "  5.82335063e-02 5.82335548e-02 5.82335064e-02 5.82335063e-02\n",
      "  5.82335063e-02 5.82335063e-02 5.82335064e-02 5.82335063e-02\n",
      "  5.82335063e-02 5.82335063e-02 5.82335063e-02 5.82335063e-02\n",
      "  5.82335063e-02 5.82335063e-02 5.82335063e-02 5.82335063e-02\n",
      "  5.82335063e-02 5.82335063e-02 5.82335064e-02 5.82335063e-02\n",
      "  5.82335063e-02 5.82335077e-02]\n",
      " [5.82335063e-02 5.82335063e-02 5.82335063e-02 5.82335063e-02\n",
      "  5.82335063e-02 5.82335063e-02 5.82335063e-02 5.82335063e-02\n",
      "  5.82335063e-02 5.82335063e-02 5.82335063e-02 5.82335063e-02\n",
      "  5.82335063e-02 5.82335063e-02 5.82335063e-02 5.82335063e-02\n",
      "  5.82335063e-02 5.82335063e-02 5.82335063e-02 5.82335063e-02\n",
      "  5.82335063e-02 5.82335063e-02 5.82335063e-02 5.82335063e-02\n",
      "  5.82335063e-02 5.82335063e-02 5.82335063e-02 5.82335063e-02\n",
      "  5.82335063e-02 5.82335063e-02]\n",
      " [5.82335063e-02 5.82335063e-02 5.82335063e-02 5.82335063e-02\n",
      "  5.82335063e-02 5.82335421e-02 5.82335063e-02 5.82335063e-02\n",
      "  5.82335063e-02 5.82335063e-02 5.82335063e-02 5.82335063e-02\n",
      "  5.82335063e-02 5.82335173e-02 5.82335959e-02 5.82335063e-02\n",
      "  5.82335063e-02 5.82335069e-02 5.82335063e-02 5.82335063e-02\n",
      "  5.82335950e-02 5.82335063e-02 5.82335071e-02 5.82335063e-02\n",
      "  5.82335063e-02 5.82335151e-02 5.82335063e-02 5.82335063e-02\n",
      "  5.82335063e-02 5.82875622e-02]\n",
      " [5.82335063e-02 5.82335635e-02 5.82342907e-02 5.82335232e-02\n",
      "  5.82335063e-02 5.82344243e-02 5.82335064e-02 5.82335063e-02\n",
      "  5.82342132e-02 5.82335195e-02 5.82574080e-02 5.82346705e-02\n",
      "  5.82335063e-02 5.82335063e-02 5.82335063e-02 5.82335063e-02\n",
      "  5.82335063e-02 5.82336682e-02 5.82342316e-02 5.82335063e-02\n",
      "  5.82335063e-02 5.82337506e-02 5.82335063e-02 5.82335289e-02\n",
      "  5.82335063e-02 5.82335063e-02 5.82335063e-02 5.82335063e-02\n",
      "  5.82335063e-02 5.82336943e-02]\n",
      " [5.82335063e-02 5.82335080e-02 5.82335083e-02 5.82335063e-02\n",
      "  5.82335063e-02 5.82335063e-02 5.82335063e-02 5.82378352e-02\n",
      "  5.82335074e-02 5.82335071e-02 5.82335063e-02 5.82335063e-02\n",
      "  5.82335063e-02 5.82335063e-02 5.82349737e-02 5.82335063e-02\n",
      "  5.82335063e-02 5.82441173e-02 5.82335063e-02 5.82335063e-02\n",
      "  5.82335768e-02 5.82336549e-02 5.82404599e-02 5.82335063e-02\n",
      "  5.82336310e-02 5.82335063e-02 5.82506480e-02 5.82335063e-02\n",
      "  5.82335063e-02 5.82613170e-02]\n",
      " [6.08888177e+01 6.08888148e+01 6.08888143e+01 6.08891050e+01\n",
      "  6.08888149e+01 6.08888160e+01 6.08919031e+01 6.08888143e+01\n",
      "  6.08888153e+01 6.08936569e+01 6.08895846e+01 6.08894143e+01\n",
      "  6.08910391e+01 6.08914415e+01 6.08890074e+01 6.08888145e+01\n",
      "  6.08916684e+01 6.08894679e+01 6.08888143e+01 6.09038712e+01\n",
      "  6.08888143e+01 6.08895336e+01 6.08917563e+01 6.08948801e+01\n",
      "  6.08969501e+01 6.08899047e+01 6.08888143e+01 6.09021760e+01\n",
      "  6.08891981e+01 6.08934095e+01]\n",
      " [6.08894874e+01 6.08888143e+01 6.08891869e+01 6.08888143e+01\n",
      "  6.08888144e+01 6.08888143e+01 6.08888143e+01 6.08888143e+01\n",
      "  6.08888143e+01 6.08892812e+01 6.08899660e+01 6.08888170e+01\n",
      "  6.08888143e+01 6.09039574e+01 6.08888143e+01 6.08888144e+01\n",
      "  6.08888150e+01 6.08960804e+01 6.08889724e+01 6.08904675e+01\n",
      "  6.08888143e+01 6.08893666e+01 6.08888156e+01 6.08938718e+01\n",
      "  6.08888186e+01 6.08888143e+01 6.08939536e+01 6.08889425e+01\n",
      "  6.08888143e+01 6.08902642e+01]\n",
      " [6.08934935e+01 6.08902404e+01 6.08888143e+01 6.08892291e+01\n",
      "  6.08911317e+01 6.08903383e+01 6.08892664e+01 6.08889500e+01\n",
      "  6.08895614e+01 6.08888143e+01 6.08889475e+01 6.08888144e+01\n",
      "  6.08925337e+01 6.08892321e+01 6.08899206e+01 6.08906779e+01\n",
      "  6.09305704e+01 6.08934071e+01 6.08888270e+01 6.08958239e+01\n",
      "  6.08901559e+01 6.08926059e+01 6.08955656e+01 6.08929970e+01\n",
      "  6.08888145e+01 6.08901473e+01 6.08902158e+01 6.08888150e+01\n",
      "  6.09085508e+01 6.08888195e+01]\n",
      " [6.08945461e+01 6.08917980e+01 6.09020210e+01 6.09022208e+01\n",
      "  6.08892738e+01 6.08888163e+01 6.08985695e+01 6.08960865e+01\n",
      "  6.08943470e+01 6.08926770e+01 6.08892829e+01 6.08888232e+01\n",
      "  6.08910739e+01 6.08891093e+01 6.09016861e+01 6.08888454e+01\n",
      "  6.08903011e+01 6.09222545e+01 6.08930475e+01 6.08895679e+01\n",
      "  6.08911697e+01 6.10396394e+01 6.08888518e+01 6.08888542e+01\n",
      "  6.08888393e+01 6.08889157e+01 6.08922147e+01 6.08915544e+01\n",
      "  6.08909040e+01 6.08973860e+01]\n",
      " [6.08891788e+01 6.08906568e+01 6.08927865e+01 6.09301276e+01\n",
      "  6.08924645e+01 6.08888143e+01 6.08898350e+01 6.08888524e+01\n",
      "  6.08985011e+01 6.09020913e+01 6.08899945e+01 6.10396394e+01\n",
      "  6.08890857e+01 6.08892005e+01 6.08928163e+01 6.08914989e+01\n",
      "  6.09254218e+01 6.08888230e+01 6.09024032e+01 6.10313929e+01\n",
      "  6.09469079e+01 6.08889323e+01 6.10396394e+01 6.08892728e+01\n",
      "  6.09423981e+01 6.08888143e+01 6.09272807e+01 6.08943375e+01\n",
      "  6.10396394e+01 6.08895591e+01]]\n",
      "[[list([97, 180, 21]) list([65, 204]) list([54, 197, 131])\n",
      "  list([148, 8, 42]) list([25, 104]) list([193, 201])\n",
      "  list([179, 188, 70]) list([25, 48, 98]) list([158, 10, 152])\n",
      "  list([186, 91, 162]) list([91, 19, 70]) list([113, 20])\n",
      "  list([194, 204]) list([22]) list([76, 8, 96]) list([138, 51, 21])\n",
      "  list([22]) list([103, 28]) list([56, 7, 160]) list([116, 19])\n",
      "  list([145]) list([2, 197, 118]) list([145, 158, 78])\n",
      "  list([146, 45, 138]) list([204, 138]) list([119, 186, 138]) list([198])\n",
      "  list([24, 174, 103]) list([23, 118]) list([18])]\n",
      " [list([57, 145]) list([77, 149, 14]) list([190, 30, 142])\n",
      "  list([51, 179, 22]) list([44, 201, 53]) list([162, 182, 193])\n",
      "  list([42, 145, 159]) list([148, 60]) list([144, 178, 195])\n",
      "  list([110, 140]) list([20, 48, 104]) list([91, 22, 2])\n",
      "  list([98, 6, 34]) list([118, 23]) list([81, 204]) list([14, 90, 158])\n",
      "  list([48, 147]) list([155, 22, 46]) list([117, 8, 14])\n",
      "  list([43, 149, 158]) list([22, 120]) list([28, 14, 102])\n",
      "  list([195, 22, 65]) list([24, 91, 80]) list([146, 14])\n",
      "  list([78, 49, 201]) list([145, 73]) list([82, 164, 148]) list([139])\n",
      "  list([19, 119])]\n",
      " [list([46, 148]) list([147]) list([145]) list([56, 188])\n",
      "  list([147, 110]) list([148, 150]) list([148]) list([145]) list([147])\n",
      "  list([137]) list([8, 108]) list([75, 148]) list([202, 18])\n",
      "  list([199, 194]) list([202, 106]) list([147]) list([81, 197])\n",
      "  list([89, 145]) list([197, 103]) list([148]) list([11, 188])\n",
      "  list([148, 108]) list([138]) list([146, 109]) list([137, 95])\n",
      "  list([145]) list([146]) list([115, 28]) list([97, 140]) list([100, 16])]\n",
      " [list([101, 140, 155]) list([199, 195]) list([18, 180, 98])\n",
      "  list([100, 23, 44]) list([78, 140]) list([202]) list([23, 182])\n",
      "  list([204, 94, 60]) list([139, 137, 146]) list([201, 56])\n",
      "  list([26, 110]) list([201, 182, 62]) list([146]) list([6])\n",
      "  list([102, 201]) list([198, 114, 146]) list([115, 137])\n",
      "  list([179, 145]) list([204, 79]) list([16, 71, 145])\n",
      "  list([108, 147, 139]) list([137, 84, 202]) list([139, 6])\n",
      "  list([193, 33]) list([47, 140]) list([138, 148, 140]) list([99, 18])\n",
      "  list([18, 99]) list([195, 203]) list([198])]\n",
      " [list([21, 54, 150]) list([78, 7, 98]) list([23, 159, 96])\n",
      "  list([194, 22]) list([137]) list([188, 54]) list([14, 107, 148])\n",
      "  list([22]) list([100, 7]) list([14]) list([14]) list([202])\n",
      "  list([177, 24]) list([87, 192]) list([91, 6]) list([146])\n",
      "  list([113, 192]) list([194, 161]) list([195, 147]) list([71, 204])\n",
      "  list([19, 189]) list([199, 69, 44]) list([185, 178]) list([14, 108])\n",
      "  list([148]) list([78, 61, 188]) list([25, 110, 103])\n",
      "  list([201, 67, 91]) list([200]) list([2, 158])]\n",
      " [list([119, 200, 180]) list([184, 138, 104]) list([180, 108, 198])\n",
      "  list([104, 174, 7]) list([9, 199]) list([188, 193, 34])\n",
      "  list([30, 28, 105]) list([52, 188]) list([140]) list([78, 192, 151])\n",
      "  list([26, 174]) list([0, 139, 150]) list([123, 78, 200])\n",
      "  list([7, 140, 9]) list([104, 163, 22]) list([196, 199, 69])\n",
      "  list([20, 157, 199]) list([200, 67, 170]) list([146, 152])\n",
      "  list([177, 174, 118]) list([146]) list([109, 102, 174])\n",
      "  list([17, 198, 139]) list([81, 140, 172]) list([39, 56, 139])\n",
      "  list([196, 132, 112]) list([107, 160, 5]) list([192, 200, 168])\n",
      "  list([159, 198]) list([185, 172])]\n",
      " [list([148]) list([150, 137, 107]) list([59, 178, 146])\n",
      "  list([200, 115, 59]) list([192, 87, 134]) list([184, 117, 142])\n",
      "  list([180, 202]) list([187, 18, 88]) list([148]) list([132, 196])\n",
      "  list([192, 116, 104]) list([145, 34]) list([191, 143, 68])\n",
      "  list([159, 195, 197]) list([108, 138]) list([134, 147])\n",
      "  list([175, 190, 170]) list([110, 123, 148]) list([174, 149, 102])\n",
      "  list([198, 170, 195]) list([122, 138, 198]) list([148, 107])\n",
      "  list([67, 188]) list([196, 147, 138]) list([192, 77])\n",
      "  list([158, 145, 107]) list([6, 134, 105]) list([106, 21])\n",
      "  list([178, 8, 108]) list([70, 203])]\n",
      " [list([4, 17]) list([176, 148]) list([12, 175]) list([134, 140])\n",
      "  list([98, 191]) list([191, 67]) list([50, 176]) list([147, 178])\n",
      "  list([190, 173]) list([137, 94]) list([96, 27]) list([192, 170])\n",
      "  list([193, 123]) list([139, 92]) list([159, 122]) list([147, 15])\n",
      "  list([72, 176]) list([202, 91]) list([35, 197]) list([23, 173])\n",
      "  list([182, 163]) list([167, 138]) list([132, 196]) list([91, 134])\n",
      "  list([199, 38]) list([200, 170]) list([202, 180]) list([149, 148])\n",
      "  list([69, 176]) list([147])]\n",
      " [list([138]) list([139, 98, 177]) list([39, 2, 147])\n",
      "  list([88, 147, 174]) list([108, 156, 19]) list([138]) list([190, 173])\n",
      "  list([177, 115, 197]) list([146]) list([38, 198, 22])\n",
      "  list([152, 169, 9]) list([30, 147, 63]) list([6, 174, 148]) list([138])\n",
      "  list([96, 33, 71]) list([128, 193, 155]) list([191, 70, 138])\n",
      "  list([159, 108, 147]) list([171, 52, 145]) list([148, 45, 38])\n",
      "  list([89, 200, 141]) list([184, 170, 117]) list([174, 159, 82])\n",
      "  list([146, 174, 67]) list([193, 84, 40]) list([174, 146, 79])\n",
      "  list([171, 203, 195]) list([202, 39, 21]) list([157, 145]) list([138])]\n",
      " [list([66, 153]) list([192, 20, 113]) list([86, 33, 145])\n",
      "  list([152, 124]) list([176, 158, 55]) list([128, 40, 181])\n",
      "  list([134, 93]) list([96, 179, 198]) list([199, 6, 107])\n",
      "  list([0, 187, 51]) list([105, 134, 0]) list([196, 148, 32])\n",
      "  list([66, 136, 198]) list([40, 104, 11]) list([37, 119, 57])\n",
      "  list([124, 141, 158]) list([192, 41]) list([139, 74, 30])\n",
      "  list([0, 162, 98]) list([19, 164, 195]) list([0, 142, 11])\n",
      "  list([140, 151]) list([178, 200]) list([179, 174]) list([42, 199, 129])\n",
      "  list([15]) list([107, 187, 44]) list([159]) list([121, 9, 198])\n",
      "  list([171, 35, 196])]\n",
      " [list([62, 200]) list([194, 204, 46]) list([117, 199, 158])\n",
      "  list([196, 202]) list([101, 11, 28]) list([114, 204]) list([148])\n",
      "  list([117, 149, 200]) list([147, 76, 166]) list([14])\n",
      "  list([141, 6, 91]) list([94, 53, 199]) list([6, 180]) list([194, 197])\n",
      "  list([138]) list([98, 8, 148]) list([6, 130, 177]) list([94, 137])\n",
      "  list([140, 46, 153]) list([148, 152, 79]) list([93, 142, 12])\n",
      "  list([14, 177]) list([19, 116]) list([138, 117, 17]) list([104, 21])\n",
      "  list([45, 146]) list([201, 82, 162]) list([90, 21, 100])\n",
      "  list([116, 138, 202]) list([202, 166])]\n",
      " [list([148, 63, 100]) list([147]) list([146, 75]) list([67, 27, 89])\n",
      "  list([25, 106, 51]) list([18, 111]) list([75, 146, 150])\n",
      "  list([194, 200]) list([128, 10, 103]) list([83, 200])\n",
      "  list([204, 72, 11]) list([200, 122, 97]) list([25, 92, 52])\n",
      "  list([145, 49]) list([67, 201, 71]) list([21, 49]) list([12, 100])\n",
      "  list([199, 115, 48]) list([6, 26, 114]) list([186, 190])\n",
      "  list([17, 113]) list([104, 199]) list([69, 197]) list([204, 65])\n",
      "  list([113, 22]) list([192, 128, 53]) list([97, 148, 194])\n",
      "  list([147, 67]) list([9, 101]) list([119, 204])]\n",
      " [list([26, 94]) list([147, 93]) list([102, 5]) list([147]) list([145])\n",
      "  list([14]) list([178, 22]) list([138, 34]) list([194, 199])\n",
      "  list([24, 98]) list([147]) list([98, 204]) list([204, 49])\n",
      "  list([186, 147]) list([26]) list([199, 102]) list([200, 194])\n",
      "  list([198]) list([0, 146]) list([197, 71]) list([186]) list([112, 147])\n",
      "  list([18]) list([138, 94]) list([145]) list([140]) list([22])\n",
      "  list([30, 146]) list([23, 99]) list([180, 194])]\n",
      " [list([196, 128, 54]) list([186, 137, 145]) list([104, 27]) list([148])\n",
      "  list([199, 186, 104]) list([162, 195, 93]) list([22, 26])\n",
      "  list([137, 104, 28]) list([186, 59, 180]) list([142, 97, 17])\n",
      "  list([10, 171]) list([25, 102]) list([24, 68, 139])\n",
      "  list([190, 147, 62]) list([140, 15, 55]) list([83, 200, 122])\n",
      "  list([55, 203, 18]) list([22, 122]) list([174, 114, 5])\n",
      "  list([138, 182, 193]) list([145, 148]) list([22, 6]) list([28, 99, 66])\n",
      "  list([142, 138, 116]) list([139, 152, 119]) list([177, 147, 60])\n",
      "  list([18, 109]) list([0, 147, 48]) list([201, 194, 81])\n",
      "  list([145, 170])]\n",
      " [list([20, 97]) list([200, 107]) list([0, 57, 204]) list([22])\n",
      "  list([26, 158, 120]) list([147, 107]) list([199, 194])\n",
      "  list([63, 128, 138]) list([44, 138]) list([198]) list([196, 204])\n",
      "  list([82, 180, 5]) list([101, 204, 198]) list([114, 197])\n",
      "  list([172, 178, 6]) list([201, 99, 12]) list([87, 153, 197])\n",
      "  list([202, 9, 185]) list([17, 111, 95]) list([101, 17]) list([186])\n",
      "  list([26]) list([117, 186]) list([147, 194]) list([162, 186])\n",
      "  list([192, 52, 67]) list([128, 183]) list([199, 10, 54]) list([145])\n",
      "  list([38, 120])]\n",
      " [list([11, 177]) list([107, 200]) list([177, 140, 139]) list([160, 137])\n",
      "  list([138]) list([59, 192, 148]) list([19, 147]) list([146, 180])\n",
      "  list([0, 204, 45]) list([180, 191, 75]) list([173, 145, 192])\n",
      "  list([146, 20]) list([14, 165, 9]) list([187, 115, 146])\n",
      "  list([12, 40, 99]) list([198, 174, 64]) list([107, 8, 34])\n",
      "  list([38, 73, 201]) list([18, 178]) list([51, 185, 107])\n",
      "  list([174, 50, 199]) list([53, 182, 36]) list([27, 95, 139])\n",
      "  list([147, 27]) list([179, 23]) list([194, 5]) list([180, 13, 110])\n",
      "  list([173, 72]) list([176, 196, 144]) list([27, 4, 110])]\n",
      " [list([174, 184]) list([70, 197]) list([10, 176]) list([194, 176, 72])\n",
      "  list([138]) list([146, 130]) list([180, 83, 201]) list([30, 6, 158])\n",
      "  list([197, 158, 56]) list([11, 60, 192]) list([184, 89, 149])\n",
      "  list([47, 134, 200]) list([179, 14]) list([136, 86, 99])\n",
      "  list([138, 94]) list([86, 185, 12]) list([140]) list([38, 105])\n",
      "  list([204, 112]) list([151, 153, 190]) list([146]) list([195, 23])\n",
      "  list([200, 22, 170]) list([148, 5]) list([30, 202])\n",
      "  list([197, 196, 34]) list([191, 115]) list([179, 178, 7])\n",
      "  list([30, 145, 96]) list([185, 40, 201])]\n",
      " [list([19, 199]) list([11, 174]) list([137, 105]) list([170, 204])\n",
      "  list([63, 204]) list([155, 198]) list([193, 173]) list([174, 190])\n",
      "  list([68, 176]) list([18, 179]) list([127, 196]) list([197, 178])\n",
      "  list([40, 147]) list([152, 140]) list([199, 9]) list([12, 173])\n",
      "  list([40, 82]) list([21, 1]) list([204, 57]) list([89, 199])\n",
      "  list([18, 170]) list([165, 26]) list([163, 183]) list([26, 165])\n",
      "  list([138]) list([146, 165]) list([157, 140]) list([188, 104])\n",
      "  list([174, 43]) list([195, 128])]\n",
      " [list([196, 129]) list([151, 200]) list([190, 171]) list([21, 199])\n",
      "  list([153, 81, 174]) list([174, 16, 100]) list([134, 84, 63])\n",
      "  list([40, 99, 137]) list([194, 27, 124]) list([64, 193, 29])\n",
      "  list([159, 174, 6]) list([200, 138, 108]) list([162, 153, 146])\n",
      "  list([138, 38]) list([172, 187]) list([196, 30]) list([194, 13, 25])\n",
      "  list([151, 27, 95]) list([157, 202]) list([200, 174])\n",
      "  list([167, 204, 198]) list([25]) list([204, 73, 174])\n",
      "  list([107, 15, 180]) list([174, 148]) list([30, 140, 91])\n",
      "  list([200, 159, 166]) list([140, 50, 189]) list([23, 25, 196])\n",
      "  list([32, 55, 176])]\n",
      " [list([107, 184, 45]) list([139, 151]) list([169, 138, 152])\n",
      "  list([143, 35, 147]) list([188, 41, 111]) list([177, 6])\n",
      "  list([147, 16]) list([123, 102, 192]) list([191, 56, 106])\n",
      "  list([168, 126, 14]) list([103, 176]) list([54, 129]) list([151, 146])\n",
      "  list([52, 174]) list([200, 172]) list([139, 108, 25]) list([31, 191])\n",
      "  list([40, 146, 97]) list([123, 181]) list([34, 121, 138])\n",
      "  list([151, 24, 17]) list([188, 41, 140]) list([12, 66])\n",
      "  list([85, 187, 146]) list([109, 40, 107]) list([104, 146, 32])\n",
      "  list([90, 129, 20]) list([204, 165]) list([82, 182])\n",
      "  list([140, 187, 85])]]\n"
     ]
    }
   ],
   "source": [
    "import glob\n",
    "import os\n",
    "import json\n",
    "import numpy as np\n",
    "import matplotlib.pyplot as plt\n",
    "\n",
    "folderO=['data_files/raw/' + filename for filename \\\n",
    "                  in os.listdir('data_files/raw/') if filename.startswith(\"MC_results1_\")]\n",
    "perf=np.empty([20,30])\n",
    "comb=np.empty([20,30],dtype=object)\n",
    "file_type = r'\\*json'\n",
    "row=0\n",
    "for folder in folderO:\n",
    "    folderI=[folder + '/' + filename for filename \\\n",
    "                  in os.listdir(folder) ]\n",
    "    column=0\n",
    "    print(folder)\n",
    "    for folder2 in folderI:\n",
    "        #print(folder2)\n",
    "        list_of_files = glob.glob(folder2 + file_type)\n",
    "        #print(list_of_files)\n",
    "        latest_file = max(list_of_files, key=os.path.getmtime)\n",
    "        #print(latest_file)\n",
    "        with open(latest_file) as json_file:\n",
    "            data = json.load(json_file)\n",
    "            perf[row,column]=data['performance']\n",
    "            comb[row,column]=data['encoded_solution']\n",
    "        column=column+1\n",
    "    row=row+1\n",
    "\n",
    "# Creating plot\n",
    "#plt.boxplot(vec)\n",
    "\n",
    "# show plot\n",
    "#plt.show()\n",
    "print(perf)\n",
    "print(comb)"
   ],
   "metadata": {
    "collapsed": false,
    "pycharm": {
     "name": "#%%\n"
    }
   }
  },
  {
   "cell_type": "code",
   "execution_count": 92,
   "outputs": [
    {
     "data": {
      "text/plain": "<Figure size 1080x1080 with 4 Axes>",
      "image/png": "[encoded data removed]"
     },
     "metadata": {
      "needs_background": "light"
     },
     "output_type": "display_data"
    }
   ],
   "source": [
    "C_A=[perf[0,:],perf[1,:],perf[2,:],perf[3,:],perf[4,:]]\n",
    "C_W=[perf[5,:],perf[6,:],perf[7,:],perf[8,:],perf[9,:]]\n",
    "G_A=[perf[10,:],perf[11,:],perf[12,:],perf[13,:],perf[14,:]]\n",
    "G_W=[perf[15,:],perf[16,:],perf[17,:],perf[18,:],perf[19,:]]\n",
    "\n",
    "#labels = ['Default', '50 Agents', 'Cardinality 2', '50 Iterations', '10 Stagnation']\n",
    "labels = ['Default', 'Config 1', 'Config 2', 'Config 3', 'Config 4']\n",
    "\n",
    "fig = plt.figure(figsize =(15, 15))\n",
    "ax1 =fig.add_subplot(1,4,1)\n",
    "plt.boxplot(C_A)\n",
    "plt.title(\"Copper-Air\")\n",
    "plt.ylabel(\"Evaluation Metric\")\n",
    "plt.xlabel(\"Experiment Configuration\")\n",
    "#plt.yscale(\"log\")\n",
    "plt.xticks([1, 2, 3, 4, 5], labels)\n",
    "ax2 =fig.add_subplot(1,4,2)\n",
    "plt.boxplot(C_W)\n",
    "plt.title(\"Copper-Water\")\n",
    "plt.ylabel(\"Evaluation Metric\")\n",
    "plt.xlabel(\"Experiment Configuration\")\n",
    "#plt.yscale(\"log\")\n",
    "plt.xticks([1, 2, 3, 4, 5], labels)\n",
    "ax3 =fig.add_subplot(1,4,3)\n",
    "plt.boxplot(G_A)\n",
    "plt.title(\"Graphite-Air\")\n",
    "plt.ylabel(\"Evaluation Metric\")\n",
    "plt.xlabel(\"Experiment Configuration\")\n",
    "#plt.yscale(\"log\")\n",
    "plt.xticks([1, 2, 3, 4, 5], labels)\n",
    "ax4 =fig.add_subplot(1,4,4)\n",
    "plt.boxplot(G_W)\n",
    "plt.title(\"Graphite-Water\")\n",
    "plt.ylabel(\"Evaluation Metric\")\n",
    "plt.xlabel(\"Experiment Configuration\")\n",
    "#plt.yscale(\"log\")\n",
    "plt.xticks([1, 2, 3, 4, 5], labels)\n",
    "plt.gcf()\n",
    "plt.savefig('resultsHH.jpg')\n",
    "plt.show()\n",
    "\n"
   ],
   "metadata": {
    "collapsed": false,
    "pycharm": {
     "name": "#%%\n"
    }
   }
  },
  {
   "cell_type": "code",
   "execution_count": null,
   "outputs": [],
   "source": [
    "dat = np.array([C_A,C_W,G_A,G_W])\n",
    "np.save('data_memo',dat)"
   ],
   "metadata": {
    "collapsed": false,
    "pycharm": {
     "name": "#%%\n"
    }
   }
  },
  {
   "cell_type": "code",
   "execution_count": 8,
   "outputs": [
    {
     "data": {
      "text/plain": "<Figure size 432x288 with 1 Axes>",
      "image/png": "[encoded data removed]"
     },
     "metadata": {
      "needs_background": "light"
     },
     "output_type": "display_data"
    }
   ],
   "source": [
    "np.set_printoptions(precision=55)\n",
    "plt.plot(perf[4,:])\n",
    "plt.show()"
   ],
   "metadata": {
    "collapsed": false,
    "pycharm": {
     "name": "#%%\n"
    }
   }
  },
  {
   "cell_type": "code",
   "execution_count": 73,
   "outputs": [
    {
     "name": "stdout",
     "output_type": "stream",
     "text": [
      "[[ 0.00000000e+000  0.00000000e+000  0.00000000e+000  0.00000000e+000\n",
      "  -2.43516247e+105  7.94067247e-319  7.59622355e-310  0.00000000e+000\n",
      "   5.81300869e-307 -2.62115837e-300  0.00000000e+000  4.98512237e-321\n",
      "   0.00000000e+000 -5.72778463e+250 -1.26589957e-255  1.04606154e+115\n",
      "   1.46634507e+253 -7.21106271e+038  5.17770658e-312 -1.80481569e+058\n",
      "   1.48302050e-309 -4.27244870e+096  9.79173817e-310  2.19180935e-193\n",
      "  -5.82689024e+250  3.53888377e-305 -5.77368711e+250  4.55695127e-304\n",
      "   2.63402137e-307 -2.00046539e+000]\n",
      " [ 2.00117682e-306 -5.09908038e-057 -6.62643619e-029  5.86081585e-255\n",
      "  -2.30489446e-159  8.91898525e-150  4.09967960e-312  4.78117523e-299\n",
      "   4.55700602e-304  2.59766981e-265  4.55706544e-304  9.43453467e-315\n",
      "   0.00000000e+000  0.00000000e+000  0.00000000e+000  0.00000000e+000\n",
      "  -5.48612774e+303  1.11375059e-308  2.93885068e-319  2.10951042e+000\n",
      "  -1.53743208e-154 -2.60275885e+016 -6.56122420e-142 -8.08634922e-174\n",
      "  -5.48624431e+303  1.34800613e-314  1.61425080e-318  2.12214661e+000\n",
      "  -1.54685658e-154 -8.06620616e+281]\n",
      " [-1.37745360e-281 -3.21033758e+236 -5.48671457e+303  1.10762380e-314\n",
      "   2.75083845e-317  2.10950851e+000 -1.53743066e-154 -8.31056531e-023\n",
      "  -2.10152284e-286 -2.85278452e+305 -5.48721217e+303  1.09933475e-314\n",
      "  -4.06813769e-259  2.06482711e+000 -1.50658409e-154 -3.18559722e+159\n",
      "  -2.10160543e-286 -1.69583034e-165 -5.54772639e+303  1.09933475e-314\n",
      "   7.07950301e-026  2.00418645e+000 -1.49180171e-154  7.74543321e-121\n",
      "  -2.10162054e-286  3.53209275e-087 -5.67459029e+303  1.09933475e-314\n",
      "   0.00000000e+000  2.00000000e+000]\n",
      " [-1.49166815e-154  6.52166653e-322  0.00000000e+000  0.00000000e+000\n",
      "   0.00000000e+000  0.00000000e+000  0.00000000e+000  2.00000000e+000\n",
      "  -1.49166815e-154  6.52166653e-322  0.00000000e+000  0.00000000e+000\n",
      "   0.00000000e+000  0.00000000e+000  0.00000000e+000  2.00000000e+000\n",
      "  -1.49166815e-154  6.52166653e-322  0.00000000e+000  0.00000000e+000\n",
      "   0.00000000e+000  0.00000000e+000  0.00000000e+000  0.00000000e+000\n",
      "   0.00000000e+000  0.00000000e+000  0.00000000e+000  0.00000000e+000\n",
      "   0.00000000e+000  0.00000000e+000]]\n",
      "[[None None None None None None None None None None None None None None\n",
      "  None None None None None None None None None None None None None None\n",
      "  None None]\n",
      " [None None None None None None None None None None None None None None\n",
      "  None None None None None None None None None None None None None None\n",
      "  None None]\n",
      " [None None None None None None None None None None None None None None\n",
      "  None None None None None None None None None None None None None None\n",
      "  None None]\n",
      " [None None None None None None None None None None None None None None\n",
      "  None None None None None None None None None None None None None None\n",
      "  None None]]\n"
     ]
    }
   ],
   "source": [
    "folderO=['data_files/raw/' + filename for filename \\\n",
    "                  in os.listdir('data_files/raw/') if filename.startswith(\"MC_results3_\")]\n",
    "perf2=np.empty([4,30])\n",
    "comb2=np.empty([4,30],dtype=object)\n",
    "file_type = r'\\*json'\n",
    "row=0\n",
    "for folder in folderO:\n",
    "    folderI=[folder + '/' + filename for filename \\\n",
    "                  in os.listdir(folder) ]\n",
    "    column=0\n",
    "    print(folder)\n",
    "    for folder2 in folderI:\n",
    "        #print(folder2)\n",
    "        list_of_files = glob.glob(folder2 + file_type)\n",
    "        #print(list_of_files)\n",
    "        latest_file = max(list_of_files, key=os.path.getmtime)\n",
    "        #print(latest_file)\n",
    "        with open(latest_file) as json_file:\n",
    "            data = json.load(json_file)\n",
    "            perf2[row,column]=data['performance']\n",
    "            comb2[row,column]=data['encoded_solution']\n",
    "        column=column+1\n",
    "    row=row+1\n",
    "\n",
    "# Creating plot\n",
    "#plt.boxplot(vec)\n",
    "\n",
    "# show plot\n",
    "#plt.show()\n",
    "print(perf2)\n",
    "print(comb2)"
   ],
   "metadata": {
    "collapsed": false,
    "pycharm": {
     "name": "#%%\n"
    }
   }
  },
  {
   "cell_type": "code",
   "execution_count": 15,
   "outputs": [
    {
     "ename": "NameError",
     "evalue": "name 'perf2' is not defined",
     "output_type": "error",
     "traceback": [
      "\u001B[1;31m---------------------------------------------------------------------------\u001B[0m",
      "\u001B[1;31mNameError\u001B[0m                                 Traceback (most recent call last)",
      "Input \u001B[1;32mIn [15]\u001B[0m, in \u001B[0;36m<cell line: 1>\u001B[1;34m()\u001B[0m\n\u001B[1;32m----> 1\u001B[0m C_A\u001B[38;5;241m=\u001B[39m[perf[\u001B[38;5;241m0\u001B[39m,:],perf[\u001B[38;5;241m1\u001B[39m,:],perf[\u001B[38;5;241m4\u001B[39m,:],\u001B[43mperf2\u001B[49m[\u001B[38;5;241m0\u001B[39m,:]]\n\u001B[0;32m      2\u001B[0m C_W\u001B[38;5;241m=\u001B[39m[perf[\u001B[38;5;241m5\u001B[39m,:],perf[\u001B[38;5;241m6\u001B[39m,:],perf[\u001B[38;5;241m9\u001B[39m,:],perf2[\u001B[38;5;241m1\u001B[39m,:]]\n\u001B[0;32m      3\u001B[0m G_A\u001B[38;5;241m=\u001B[39m[perf[\u001B[38;5;241m10\u001B[39m,:],perf[\u001B[38;5;241m11\u001B[39m,:],perf[\u001B[38;5;241m14\u001B[39m,:],perf2[\u001B[38;5;241m2\u001B[39m,:]]\n",
      "\u001B[1;31mNameError\u001B[0m: name 'perf2' is not defined"
     ]
    }
   ],
   "source": [
    "C_A=[perf[0,:],perf[1,:],perf[4,:],perf2[0,:]]\n",
    "C_W=[perf[5,:],perf[6,:],perf[9,:],perf2[1,:]]\n",
    "G_A=[perf[10,:],perf[11,:],perf[14,:],perf2[2,:]]\n",
    "G_W=[perf[15,:],perf[16,:],perf[19,:],perf2[3,:]]\n",
    "\n",
    "labels = ['Default', '50 Agents','10 Stagnation','AG-Stag']\n",
    "\n",
    "fig = plt.figure(figsize =(15, 15))\n",
    "ax1 =fig.add_subplot(2,2,1)\n",
    "plt.boxplot(C_A)\n",
    "plt.title(\"Copper-Air\")\n",
    "plt.ylabel(\"Performance\")\n",
    "#plt.yscale(\"log\")\n",
    "plt.xticks([1, 2, 3, 4], labels)\n",
    "ax2 =fig.add_subplot(2,2,2)\n",
    "plt.boxplot(C_W)\n",
    "plt.title(\"Copper-Water\")\n",
    "plt.ylabel(\"Performance\")\n",
    "#plt.yscale(\"log\")\n",
    "plt.xticks([1, 2, 3, 4], labels)\n",
    "ax3 =fig.add_subplot(2,2,3)\n",
    "plt.boxplot(G_A)\n",
    "plt.title(\"Graphite-Air\")\n",
    "plt.ylabel(\"Performance\")\n",
    "#plt.yscale(\"log\")\n",
    "plt.xticks([1, 2, 3, 4], labels)\n",
    "ax4 =fig.add_subplot(2,2,4)\n",
    "plt.boxplot(G_W)\n",
    "plt.title(\"Graphite-Water\")\n",
    "plt.ylabel(\"Performance\")\n",
    "#plt.yscale(\"log\")\n",
    "plt.xticks([1, 2, 3, 4], labels)\n",
    "plt.gcf()\n",
    "plt.savefig('resultsHH2.jpg')\n",
    "plt.show()\n"
   ],
   "metadata": {
    "collapsed": false,
    "pycharm": {
     "name": "#%%\n"
    }
   }
  },
  {
   "cell_type": "code",
   "execution_count": 79,
   "outputs": [
    {
     "name": "stdout",
     "output_type": "stream",
     "text": [
      "[[ 0.  0.  0.  2.  0.  3.  2.  7.  1. 22.  2.  0.  0.  7.  0.  7.  6.  9.\n",
      "   5.  5.]]\n"
     ]
    }
   ],
   "source": [
    "index=np.empty([1,20])\n",
    "operators=np.empty([1,20])\n",
    "for i in range(0,20):\n",
    "    y=perf[i,:]\n",
    "    x=np.argmin(y)\n",
    "    index[0,i]=x\n",
    "print(index)"
   ],
   "metadata": {
    "collapsed": false,
    "pycharm": {
     "name": "#%%\n"
    }
   }
  },
  {
   "cell_type": "code",
   "execution_count": 80,
   "outputs": [
    {
     "data": {
      "text/plain": "[[97, 180, 21],\n [57, 145],\n [46, 148],\n [18, 180, 98],\n [21, 54, 150],\n [104, 174, 7],\n [59, 178, 146],\n [147, 178],\n [139, 98, 177],\n [178, 200],\n [117, 199, 158],\n [148, 63, 100],\n [26, 94],\n [137, 104, 28],\n [20, 97],\n [146, 180],\n [180, 83, 201],\n [18, 179],\n [174, 16, 100],\n [177, 6]]"
     },
     "execution_count": 80,
     "metadata": {},
     "output_type": "execute_result"
    }
   ],
   "source": [
    "ind_best_perf = np.argmin(perf, axis=1)\n",
    "best_mhs = [comb[row, col] for row, col in enumerate(ind_best_perf)]\n",
    "best_mhs"
   ],
   "metadata": {
    "collapsed": false,
    "pycharm": {
     "name": "#%%\n"
    }
   }
  },
  {
   "cell_type": "code",
   "execution_count": 121,
   "outputs": [
    {
     "data": {
      "text/plain": "[[157, 195],\n [34],\n [10, 40],\n [140],\n [5, 195, 119],\n [193, 148],\n [138],\n [14],\n [126, 137, 90],\n [105, 145],\n [80, 128, 204],\n [158],\n [39, 6],\n [204, 177],\n [25],\n [87, 176],\n [148, 90],\n [30, 193],\n [131],\n [165, 24]]"
     },
     "execution_count": 121,
     "metadata": {},
     "output_type": "execute_result"
    }
   ],
   "source": [
    "best_mhs"
   ],
   "metadata": {
    "collapsed": false,
    "pycharm": {
     "name": "#%%\n"
    }
   }
  },
  {
   "cell_type": "code",
   "execution_count": 139,
   "outputs": [
    {
     "name": "stdout",
     "output_type": "stream",
     "text": [
      "[list([127]) list([174, 59]) list([201]) list([174]) list([134])\n",
      " list([10]) list([51]) list([200]) list([166]) list([174]) list([4])\n",
      " list([86]) list([119]) list([90, 176]) list([59]) list([124]) list([53])\n",
      " list([181]) list([18]) list([165, 24]) list([115]) list([145])\n",
      " list([204]) list([53]) list([104]) list([63]) list([47]) list([7])\n",
      " list([119]) list([104])]\n"
     ]
    }
   ],
   "source": [
    "x=comb[19]\n",
    "print(x)"
   ],
   "metadata": {
    "collapsed": false,
    "pycharm": {
     "name": "#%%\n"
    }
   }
  },
  {
   "cell_type": "code",
   "execution_count": 81,
   "outputs": [
    {
     "name": "stdout",
     "output_type": "stream",
     "text": [
      "[ 97 180  21 ... 140 187  85]\n"
     ]
    }
   ],
   "source": [
    "ac_tot=[]\n",
    "\n",
    "for y in range(0,len(comb)):\n",
    "    arr_tot= np.array(comb[y], dtype=object)\n",
    "    for i in range(0,len(arr_tot)):\n",
    "        w_tot=np.array(arr_tot[i])\n",
    "        for z in range(0,len(w_tot)):\n",
    "            ac_tot.append(w_tot[z])\n",
    "\n",
    "ac_tot=np.array(ac_tot)\n",
    "print(ac_tot)\n"
   ],
   "metadata": {
    "collapsed": false,
    "pycharm": {
     "name": "#%%\n"
    }
   }
  },
  {
   "cell_type": "code",
   "execution_count": 82,
   "outputs": [
    {
     "name": "stdout",
     "output_type": "stream",
     "text": [
      "['0', '1', '2', '4', '5', '6', '7', '8', '9', '10', '11', '12', '13', '14', '15', '16', '17', '18', '19', '20', '21', '22', '23', '24', '25', '26', '27', '28', '29', '30', '31', '32', '33', '34', '35', '36', '37', '38', '39', '40', '41', '42', '43', '44', '45', '46', '47', '48', '49', '50', '51', '52', '53', '54', '55', '56', '57', '59', '60', '61', '62', '63', '64', '65', '66', '67', '68', '69', '70', '71', '72', '73', '74', '75', '76', '77', '78', '79', '80', '81', '82', '83', '84', '85', '86', '87', '88', '89', '90', '91', '92', '93', '94', '95', '96', '97', '98', '99', '100', '101', '102', '103', '104', '105', '106', '107', '108', '109', '110', '111', '112', '113', '114', '115', '116', '117', '118', '119', '120', '121', '122', '123', '124', '126', '127', '128', '129', '130', '131', '132', '134', '136', '137', '138', '139', '140', '141', '142', '143', '144', '145', '146', '147', '148', '149', '150', '151', '152', '153', '155', '156', '157', '158', '159', '160', '161', '162', '163', '164', '165', '166', '167', '168', '169', '170', '171', '172', '173', '174', '175', '176', '177', '178', '179', '180', '181', '182', '183', '184', '185', '186', '187', '188', '189', '190', '191', '192', '193', '194', '195', '196', '197', '198', '199', '200', '201', '202', '203', '204']\n",
      "[0, 1, 2, 4, 5, 6, 7, 8, 9, 10, 11, 12, 13, 14, 15, 16, 17, 18, 19, 20, 21, 22, 23, 24, 25, 26, 27, 28, 29, 30, 31, 32, 33, 34, 35, 36, 37, 38, 39, 40, 41, 42, 43, 44, 45, 46, 47, 48, 49, 50, 51, 52, 53, 54, 55, 56, 57, 59, 60, 61, 62, 63, 64, 65, 66, 67, 68, 69, 70, 71, 72, 73, 74, 75, 76, 77, 78, 79, 80, 81, 82, 83, 84, 85, 86, 87, 88, 89, 90, 91, 92, 93, 94, 95, 96, 97, 98, 99, 100, 101, 102, 103, 104, 105, 106, 107, 108, 109, 110, 111, 112, 113, 114, 115, 116, 117, 118, 119, 120, 121, 122, 123, 124, 126, 127, 128, 129, 130, 131, 132, 134, 136, 137, 138, 139, 140, 141, 142, 143, 144, 145, 146, 147, 148, 149, 150, 151, 152, 153, 155, 156, 157, 158, 159, 160, 161, 162, 163, 164, 165, 166, 167, 168, 169, 170, 171, 172, 173, 174, 175, 176, 177, 178, 179, 180, 181, 182, 183, 184, 185, 186, 187, 188, 189, 190, 191, 192, 193, 194, 195, 196, 197, 198, 199, 200, 201, 202, 203, 204]\n",
      "[9, 1, 4, 2, 6, 16, 6, 7, 8, 5, 8, 8, 2, 15, 4, 4, 8, 13, 9, 7, 10, 19, 10, 6, 10, 10, 8, 7, 1, 10, 1, 3, 3, 7, 3, 1, 1, 7, 3, 10, 3, 3, 2, 5, 5, 4, 2, 5, 4, 3, 5, 5, 4, 6, 4, 6, 4, 4, 4, 1, 3, 5, 2, 3, 4, 9, 3, 4, 5, 5, 4, 3, 1, 4, 2, 2, 7, 3, 1, 5, 6, 3, 3, 2, 3, 3, 2, 5, 3, 10, 2, 4, 7, 4, 6, 7, 10, 8, 7, 5, 8, 6, 14, 5, 4, 15, 11, 4, 7, 3, 3, 5, 5, 7, 5, 7, 4, 6, 3, 2, 5, 5, 3, 1, 1, 8, 4, 2, 1, 3, 9, 2, 14, 33, 16, 22, 3, 6, 2, 2, 25, 30, 34, 31, 6, 5, 8, 8, 6, 4, 1, 4, 12, 10, 3, 1, 7, 3, 2, 5, 3, 2, 2, 2, 10, 5, 5, 7, 26, 2, 11, 10, 11, 9, 15, 2, 7, 2, 6, 6, 11, 7, 11, 2, 9, 8, 16, 10, 18, 12, 16, 16, 18, 23, 25, 14, 15, 4, 25]\n"
     ]
    }
   ],
   "source": [
    "sorted=np.sort(ac_tot);\n",
    "num=[];\n",
    "num2=[];\n",
    "frec=[];\n",
    "ind=[];\n",
    "count=0;\n",
    "while len(sorted)>0:\n",
    "    num.append(str(sorted[0]))\n",
    "    num2.append(sorted[0])\n",
    "    cand=sorted[0]\n",
    "    for i in range(0,len(sorted)):\n",
    "        if cand == sorted[i]:\n",
    "            count=count+1\n",
    "            ind.append(i)\n",
    "    frec.append(count)\n",
    "    count=0\n",
    "    sorted=np.delete(sorted,ind)\n",
    "    ind=[];\n",
    "print(num)\n",
    "print(num2)\n",
    "print(frec)"
   ],
   "metadata": {
    "collapsed": false,
    "pycharm": {
     "name": "#%%\n"
    }
   }
  },
  {
   "cell_type": "code",
   "execution_count": 83,
   "outputs": [
    {
     "name": "stdout",
     "output_type": "stream",
     "text": [
      "[89, 7, 206, 50, 376, 35, 11, 218, 67, 13, 45, 283]\n",
      "['random search', 'central force dynamic', 'differential mutation', 'firefly dynamic', 'genetic crossover', 'genetic mutation', 'gravitational search', 'random flight', 'local random walk', 'random sample', 'spiral dynamic', 'swarm dynamic']\n"
     ]
    }
   ],
   "source": [
    "fam=['random search','central force dynamic','differential mutation','firefly dynamic','genetic crossover','genetic mutation','gravitational search','random flight','local random walk','random sample','spiral dynamic','swarm dynamic']\n",
    "frec2=[0,0,0,0,0,0,0,0,0,0,0,0]\n",
    "for i in range(0,len(num2)):\n",
    "    if num2[i] == 0:\n",
    "        frec2[0]= frec2[0] + frec[i]\n",
    "    elif num2[i] >= 1 and num2[i] <= 4:\n",
    "        frec2[1]= frec2[1] + frec[i]\n",
    "    elif num2[i] >= 5 and num2[i] <= 28:\n",
    "        frec2[2]= frec2[2] + frec[i]\n",
    "    elif num2[i] >= 29 and num2[i] <= 40:\n",
    "        frec2[3]= frec2[3] + frec[i]\n",
    "    elif num2[i] >= 41 and num2[i] <= 120:\n",
    "        frec2[4]= frec2[4] + frec[i]\n",
    "    elif num2[i] >= 121 and num2[i] <= 132:\n",
    "        frec2[5]= frec2[5] + frec[i]\n",
    "    elif num2[i] >= 133 and num2[i] <= 136:\n",
    "        frec2[6]= frec2[6] + frec[i]\n",
    "    elif num2[i] >= 137 and num2[i] <= 148:\n",
    "        frec2[7]= frec2[7] + frec[i]\n",
    "    elif num2[i] >= 149 and num2[i] <= 160:\n",
    "        frec2[8]= frec2[8] + frec[i]\n",
    "    elif num2[i] >= 161 and num2[i] <= 164:\n",
    "        frec2[9]= frec2[9] + frec[i]\n",
    "    elif num2[i] >= 165 and num2[i] <= 176:\n",
    "        frec2[0]= frec2[0] + frec[i]\n",
    "    elif num2[i] >= 177 and num2[i] <= 180:\n",
    "        frec2[10]= frec2[10] + frec[i]\n",
    "    elif num2[i] >= 181 and num2[i] <= 204:\n",
    "        frec2[11]= frec2[11] + frec[i]\n",
    "print(frec2)\n",
    "print(fam)\n"
   ],
   "metadata": {
    "collapsed": false,
    "pycharm": {
     "name": "#%%\n"
    }
   }
  },
  {
   "cell_type": "code",
   "execution_count": 84,
   "outputs": [
    {
     "data": {
      "text/plain": "<Figure size 640x480 with 1 Axes>",
      "image/png": "[encoded data removed]"
     },
     "metadata": {
      "needs_background": "light"
     },
     "output_type": "display_data"
    }
   ],
   "source": [
    "from matplotlib.pyplot import figure\n",
    "\n",
    "figure(figsize=(8, 6), dpi=80)\n",
    "plt.bar(num, frec, color ='maroon',\n",
    "        width = 0.4)\n",
    "plt.xticks(range(len(num)), num, rotation='vertical')\n",
    "plt.xlabel(\"Operator Number\")\n",
    "plt.ylabel(\"Frequency\")\n",
    "plt.gcf()\n",
    "plt.savefig('resultsBG1.jpg')\n",
    "plt.show()"
   ],
   "metadata": {
    "collapsed": false,
    "pycharm": {
     "name": "#%%\n"
    }
   }
  },
  {
   "cell_type": "code",
   "execution_count": 85,
   "outputs": [
    {
     "data": {
      "text/plain": "<Figure size 640x480 with 1 Axes>",
      "image/png": "[encoded data removed]"
     },
     "metadata": {
      "needs_background": "light"
     },
     "output_type": "display_data"
    }
   ],
   "source": [
    "figure(figsize=(8, 6), dpi=80)\n",
    "plt.bar(fam, frec2, color ='maroon',\n",
    "        width = 0.4)\n",
    "plt.xticks(range(len(fam)), fam, rotation='vertical')\n",
    "plt.xlabel(\"Operator Family\")\n",
    "plt.ylabel(\"Frequency\")\n",
    "plt.gcf()\n",
    "plt.savefig('resultsBG2.jpg',bbox_inches='tight')\n",
    "plt.show()"
   ],
   "metadata": {
    "collapsed": false,
    "pycharm": {
     "name": "#%%\n"
    }
   }
  },
  {
   "cell_type": "code",
   "execution_count": 86,
   "outputs": [
    {
     "name": "stdout",
     "output_type": "stream",
     "text": [
      "[ 97 180  21  57 145  46 148  18 180  98  21  54 150 104 174   7  59 178\n",
      " 146 147 178 139  98 177 178 200 117 199 158 148  63 100  26  94 137 104\n",
      "  28  20  97 146 180 180  83 201  18 179 174  16 100 177   6]\n"
     ]
    }
   ],
   "source": [
    "arr = np.array(best_mhs, dtype=object)\n",
    "ac=[]\n",
    "\n",
    "for i in range(0,len(arr)):\n",
    "    w=np.array(arr[i])\n",
    "    for z in range(0,len(w)):\n",
    "        ac.append(w[z])\n",
    "\n",
    "ac=np.array(ac)\n",
    "print(ac)\n",
    "\n"
   ],
   "metadata": {
    "collapsed": false,
    "pycharm": {
     "name": "#%%\n"
    }
   }
  },
  {
   "cell_type": "code",
   "execution_count": 87,
   "outputs": [
    {
     "name": "stdout",
     "output_type": "stream",
     "text": [
      "['6', '7', '16', '18', '20', '21', '26', '28', '46', '54', '57', '59', '63', '83', '94', '97', '98', '100', '104', '117', '137', '139', '145', '146', '147', '148', '150', '158', '174', '177', '178', '179', '180', '199', '200', '201']\n",
      "[6, 7, 16, 18, 20, 21, 26, 28, 46, 54, 57, 59, 63, 83, 94, 97, 98, 100, 104, 117, 137, 139, 145, 146, 147, 148, 150, 158, 174, 177, 178, 179, 180, 199, 200, 201]\n",
      "[1, 1, 1, 2, 1, 2, 1, 1, 1, 1, 1, 1, 1, 1, 1, 2, 2, 2, 2, 1, 1, 1, 1, 2, 1, 2, 1, 1, 2, 2, 3, 1, 4, 1, 1, 1]\n"
     ]
    }
   ],
   "source": [
    "sorted=np.sort(ac);\n",
    "num=[];\n",
    "num2=[];\n",
    "frec=[];\n",
    "ind=[];\n",
    "count=0;\n",
    "while len(sorted)>0:\n",
    "    num.append(str(sorted[0]))\n",
    "    num2.append(sorted[0])\n",
    "    cand=sorted[0]\n",
    "    for i in range(0,len(sorted)):\n",
    "        if cand == sorted[i]:\n",
    "            count=count+1\n",
    "            ind.append(i)\n",
    "    frec.append(count)\n",
    "    count=0\n",
    "    sorted=np.delete(sorted,ind)\n",
    "    ind=[];\n",
    "print(num)\n",
    "print(num2)\n",
    "print(frec)"
   ],
   "metadata": {
    "collapsed": false,
    "pycharm": {
     "name": "#%%\n"
    }
   }
  },
  {
   "cell_type": "code",
   "execution_count": 88,
   "outputs": [
    {
     "name": "stdout",
     "output_type": "stream",
     "text": [
      "[2, 0, 10, 0, 16, 0, 0, 8, 2, 0, 10, 3]\n",
      "['random search', 'central force_dynamic', 'differential mutation', 'firefly dynamic', 'genetic crossover', 'genetic mutation', 'gravitational search', 'random flight', 'local random_walk', 'random sample', 'spiral dynamic', 'swarm dynamic']\n"
     ]
    }
   ],
   "source": [
    "fam=['random search','central force_dynamic','differential mutation','firefly dynamic','genetic crossover','genetic mutation','gravitational search','random flight','local random_walk','random sample','spiral dynamic','swarm dynamic']\n",
    "frec2=[0,0,0,0,0,0,0,0,0,0,0,0]\n",
    "for i in range(0,len(num2)):\n",
    "    if num2[i] == 0:\n",
    "        frec2[0]= frec2[0] + frec[i]\n",
    "    elif num2[i] >= 1 and num2[i] <= 4:\n",
    "        frec2[1]= frec2[1] + frec[i]\n",
    "    elif num2[i] >= 5 and num2[i] <= 28:\n",
    "        frec2[2]= frec2[2] + frec[i]\n",
    "    elif num2[i] >= 29 and num2[i] <= 40:\n",
    "        frec2[3]= frec2[3] + frec[i]\n",
    "    elif num2[i] >= 41 and num2[i] <= 120:\n",
    "        frec2[4]= frec2[4] + frec[i]\n",
    "    elif num2[i] >= 121 and num2[i] <= 132:\n",
    "        frec2[5]= frec2[5] + frec[i]\n",
    "    elif num2[i] >= 133 and num2[i] <= 136:\n",
    "        frec2[6]= frec2[6] + frec[i]\n",
    "    elif num2[i] >= 137 and num2[i] <= 148:\n",
    "        frec2[7]= frec2[7] + frec[i]\n",
    "    elif num2[i] >= 149 and num2[i] <= 160:\n",
    "        frec2[8]= frec2[8] + frec[i]\n",
    "    elif num2[i] >= 161 and num2[i] <= 164:\n",
    "        frec2[9]= frec2[9] + frec[i]\n",
    "    elif num2[i] >= 165 and num2[i] <= 176:\n",
    "        frec2[0]= frec2[0] + frec[i]\n",
    "    elif num2[i] >= 177 and num2[i] <= 180:\n",
    "        frec2[10]= frec2[10] + frec[i]\n",
    "    elif num2[i] >= 181 and num2[i] <= 204:\n",
    "        frec2[11]= frec2[11] + frec[i]\n",
    "print(frec2)\n",
    "print(fam)\n"
   ],
   "metadata": {
    "collapsed": false,
    "pycharm": {
     "name": "#%%\n"
    }
   }
  },
  {
   "cell_type": "code",
   "execution_count": 89,
   "outputs": [
    {
     "data": {
      "text/plain": "<Figure size 640x480 with 1 Axes>",
      "image/png": "[encoded data removed]"
     },
     "metadata": {
      "needs_background": "light"
     },
     "output_type": "display_data"
    }
   ],
   "source": [
    "from matplotlib.pyplot import figure\n",
    "\n",
    "figure(figsize=(8, 6), dpi=80)\n",
    "plt.bar(num, frec, color ='maroon',\n",
    "        width = 0.4)\n",
    "plt.xticks(range(len(num)), num, rotation='vertical')\n",
    "plt.xlabel(\"Operator Number\")\n",
    "plt.ylabel(\"Frequency\")\n",
    "plt.gcf()\n",
    "plt.savefig('resultsBG3.jpg')\n",
    "plt.show()"
   ],
   "metadata": {
    "collapsed": false,
    "pycharm": {
     "name": "#%%\n"
    }
   }
  },
  {
   "cell_type": "code",
   "execution_count": 90,
   "outputs": [
    {
     "data": {
      "text/plain": "<Figure size 640x480 with 1 Axes>",
      "image/png": "[encoded data removed]"
     },
     "metadata": {
      "needs_background": "light"
     },
     "output_type": "display_data"
    }
   ],
   "source": [
    "figure(figsize=(8, 6), dpi=80)\n",
    "plt.bar(fam, frec2, color ='maroon',\n",
    "        width = 0.4)\n",
    "plt.xticks(range(len(fam)), fam, rotation='vertical')\n",
    "plt.xlabel(\"Operator Family\")\n",
    "plt.ylabel(\"Frequency\")\n",
    "plt.gcf()\n",
    "plt.savefig('resultsBG4.jpg',bbox_inches='tight')\n",
    "plt.show()"
   ],
   "metadata": {
    "collapsed": false,
    "pycharm": {
     "name": "#%%\n"
    }
   }
  },
  {
   "cell_type": "code",
   "execution_count": 29,
   "outputs": [
    {
     "data": {
      "text/plain": "(20,)"
     },
     "execution_count": 29,
     "metadata": {},
     "output_type": "execute_result"
    }
   ],
   "source": [
    "arr = np.array(best_mhs, dtype=object)\n",
    "arr = np.transpose(arr)\n",
    "arr.shape"
   ],
   "metadata": {
    "collapsed": false,
    "pycharm": {
     "name": "#%%\n"
    }
   }
  },
  {
   "cell_type": "code",
   "execution_count": 44,
   "outputs": [
    {
     "data": {
      "text/plain": "157"
     },
     "execution_count": 44,
     "metadata": {},
     "output_type": "execute_result"
    }
   ],
   "source": [
    "\n",
    "x=np.array(arr[0])\n",
    "x[0]"
   ],
   "metadata": {
    "collapsed": false,
    "pycharm": {
     "name": "#%%\n"
    }
   }
  },
  {
   "cell_type": "code",
   "execution_count": 63,
   "outputs": [
    {
     "name": "stdout",
     "output_type": "stream",
     "text": [
      "[[0. 0. 0. 0. 0. 0. 0. 0. 0. 0. 0. 0. 0. 0. 0. 0. 0. 0. 0. 0.]]\n"
     ]
    }
   ],
   "source": [
    "ac=np.zeros(shape=(1, len(arr)))\n",
    "print(ac)"
   ],
   "metadata": {
    "collapsed": false,
    "pycharm": {
     "name": "#%%\n"
    }
   }
  },
  {
   "cell_type": "code",
   "execution_count": 81,
   "outputs": [
    {
     "name": "stdout",
     "output_type": "stream",
     "text": [
      "[1 3]\n"
     ]
    }
   ],
   "source": [
    "test=np.array([1,2,3])\n",
    "test=np.delete(test,1)\n",
    "h=len(test)\n",
    "print(test)"
   ],
   "metadata": {
    "collapsed": false,
    "pycharm": {
     "name": "#%%\n"
    }
   }
  },
  {
   "cell_type": "code",
   "execution_count": 100,
   "outputs": [
    {
     "data": {
      "text/plain": "[('random_search', {'scale': 1.0, 'distribution': 'uniform'}, 'greedy'),\n ('central_force_dynamic',\n  {'gravity': 0.001, 'alpha': 0.01, 'beta': 1.5, 'dt': 1.0},\n  'all'),\n ('central_force_dynamic',\n  {'gravity': 0.001, 'alpha': 0.01, 'beta': 1.5, 'dt': 1.0},\n  'greedy'),\n ('central_force_dynamic',\n  {'gravity': 0.001, 'alpha': 0.01, 'beta': 1.5, 'dt': 1.0},\n  'metropolis'),\n ('central_force_dynamic',\n  {'gravity': 0.001, 'alpha': 0.01, 'beta': 1.5, 'dt': 1.0},\n  'probabilistic'),\n ('differential_mutation',\n  {'expression': 'rand', 'num_rands': 1, 'factor': 1.0},\n  'all'),\n ('differential_mutation',\n  {'expression': 'rand', 'num_rands': 1, 'factor': 1.0},\n  'greedy'),\n ('differential_mutation',\n  {'expression': 'rand', 'num_rands': 1, 'factor': 1.0},\n  'metropolis'),\n ('differential_mutation',\n  {'expression': 'rand', 'num_rands': 1, 'factor': 1.0},\n  'probabilistic'),\n ('differential_mutation',\n  {'expression': 'best', 'num_rands': 1, 'factor': 1.0},\n  'all'),\n ('differential_mutation',\n  {'expression': 'best', 'num_rands': 1, 'factor': 1.0},\n  'greedy'),\n ('differential_mutation',\n  {'expression': 'best', 'num_rands': 1, 'factor': 1.0},\n  'metropolis'),\n ('differential_mutation',\n  {'expression': 'best', 'num_rands': 1, 'factor': 1.0},\n  'probabilistic'),\n ('differential_mutation',\n  {'expression': 'current', 'num_rands': 1, 'factor': 1.0},\n  'all'),\n ('differential_mutation',\n  {'expression': 'current', 'num_rands': 1, 'factor': 1.0},\n  'greedy'),\n ('differential_mutation',\n  {'expression': 'current', 'num_rands': 1, 'factor': 1.0},\n  'metropolis'),\n ('differential_mutation',\n  {'expression': 'current', 'num_rands': 1, 'factor': 1.0},\n  'probabilistic'),\n ('differential_mutation',\n  {'expression': 'current-to-best', 'num_rands': 1, 'factor': 1.0},\n  'all'),\n ('differential_mutation',\n  {'expression': 'current-to-best', 'num_rands': 1, 'factor': 1.0},\n  'greedy'),\n ('differential_mutation',\n  {'expression': 'current-to-best', 'num_rands': 1, 'factor': 1.0},\n  'metropolis'),\n ('differential_mutation',\n  {'expression': 'current-to-best', 'num_rands': 1, 'factor': 1.0},\n  'probabilistic'),\n ('differential_mutation',\n  {'expression': 'rand-to-best', 'num_rands': 1, 'factor': 1.0},\n  'all'),\n ('differential_mutation',\n  {'expression': 'rand-to-best', 'num_rands': 1, 'factor': 1.0},\n  'greedy'),\n ('differential_mutation',\n  {'expression': 'rand-to-best', 'num_rands': 1, 'factor': 1.0},\n  'metropolis'),\n ('differential_mutation',\n  {'expression': 'rand-to-best', 'num_rands': 1, 'factor': 1.0},\n  'probabilistic'),\n ('differential_mutation',\n  {'expression': 'rand-to-best-and-current', 'num_rands': 1, 'factor': 1.0},\n  'all'),\n ('differential_mutation',\n  {'expression': 'rand-to-best-and-current', 'num_rands': 1, 'factor': 1.0},\n  'greedy'),\n ('differential_mutation',\n  {'expression': 'rand-to-best-and-current', 'num_rands': 1, 'factor': 1.0},\n  'metropolis'),\n ('differential_mutation',\n  {'expression': 'rand-to-best-and-current', 'num_rands': 1, 'factor': 1.0},\n  'probabilistic'),\n ('firefly_dynamic',\n  {'distribution': 'uniform', 'alpha': 1.0, 'beta': 1.0, 'gamma': 100.0},\n  'all'),\n ('firefly_dynamic',\n  {'distribution': 'uniform', 'alpha': 1.0, 'beta': 1.0, 'gamma': 100.0},\n  'greedy'),\n ('firefly_dynamic',\n  {'distribution': 'uniform', 'alpha': 1.0, 'beta': 1.0, 'gamma': 100.0},\n  'metropolis'),\n ('firefly_dynamic',\n  {'distribution': 'uniform', 'alpha': 1.0, 'beta': 1.0, 'gamma': 100.0},\n  'probabilistic'),\n ('firefly_dynamic',\n  {'distribution': 'gaussian', 'alpha': 1.0, 'beta': 1.0, 'gamma': 100.0},\n  'all'),\n ('firefly_dynamic',\n  {'distribution': 'gaussian', 'alpha': 1.0, 'beta': 1.0, 'gamma': 100.0},\n  'greedy'),\n ('firefly_dynamic',\n  {'distribution': 'gaussian', 'alpha': 1.0, 'beta': 1.0, 'gamma': 100.0},\n  'metropolis'),\n ('firefly_dynamic',\n  {'distribution': 'gaussian', 'alpha': 1.0, 'beta': 1.0, 'gamma': 100.0},\n  'probabilistic'),\n ('firefly_dynamic',\n  {'distribution': 'levy', 'alpha': 1.0, 'beta': 1.0, 'gamma': 100.0},\n  'all'),\n ('firefly_dynamic',\n  {'distribution': 'levy', 'alpha': 1.0, 'beta': 1.0, 'gamma': 100.0},\n  'greedy'),\n ('firefly_dynamic',\n  {'distribution': 'levy', 'alpha': 1.0, 'beta': 1.0, 'gamma': 100.0},\n  'metropolis'),\n ('firefly_dynamic',\n  {'distribution': 'levy', 'alpha': 1.0, 'beta': 1.0, 'gamma': 100.0},\n  'probabilistic'),\n ('genetic_crossover',\n  {'pairing': 'rank', 'crossover': 'single', 'mating_pool_factor': 0.4},\n  'all'),\n ('genetic_crossover',\n  {'pairing': 'rank', 'crossover': 'single', 'mating_pool_factor': 0.4},\n  'greedy'),\n ('genetic_crossover',\n  {'pairing': 'rank', 'crossover': 'single', 'mating_pool_factor': 0.4},\n  'metropolis'),\n ('genetic_crossover',\n  {'pairing': 'rank', 'crossover': 'single', 'mating_pool_factor': 0.4},\n  'probabilistic'),\n ('genetic_crossover',\n  {'pairing': 'cost', 'crossover': 'single', 'mating_pool_factor': 0.4},\n  'all'),\n ('genetic_crossover',\n  {'pairing': 'cost', 'crossover': 'single', 'mating_pool_factor': 0.4},\n  'greedy'),\n ('genetic_crossover',\n  {'pairing': 'cost', 'crossover': 'single', 'mating_pool_factor': 0.4},\n  'metropolis'),\n ('genetic_crossover',\n  {'pairing': 'cost', 'crossover': 'single', 'mating_pool_factor': 0.4},\n  'probabilistic'),\n ('genetic_crossover',\n  {'pairing': 'random', 'crossover': 'single', 'mating_pool_factor': 0.4},\n  'all'),\n ('genetic_crossover',\n  {'pairing': 'random', 'crossover': 'single', 'mating_pool_factor': 0.4},\n  'greedy'),\n ('genetic_crossover',\n  {'pairing': 'random', 'crossover': 'single', 'mating_pool_factor': 0.4},\n  'metropolis'),\n ('genetic_crossover',\n  {'pairing': 'random', 'crossover': 'single', 'mating_pool_factor': 0.4},\n  'probabilistic'),\n ('genetic_crossover',\n  {'pairing': 'tournament_2_100',\n   'crossover': 'single',\n   'mating_pool_factor': 0.4},\n  'all'),\n ('genetic_crossover',\n  {'pairing': 'tournament_2_100',\n   'crossover': 'single',\n   'mating_pool_factor': 0.4},\n  'greedy'),\n ('genetic_crossover',\n  {'pairing': 'tournament_2_100',\n   'crossover': 'single',\n   'mating_pool_factor': 0.4},\n  'metropolis'),\n ('genetic_crossover',\n  {'pairing': 'tournament_2_100',\n   'crossover': 'single',\n   'mating_pool_factor': 0.4},\n  'probabilistic'),\n ('genetic_crossover',\n  {'pairing': 'rank', 'crossover': 'two', 'mating_pool_factor': 0.4},\n  'all'),\n ('genetic_crossover',\n  {'pairing': 'rank', 'crossover': 'two', 'mating_pool_factor': 0.4},\n  'greedy'),\n ('genetic_crossover',\n  {'pairing': 'rank', 'crossover': 'two', 'mating_pool_factor': 0.4},\n  'metropolis'),\n ('genetic_crossover',\n  {'pairing': 'rank', 'crossover': 'two', 'mating_pool_factor': 0.4},\n  'probabilistic'),\n ('genetic_crossover',\n  {'pairing': 'cost', 'crossover': 'two', 'mating_pool_factor': 0.4},\n  'all'),\n ('genetic_crossover',\n  {'pairing': 'cost', 'crossover': 'two', 'mating_pool_factor': 0.4},\n  'greedy'),\n ('genetic_crossover',\n  {'pairing': 'cost', 'crossover': 'two', 'mating_pool_factor': 0.4},\n  'metropolis'),\n ('genetic_crossover',\n  {'pairing': 'cost', 'crossover': 'two', 'mating_pool_factor': 0.4},\n  'probabilistic'),\n ('genetic_crossover',\n  {'pairing': 'random', 'crossover': 'two', 'mating_pool_factor': 0.4},\n  'all'),\n ('genetic_crossover',\n  {'pairing': 'random', 'crossover': 'two', 'mating_pool_factor': 0.4},\n  'greedy'),\n ('genetic_crossover',\n  {'pairing': 'random', 'crossover': 'two', 'mating_pool_factor': 0.4},\n  'metropolis'),\n ('genetic_crossover',\n  {'pairing': 'random', 'crossover': 'two', 'mating_pool_factor': 0.4},\n  'probabilistic'),\n ('genetic_crossover',\n  {'pairing': 'tournament_2_100',\n   'crossover': 'two',\n   'mating_pool_factor': 0.4},\n  'all'),\n ('genetic_crossover',\n  {'pairing': 'tournament_2_100',\n   'crossover': 'two',\n   'mating_pool_factor': 0.4},\n  'greedy'),\n ('genetic_crossover',\n  {'pairing': 'tournament_2_100',\n   'crossover': 'two',\n   'mating_pool_factor': 0.4},\n  'metropolis'),\n ('genetic_crossover',\n  {'pairing': 'tournament_2_100',\n   'crossover': 'two',\n   'mating_pool_factor': 0.4},\n  'probabilistic'),\n ('genetic_crossover',\n  {'pairing': 'rank', 'crossover': 'uniform', 'mating_pool_factor': 0.4},\n  'all'),\n ('genetic_crossover',\n  {'pairing': 'rank', 'crossover': 'uniform', 'mating_pool_factor': 0.4},\n  'greedy'),\n ('genetic_crossover',\n  {'pairing': 'rank', 'crossover': 'uniform', 'mating_pool_factor': 0.4},\n  'metropolis'),\n ('genetic_crossover',\n  {'pairing': 'rank', 'crossover': 'uniform', 'mating_pool_factor': 0.4},\n  'probabilistic'),\n ('genetic_crossover',\n  {'pairing': 'cost', 'crossover': 'uniform', 'mating_pool_factor': 0.4},\n  'all'),\n ('genetic_crossover',\n  {'pairing': 'cost', 'crossover': 'uniform', 'mating_pool_factor': 0.4},\n  'greedy'),\n ('genetic_crossover',\n  {'pairing': 'cost', 'crossover': 'uniform', 'mating_pool_factor': 0.4},\n  'metropolis'),\n ('genetic_crossover',\n  {'pairing': 'cost', 'crossover': 'uniform', 'mating_pool_factor': 0.4},\n  'probabilistic'),\n ('genetic_crossover',\n  {'pairing': 'random', 'crossover': 'uniform', 'mating_pool_factor': 0.4},\n  'all'),\n ('genetic_crossover',\n  {'pairing': 'random', 'crossover': 'uniform', 'mating_pool_factor': 0.4},\n  'greedy'),\n ('genetic_crossover',\n  {'pairing': 'random', 'crossover': 'uniform', 'mating_pool_factor': 0.4},\n  'metropolis'),\n ('genetic_crossover',\n  {'pairing': 'random', 'crossover': 'uniform', 'mating_pool_factor': 0.4},\n  'probabilistic'),\n ('genetic_crossover',\n  {'pairing': 'tournament_2_100',\n   'crossover': 'uniform',\n   'mating_pool_factor': 0.4},\n  'all'),\n ('genetic_crossover',\n  {'pairing': 'tournament_2_100',\n   'crossover': 'uniform',\n   'mating_pool_factor': 0.4},\n  'greedy'),\n ('genetic_crossover',\n  {'pairing': 'tournament_2_100',\n   'crossover': 'uniform',\n   'mating_pool_factor': 0.4},\n  'metropolis'),\n ('genetic_crossover',\n  {'pairing': 'tournament_2_100',\n   'crossover': 'uniform',\n   'mating_pool_factor': 0.4},\n  'probabilistic'),\n ('genetic_crossover',\n  {'pairing': 'rank', 'crossover': 'blend', 'mating_pool_factor': 0.4},\n  'all'),\n ('genetic_crossover',\n  {'pairing': 'rank', 'crossover': 'blend', 'mating_pool_factor': 0.4},\n  'greedy'),\n ('genetic_crossover',\n  {'pairing': 'rank', 'crossover': 'blend', 'mating_pool_factor': 0.4},\n  'metropolis'),\n ('genetic_crossover',\n  {'pairing': 'rank', 'crossover': 'blend', 'mating_pool_factor': 0.4},\n  'probabilistic'),\n ('genetic_crossover',\n  {'pairing': 'cost', 'crossover': 'blend', 'mating_pool_factor': 0.4},\n  'all'),\n ('genetic_crossover',\n  {'pairing': 'cost', 'crossover': 'blend', 'mating_pool_factor': 0.4},\n  'greedy'),\n ('genetic_crossover',\n  {'pairing': 'cost', 'crossover': 'blend', 'mating_pool_factor': 0.4},\n  'metropolis'),\n ('genetic_crossover',\n  {'pairing': 'cost', 'crossover': 'blend', 'mating_pool_factor': 0.4},\n  'probabilistic'),\n ('genetic_crossover',\n  {'pairing': 'random', 'crossover': 'blend', 'mating_pool_factor': 0.4},\n  'all'),\n ('genetic_crossover',\n  {'pairing': 'random', 'crossover': 'blend', 'mating_pool_factor': 0.4},\n  'greedy'),\n ('genetic_crossover',\n  {'pairing': 'random', 'crossover': 'blend', 'mating_pool_factor': 0.4},\n  'metropolis'),\n ('genetic_crossover',\n  {'pairing': 'random', 'crossover': 'blend', 'mating_pool_factor': 0.4},\n  'probabilistic'),\n ('genetic_crossover',\n  {'pairing': 'tournament_2_100',\n   'crossover': 'blend',\n   'mating_pool_factor': 0.4},\n  'all'),\n ('genetic_crossover',\n  {'pairing': 'tournament_2_100',\n   'crossover': 'blend',\n   'mating_pool_factor': 0.4},\n  'greedy'),\n ('genetic_crossover',\n  {'pairing': 'tournament_2_100',\n   'crossover': 'blend',\n   'mating_pool_factor': 0.4},\n  'metropolis'),\n ('genetic_crossover',\n  {'pairing': 'tournament_2_100',\n   'crossover': 'blend',\n   'mating_pool_factor': 0.4},\n  'probabilistic'),\n ('genetic_crossover',\n  {'pairing': 'rank',\n   'crossover': 'linear_0.5_0.5',\n   'mating_pool_factor': 0.4},\n  'all'),\n ('genetic_crossover',\n  {'pairing': 'rank',\n   'crossover': 'linear_0.5_0.5',\n   'mating_pool_factor': 0.4},\n  'greedy'),\n ('genetic_crossover',\n  {'pairing': 'rank',\n   'crossover': 'linear_0.5_0.5',\n   'mating_pool_factor': 0.4},\n  'metropolis'),\n ('genetic_crossover',\n  {'pairing': 'rank',\n   'crossover': 'linear_0.5_0.5',\n   'mating_pool_factor': 0.4},\n  'probabilistic'),\n ('genetic_crossover',\n  {'pairing': 'cost',\n   'crossover': 'linear_0.5_0.5',\n   'mating_pool_factor': 0.4},\n  'all'),\n ('genetic_crossover',\n  {'pairing': 'cost',\n   'crossover': 'linear_0.5_0.5',\n   'mating_pool_factor': 0.4},\n  'greedy'),\n ('genetic_crossover',\n  {'pairing': 'cost',\n   'crossover': 'linear_0.5_0.5',\n   'mating_pool_factor': 0.4},\n  'metropolis'),\n ('genetic_crossover',\n  {'pairing': 'cost',\n   'crossover': 'linear_0.5_0.5',\n   'mating_pool_factor': 0.4},\n  'probabilistic'),\n ('genetic_crossover',\n  {'pairing': 'random',\n   'crossover': 'linear_0.5_0.5',\n   'mating_pool_factor': 0.4},\n  'all'),\n ('genetic_crossover',\n  {'pairing': 'random',\n   'crossover': 'linear_0.5_0.5',\n   'mating_pool_factor': 0.4},\n  'greedy'),\n ('genetic_crossover',\n  {'pairing': 'random',\n   'crossover': 'linear_0.5_0.5',\n   'mating_pool_factor': 0.4},\n  'metropolis'),\n ('genetic_crossover',\n  {'pairing': 'random',\n   'crossover': 'linear_0.5_0.5',\n   'mating_pool_factor': 0.4},\n  'probabilistic'),\n ('genetic_crossover',\n  {'pairing': 'tournament_2_100',\n   'crossover': 'linear_0.5_0.5',\n   'mating_pool_factor': 0.4},\n  'all'),\n ('genetic_crossover',\n  {'pairing': 'tournament_2_100',\n   'crossover': 'linear_0.5_0.5',\n   'mating_pool_factor': 0.4},\n  'greedy'),\n ('genetic_crossover',\n  {'pairing': 'tournament_2_100',\n   'crossover': 'linear_0.5_0.5',\n   'mating_pool_factor': 0.4},\n  'metropolis'),\n ('genetic_crossover',\n  {'pairing': 'tournament_2_100',\n   'crossover': 'linear_0.5_0.5',\n   'mating_pool_factor': 0.4},\n  'probabilistic'),\n ('genetic_mutation',\n  {'scale': 1.0,\n   'elite_rate': 0.1,\n   'mutation_rate': 0.25,\n   'distribution': 'uniform'},\n  'all'),\n ('genetic_mutation',\n  {'scale': 1.0,\n   'elite_rate': 0.1,\n   'mutation_rate': 0.25,\n   'distribution': 'uniform'},\n  'greedy'),\n ('genetic_mutation',\n  {'scale': 1.0,\n   'elite_rate': 0.1,\n   'mutation_rate': 0.25,\n   'distribution': 'uniform'},\n  'metropolis'),\n ('genetic_mutation',\n  {'scale': 1.0,\n   'elite_rate': 0.1,\n   'mutation_rate': 0.25,\n   'distribution': 'uniform'},\n  'probabilistic'),\n ('genetic_mutation',\n  {'scale': 1.0,\n   'elite_rate': 0.1,\n   'mutation_rate': 0.25,\n   'distribution': 'gaussian'},\n  'all'),\n ('genetic_mutation',\n  {'scale': 1.0,\n   'elite_rate': 0.1,\n   'mutation_rate': 0.25,\n   'distribution': 'gaussian'},\n  'greedy'),\n ('genetic_mutation',\n  {'scale': 1.0,\n   'elite_rate': 0.1,\n   'mutation_rate': 0.25,\n   'distribution': 'gaussian'},\n  'metropolis'),\n ('genetic_mutation',\n  {'scale': 1.0,\n   'elite_rate': 0.1,\n   'mutation_rate': 0.25,\n   'distribution': 'gaussian'},\n  'probabilistic'),\n ('genetic_mutation',\n  {'scale': 1.0,\n   'elite_rate': 0.1,\n   'mutation_rate': 0.25,\n   'distribution': 'levy'},\n  'all'),\n ('genetic_mutation',\n  {'scale': 1.0,\n   'elite_rate': 0.1,\n   'mutation_rate': 0.25,\n   'distribution': 'levy'},\n  'greedy'),\n ('genetic_mutation',\n  {'scale': 1.0,\n   'elite_rate': 0.1,\n   'mutation_rate': 0.25,\n   'distribution': 'levy'},\n  'metropolis'),\n ('genetic_mutation',\n  {'scale': 1.0,\n   'elite_rate': 0.1,\n   'mutation_rate': 0.25,\n   'distribution': 'levy'},\n  'probabilistic'),\n ('gravitational_search', {'gravity': 1.0, 'alpha': 0.02}, 'all'),\n ('gravitational_search', {'gravity': 1.0, 'alpha': 0.02}, 'greedy'),\n ('gravitational_search', {'gravity': 1.0, 'alpha': 0.02}, 'metropolis'),\n ('gravitational_search', {'gravity': 1.0, 'alpha': 0.02}, 'probabilistic'),\n ('random_flight', {'scale': 1.0, 'distribution': 'levy', 'beta': 1.5}, 'all'),\n ('random_flight',\n  {'scale': 1.0, 'distribution': 'levy', 'beta': 1.5},\n  'greedy'),\n ('random_flight',\n  {'scale': 1.0, 'distribution': 'levy', 'beta': 1.5},\n  'metropolis'),\n ('random_flight',\n  {'scale': 1.0, 'distribution': 'levy', 'beta': 1.5},\n  'probabilistic'),\n ('random_flight', {'scale': 1.0, 'distribution': 'uniform'}, 'all'),\n ('random_flight', {'scale': 1.0, 'distribution': 'uniform'}, 'greedy'),\n ('random_flight', {'scale': 1.0, 'distribution': 'uniform'}, 'metropolis'),\n ('random_flight', {'scale': 1.0, 'distribution': 'uniform'}, 'probabilistic'),\n ('random_flight', {'scale': 1.0, 'distribution': 'gaussian'}, 'all'),\n ('random_flight', {'scale': 1.0, 'distribution': 'gaussian'}, 'greedy'),\n ('random_flight', {'scale': 1.0, 'distribution': 'gaussian'}, 'metropolis'),\n ('random_flight',\n  {'scale': 1.0, 'distribution': 'gaussian'},\n  'probabilistic'),\n ('local_random_walk',\n  {'probability': 0.75, 'scale': 1.0, 'distribution': 'uniform'},\n  'all'),\n ('local_random_walk',\n  {'probability': 0.75, 'scale': 1.0, 'distribution': 'uniform'},\n  'greedy'),\n ('local_random_walk',\n  {'probability': 0.75, 'scale': 1.0, 'distribution': 'uniform'},\n  'metropolis'),\n ('local_random_walk',\n  {'probability': 0.75, 'scale': 1.0, 'distribution': 'uniform'},\n  'probabilistic'),\n ('local_random_walk',\n  {'probability': 0.75, 'scale': 1.0, 'distribution': 'gaussian'},\n  'all'),\n ('local_random_walk',\n  {'probability': 0.75, 'scale': 1.0, 'distribution': 'gaussian'},\n  'greedy'),\n ('local_random_walk',\n  {'probability': 0.75, 'scale': 1.0, 'distribution': 'gaussian'},\n  'metropolis'),\n ('local_random_walk',\n  {'probability': 0.75, 'scale': 1.0, 'distribution': 'gaussian'},\n  'probabilistic'),\n ('local_random_walk',\n  {'probability': 0.75, 'scale': 1.0, 'distribution': 'levy'},\n  'all'),\n ('local_random_walk',\n  {'probability': 0.75, 'scale': 1.0, 'distribution': 'levy'},\n  'greedy'),\n ('local_random_walk',\n  {'probability': 0.75, 'scale': 1.0, 'distribution': 'levy'},\n  'metropolis'),\n ('local_random_walk',\n  {'probability': 0.75, 'scale': 1.0, 'distribution': 'levy'},\n  'probabilistic'),\n ('random_sample', {}, 'all'),\n ('random_sample', {}, 'greedy'),\n ('random_sample', {}, 'metropolis'),\n ('random_sample', {}, 'probabilistic'),\n ('random_search', {'scale': 0.01, 'distribution': 'uniform'}, 'all'),\n ('random_search', {'scale': 0.01, 'distribution': 'uniform'}, 'greedy'),\n ('random_search', {'scale': 0.01, 'distribution': 'uniform'}, 'metropolis'),\n ('random_search',\n  {'scale': 0.01, 'distribution': 'uniform'},\n  'probabilistic'),\n ('random_search', {'scale': 0.01, 'distribution': 'gaussian'}, 'all'),\n ('random_search', {'scale': 0.01, 'distribution': 'gaussian'}, 'greedy'),\n ('random_search', {'scale': 0.01, 'distribution': 'gaussian'}, 'metropolis'),\n ('random_search',\n  {'scale': 0.01, 'distribution': 'gaussian'},\n  'probabilistic'),\n ('random_search', {'scale': 0.01, 'distribution': 'levy'}, 'all'),\n ('random_search', {'scale': 0.01, 'distribution': 'levy'}, 'greedy'),\n ('random_search', {'scale': 0.01, 'distribution': 'levy'}, 'metropolis'),\n ('random_search', {'scale': 0.01, 'distribution': 'levy'}, 'probabilistic'),\n ('spiral_dynamic', {'radius': 0.9, 'angle': 22.5, 'sigma': 0.1}, 'all'),\n ('spiral_dynamic', {'radius': 0.9, 'angle': 22.5, 'sigma': 0.1}, 'greedy'),\n ('spiral_dynamic',\n  {'radius': 0.9, 'angle': 22.5, 'sigma': 0.1},\n  'metropolis'),\n ('spiral_dynamic',\n  {'radius': 0.9, 'angle': 22.5, 'sigma': 0.1},\n  'probabilistic'),\n ('swarm_dynamic',\n  {'factor': 0.7,\n   'self_conf': 2.54,\n   'swarm_conf': 2.56,\n   'version': 'inertial',\n   'distribution': 'uniform'},\n  'all'),\n ('swarm_dynamic',\n  {'factor': 0.7,\n   'self_conf': 2.54,\n   'swarm_conf': 2.56,\n   'version': 'inertial',\n   'distribution': 'uniform'},\n  'greedy'),\n ('swarm_dynamic',\n  {'factor': 0.7,\n   'self_conf': 2.54,\n   'swarm_conf': 2.56,\n   'version': 'inertial',\n   'distribution': 'uniform'},\n  'metropolis'),\n ('swarm_dynamic',\n  {'factor': 0.7,\n   'self_conf': 2.54,\n   'swarm_conf': 2.56,\n   'version': 'inertial',\n   'distribution': 'uniform'},\n  'probabilistic'),\n ('swarm_dynamic',\n  {'factor': 0.7,\n   'self_conf': 2.54,\n   'swarm_conf': 2.56,\n   'version': 'inertial',\n   'distribution': 'gaussian'},\n  'all'),\n ('swarm_dynamic',\n  {'factor': 0.7,\n   'self_conf': 2.54,\n   'swarm_conf': 2.56,\n   'version': 'inertial',\n   'distribution': 'gaussian'},\n  'greedy'),\n ('swarm_dynamic',\n  {'factor': 0.7,\n   'self_conf': 2.54,\n   'swarm_conf': 2.56,\n   'version': 'inertial',\n   'distribution': 'gaussian'},\n  'metropolis'),\n ('swarm_dynamic',\n  {'factor': 0.7,\n   'self_conf': 2.54,\n   'swarm_conf': 2.56,\n   'version': 'inertial',\n   'distribution': 'gaussian'},\n  'probabilistic'),\n ('swarm_dynamic',\n  {'factor': 0.7,\n   'self_conf': 2.54,\n   'swarm_conf': 2.56,\n   'version': 'inertial',\n   'distribution': 'levy'},\n  'all'),\n ('swarm_dynamic',\n  {'factor': 0.7,\n   'self_conf': 2.54,\n   'swarm_conf': 2.56,\n   'version': 'inertial',\n   'distribution': 'levy'},\n  'greedy'),\n ('swarm_dynamic',\n  {'factor': 0.7,\n   'self_conf': 2.54,\n   'swarm_conf': 2.56,\n   'version': 'inertial',\n   'distribution': 'levy'},\n  'metropolis'),\n ('swarm_dynamic',\n  {'factor': 0.7,\n   'self_conf': 2.54,\n   'swarm_conf': 2.56,\n   'version': 'inertial',\n   'distribution': 'levy'},\n  'probabilistic'),\n ('swarm_dynamic',\n  {'factor': 1.0,\n   'self_conf': 2.54,\n   'swarm_conf': 2.56,\n   'version': 'constriction',\n   'distribution': 'uniform'},\n  'all'),\n ('swarm_dynamic',\n  {'factor': 1.0,\n   'self_conf': 2.54,\n   'swarm_conf': 2.56,\n   'version': 'constriction',\n   'distribution': 'uniform'},\n  'greedy'),\n ('swarm_dynamic',\n  {'factor': 1.0,\n   'self_conf': 2.54,\n   'swarm_conf': 2.56,\n   'version': 'constriction',\n   'distribution': 'uniform'},\n  'metropolis'),\n ('swarm_dynamic',\n  {'factor': 1.0,\n   'self_conf': 2.54,\n   'swarm_conf': 2.56,\n   'version': 'constriction',\n   'distribution': 'uniform'},\n  'probabilistic'),\n ('swarm_dynamic',\n  {'factor': 1.0,\n   'self_conf': 2.54,\n   'swarm_conf': 2.56,\n   'version': 'constriction',\n   'distribution': 'gaussian'},\n  'all'),\n ('swarm_dynamic',\n  {'factor': 1.0,\n   'self_conf': 2.54,\n   'swarm_conf': 2.56,\n   'version': 'constriction',\n   'distribution': 'gaussian'},\n  'greedy'),\n ('swarm_dynamic',\n  {'factor': 1.0,\n   'self_conf': 2.54,\n   'swarm_conf': 2.56,\n   'version': 'constriction',\n   'distribution': 'gaussian'},\n  'metropolis'),\n ('swarm_dynamic',\n  {'factor': 1.0,\n   'self_conf': 2.54,\n   'swarm_conf': 2.56,\n   'version': 'constriction',\n   'distribution': 'gaussian'},\n  'probabilistic'),\n ('swarm_dynamic',\n  {'factor': 1.0,\n   'self_conf': 2.54,\n   'swarm_conf': 2.56,\n   'version': 'constriction',\n   'distribution': 'levy'},\n  'all'),\n ('swarm_dynamic',\n  {'factor': 1.0,\n   'self_conf': 2.54,\n   'swarm_conf': 2.56,\n   'version': 'constriction',\n   'distribution': 'levy'},\n  'greedy'),\n ('swarm_dynamic',\n  {'factor': 1.0,\n   'self_conf': 2.54,\n   'swarm_conf': 2.56,\n   'version': 'constriction',\n   'distribution': 'levy'},\n  'metropolis'),\n ('swarm_dynamic',\n  {'factor': 1.0,\n   'self_conf': 2.54,\n   'swarm_conf': 2.56,\n   'version': 'constriction',\n   'distribution': 'levy'},\n  'probabilistic')]"
     },
     "execution_count": 100,
     "metadata": {},
     "output_type": "execute_result"
    }
   ],
   "source": [
    "heuristic_space"
   ],
   "metadata": {
    "collapsed": false,
    "pycharm": {
     "name": "#%%\n"
    }
   }
  },
  {
   "cell_type": "code",
   "execution_count": 80,
   "outputs": [
    {
     "name": "stdout",
     "output_type": "stream",
     "text": [
      "[1 2 5 6 8 9]\n"
     ]
    }
   ],
   "source": [
    "a = np.array([1, 2, 3, 4, 5, 6, 7, 8, 9])\n",
    "index = [2, 3, 6]\n",
    "\n",
    "new_a = np.delete(a, index)\n",
    "\n",
    "print(new_a)"
   ],
   "metadata": {
    "collapsed": false,
    "pycharm": {
     "name": "#%%\n"
    }
   }
  },
  {
   "cell_type": "code",
   "execution_count": 38,
   "outputs": [
    {
     "name": "stdout",
     "output_type": "stream",
     "text": [
      "data_files/raw/MC_results6_Copper_Air\n",
      "data_files/raw/MC_results6_Copper_Air/MC_results6_Copper_Air_1\\35-01_24_2023_08_05_43.json\n",
      "data_files/raw/MC_results6_Copper_Air/MC_results6_Copper_Air_10\\6-01_24_2023_09_08_39.json\n",
      "data_files/raw/MC_results6_Copper_Air/MC_results6_Copper_Air_11\\7-01_24_2023_09_14_53.json\n",
      "data_files/raw/MC_results6_Copper_Air/MC_results6_Copper_Air_12\\34-01_24_2023_09_25_18.json\n",
      "data_files/raw/MC_results6_Copper_Air/MC_results6_Copper_Air_13\\13-01_24_2023_09_31_49.json\n",
      "data_files/raw/MC_results6_Copper_Air/MC_results6_Copper_Air_14\\4-01_24_2023_09_38_17.json\n",
      "data_files/raw/MC_results6_Copper_Air/MC_results6_Copper_Air_15\\4-01_24_2023_09_44_55.json\n",
      "data_files/raw/MC_results6_Copper_Air/MC_results6_Copper_Air_16\\22-01_24_2023_09_53_47.json\n",
      "data_files/raw/MC_results6_Copper_Air/MC_results6_Copper_Air_17\\4-01_24_2023_09_58_37.json\n",
      "data_files/raw/MC_results6_Copper_Air/MC_results6_Copper_Air_18\\65-01_24_2023_10_14_49.json\n",
      "data_files/raw/MC_results6_Copper_Air/MC_results6_Copper_Air_19\\6-01_24_2023_10_19_42.json\n",
      "data_files/raw/MC_results6_Copper_Air/MC_results6_Copper_Air_2\\6-01_24_2023_08_11_08.json\n",
      "data_files/raw/MC_results6_Copper_Air/MC_results6_Copper_Air_20\\35-01_24_2023_10_29_43.json\n",
      "data_files/raw/MC_results6_Copper_Air/MC_results6_Copper_Air_21\\12-01_24_2023_10_36_22.json\n",
      "data_files/raw/MC_results6_Copper_Air/MC_results6_Copper_Air_22\\7-01_24_2023_10_41_38.json\n",
      "data_files/raw/MC_results6_Copper_Air/MC_results6_Copper_Air_23\\6-01_24_2023_10_47_32.json\n",
      "data_files/raw/MC_results6_Copper_Air/MC_results6_Copper_Air_24\\11-01_24_2023_10_55_55.json\n",
      "data_files/raw/MC_results6_Copper_Air/MC_results6_Copper_Air_25\\1-01_24_2023_11_01_56.json\n",
      "data_files/raw/MC_results6_Copper_Air/MC_results6_Copper_Air_26\\12-01_24_2023_11_08_29.json\n",
      "data_files/raw/MC_results6_Copper_Air/MC_results6_Copper_Air_27\\15-01_24_2023_11_15_18.json\n",
      "data_files/raw/MC_results6_Copper_Air/MC_results6_Copper_Air_28\\32-01_24_2023_11_25_52.json\n",
      "data_files/raw/MC_results6_Copper_Air/MC_results6_Copper_Air_29\\24-01_24_2023_11_34_27.json\n",
      "data_files/raw/MC_results6_Copper_Air/MC_results6_Copper_Air_3\\9-01_24_2023_08_17_41.json\n",
      "data_files/raw/MC_results6_Copper_Air/MC_results6_Copper_Air_30\\29-01_24_2023_11_43_24.json\n",
      "data_files/raw/MC_results6_Copper_Air/MC_results6_Copper_Air_4\\10-01_24_2023_08_24_26.json\n",
      "data_files/raw/MC_results6_Copper_Air/MC_results6_Copper_Air_5\\5-01_24_2023_08_30_49.json\n",
      "data_files/raw/MC_results6_Copper_Air/MC_results6_Copper_Air_6\\25-01_24_2023_08_40_01.json\n",
      "data_files/raw/MC_results6_Copper_Air/MC_results6_Copper_Air_7\\12-01_24_2023_08_46_44.json\n",
      "data_files/raw/MC_results6_Copper_Air/MC_results6_Copper_Air_8\\5-01_24_2023_08_53_06.json\n",
      "data_files/raw/MC_results6_Copper_Air/MC_results6_Copper_Air_9\\24-01_24_2023_09_02_26.json\n",
      "data_files/raw/MC_results6_Copper_Air_Ag_50\n",
      "data_files/raw/MC_results6_Copper_Air_Ag_50/MC_results6_Copper_Air_Ag_50_1\\10-01_24_2023_11_50_24.json\n",
      "data_files/raw/MC_results6_Copper_Air_Ag_50/MC_results6_Copper_Air_Ag_50_10\\16-01_24_2023_16_55_47.json\n",
      "data_files/raw/MC_results6_Copper_Air_Ag_50/MC_results6_Copper_Air_Ag_50_11\\14-01_24_2023_17_08_18.json\n",
      "data_files/raw/MC_results6_Copper_Air_Ag_50/MC_results6_Copper_Air_Ag_50_12\\18-01_24_2023_17_21_58.json\n",
      "data_files/raw/MC_results6_Copper_Air_Ag_50/MC_results6_Copper_Air_Ag_50_13\\8-01_24_2023_17_32_53.json\n",
      "data_files/raw/MC_results6_Copper_Air_Ag_50/MC_results6_Copper_Air_Ag_50_14\\5-01_24_2023_17_42_56.json\n",
      "data_files/raw/MC_results6_Copper_Air_Ag_50/MC_results6_Copper_Air_Ag_50_15\\8-01_24_2023_17_54_18.json\n",
      "data_files/raw/MC_results6_Copper_Air_Ag_50/MC_results6_Copper_Air_Ag_50_16\\5-01_24_2023_18_03_39.json\n",
      "data_files/raw/MC_results6_Copper_Air_Ag_50/MC_results6_Copper_Air_Ag_50_17\\4-01_24_2023_18_13_00.json\n",
      "data_files/raw/MC_results6_Copper_Air_Ag_50/MC_results6_Copper_Air_Ag_50_18\\4-01_24_2023_18_22_21.json\n",
      "data_files/raw/MC_results6_Copper_Air_Ag_50/MC_results6_Copper_Air_Ag_50_19\\8-01_24_2023_18_32_38.json\n",
      "data_files/raw/MC_results6_Copper_Air_Ag_50/MC_results6_Copper_Air_Ag_50_2\\7-01_24_2023_12_01_06.json\n",
      "data_files/raw/MC_results6_Copper_Air_Ag_50/MC_results6_Copper_Air_Ag_50_20\\9-01_24_2023_18_42_48.json\n",
      "data_files/raw/MC_results6_Copper_Air_Ag_50/MC_results6_Copper_Air_Ag_50_21\\13-01_24_2023_18_51_50.json\n",
      "data_files/raw/MC_results6_Copper_Air_Ag_50/MC_results6_Copper_Air_Ag_50_22\\4-01_24_2023_19_00_00.json\n",
      "data_files/raw/MC_results6_Copper_Air_Ag_50/MC_results6_Copper_Air_Ag_50_23\\13-01_24_2023_19_13_15.json\n",
      "data_files/raw/MC_results6_Copper_Air_Ag_50/MC_results6_Copper_Air_Ag_50_24\\15-01_24_2023_19_24_24.json\n",
      "data_files/raw/MC_results6_Copper_Air_Ag_50/MC_results6_Copper_Air_Ag_50_25\\19-01_24_2023_19_37_01.json\n",
      "data_files/raw/MC_results6_Copper_Air_Ag_50/MC_results6_Copper_Air_Ag_50_26\\8-01_24_2023_19_46_44.json\n",
      "data_files/raw/MC_results6_Copper_Air_Ag_50/MC_results6_Copper_Air_Ag_50_27\\18-01_24_2023_20_00_00.json\n",
      "data_files/raw/MC_results6_Copper_Air_Ag_50/MC_results6_Copper_Air_Ag_50_28\\8-01_24_2023_20_10_05.json\n",
      "data_files/raw/MC_results6_Copper_Air_Ag_50/MC_results6_Copper_Air_Ag_50_29\\9-01_24_2023_20_22_25.json\n",
      "data_files/raw/MC_results6_Copper_Air_Ag_50/MC_results6_Copper_Air_Ag_50_3\\19-01_24_2023_12_13_05.json\n",
      "data_files/raw/MC_results6_Copper_Air_Ag_50/MC_results6_Copper_Air_Ag_50_30\\9-01_24_2023_20_31_18.json\n",
      "data_files/raw/MC_results6_Copper_Air_Ag_50/MC_results6_Copper_Air_Ag_50_4\\10-01_24_2023_12_24_55.json\n",
      "data_files/raw/MC_results6_Copper_Air_Ag_50/MC_results6_Copper_Air_Ag_50_5\\8-01_24_2023_12_34_42.json\n",
      "data_files/raw/MC_results6_Copper_Air_Ag_50/MC_results6_Copper_Air_Ag_50_6\\2-01_24_2023_12_43_33.json\n",
      "data_files/raw/MC_results6_Copper_Air_Ag_50/MC_results6_Copper_Air_Ag_50_7\\17-01_24_2023_12_57_55.json\n",
      "data_files/raw/MC_results6_Copper_Air_Ag_50/MC_results6_Copper_Air_Ag_50_8\\14-01_24_2023_14_46_40.json\n",
      "data_files/raw/MC_results6_Copper_Air_Ag_50/MC_results6_Copper_Air_Ag_50_9\\4-01_24_2023_14_55_39.json\n",
      "data_files/raw/MC_results6_Copper_Air_Card_2\n",
      "data_files/raw/MC_results6_Copper_Air_Card_2/MC_results6_Copper_Air_Card_2_1\\7-01_24_2023_20_39_36.json\n",
      "data_files/raw/MC_results6_Copper_Air_Card_2/MC_results6_Copper_Air_Card_2_10\\9-01_24_2023_21_32_15.json\n",
      "data_files/raw/MC_results6_Copper_Air_Card_2/MC_results6_Copper_Air_Card_2_11\\22-01_24_2023_21_38_43.json\n",
      "data_files/raw/MC_results6_Copper_Air_Card_2/MC_results6_Copper_Air_Card_2_12\\8-01_24_2023_21_43_44.json\n",
      "data_files/raw/MC_results6_Copper_Air_Card_2/MC_results6_Copper_Air_Card_2_13\\8-01_24_2023_21_48_37.json\n",
      "data_files/raw/MC_results6_Copper_Air_Card_2/MC_results6_Copper_Air_Card_2_14\\2-01_24_2023_21_52_25.json\n",
      "data_files/raw/MC_results6_Copper_Air_Card_2/MC_results6_Copper_Air_Card_2_15\\25-01_24_2023_21_59_26.json\n",
      "data_files/raw/MC_results6_Copper_Air_Card_2/MC_results6_Copper_Air_Card_2_16\\8-01_24_2023_22_04_04.json\n",
      "data_files/raw/MC_results6_Copper_Air_Card_2/MC_results6_Copper_Air_Card_2_17\\18-01_24_2023_22_09_59.json\n",
      "data_files/raw/MC_results6_Copper_Air_Card_2/MC_results6_Copper_Air_Card_2_18\\3-01_24_2023_22_13_35.json\n",
      "data_files/raw/MC_results6_Copper_Air_Card_2/MC_results6_Copper_Air_Card_2_19\\22-01_24_2023_22_20_25.json\n",
      "data_files/raw/MC_results6_Copper_Air_Card_2/MC_results6_Copper_Air_Card_2_2\\17-01_24_2023_20_45_43.json\n",
      "data_files/raw/MC_results6_Copper_Air_Card_2/MC_results6_Copper_Air_Card_2_20\\21-01_24_2023_22_26_52.json\n",
      "data_files/raw/MC_results6_Copper_Air_Card_2/MC_results6_Copper_Air_Card_2_21\\13-01_24_2023_22_32_28.json\n",
      "data_files/raw/MC_results6_Copper_Air_Card_2/MC_results6_Copper_Air_Card_2_22\\19-01_24_2023_22_38_26.json\n",
      "data_files/raw/MC_results6_Copper_Air_Card_2/MC_results6_Copper_Air_Card_2_23\\17-01_24_2023_22_44_38.json\n",
      "data_files/raw/MC_results6_Copper_Air_Card_2/MC_results6_Copper_Air_Card_2_24\\47-01_24_2023_22_54_35.json\n",
      "data_files/raw/MC_results6_Copper_Air_Card_2/MC_results6_Copper_Air_Card_2_25\\6-01_24_2023_22_58_47.json\n",
      "data_files/raw/MC_results6_Copper_Air_Card_2/MC_results6_Copper_Air_Card_2_26\\14-01_24_2023_23_04_16.json\n",
      "data_files/raw/MC_results6_Copper_Air_Card_2/MC_results6_Copper_Air_Card_2_27\\17-01_24_2023_23_10_27.json\n",
      "data_files/raw/MC_results6_Copper_Air_Card_2/MC_results6_Copper_Air_Card_2_28\\37-01_24_2023_23_17_55.json\n",
      "data_files/raw/MC_results6_Copper_Air_Card_2/MC_results6_Copper_Air_Card_2_29\\2-01_24_2023_23_22_18.json\n",
      "data_files/raw/MC_results6_Copper_Air_Card_2/MC_results6_Copper_Air_Card_2_3\\31-01_24_2023_20_53_19.json\n",
      "data_files/raw/MC_results6_Copper_Air_Card_2/MC_results6_Copper_Air_Card_2_30\\12-01_24_2023_23_28_10.json\n",
      "data_files/raw/MC_results6_Copper_Air_Card_2/MC_results6_Copper_Air_Card_2_4\\30-01_24_2023_21_01_46.json\n",
      "data_files/raw/MC_results6_Copper_Air_Card_2/MC_results6_Copper_Air_Card_2_5\\16-01_24_2023_21_07_42.json\n",
      "data_files/raw/MC_results6_Copper_Air_Card_2/MC_results6_Copper_Air_Card_2_6\\6-01_24_2023_21_12_06.json\n",
      "data_files/raw/MC_results6_Copper_Air_Card_2/MC_results6_Copper_Air_Card_2_7\\9-01_24_2023_21_17_01.json\n",
      "data_files/raw/MC_results6_Copper_Air_Card_2/MC_results6_Copper_Air_Card_2_8\\3-01_24_2023_21_20_58.json\n",
      "data_files/raw/MC_results6_Copper_Air_Card_2/MC_results6_Copper_Air_Card_2_9\\18-01_24_2023_21_27_11.json\n",
      "data_files/raw/MC_results6_Copper_Air_It_50\n",
      "data_files/raw/MC_results6_Copper_Air_It_50/MC_results6_Copper_Air_It_50_1\\49-01_24_2023_23_35_49.json\n",
      "data_files/raw/MC_results6_Copper_Air_It_50/MC_results6_Copper_Air_It_50_10\\3-01_25_2023_00_10_05.json\n",
      "data_files/raw/MC_results6_Copper_Air_It_50/MC_results6_Copper_Air_It_50_11\\4-01_25_2023_00_13_13.json\n",
      "data_files/raw/MC_results6_Copper_Air_It_50/MC_results6_Copper_Air_It_50_12\\46-01_25_2023_00_19_26.json\n",
      "data_files/raw/MC_results6_Copper_Air_It_50/MC_results6_Copper_Air_It_50_13\\14-01_25_2023_00_22_54.json\n",
      "data_files/raw/MC_results6_Copper_Air_It_50/MC_results6_Copper_Air_It_50_14\\20-01_25_2023_00_27_32.json\n",
      "data_files/raw/MC_results6_Copper_Air_It_50/MC_results6_Copper_Air_It_50_15\\65-01_25_2023_00_34_56.json\n",
      "data_files/raw/MC_results6_Copper_Air_It_50/MC_results6_Copper_Air_It_50_16\\34-01_25_2023_00_39_45.json\n",
      "data_files/raw/MC_results6_Copper_Air_It_50/MC_results6_Copper_Air_It_50_17\\37-01_25_2023_00_45_21.json\n",
      "data_files/raw/MC_results6_Copper_Air_It_50/MC_results6_Copper_Air_It_50_18\\8-01_25_2023_00_48_03.json\n",
      "data_files/raw/MC_results6_Copper_Air_It_50/MC_results6_Copper_Air_It_50_19\\20-01_25_2023_00_52_16.json\n",
      "data_files/raw/MC_results6_Copper_Air_It_50/MC_results6_Copper_Air_It_50_2\\3-01_24_2023_23_38_37.json\n",
      "data_files/raw/MC_results6_Copper_Air_It_50/MC_results6_Copper_Air_It_50_20\\49-01_25_2023_00_58_43.json\n",
      "data_files/raw/MC_results6_Copper_Air_It_50/MC_results6_Copper_Air_It_50_21\\6-01_25_2023_01_01_47.json\n",
      "data_files/raw/MC_results6_Copper_Air_It_50/MC_results6_Copper_Air_It_50_22\\41-01_25_2023_01_06_56.json\n",
      "data_files/raw/MC_results6_Copper_Air_It_50/MC_results6_Copper_Air_It_50_23\\26-01_25_2023_01_11_08.json\n",
      "data_files/raw/MC_results6_Copper_Air_It_50/MC_results6_Copper_Air_It_50_24\\3-01_25_2023_01_13_39.json\n",
      "data_files/raw/MC_results6_Copper_Air_It_50/MC_results6_Copper_Air_It_50_25\\8-01_25_2023_01_16_35.json\n",
      "data_files/raw/MC_results6_Copper_Air_It_50/MC_results6_Copper_Air_It_50_26\\48-01_25_2023_01_23_26.json\n",
      "data_files/raw/MC_results6_Copper_Air_It_50/MC_results6_Copper_Air_It_50_27\\31-01_25_2023_01_29_06.json\n",
      "data_files/raw/MC_results6_Copper_Air_It_50/MC_results6_Copper_Air_It_50_28\\14-01_25_2023_01_32_36.json\n",
      "data_files/raw/MC_results6_Copper_Air_It_50/MC_results6_Copper_Air_It_50_29\\18-01_25_2023_01_36_12.json\n",
      "data_files/raw/MC_results6_Copper_Air_It_50/MC_results6_Copper_Air_It_50_3\\10-01_24_2023_23_41_48.json\n",
      "data_files/raw/MC_results6_Copper_Air_It_50/MC_results6_Copper_Air_It_50_30\\28-01_25_2023_01_41_10.json\n",
      "data_files/raw/MC_results6_Copper_Air_It_50/MC_results6_Copper_Air_It_50_4\\18-01_24_2023_23_46_00.json\n",
      "data_files/raw/MC_results6_Copper_Air_It_50/MC_results6_Copper_Air_It_50_5\\24-01_24_2023_23_50_22.json\n",
      "data_files/raw/MC_results6_Copper_Air_It_50/MC_results6_Copper_Air_It_50_6\\27-01_24_2023_23_55_08.json\n",
      "data_files/raw/MC_results6_Copper_Air_It_50/MC_results6_Copper_Air_It_50_7\\14-01_24_2023_23_58_54.json\n",
      "data_files/raw/MC_results6_Copper_Air_It_50/MC_results6_Copper_Air_It_50_8\\9-01_25_2023_00_01_56.json\n",
      "data_files/raw/MC_results6_Copper_Air_It_50/MC_results6_Copper_Air_It_50_9\\40-01_25_2023_00_07_00.json\n",
      "data_files/raw/MC_results6_Copper_Air_Stag_10\n",
      "data_files/raw/MC_results6_Copper_Air_Stag_10/MC_results6_Copper_Air_Stag_10_1\\12-01_25_2023_01_09_08.json\n",
      "data_files/raw/MC_results6_Copper_Air_Stag_10/MC_results6_Copper_Air_Stag_10_10\\16-01_25_2023_02_31_53.json\n",
      "data_files/raw/MC_results6_Copper_Air_Stag_10/MC_results6_Copper_Air_Stag_10_11\\3-01_25_2023_02_33_56.json\n",
      "data_files/raw/MC_results6_Copper_Air_Stag_10/MC_results6_Copper_Air_Stag_10_12\\11-01_25_2023_02_37_58.json\n",
      "data_files/raw/MC_results6_Copper_Air_Stag_10/MC_results6_Copper_Air_Stag_10_13\\5-01_25_2023_02_40_30.json\n",
      "data_files/raw/MC_results6_Copper_Air_Stag_10/MC_results6_Copper_Air_Stag_10_14\\6-01_25_2023_02_43_39.json\n",
      "data_files/raw/MC_results6_Copper_Air_Stag_10/MC_results6_Copper_Air_Stag_10_15\\8-01_25_2023_02_46_25.json\n",
      "data_files/raw/MC_results6_Copper_Air_Stag_10/MC_results6_Copper_Air_Stag_10_16\\11-01_25_2023_01_50_00.json\n",
      "data_files/raw/MC_results6_Copper_Air_Stag_10/MC_results6_Copper_Air_Stag_10_17\\6-01_25_2023_01_53_19.json\n",
      "data_files/raw/MC_results6_Copper_Air_Stag_10/MC_results6_Copper_Air_Stag_10_18\\6-01_25_2023_01_55_43.json\n",
      "data_files/raw/MC_results6_Copper_Air_Stag_10/MC_results6_Copper_Air_Stag_10_19\\6-01_25_2023_01_58_30.json\n",
      "data_files/raw/MC_results6_Copper_Air_Stag_10/MC_results6_Copper_Air_Stag_10_2\\3-01_25_2023_01_11_21.json\n",
      "data_files/raw/MC_results6_Copper_Air_Stag_10/MC_results6_Copper_Air_Stag_10_20\\19-01_25_2023_02_02_26.json\n",
      "data_files/raw/MC_results6_Copper_Air_Stag_10/MC_results6_Copper_Air_Stag_10_21\\15-01_25_2023_02_07_15.json\n",
      "data_files/raw/MC_results6_Copper_Air_Stag_10/MC_results6_Copper_Air_Stag_10_22\\3-01_25_2023_02_09_28.json\n",
      "data_files/raw/MC_results6_Copper_Air_Stag_10/MC_results6_Copper_Air_Stag_10_23\\7-01_25_2023_02_12_55.json\n",
      "data_files/raw/MC_results6_Copper_Air_Stag_10/MC_results6_Copper_Air_Stag_10_24\\1-01_25_2023_02_14_24.json\n",
      "data_files/raw/MC_results6_Copper_Air_Stag_10/MC_results6_Copper_Air_Stag_10_25\\5-01_25_2023_02_16_41.json\n",
      "data_files/raw/MC_results6_Copper_Air_Stag_10/MC_results6_Copper_Air_Stag_10_26\\9-01_25_2023_02_19_55.json\n",
      "data_files/raw/MC_results6_Copper_Air_Stag_10/MC_results6_Copper_Air_Stag_10_27\\9-01_25_2023_02_23_13.json\n",
      "data_files/raw/MC_results6_Copper_Air_Stag_10/MC_results6_Copper_Air_Stag_10_28\\1-01_25_2023_02_25_17.json\n",
      "data_files/raw/MC_results6_Copper_Air_Stag_10/MC_results6_Copper_Air_Stag_10_29\\12-01_25_2023_02_28_46.json\n",
      "data_files/raw/MC_results6_Copper_Air_Stag_10/MC_results6_Copper_Air_Stag_10_3\\14-01_25_2023_01_15_33.json\n",
      "data_files/raw/MC_results6_Copper_Air_Stag_10/MC_results6_Copper_Air_Stag_10_30\\3-01_25_2023_02_31_02.json\n",
      "data_files/raw/MC_results6_Copper_Air_Stag_10/MC_results6_Copper_Air_Stag_10_4\\5-01_25_2023_01_18_33.json\n",
      "data_files/raw/MC_results6_Copper_Air_Stag_10/MC_results6_Copper_Air_Stag_10_5\\14-01_25_2023_01_50_17.json\n",
      "data_files/raw/MC_results6_Copper_Air_Stag_10/MC_results6_Copper_Air_Stag_10_6\\8-01_25_2023_01_53_18.json\n",
      "data_files/raw/MC_results6_Copper_Air_Stag_10/MC_results6_Copper_Air_Stag_10_7\\14-01_25_2023_02_12_45.json\n",
      "data_files/raw/MC_results6_Copper_Air_Stag_10/MC_results6_Copper_Air_Stag_10_8\\7-01_25_2023_02_15_45.json\n",
      "data_files/raw/MC_results6_Copper_Air_Stag_10/MC_results6_Copper_Air_Stag_10_9\\5-01_25_2023_02_27_33.json\n",
      "data_files/raw/MC_results6_Copper_Wat\n",
      "data_files/raw/MC_results6_Copper_Wat/MC_results6_Copper_Wat_1\\19-01_24_2023_08_03_02.json\n",
      "data_files/raw/MC_results6_Copper_Wat/MC_results6_Copper_Wat_10\\10-01_24_2023_09_23_11.json\n",
      "data_files/raw/MC_results6_Copper_Wat/MC_results6_Copper_Wat_11\\15-01_24_2023_09_31_07.json\n",
      "data_files/raw/MC_results6_Copper_Wat/MC_results6_Copper_Wat_12\\9-01_24_2023_09_37_38.json\n",
      "data_files/raw/MC_results6_Copper_Wat/MC_results6_Copper_Wat_13\\2-01_24_2023_09_43_10.json\n",
      "data_files/raw/MC_results6_Copper_Wat/MC_results6_Copper_Wat_14\\5-01_24_2023_09_49_23.json\n",
      "data_files/raw/MC_results6_Copper_Wat/MC_results6_Copper_Wat_15\\12-01_24_2023_09_57_49.json\n",
      "data_files/raw/MC_results6_Copper_Wat/MC_results6_Copper_Wat_16\\23-01_24_2023_10_06_45.json\n",
      "data_files/raw/MC_results6_Copper_Wat/MC_results6_Copper_Wat_17\\11-01_24_2023_10_14_07.json\n",
      "data_files/raw/MC_results6_Copper_Wat/MC_results6_Copper_Wat_18\\33-01_24_2023_10_24_02.json\n",
      "data_files/raw/MC_results6_Copper_Wat/MC_results6_Copper_Wat_19\\8-01_24_2023_10_30_10.json\n",
      "data_files/raw/MC_results6_Copper_Wat/MC_results6_Copper_Wat_2\\1-01_24_2023_08_07_54.json\n",
      "data_files/raw/MC_results6_Copper_Wat/MC_results6_Copper_Wat_20\\2-01_24_2023_10_35_01.json\n",
      "data_files/raw/MC_results6_Copper_Wat/MC_results6_Copper_Wat_21\\2-01_24_2023_10_39_58.json\n",
      "data_files/raw/MC_results6_Copper_Wat/MC_results6_Copper_Wat_22\\15-01_24_2023_10_47_24.json\n",
      "data_files/raw/MC_results6_Copper_Wat/MC_results6_Copper_Wat_23\\11-01_24_2023_10_54_14.json\n",
      "data_files/raw/MC_results6_Copper_Wat/MC_results6_Copper_Wat_24\\20-01_24_2023_11_01_44.json\n",
      "data_files/raw/MC_results6_Copper_Wat/MC_results6_Copper_Wat_25\\9-01_24_2023_11_07_31.json\n",
      "data_files/raw/MC_results6_Copper_Wat/MC_results6_Copper_Wat_26\\10-01_24_2023_11_14_41.json\n",
      "data_files/raw/MC_results6_Copper_Wat/MC_results6_Copper_Wat_27\\5-01_24_2023_11_20_08.json\n",
      "data_files/raw/MC_results6_Copper_Wat/MC_results6_Copper_Wat_28\\27-01_24_2023_11_29_34.json\n",
      "data_files/raw/MC_results6_Copper_Wat/MC_results6_Copper_Wat_29\\12-01_24_2023_11_36_13.json\n",
      "data_files/raw/MC_results6_Copper_Wat/MC_results6_Copper_Wat_3\\36-01_24_2023_08_18_34.json\n",
      "data_files/raw/MC_results6_Copper_Wat/MC_results6_Copper_Wat_30\\17-01_24_2023_11_43_53.json\n",
      "data_files/raw/MC_results6_Copper_Wat/MC_results6_Copper_Wat_4\\46-01_24_2023_08_31_08.json\n",
      "data_files/raw/MC_results6_Copper_Wat/MC_results6_Copper_Wat_5\\23-01_24_2023_08_40_26.json\n",
      "data_files/raw/MC_results6_Copper_Wat/MC_results6_Copper_Wat_6\\60-01_24_2023_08_53_07.json\n",
      "data_files/raw/MC_results6_Copper_Wat/MC_results6_Copper_Wat_7\\25-01_24_2023_09_02_57.json\n",
      "data_files/raw/MC_results6_Copper_Wat/MC_results6_Copper_Wat_8\\10-01_24_2023_09_09_32.json\n",
      "data_files/raw/MC_results6_Copper_Wat/MC_results6_Copper_Wat_9\\10-01_24_2023_09_15_01.json\n",
      "data_files/raw/MC_results6_Copper_Wat_Ag_50\n",
      "data_files/raw/MC_results6_Copper_Wat_Ag_50/MC_results6_Copper_Wat_Ag_50_1\\7-01_24_2023_11_51_30.json\n",
      "data_files/raw/MC_results6_Copper_Wat_Ag_50/MC_results6_Copper_Wat_Ag_50_10\\20-01_24_2023_13_38_06.json\n",
      "data_files/raw/MC_results6_Copper_Wat_Ag_50/MC_results6_Copper_Wat_Ag_50_11\\17-01_24_2023_13_51_08.json\n",
      "data_files/raw/MC_results6_Copper_Wat_Ag_50/MC_results6_Copper_Wat_Ag_50_12\\11-01_24_2023_14_01_58.json\n",
      "data_files/raw/MC_results6_Copper_Wat_Ag_50/MC_results6_Copper_Wat_Ag_50_13\\2-01_24_2023_14_09_37.json\n",
      "data_files/raw/MC_results6_Copper_Wat_Ag_50/MC_results6_Copper_Wat_Ag_50_14\\22-01_24_2023_14_21_55.json\n",
      "data_files/raw/MC_results6_Copper_Wat_Ag_50/MC_results6_Copper_Wat_Ag_50_15\\7-01_24_2023_14_32_01.json\n",
      "data_files/raw/MC_results6_Copper_Wat_Ag_50/MC_results6_Copper_Wat_Ag_50_16\\6-01_24_2023_14_42_35.json\n",
      "data_files/raw/MC_results6_Copper_Wat_Ag_50/MC_results6_Copper_Wat_Ag_50_17\\1-01_24_2023_14_50_59.json\n",
      "data_files/raw/MC_results6_Copper_Wat_Ag_50/MC_results6_Copper_Wat_Ag_50_18\\7-01_24_2023_14_59_52.json\n",
      "data_files/raw/MC_results6_Copper_Wat_Ag_50/MC_results6_Copper_Wat_Ag_50_19\\24-01_24_2023_15_14_22.json\n",
      "data_files/raw/MC_results6_Copper_Wat_Ag_50/MC_results6_Copper_Wat_Ag_50_2\\21-01_24_2023_12_04_20.json\n",
      "data_files/raw/MC_results6_Copper_Wat_Ag_50/MC_results6_Copper_Wat_Ag_50_20\\11-01_24_2023_15_23_20.json\n",
      "data_files/raw/MC_results6_Copper_Wat_Ag_50/MC_results6_Copper_Wat_Ag_50_21\\11-01_24_2023_15_34_36.json\n",
      "data_files/raw/MC_results6_Copper_Wat_Ag_50/MC_results6_Copper_Wat_Ag_50_22\\34-01_24_2023_15_53_33.json\n",
      "data_files/raw/MC_results6_Copper_Wat_Ag_50/MC_results6_Copper_Wat_Ag_50_23\\4-01_24_2023_16_02_58.json\n",
      "data_files/raw/MC_results6_Copper_Wat_Ag_50/MC_results6_Copper_Wat_Ag_50_24\\6-01_24_2023_16_11_03.json\n",
      "data_files/raw/MC_results6_Copper_Wat_Ag_50/MC_results6_Copper_Wat_Ag_50_25\\7-01_24_2023_16_19_53.json\n",
      "data_files/raw/MC_results6_Copper_Wat_Ag_50/MC_results6_Copper_Wat_Ag_50_26\\1-01_24_2023_16_27_46.json\n",
      "data_files/raw/MC_results6_Copper_Wat_Ag_50/MC_results6_Copper_Wat_Ag_50_27\\3-01_24_2023_16_36_48.json\n",
      "data_files/raw/MC_results6_Copper_Wat_Ag_50/MC_results6_Copper_Wat_Ag_50_28\\4-01_24_2023_16_47_30.json\n",
      "data_files/raw/MC_results6_Copper_Wat_Ag_50/MC_results6_Copper_Wat_Ag_50_29\\17-01_24_2023_17_01_40.json\n",
      "data_files/raw/MC_results6_Copper_Wat_Ag_50/MC_results6_Copper_Wat_Ag_50_3\\1-01_24_2023_12_13_39.json\n",
      "data_files/raw/MC_results6_Copper_Wat_Ag_50/MC_results6_Copper_Wat_Ag_50_30\\28-01_24_2023_17_15_27.json\n",
      "data_files/raw/MC_results6_Copper_Wat_Ag_50/MC_results6_Copper_Wat_Ag_50_4\\29-01_24_2023_12_29_06.json\n",
      "data_files/raw/MC_results6_Copper_Wat_Ag_50/MC_results6_Copper_Wat_Ag_50_5\\12-01_24_2023_12_40_31.json\n",
      "data_files/raw/MC_results6_Copper_Wat_Ag_50/MC_results6_Copper_Wat_Ag_50_6\\5-01_24_2023_12_50_31.json\n",
      "data_files/raw/MC_results6_Copper_Wat_Ag_50/MC_results6_Copper_Wat_Ag_50_7\\8-01_24_2023_13_00_12.json\n",
      "data_files/raw/MC_results6_Copper_Wat_Ag_50/MC_results6_Copper_Wat_Ag_50_8\\6-01_24_2023_13_09_36.json\n",
      "data_files/raw/MC_results6_Copper_Wat_Ag_50/MC_results6_Copper_Wat_Ag_50_9\\31-01_24_2023_13_23_56.json\n",
      "data_files/raw/MC_results6_Copper_Wat_Card_2\n",
      "data_files/raw/MC_results6_Copper_Wat_Card_2/MC_results6_Copper_Wat_Card_2_1\\48-01_24_2023_17_29_52.json\n",
      "data_files/raw/MC_results6_Copper_Wat_Card_2/MC_results6_Copper_Wat_Card_2_10\\34-01_24_2023_18_25_28.json\n",
      "data_files/raw/MC_results6_Copper_Wat_Card_2/MC_results6_Copper_Wat_Card_2_11\\12-01_24_2023_18_31_46.json\n",
      "data_files/raw/MC_results6_Copper_Wat_Card_2/MC_results6_Copper_Wat_Card_2_12\\81-01_24_2023_18_46_23.json\n",
      "data_files/raw/MC_results6_Copper_Wat_Card_2/MC_results6_Copper_Wat_Card_2_13\\3-01_24_2023_18_49_33.json\n",
      "data_files/raw/MC_results6_Copper_Wat_Card_2/MC_results6_Copper_Wat_Card_2_14\\39-01_24_2023_18_59_11.json\n",
      "data_files/raw/MC_results6_Copper_Wat_Card_2/MC_results6_Copper_Wat_Card_2_15\\18-01_24_2023_19_05_29.json\n",
      "data_files/raw/MC_results6_Copper_Wat_Card_2/MC_results6_Copper_Wat_Card_2_16\\5-01_24_2023_19_10_11.json\n",
      "data_files/raw/MC_results6_Copper_Wat_Card_2/MC_results6_Copper_Wat_Card_2_17\\23-01_24_2023_19_17_04.json\n",
      "data_files/raw/MC_results6_Copper_Wat_Card_2/MC_results6_Copper_Wat_Card_2_18\\5-01_24_2023_19_22_10.json\n",
      "data_files/raw/MC_results6_Copper_Wat_Card_2/MC_results6_Copper_Wat_Card_2_19\\7-01_24_2023_19_26_51.json\n",
      "data_files/raw/MC_results6_Copper_Wat_Card_2/MC_results6_Copper_Wat_Card_2_2\\19-01_24_2023_17_36_11.json\n",
      "data_files/raw/MC_results6_Copper_Wat_Card_2/MC_results6_Copper_Wat_Card_2_20\\21-01_24_2023_19_33_57.json\n",
      "data_files/raw/MC_results6_Copper_Wat_Card_2/MC_results6_Copper_Wat_Card_2_21\\35-01_24_2023_19_42_16.json\n",
      "data_files/raw/MC_results6_Copper_Wat_Card_2/MC_results6_Copper_Wat_Card_2_22\\9-01_24_2023_19_47_48.json\n",
      "data_files/raw/MC_results6_Copper_Wat_Card_2/MC_results6_Copper_Wat_Card_2_23\\3-01_24_2023_19_52_56.json\n",
      "data_files/raw/MC_results6_Copper_Wat_Card_2/MC_results6_Copper_Wat_Card_2_24\\13-01_24_2023_19_58_23.json\n",
      "data_files/raw/MC_results6_Copper_Wat_Card_2/MC_results6_Copper_Wat_Card_2_25\\3-01_24_2023_20_02_58.json\n",
      "data_files/raw/MC_results6_Copper_Wat_Card_2/MC_results6_Copper_Wat_Card_2_26\\11-01_24_2023_20_08_15.json\n",
      "data_files/raw/MC_results6_Copper_Wat_Card_2/MC_results6_Copper_Wat_Card_2_27\\12-01_24_2023_20_13_56.json\n",
      "data_files/raw/MC_results6_Copper_Wat_Card_2/MC_results6_Copper_Wat_Card_2_28\\36-01_24_2023_20_22_13.json\n",
      "data_files/raw/MC_results6_Copper_Wat_Card_2/MC_results6_Copper_Wat_Card_2_29\\26-01_24_2023_20_29_01.json\n",
      "data_files/raw/MC_results6_Copper_Wat_Card_2/MC_results6_Copper_Wat_Card_2_3\\9-01_24_2023_17_41_47.json\n",
      "data_files/raw/MC_results6_Copper_Wat_Card_2/MC_results6_Copper_Wat_Card_2_30\\19-01_24_2023_20_35_22.json\n",
      "data_files/raw/MC_results6_Copper_Wat_Card_2/MC_results6_Copper_Wat_Card_2_4\\1-01_24_2023_17_45_53.json\n",
      "data_files/raw/MC_results6_Copper_Wat_Card_2/MC_results6_Copper_Wat_Card_2_5\\35-01_24_2023_17_54_55.json\n",
      "data_files/raw/MC_results6_Copper_Wat_Card_2/MC_results6_Copper_Wat_Card_2_6\\15-01_24_2023_18_01_32.json\n",
      "data_files/raw/MC_results6_Copper_Wat_Card_2/MC_results6_Copper_Wat_Card_2_7\\19-01_24_2023_18_08_32.json\n",
      "data_files/raw/MC_results6_Copper_Wat_Card_2/MC_results6_Copper_Wat_Card_2_8\\1-01_24_2023_18_12_30.json\n",
      "data_files/raw/MC_results6_Copper_Wat_Card_2/MC_results6_Copper_Wat_Card_2_9\\5-01_24_2023_18_17_15.json\n",
      "data_files/raw/MC_results6_Copper_Wat_It_50\n",
      "data_files/raw/MC_results6_Copper_Wat_It_50/MC_results6_Copper_Wat_It_50_1\\27-01_24_2023_20_41_28.json\n",
      "data_files/raw/MC_results6_Copper_Wat_It_50/MC_results6_Copper_Wat_It_50_10\\24-01_24_2023_21_15_22.json\n",
      "data_files/raw/MC_results6_Copper_Wat_It_50/MC_results6_Copper_Wat_It_50_11\\27-01_24_2023_21_20_31.json\n",
      "data_files/raw/MC_results6_Copper_Wat_It_50/MC_results6_Copper_Wat_It_50_12\\6-01_24_2023_21_23_35.json\n",
      "data_files/raw/MC_results6_Copper_Wat_It_50/MC_results6_Copper_Wat_It_50_13\\17-01_24_2023_21_27_32.json\n",
      "data_files/raw/MC_results6_Copper_Wat_It_50/MC_results6_Copper_Wat_It_50_14\\13-01_24_2023_21_31_12.json\n",
      "data_files/raw/MC_results6_Copper_Wat_It_50/MC_results6_Copper_Wat_It_50_15\\1-01_24_2023_21_33_44.json\n",
      "data_files/raw/MC_results6_Copper_Wat_It_50/MC_results6_Copper_Wat_It_50_16\\18-01_24_2023_21_37_16.json\n",
      "data_files/raw/MC_results6_Copper_Wat_It_50/MC_results6_Copper_Wat_It_50_17\\31-01_24_2023_21_42_10.json\n",
      "data_files/raw/MC_results6_Copper_Wat_It_50/MC_results6_Copper_Wat_It_50_18\\11-01_24_2023_21_45_34.json\n",
      "data_files/raw/MC_results6_Copper_Wat_It_50/MC_results6_Copper_Wat_It_50_19\\20-01_24_2023_21_49_40.json\n",
      "data_files/raw/MC_results6_Copper_Wat_It_50/MC_results6_Copper_Wat_It_50_2\\9-01_24_2023_20_44_34.json\n",
      "data_files/raw/MC_results6_Copper_Wat_It_50/MC_results6_Copper_Wat_It_50_20\\27-01_24_2023_21_53_53.json\n",
      "data_files/raw/MC_results6_Copper_Wat_It_50/MC_results6_Copper_Wat_It_50_21\\4-01_24_2023_21_56_55.json\n",
      "data_files/raw/MC_results6_Copper_Wat_It_50/MC_results6_Copper_Wat_It_50_22\\20-01_24_2023_22_01_32.json\n",
      "data_files/raw/MC_results6_Copper_Wat_It_50/MC_results6_Copper_Wat_It_50_23\\6-01_24_2023_22_04_59.json\n",
      "data_files/raw/MC_results6_Copper_Wat_It_50/MC_results6_Copper_Wat_It_50_24\\11-01_24_2023_22_07_52.json\n",
      "data_files/raw/MC_results6_Copper_Wat_It_50/MC_results6_Copper_Wat_It_50_25\\29-01_24_2023_22_13_14.json\n",
      "data_files/raw/MC_results6_Copper_Wat_It_50/MC_results6_Copper_Wat_It_50_26\\10-01_24_2023_22_16_45.json\n",
      "data_files/raw/MC_results6_Copper_Wat_It_50/MC_results6_Copper_Wat_It_50_27\\22-01_24_2023_22_21_06.json\n",
      "data_files/raw/MC_results6_Copper_Wat_It_50/MC_results6_Copper_Wat_It_50_28\\36-01_24_2023_22_25_53.json\n",
      "data_files/raw/MC_results6_Copper_Wat_It_50/MC_results6_Copper_Wat_It_50_29\\7-01_24_2023_22_28_56.json\n",
      "data_files/raw/MC_results6_Copper_Wat_It_50/MC_results6_Copper_Wat_It_50_3\\4-01_24_2023_20_47_31.json\n",
      "data_files/raw/MC_results6_Copper_Wat_It_50/MC_results6_Copper_Wat_It_50_30\\55-01_24_2023_22_35_53.json\n",
      "data_files/raw/MC_results6_Copper_Wat_It_50/MC_results6_Copper_Wat_It_50_4\\26-01_24_2023_20_52_14.json\n",
      "data_files/raw/MC_results6_Copper_Wat_It_50/MC_results6_Copper_Wat_It_50_5\\37-01_24_2023_20_57_42.json\n",
      "data_files/raw/MC_results6_Copper_Wat_It_50/MC_results6_Copper_Wat_It_50_6\\2-01_24_2023_21_00_15.json\n",
      "data_files/raw/MC_results6_Copper_Wat_It_50/MC_results6_Copper_Wat_It_50_7\\4-01_24_2023_21_02_43.json\n",
      "data_files/raw/MC_results6_Copper_Wat_It_50/MC_results6_Copper_Wat_It_50_8\\8-01_24_2023_21_05_41.json\n",
      "data_files/raw/MC_results6_Copper_Wat_It_50/MC_results6_Copper_Wat_It_50_9\\34-01_24_2023_21_10_57.json\n",
      "data_files/raw/MC_results6_Copper_Wat_Stag_10\n",
      "data_files/raw/MC_results6_Copper_Wat_Stag_10/MC_results6_Copper_Wat_Stag_10_1\\7-01_24_2023_22_39_35.json\n",
      "data_files/raw/MC_results6_Copper_Wat_Stag_10/MC_results6_Copper_Wat_Stag_10_10\\13-01_25_2023_00_32_08.json\n",
      "data_files/raw/MC_results6_Copper_Wat_Stag_10/MC_results6_Copper_Wat_Stag_10_11\\3-01_25_2023_00_34_56.json\n",
      "data_files/raw/MC_results6_Copper_Wat_Stag_10/MC_results6_Copper_Wat_Stag_10_12\\5-01_25_2023_00_37_24.json\n",
      "data_files/raw/MC_results6_Copper_Wat_Stag_10/MC_results6_Copper_Wat_Stag_10_13\\1-01_25_2023_00_38_59.json\n",
      "data_files/raw/MC_results6_Copper_Wat_Stag_10/MC_results6_Copper_Wat_Stag_10_14\\11-01_25_2023_00_42_10.json\n",
      "data_files/raw/MC_results6_Copper_Wat_Stag_10/MC_results6_Copper_Wat_Stag_10_15\\7-01_25_2023_00_45_35.json\n",
      "data_files/raw/MC_results6_Copper_Wat_Stag_10/MC_results6_Copper_Wat_Stag_10_16\\1-01_25_2023_00_47_42.json\n",
      "data_files/raw/MC_results6_Copper_Wat_Stag_10/MC_results6_Copper_Wat_Stag_10_17\\3-01_25_2023_00_50_16.json\n",
      "data_files/raw/MC_results6_Copper_Wat_Stag_10/MC_results6_Copper_Wat_Stag_10_18\\20-01_25_2023_00_55_47.json\n",
      "data_files/raw/MC_results6_Copper_Wat_Stag_10/MC_results6_Copper_Wat_Stag_10_19\\5-01_25_2023_00_58_48.json\n",
      "data_files/raw/MC_results6_Copper_Wat_Stag_10/MC_results6_Copper_Wat_Stag_10_2\\13-01_24_2023_22_43_10.json\n",
      "data_files/raw/MC_results6_Copper_Wat_Stag_10/MC_results6_Copper_Wat_Stag_10_20\\7-01_25_2023_01_01_56.json\n",
      "data_files/raw/MC_results6_Copper_Wat_Stag_10/MC_results6_Copper_Wat_Stag_10_21\\10-01_25_2023_01_05_19.json\n",
      "data_files/raw/MC_results6_Copper_Wat_Stag_10/MC_results6_Copper_Wat_Stag_10_22\\9-01_25_2023_01_08_35.json\n",
      "data_files/raw/MC_results6_Copper_Wat_Stag_10/MC_results6_Copper_Wat_Stag_10_23\\8-01_25_2023_01_11_41.json\n",
      "data_files/raw/MC_results6_Copper_Wat_Stag_10/MC_results6_Copper_Wat_Stag_10_24\\5-01_25_2023_01_14_42.json\n",
      "data_files/raw/MC_results6_Copper_Wat_Stag_10/MC_results6_Copper_Wat_Stag_10_25\\18-01_25_2023_01_51_33.json\n",
      "data_files/raw/MC_results6_Copper_Wat_Stag_10/MC_results6_Copper_Wat_Stag_10_26\\17-01_25_2023_01_56_24.json\n",
      "data_files/raw/MC_results6_Copper_Wat_Stag_10/MC_results6_Copper_Wat_Stag_10_27\\7-01_25_2023_01_58_59.json\n",
      "data_files/raw/MC_results6_Copper_Wat_Stag_10/MC_results6_Copper_Wat_Stag_10_28\\11-01_25_2023_02_02_10.json\n",
      "data_files/raw/MC_results6_Copper_Wat_Stag_10/MC_results6_Copper_Wat_Stag_10_29\\20-01_25_2023_02_07_05.json\n",
      "data_files/raw/MC_results6_Copper_Wat_Stag_10/MC_results6_Copper_Wat_Stag_10_3\\10-01_24_2023_22_47_14.json\n",
      "data_files/raw/MC_results6_Copper_Wat_Stag_10/MC_results6_Copper_Wat_Stag_10_30\\7-01_25_2023_02_10_44.json\n",
      "data_files/raw/MC_results6_Copper_Wat_Stag_10/MC_results6_Copper_Wat_Stag_10_4\\11-01_25_2023_00_12_42.json\n",
      "data_files/raw/MC_results6_Copper_Wat_Stag_10/MC_results6_Copper_Wat_Stag_10_5\\4-01_25_2023_00_15_01.json\n",
      "data_files/raw/MC_results6_Copper_Wat_Stag_10/MC_results6_Copper_Wat_Stag_10_6\\8-01_25_2023_00_17_46.json\n",
      "data_files/raw/MC_results6_Copper_Wat_Stag_10/MC_results6_Copper_Wat_Stag_10_7\\15-01_25_2023_00_22_00.json\n",
      "data_files/raw/MC_results6_Copper_Wat_Stag_10/MC_results6_Copper_Wat_Stag_10_8\\5-01_25_2023_00_24_37.json\n",
      "data_files/raw/MC_results6_Copper_Wat_Stag_10/MC_results6_Copper_Wat_Stag_10_9\\7-01_25_2023_00_27_35.json\n",
      "data_files/raw/MC_results6_Graphite_Air\n",
      "data_files/raw/MC_results6_Graphite_Air/MC_results6_Graphite_Air_1\\37-01_24_2023_08_05_33.json\n",
      "data_files/raw/MC_results6_Graphite_Air/MC_results6_Graphite_Air_10\\9-01_24_2023_09_05_43.json\n",
      "data_files/raw/MC_results6_Graphite_Air/MC_results6_Graphite_Air_11\\14-01_24_2023_09_13_26.json\n",
      "data_files/raw/MC_results6_Graphite_Air/MC_results6_Graphite_Air_12\\5-01_24_2023_09_18_28.json\n",
      "data_files/raw/MC_results6_Graphite_Air/MC_results6_Graphite_Air_13\\6-01_24_2023_09_23_45.json\n",
      "data_files/raw/MC_results6_Graphite_Air/MC_results6_Graphite_Air_14\\10-01_24_2023_09_29_45.json\n",
      "data_files/raw/MC_results6_Graphite_Air/MC_results6_Graphite_Air_15\\17-01_24_2023_09_37_43.json\n",
      "data_files/raw/MC_results6_Graphite_Air/MC_results6_Graphite_Air_16\\11-01_24_2023_09_44_17.json\n",
      "data_files/raw/MC_results6_Graphite_Air/MC_results6_Graphite_Air_17\\18-01_24_2023_09_51_58.json\n",
      "data_files/raw/MC_results6_Graphite_Air/MC_results6_Graphite_Air_18\\29-01_24_2023_10_00_11.json\n",
      "data_files/raw/MC_results6_Graphite_Air/MC_results6_Graphite_Air_19\\6-01_24_2023_10_05_53.json\n",
      "data_files/raw/MC_results6_Graphite_Air/MC_results6_Graphite_Air_2\\20-01_24_2023_08_14_11.json\n",
      "data_files/raw/MC_results6_Graphite_Air/MC_results6_Graphite_Air_20\\40-01_24_2023_10_16_36.json\n",
      "data_files/raw/MC_results6_Graphite_Air/MC_results6_Graphite_Air_21\\3-01_24_2023_10_22_02.json\n",
      "data_files/raw/MC_results6_Graphite_Air/MC_results6_Graphite_Air_22\\12-01_24_2023_10_28_24.json\n",
      "data_files/raw/MC_results6_Graphite_Air/MC_results6_Graphite_Air_23\\21-01_24_2023_10_37_31.json\n",
      "data_files/raw/MC_results6_Graphite_Air/MC_results6_Graphite_Air_24\\25-01_24_2023_10_45_24.json\n",
      "data_files/raw/MC_results6_Graphite_Air/MC_results6_Graphite_Air_25\\7-01_24_2023_10_51_30.json\n",
      "data_files/raw/MC_results6_Graphite_Air/MC_results6_Graphite_Air_26\\20-01_24_2023_11_00_22.json\n",
      "data_files/raw/MC_results6_Graphite_Air/MC_results6_Graphite_Air_27\\3-01_24_2023_11_07_00.json\n",
      "data_files/raw/MC_results6_Graphite_Air/MC_results6_Graphite_Air_28\\3-01_24_2023_11_12_54.json\n",
      "data_files/raw/MC_results6_Graphite_Air/MC_results6_Graphite_Air_29\\6-01_24_2023_11_18_45.json\n",
      "data_files/raw/MC_results6_Graphite_Air/MC_results6_Graphite_Air_3\\8-01_24_2023_08_21_42.json\n",
      "data_files/raw/MC_results6_Graphite_Air/MC_results6_Graphite_Air_30\\4-01_24_2023_11_24_29.json\n",
      "data_files/raw/MC_results6_Graphite_Air/MC_results6_Graphite_Air_4\\2-01_24_2023_08_27_36.json\n",
      "data_files/raw/MC_results6_Graphite_Air/MC_results6_Graphite_Air_5\\4-01_24_2023_08_33_09.json\n",
      "data_files/raw/MC_results6_Graphite_Air/MC_results6_Graphite_Air_6\\8-01_24_2023_08_40_10.json\n",
      "data_files/raw/MC_results6_Graphite_Air/MC_results6_Graphite_Air_7\\5-01_24_2023_08_47_04.json\n",
      "data_files/raw/MC_results6_Graphite_Air/MC_results6_Graphite_Air_8\\11-01_24_2023_08_55_16.json\n",
      "data_files/raw/MC_results6_Graphite_Air/MC_results6_Graphite_Air_9\\3-01_24_2023_09_00_13.json\n",
      "data_files/raw/MC_results6_Graphite_Air_Ag_50\n",
      "data_files/raw/MC_results6_Graphite_Air_Ag_50/MC_results6_Graphite_Air_Ag_50_1\\26-01_24_2023_11_35_34.json\n",
      "data_files/raw/MC_results6_Graphite_Air_Ag_50/MC_results6_Graphite_Air_Ag_50_10\\10-01_24_2023_13_07_29.json\n",
      "data_files/raw/MC_results6_Graphite_Air_Ag_50/MC_results6_Graphite_Air_Ag_50_11\\5-01_24_2023_13_16_28.json\n",
      "data_files/raw/MC_results6_Graphite_Air_Ag_50/MC_results6_Graphite_Air_Ag_50_12\\12-01_24_2023_13_29_11.json\n",
      "data_files/raw/MC_results6_Graphite_Air_Ag_50/MC_results6_Graphite_Air_Ag_50_13\\18-01_24_2023_13_41_52.json\n",
      "data_files/raw/MC_results6_Graphite_Air_Ag_50/MC_results6_Graphite_Air_Ag_50_14\\6-01_24_2023_13_51_05.json\n",
      "data_files/raw/MC_results6_Graphite_Air_Ag_50/MC_results6_Graphite_Air_Ag_50_15\\4-01_24_2023_14_00_04.json\n",
      "data_files/raw/MC_results6_Graphite_Air_Ag_50/MC_results6_Graphite_Air_Ag_50_16\\3-01_24_2023_14_07_50.json\n",
      "data_files/raw/MC_results6_Graphite_Air_Ag_50/MC_results6_Graphite_Air_Ag_50_17\\1-01_24_2023_14_17_09.json\n",
      "data_files/raw/MC_results6_Graphite_Air_Ag_50/MC_results6_Graphite_Air_Ag_50_18\\7-01_24_2023_14_25_51.json\n",
      "data_files/raw/MC_results6_Graphite_Air_Ag_50/MC_results6_Graphite_Air_Ag_50_19\\10-01_24_2023_14_36_43.json\n",
      "data_files/raw/MC_results6_Graphite_Air_Ag_50/MC_results6_Graphite_Air_Ag_50_2\\5-01_24_2023_11_44_41.json\n",
      "data_files/raw/MC_results6_Graphite_Air_Ag_50/MC_results6_Graphite_Air_Ag_50_20\\12-01_24_2023_14_45_39.json\n",
      "data_files/raw/MC_results6_Graphite_Air_Ag_50/MC_results6_Graphite_Air_Ag_50_21\\12-01_24_2023_14_55_03.json\n",
      "data_files/raw/MC_results6_Graphite_Air_Ag_50/MC_results6_Graphite_Air_Ag_50_22\\8-01_24_2023_15_04_54.json\n",
      "data_files/raw/MC_results6_Graphite_Air_Ag_50/MC_results6_Graphite_Air_Ag_50_23\\1-01_24_2023_15_11_56.json\n",
      "data_files/raw/MC_results6_Graphite_Air_Ag_50/MC_results6_Graphite_Air_Ag_50_24\\23-01_24_2023_15_23_45.json\n",
      "data_files/raw/MC_results6_Graphite_Air_Ag_50/MC_results6_Graphite_Air_Ag_50_25\\4-01_24_2023_15_33_20.json\n",
      "data_files/raw/MC_results6_Graphite_Air_Ag_50/MC_results6_Graphite_Air_Ag_50_26\\36-01_24_2023_15_48_36.json\n",
      "data_files/raw/MC_results6_Graphite_Air_Ag_50/MC_results6_Graphite_Air_Ag_50_27\\1-01_24_2023_15_55_07.json\n",
      "data_files/raw/MC_results6_Graphite_Air_Ag_50/MC_results6_Graphite_Air_Ag_50_28\\10-01_24_2023_16_07_04.json\n",
      "data_files/raw/MC_results6_Graphite_Air_Ag_50/MC_results6_Graphite_Air_Ag_50_29\\16-01_24_2023_16_18_20.json\n",
      "data_files/raw/MC_results6_Graphite_Air_Ag_50/MC_results6_Graphite_Air_Ag_50_3\\13-01_24_2023_11_54_37.json\n",
      "data_files/raw/MC_results6_Graphite_Air_Ag_50/MC_results6_Graphite_Air_Ag_50_30\\6-01_24_2023_16_28_16.json\n",
      "data_files/raw/MC_results6_Graphite_Air_Ag_50/MC_results6_Graphite_Air_Ag_50_4\\18-01_24_2023_12_06_16.json\n",
      "data_files/raw/MC_results6_Graphite_Air_Ag_50/MC_results6_Graphite_Air_Ag_50_5\\7-01_24_2023_12_14_59.json\n",
      "data_files/raw/MC_results6_Graphite_Air_Ag_50/MC_results6_Graphite_Air_Ag_50_6\\1-01_24_2023_12_23_59.json\n",
      "data_files/raw/MC_results6_Graphite_Air_Ag_50/MC_results6_Graphite_Air_Ag_50_7\\7-01_24_2023_12_34_53.json\n",
      "data_files/raw/MC_results6_Graphite_Air_Ag_50/MC_results6_Graphite_Air_Ag_50_8\\10-01_24_2023_12_45_15.json\n",
      "data_files/raw/MC_results6_Graphite_Air_Ag_50/MC_results6_Graphite_Air_Ag_50_9\\11-01_24_2023_12_56_04.json\n",
      "data_files/raw/MC_results6_Graphite_Air_Card_2\n",
      "data_files/raw/MC_results6_Graphite_Air_Card_2/MC_results6_Graphite_Air_Card_2_1\\3-01_24_2023_16_36_58.json\n",
      "data_files/raw/MC_results6_Graphite_Air_Card_2/MC_results6_Graphite_Air_Card_2_10\\12-01_24_2023_17_33_24.json\n",
      "data_files/raw/MC_results6_Graphite_Air_Card_2/MC_results6_Graphite_Air_Card_2_11\\39-01_24_2023_17_41_38.json\n",
      "data_files/raw/MC_results6_Graphite_Air_Card_2/MC_results6_Graphite_Air_Card_2_12\\10-01_24_2023_17_46_53.json\n",
      "data_files/raw/MC_results6_Graphite_Air_Card_2/MC_results6_Graphite_Air_Card_2_13\\21-01_24_2023_17_53_00.json\n",
      "data_files/raw/MC_results6_Graphite_Air_Card_2/MC_results6_Graphite_Air_Card_2_14\\12-01_24_2023_17_58_26.json\n",
      "data_files/raw/MC_results6_Graphite_Air_Card_2/MC_results6_Graphite_Air_Card_2_15\\1-01_24_2023_18_01_57.json\n",
      "data_files/raw/MC_results6_Graphite_Air_Card_2/MC_results6_Graphite_Air_Card_2_16\\21-01_24_2023_18_08_25.json\n",
      "data_files/raw/MC_results6_Graphite_Air_Card_2/MC_results6_Graphite_Air_Card_2_17\\15-01_24_2023_18_14_25.json\n",
      "data_files/raw/MC_results6_Graphite_Air_Card_2/MC_results6_Graphite_Air_Card_2_18\\6-01_24_2023_18_18_36.json\n",
      "data_files/raw/MC_results6_Graphite_Air_Card_2/MC_results6_Graphite_Air_Card_2_19\\22-01_24_2023_18_24_53.json\n",
      "data_files/raw/MC_results6_Graphite_Air_Card_2/MC_results6_Graphite_Air_Card_2_2\\13-01_24_2023_16_42_19.json\n",
      "data_files/raw/MC_results6_Graphite_Air_Card_2/MC_results6_Graphite_Air_Card_2_20\\6-01_24_2023_18_29_21.json\n",
      "data_files/raw/MC_results6_Graphite_Air_Card_2/MC_results6_Graphite_Air_Card_2_21\\31-01_24_2023_18_36_50.json\n",
      "data_files/raw/MC_results6_Graphite_Air_Card_2/MC_results6_Graphite_Air_Card_2_22\\44-01_24_2023_18_45_52.json\n",
      "data_files/raw/MC_results6_Graphite_Air_Card_2/MC_results6_Graphite_Air_Card_2_23\\11-01_24_2023_18_50_50.json\n",
      "data_files/raw/MC_results6_Graphite_Air_Card_2/MC_results6_Graphite_Air_Card_2_24\\40-01_24_2023_18_59_03.json\n",
      "data_files/raw/MC_results6_Graphite_Air_Card_2/MC_results6_Graphite_Air_Card_2_25\\22-01_24_2023_19_04_48.json\n",
      "data_files/raw/MC_results6_Graphite_Air_Card_2/MC_results6_Graphite_Air_Card_2_26\\5-01_24_2023_19_09_24.json\n",
      "data_files/raw/MC_results6_Graphite_Air_Card_2/MC_results6_Graphite_Air_Card_2_27\\52-01_24_2023_19_19_09.json\n",
      "data_files/raw/MC_results6_Graphite_Air_Card_2/MC_results6_Graphite_Air_Card_2_28\\39-01_24_2023_19_28_00.json\n",
      "data_files/raw/MC_results6_Graphite_Air_Card_2/MC_results6_Graphite_Air_Card_2_29\\22-01_24_2023_19_34_24.json\n",
      "data_files/raw/MC_results6_Graphite_Air_Card_2/MC_results6_Graphite_Air_Card_2_3\\22-01_24_2023_16_49_07.json\n",
      "data_files/raw/MC_results6_Graphite_Air_Card_2/MC_results6_Graphite_Air_Card_2_30\\29-01_24_2023_19_41_30.json\n",
      "data_files/raw/MC_results6_Graphite_Air_Card_2/MC_results6_Graphite_Air_Card_2_4\\1-01_24_2023_16_52_39.json\n",
      "data_files/raw/MC_results6_Graphite_Air_Card_2/MC_results6_Graphite_Air_Card_2_5\\16-01_24_2023_16_58_31.json\n",
      "data_files/raw/MC_results6_Graphite_Air_Card_2/MC_results6_Graphite_Air_Card_2_6\\36-01_24_2023_17_07_17.json\n",
      "data_files/raw/MC_results6_Graphite_Air_Card_2/MC_results6_Graphite_Air_Card_2_7\\39-01_24_2023_17_16_14.json\n",
      "data_files/raw/MC_results6_Graphite_Air_Card_2/MC_results6_Graphite_Air_Card_2_8\\11-01_24_2023_17_21_12.json\n",
      "data_files/raw/MC_results6_Graphite_Air_Card_2/MC_results6_Graphite_Air_Card_2_9\\25-01_24_2023_17_27_52.json\n",
      "data_files/raw/MC_results6_Graphite_Air_It_50\n",
      "data_files/raw/MC_results6_Graphite_Air_It_50/MC_results6_Graphite_Air_It_50_1\\14-01_24_2023_19_47_08.json\n",
      "data_files/raw/MC_results6_Graphite_Air_It_50/MC_results6_Graphite_Air_It_50_10\\33-01_24_2023_20_22_18.json\n",
      "data_files/raw/MC_results6_Graphite_Air_It_50/MC_results6_Graphite_Air_It_50_11\\10-01_24_2023_20_25_23.json\n",
      "data_files/raw/MC_results6_Graphite_Air_It_50/MC_results6_Graphite_Air_It_50_12\\37-01_24_2023_20_31_10.json\n",
      "data_files/raw/MC_results6_Graphite_Air_It_50/MC_results6_Graphite_Air_It_50_13\\38-01_24_2023_20_36_42.json\n",
      "data_files/raw/MC_results6_Graphite_Air_It_50/MC_results6_Graphite_Air_It_50_14\\11-01_24_2023_20_40_11.json\n",
      "data_files/raw/MC_results6_Graphite_Air_It_50/MC_results6_Graphite_Air_It_50_15\\35-01_24_2023_20_46_16.json\n",
      "data_files/raw/MC_results6_Graphite_Air_It_50/MC_results6_Graphite_Air_It_50_16\\6-01_24_2023_20_49_28.json\n",
      "data_files/raw/MC_results6_Graphite_Air_It_50/MC_results6_Graphite_Air_It_50_17\\91-01_24_2023_20_59_20.json\n",
      "data_files/raw/MC_results6_Graphite_Air_It_50/MC_results6_Graphite_Air_It_50_18\\13-01_24_2023_21_01_15.json\n",
      "data_files/raw/MC_results6_Graphite_Air_It_50/MC_results6_Graphite_Air_It_50_19\\35-01_24_2023_21_06_43.json\n",
      "data_files/raw/MC_results6_Graphite_Air_It_50/MC_results6_Graphite_Air_It_50_2\\8-01_24_2023_19_50_16.json\n",
      "data_files/raw/MC_results6_Graphite_Air_It_50/MC_results6_Graphite_Air_It_50_20\\10-01_24_2023_21_10_14.json\n",
      "data_files/raw/MC_results6_Graphite_Air_It_50/MC_results6_Graphite_Air_It_50_21\\22-01_24_2023_21_14_31.json\n",
      "data_files/raw/MC_results6_Graphite_Air_It_50/MC_results6_Graphite_Air_It_50_22\\52-01_24_2023_21_20_56.json\n",
      "data_files/raw/MC_results6_Graphite_Air_It_50/MC_results6_Graphite_Air_It_50_23\\37-01_24_2023_21_26_37.json\n",
      "data_files/raw/MC_results6_Graphite_Air_It_50/MC_results6_Graphite_Air_It_50_24\\37-01_24_2023_21_32_33.json\n",
      "data_files/raw/MC_results6_Graphite_Air_It_50/MC_results6_Graphite_Air_It_50_25\\30-01_24_2023_21_36_55.json\n",
      "data_files/raw/MC_results6_Graphite_Air_It_50/MC_results6_Graphite_Air_It_50_26\\26-01_24_2023_21_41_30.json\n",
      "data_files/raw/MC_results6_Graphite_Air_It_50/MC_results6_Graphite_Air_It_50_27\\17-01_24_2023_21_44_42.json\n",
      "data_files/raw/MC_results6_Graphite_Air_It_50/MC_results6_Graphite_Air_It_50_28\\40-01_24_2023_21_50_29.json\n",
      "data_files/raw/MC_results6_Graphite_Air_It_50/MC_results6_Graphite_Air_It_50_29\\13-01_24_2023_21_54_26.json\n",
      "data_files/raw/MC_results6_Graphite_Air_It_50/MC_results6_Graphite_Air_It_50_3\\6-01_24_2023_19_52_57.json\n",
      "data_files/raw/MC_results6_Graphite_Air_It_50/MC_results6_Graphite_Air_It_50_30\\1-01_24_2023_21_57_05.json\n",
      "data_files/raw/MC_results6_Graphite_Air_It_50/MC_results6_Graphite_Air_It_50_4\\75-01_24_2023_20_00_45.json\n",
      "data_files/raw/MC_results6_Graphite_Air_It_50/MC_results6_Graphite_Air_It_50_5\\8-01_24_2023_20_03_52.json\n",
      "data_files/raw/MC_results6_Graphite_Air_It_50/MC_results6_Graphite_Air_It_50_6\\3-01_24_2023_20_06_28.json\n",
      "data_files/raw/MC_results6_Graphite_Air_It_50/MC_results6_Graphite_Air_It_50_7\\19-01_24_2023_20_10_50.json\n",
      "data_files/raw/MC_results6_Graphite_Air_It_50/MC_results6_Graphite_Air_It_50_8\\8-01_24_2023_20_14_09.json\n",
      "data_files/raw/MC_results6_Graphite_Air_It_50/MC_results6_Graphite_Air_It_50_9\\6-01_24_2023_20_17_05.json\n",
      "data_files/raw/MC_results6_Graphite_Air_Stag_10\n",
      "data_files/raw/MC_results6_Graphite_Air_Stag_10/MC_results6_Graphite_Air_Stag_10_1\\18-01_24_2023_22_02_23.json\n",
      "data_files/raw/MC_results6_Graphite_Air_Stag_10/MC_results6_Graphite_Air_Stag_10_10\\7-01_24_2023_22_35_10.json\n",
      "data_files/raw/MC_results6_Graphite_Air_Stag_10/MC_results6_Graphite_Air_Stag_10_11\\12-01_24_2023_22_39_04.json\n",
      "data_files/raw/MC_results6_Graphite_Air_Stag_10/MC_results6_Graphite_Air_Stag_10_12\\10-01_24_2023_22_42_28.json\n",
      "data_files/raw/MC_results6_Graphite_Air_Stag_10/MC_results6_Graphite_Air_Stag_10_13\\5-01_24_2023_22_45_05.json\n",
      "data_files/raw/MC_results6_Graphite_Air_Stag_10/MC_results6_Graphite_Air_Stag_10_14\\7-01_24_2023_22_48_11.json\n",
      "data_files/raw/MC_results6_Graphite_Air_Stag_10/MC_results6_Graphite_Air_Stag_10_15\\2-01_24_2023_22_50_10.json\n",
      "data_files/raw/MC_results6_Graphite_Air_Stag_10/MC_results6_Graphite_Air_Stag_10_16\\29-01_24_2023_22_55_41.json\n",
      "data_files/raw/MC_results6_Graphite_Air_Stag_10/MC_results6_Graphite_Air_Stag_10_17\\2-01_25_2023_00_11_53.json\n",
      "data_files/raw/MC_results6_Graphite_Air_Stag_10/MC_results6_Graphite_Air_Stag_10_18\\15-01_25_2023_00_16_37.json\n",
      "data_files/raw/MC_results6_Graphite_Air_Stag_10/MC_results6_Graphite_Air_Stag_10_19\\9-01_25_2023_00_19_37.json\n",
      "data_files/raw/MC_results6_Graphite_Air_Stag_10/MC_results6_Graphite_Air_Stag_10_2\\9-01_24_2023_22_05_27.json\n",
      "data_files/raw/MC_results6_Graphite_Air_Stag_10/MC_results6_Graphite_Air_Stag_10_20\\14-01_25_2023_00_23_50.json\n",
      "data_files/raw/MC_results6_Graphite_Air_Stag_10/MC_results6_Graphite_Air_Stag_10_21\\10-01_25_2023_00_35_55.json\n",
      "data_files/raw/MC_results6_Graphite_Air_Stag_10/MC_results6_Graphite_Air_Stag_10_22\\4-01_25_2023_00_37_55.json\n",
      "data_files/raw/MC_results6_Graphite_Air_Stag_10/MC_results6_Graphite_Air_Stag_10_23\\10-01_25_2023_00_41_19.json\n",
      "data_files/raw/MC_results6_Graphite_Air_Stag_10/MC_results6_Graphite_Air_Stag_10_24\\5-01_25_2023_00_43_55.json\n",
      "data_files/raw/MC_results6_Graphite_Air_Stag_10/MC_results6_Graphite_Air_Stag_10_25\\4-01_25_2023_00_45_54.json\n",
      "data_files/raw/MC_results6_Graphite_Air_Stag_10/MC_results6_Graphite_Air_Stag_10_26\\17-01_25_2023_00_50_14.json\n",
      "data_files/raw/MC_results6_Graphite_Air_Stag_10/MC_results6_Graphite_Air_Stag_10_27\\2-01_25_2023_00_52_50.json\n",
      "data_files/raw/MC_results6_Graphite_Air_Stag_10/MC_results6_Graphite_Air_Stag_10_28\\13-01_25_2023_00_56_58.json\n",
      "data_files/raw/MC_results6_Graphite_Air_Stag_10/MC_results6_Graphite_Air_Stag_10_29\\3-01_25_2023_01_00_00.json\n",
      "data_files/raw/MC_results6_Graphite_Air_Stag_10/MC_results6_Graphite_Air_Stag_10_3\\12-01_24_2023_22_09_05.json\n",
      "data_files/raw/MC_results6_Graphite_Air_Stag_10/MC_results6_Graphite_Air_Stag_10_30\\4-01_25_2023_01_03_08.json\n",
      "data_files/raw/MC_results6_Graphite_Air_Stag_10/MC_results6_Graphite_Air_Stag_10_4\\9-01_24_2023_22_12_00.json\n",
      "data_files/raw/MC_results6_Graphite_Air_Stag_10/MC_results6_Graphite_Air_Stag_10_5\\2-01_24_2023_22_14_17.json\n",
      "data_files/raw/MC_results6_Graphite_Air_Stag_10/MC_results6_Graphite_Air_Stag_10_6\\20-01_24_2023_22_19_22.json\n",
      "data_files/raw/MC_results6_Graphite_Air_Stag_10/MC_results6_Graphite_Air_Stag_10_7\\18-01_24_2023_22_24_11.json\n",
      "data_files/raw/MC_results6_Graphite_Air_Stag_10/MC_results6_Graphite_Air_Stag_10_8\\15-01_24_2023_22_27_53.json\n",
      "data_files/raw/MC_results6_Graphite_Air_Stag_10/MC_results6_Graphite_Air_Stag_10_9\\13-01_24_2023_22_32_06.json\n",
      "data_files/raw/MC_results6_Graphite_Wat\n",
      "data_files/raw/MC_results6_Graphite_Wat/MC_results6_Graphite_Wat_1\\34-01_24_2023_08_05_14.json\n",
      "data_files/raw/MC_results6_Graphite_Wat/MC_results6_Graphite_Wat_10\\2-01_24_2023_09_10_16.json\n",
      "data_files/raw/MC_results6_Graphite_Wat/MC_results6_Graphite_Wat_11\\66-01_24_2023_09_24_37.json\n",
      "data_files/raw/MC_results6_Graphite_Wat/MC_results6_Graphite_Wat_12\\32-01_24_2023_09_33_30.json\n",
      "data_files/raw/MC_results6_Graphite_Wat/MC_results6_Graphite_Wat_13\\9-01_24_2023_09_40_05.json\n",
      "data_files/raw/MC_results6_Graphite_Wat/MC_results6_Graphite_Wat_14\\31-01_24_2023_09_51_15.json\n",
      "data_files/raw/MC_results6_Graphite_Wat/MC_results6_Graphite_Wat_15\\26-01_24_2023_10_00_31.json\n",
      "data_files/raw/MC_results6_Graphite_Wat/MC_results6_Graphite_Wat_16\\7-01_24_2023_10_07_27.json\n",
      "data_files/raw/MC_results6_Graphite_Wat/MC_results6_Graphite_Wat_17\\35-01_24_2023_10_17_43.json\n",
      "data_files/raw/MC_results6_Graphite_Wat/MC_results6_Graphite_Wat_18\\4-01_24_2023_10_23_11.json\n",
      "data_files/raw/MC_results6_Graphite_Wat/MC_results6_Graphite_Wat_19\\5-01_24_2023_10_28_31.json\n",
      "data_files/raw/MC_results6_Graphite_Wat/MC_results6_Graphite_Wat_2\\1-01_24_2023_08_10_47.json\n",
      "data_files/raw/MC_results6_Graphite_Wat/MC_results6_Graphite_Wat_20\\35-01_24_2023_10_38_40.json\n",
      "data_files/raw/MC_results6_Graphite_Wat/MC_results6_Graphite_Wat_21\\2-01_24_2023_10_45_00.json\n",
      "data_files/raw/MC_results6_Graphite_Wat/MC_results6_Graphite_Wat_22\\12-01_24_2023_10_52_06.json\n",
      "data_files/raw/MC_results6_Graphite_Wat/MC_results6_Graphite_Wat_23\\65-01_24_2023_11_08_34.json\n",
      "data_files/raw/MC_results6_Graphite_Wat/MC_results6_Graphite_Wat_24\\16-01_24_2023_11_16_35.json\n",
      "data_files/raw/MC_results6_Graphite_Wat/MC_results6_Graphite_Wat_25\\1-01_24_2023_11_21_14.json\n",
      "data_files/raw/MC_results6_Graphite_Wat/MC_results6_Graphite_Wat_26\\6-01_24_2023_11_27_14.json\n",
      "data_files/raw/MC_results6_Graphite_Wat/MC_results6_Graphite_Wat_27\\46-01_24_2023_11_39_10.json\n",
      "data_files/raw/MC_results6_Graphite_Wat/MC_results6_Graphite_Wat_28\\22-01_24_2023_11_47_10.json\n",
      "data_files/raw/MC_results6_Graphite_Wat/MC_results6_Graphite_Wat_29\\35-01_24_2023_11_56_48.json\n",
      "data_files/raw/MC_results6_Graphite_Wat/MC_results6_Graphite_Wat_3\\8-01_24_2023_08_16_42.json\n",
      "data_files/raw/MC_results6_Graphite_Wat/MC_results6_Graphite_Wat_30\\8-01_24_2023_12_02_58.json\n",
      "data_files/raw/MC_results6_Graphite_Wat/MC_results6_Graphite_Wat_4\\30-01_24_2023_08_26_17.json\n",
      "data_files/raw/MC_results6_Graphite_Wat/MC_results6_Graphite_Wat_5\\11-01_24_2023_08_33_25.json\n",
      "data_files/raw/MC_results6_Graphite_Wat/MC_results6_Graphite_Wat_6\\2-01_24_2023_08_38_55.json\n",
      "data_files/raw/MC_results6_Graphite_Wat/MC_results6_Graphite_Wat_7\\21-01_24_2023_08_47_19.json\n",
      "data_files/raw/MC_results6_Graphite_Wat/MC_results6_Graphite_Wat_8\\8-01_24_2023_08_54_20.json\n",
      "data_files/raw/MC_results6_Graphite_Wat/MC_results6_Graphite_Wat_9\\43-01_24_2023_09_05_34.json\n",
      "data_files/raw/MC_results6_Graphite_Wat_Ag_50\n",
      "data_files/raw/MC_results6_Graphite_Wat_Ag_50/MC_results6_Graphite_Wat_Ag_50_1\\7-01_24_2023_12_09_37.json\n",
      "data_files/raw/MC_results6_Graphite_Wat_Ag_50/MC_results6_Graphite_Wat_Ag_50_10\\13-01_24_2023_13_50_46.json\n",
      "data_files/raw/MC_results6_Graphite_Wat_Ag_50/MC_results6_Graphite_Wat_Ag_50_11\\6-01_24_2023_14_00_47.json\n",
      "data_files/raw/MC_results6_Graphite_Wat_Ag_50/MC_results6_Graphite_Wat_Ag_50_12\\16-01_24_2023_14_12_04.json\n",
      "data_files/raw/MC_results6_Graphite_Wat_Ag_50/MC_results6_Graphite_Wat_Ag_50_13\\6-01_24_2023_14_21_08.json\n",
      "data_files/raw/MC_results6_Graphite_Wat_Ag_50/MC_results6_Graphite_Wat_Ag_50_14\\12-01_24_2023_14_31_15.json\n",
      "data_files/raw/MC_results6_Graphite_Wat_Ag_50/MC_results6_Graphite_Wat_Ag_50_15\\2-01_24_2023_14_39_50.json\n",
      "data_files/raw/MC_results6_Graphite_Wat_Ag_50/MC_results6_Graphite_Wat_Ag_50_16\\11-01_24_2023_14_51_47.json\n",
      "data_files/raw/MC_results6_Graphite_Wat_Ag_50/MC_results6_Graphite_Wat_Ag_50_17\\2-01_24_2023_14_59_22.json\n",
      "data_files/raw/MC_results6_Graphite_Wat_Ag_50/MC_results6_Graphite_Wat_Ag_50_18\\6-01_24_2023_15_08_23.json\n",
      "data_files/raw/MC_results6_Graphite_Wat_Ag_50/MC_results6_Graphite_Wat_Ag_50_19\\16-01_24_2023_15_18_51.json\n",
      "data_files/raw/MC_results6_Graphite_Wat_Ag_50/MC_results6_Graphite_Wat_Ag_50_2\\29-01_24_2023_12_25_36.json\n",
      "data_files/raw/MC_results6_Graphite_Wat_Ag_50/MC_results6_Graphite_Wat_Ag_50_20\\2-01_24_2023_15_26_29.json\n",
      "data_files/raw/MC_results6_Graphite_Wat_Ag_50/MC_results6_Graphite_Wat_Ag_50_21\\18-01_24_2023_15_38_36.json\n",
      "data_files/raw/MC_results6_Graphite_Wat_Ag_50/MC_results6_Graphite_Wat_Ag_50_22\\6-01_24_2023_15_47_26.json\n",
      "data_files/raw/MC_results6_Graphite_Wat_Ag_50/MC_results6_Graphite_Wat_Ag_50_23\\1-01_24_2023_15_55_39.json\n",
      "data_files/raw/MC_results6_Graphite_Wat_Ag_50/MC_results6_Graphite_Wat_Ag_50_24\\36-01_24_2023_16_11_33.json\n",
      "data_files/raw/MC_results6_Graphite_Wat_Ag_50/MC_results6_Graphite_Wat_Ag_50_25\\8-01_24_2023_16_21_07.json\n",
      "data_files/raw/MC_results6_Graphite_Wat_Ag_50/MC_results6_Graphite_Wat_Ag_50_26\\6-01_24_2023_16_30_18.json\n",
      "data_files/raw/MC_results6_Graphite_Wat_Ag_50/MC_results6_Graphite_Wat_Ag_50_27\\28-01_24_2023_16_45_19.json\n",
      "data_files/raw/MC_results6_Graphite_Wat_Ag_50/MC_results6_Graphite_Wat_Ag_50_28\\11-01_24_2023_16_56_22.json\n",
      "data_files/raw/MC_results6_Graphite_Wat_Ag_50/MC_results6_Graphite_Wat_Ag_50_29\\35-01_24_2023_17_11_25.json\n",
      "data_files/raw/MC_results6_Graphite_Wat_Ag_50/MC_results6_Graphite_Wat_Ag_50_3\\16-01_24_2023_12_37_04.json\n",
      "data_files/raw/MC_results6_Graphite_Wat_Ag_50/MC_results6_Graphite_Wat_Ag_50_30\\9-01_24_2023_17_21_36.json\n",
      "data_files/raw/MC_results6_Graphite_Wat_Ag_50/MC_results6_Graphite_Wat_Ag_50_4\\24-01_24_2023_12_50_52.json\n",
      "data_files/raw/MC_results6_Graphite_Wat_Ag_50/MC_results6_Graphite_Wat_Ag_50_5\\4-01_24_2023_13_00_38.json\n",
      "data_files/raw/MC_results6_Graphite_Wat_Ag_50/MC_results6_Graphite_Wat_Ag_50_6\\11-01_24_2023_13_09_52.json\n",
      "data_files/raw/MC_results6_Graphite_Wat_Ag_50/MC_results6_Graphite_Wat_Ag_50_7\\17-01_24_2023_13_22_33.json\n",
      "data_files/raw/MC_results6_Graphite_Wat_Ag_50/MC_results6_Graphite_Wat_Ag_50_8\\2-01_24_2023_13_31_08.json\n",
      "data_files/raw/MC_results6_Graphite_Wat_Ag_50/MC_results6_Graphite_Wat_Ag_50_9\\4-01_24_2023_13_39_13.json\n",
      "data_files/raw/MC_results6_Graphite_Wat_Card_2\n",
      "data_files/raw/MC_results6_Graphite_Wat_Card_2/MC_results6_Graphite_Wat_Card_2_1\\11-01_24_2023_17_31_07.json\n",
      "data_files/raw/MC_results6_Graphite_Wat_Card_2/MC_results6_Graphite_Wat_Card_2_10\\6-01_24_2023_18_26_47.json\n",
      "data_files/raw/MC_results6_Graphite_Wat_Card_2/MC_results6_Graphite_Wat_Card_2_11\\66-01_24_2023_18_38_23.json\n",
      "data_files/raw/MC_results6_Graphite_Wat_Card_2/MC_results6_Graphite_Wat_Card_2_12\\27-01_24_2023_18_45_41.json\n",
      "data_files/raw/MC_results6_Graphite_Wat_Card_2/MC_results6_Graphite_Wat_Card_2_13\\42-01_24_2023_18_54_30.json\n",
      "data_files/raw/MC_results6_Graphite_Wat_Card_2/MC_results6_Graphite_Wat_Card_2_14\\47-01_24_2023_19_03_56.json\n",
      "data_files/raw/MC_results6_Graphite_Wat_Card_2/MC_results6_Graphite_Wat_Card_2_15\\10-01_24_2023_19_09_14.json\n",
      "data_files/raw/MC_results6_Graphite_Wat_Card_2/MC_results6_Graphite_Wat_Card_2_16\\15-01_24_2023_19_15_01.json\n",
      "data_files/raw/MC_results6_Graphite_Wat_Card_2/MC_results6_Graphite_Wat_Card_2_17\\3-01_24_2023_19_18_50.json\n",
      "data_files/raw/MC_results6_Graphite_Wat_Card_2/MC_results6_Graphite_Wat_Card_2_18\\23-01_24_2023_20_05_36.json\n",
      "data_files/raw/MC_results6_Graphite_Wat_Card_2/MC_results6_Graphite_Wat_Card_2_19\\17-01_24_2023_20_11_20.json\n",
      "data_files/raw/MC_results6_Graphite_Wat_Card_2/MC_results6_Graphite_Wat_Card_2_2\\12-01_24_2023_17_36_39.json\n",
      "data_files/raw/MC_results6_Graphite_Wat_Card_2/MC_results6_Graphite_Wat_Card_2_20\\5-01_24_2023_20_16_46.json\n",
      "data_files/raw/MC_results6_Graphite_Wat_Card_2/MC_results6_Graphite_Wat_Card_2_21\\57-01_24_2023_20_27_59.json\n",
      "data_files/raw/MC_results6_Graphite_Wat_Card_2/MC_results6_Graphite_Wat_Card_2_22\\42-01_24_2023_20_38_00.json\n",
      "data_files/raw/MC_results6_Graphite_Wat_Card_2/MC_results6_Graphite_Wat_Card_2_23\\34-01_24_2023_20_46_36.json\n",
      "data_files/raw/MC_results6_Graphite_Wat_Card_2/MC_results6_Graphite_Wat_Card_2_24\\16-01_24_2023_20_53_04.json\n",
      "data_files/raw/MC_results6_Graphite_Wat_Card_2/MC_results6_Graphite_Wat_Card_2_25\\9-01_24_2023_20_58_53.json\n",
      "data_files/raw/MC_results6_Graphite_Wat_Card_2/MC_results6_Graphite_Wat_Card_2_26\\2-01_24_2023_21_03_22.json\n",
      "data_files/raw/MC_results6_Graphite_Wat_Card_2/MC_results6_Graphite_Wat_Card_2_27\\8-01_24_2023_21_08_53.json\n",
      "data_files/raw/MC_results6_Graphite_Wat_Card_2/MC_results6_Graphite_Wat_Card_2_28\\9-01_24_2023_21_14_43.json\n",
      "data_files/raw/MC_results6_Graphite_Wat_Card_2/MC_results6_Graphite_Wat_Card_2_29\\28-01_24_2023_21_22_01.json\n",
      "data_files/raw/MC_results6_Graphite_Wat_Card_2/MC_results6_Graphite_Wat_Card_2_3\\10-01_24_2023_17_42_08.json\n",
      "data_files/raw/MC_results6_Graphite_Wat_Card_2/MC_results6_Graphite_Wat_Card_2_30\\19-01_24_2023_21_28_44.json\n",
      "data_files/raw/MC_results6_Graphite_Wat_Card_2/MC_results6_Graphite_Wat_Card_2_4\\51-01_24_2023_17_52_29.json\n",
      "data_files/raw/MC_results6_Graphite_Wat_Card_2/MC_results6_Graphite_Wat_Card_2_5\\11-01_24_2023_17_57_50.json\n",
      "data_files/raw/MC_results6_Graphite_Wat_Card_2/MC_results6_Graphite_Wat_Card_2_6\\17-01_24_2023_18_04_13.json\n",
      "data_files/raw/MC_results6_Graphite_Wat_Card_2/MC_results6_Graphite_Wat_Card_2_7\\12-01_24_2023_18_10_05.json\n",
      "data_files/raw/MC_results6_Graphite_Wat_Card_2/MC_results6_Graphite_Wat_Card_2_8\\27-01_24_2023_18_17_35.json\n",
      "data_files/raw/MC_results6_Graphite_Wat_Card_2/MC_results6_Graphite_Wat_Card_2_9\\4-01_24_2023_18_22_08.json\n",
      "data_files/raw/MC_results6_Graphite_Wat_It_50\n",
      "data_files/raw/MC_results6_Graphite_Wat_It_50/MC_results6_Graphite_Wat_It_50_1\\1-01_24_2023_21_32_43.json\n",
      "data_files/raw/MC_results6_Graphite_Wat_It_50/MC_results6_Graphite_Wat_It_50_10\\17-01_24_2023_22_18_19.json\n",
      "data_files/raw/MC_results6_Graphite_Wat_It_50/MC_results6_Graphite_Wat_It_50_11\\38-01_24_2023_22_23_56.json\n",
      "data_files/raw/MC_results6_Graphite_Wat_It_50/MC_results6_Graphite_Wat_It_50_12\\27-01_24_2023_22_28_49.json\n",
      "data_files/raw/MC_results6_Graphite_Wat_It_50/MC_results6_Graphite_Wat_It_50_13\\31-01_24_2023_22_33_53.json\n",
      "data_files/raw/MC_results6_Graphite_Wat_It_50/MC_results6_Graphite_Wat_It_50_14\\5-01_24_2023_22_36_49.json\n",
      "data_files/raw/MC_results6_Graphite_Wat_It_50/MC_results6_Graphite_Wat_It_50_15\\14-01_24_2023_22_41_13.json\n",
      "data_files/raw/MC_results6_Graphite_Wat_It_50/MC_results6_Graphite_Wat_It_50_16\\36-01_24_2023_22_47_18.json\n",
      "data_files/raw/MC_results6_Graphite_Wat_It_50/MC_results6_Graphite_Wat_It_50_17\\65-01_24_2023_22_56_21.json\n",
      "data_files/raw/MC_results6_Graphite_Wat_It_50/MC_results6_Graphite_Wat_It_50_18\\9-01_24_2023_22_59_40.json\n",
      "data_files/raw/MC_results6_Graphite_Wat_It_50/MC_results6_Graphite_Wat_It_50_19\\22-01_24_2023_23_04_07.json\n",
      "data_files/raw/MC_results6_Graphite_Wat_It_50/MC_results6_Graphite_Wat_It_50_2\\60-01_24_2023_21_39_15.json\n",
      "data_files/raw/MC_results6_Graphite_Wat_It_50/MC_results6_Graphite_Wat_It_50_20\\13-01_24_2023_23_07_16.json\n",
      "data_files/raw/MC_results6_Graphite_Wat_It_50/MC_results6_Graphite_Wat_It_50_21\\38-01_24_2023_23_12_58.json\n",
      "data_files/raw/MC_results6_Graphite_Wat_It_50/MC_results6_Graphite_Wat_It_50_22\\2-01_24_2023_23_15_47.json\n",
      "data_files/raw/MC_results6_Graphite_Wat_It_50/MC_results6_Graphite_Wat_It_50_23\\3-01_24_2023_23_18_33.json\n",
      "data_files/raw/MC_results6_Graphite_Wat_It_50/MC_results6_Graphite_Wat_It_50_24\\40-01_24_2023_23_24_25.json\n",
      "data_files/raw/MC_results6_Graphite_Wat_It_50/MC_results6_Graphite_Wat_It_50_25\\31-01_24_2023_23_29_13.json\n",
      "data_files/raw/MC_results6_Graphite_Wat_It_50/MC_results6_Graphite_Wat_It_50_26\\8-01_24_2023_23_32_13.json\n",
      "data_files/raw/MC_results6_Graphite_Wat_It_50/MC_results6_Graphite_Wat_It_50_27\\6-01_24_2023_23_34_31.json\n",
      "data_files/raw/MC_results6_Graphite_Wat_It_50/MC_results6_Graphite_Wat_It_50_28\\4-01_24_2023_23_37_14.json\n",
      "data_files/raw/MC_results6_Graphite_Wat_It_50/MC_results6_Graphite_Wat_It_50_29\\3-01_24_2023_23_40_14.json\n",
      "data_files/raw/MC_results6_Graphite_Wat_It_50/MC_results6_Graphite_Wat_It_50_3\\62-01_24_2023_21_46_36.json\n",
      "data_files/raw/MC_results6_Graphite_Wat_It_50/MC_results6_Graphite_Wat_It_50_30\\10-01_24_2023_23_43_42.json\n",
      "data_files/raw/MC_results6_Graphite_Wat_It_50/MC_results6_Graphite_Wat_It_50_4\\14-01_24_2023_21_50_05.json\n",
      "data_files/raw/MC_results6_Graphite_Wat_It_50/MC_results6_Graphite_Wat_It_50_5\\12-01_24_2023_21_53_17.json\n",
      "data_files/raw/MC_results6_Graphite_Wat_It_50/MC_results6_Graphite_Wat_It_50_6\\52-01_24_2023_22_00_03.json\n",
      "data_files/raw/MC_results6_Graphite_Wat_It_50/MC_results6_Graphite_Wat_It_50_7\\30-01_24_2023_22_05_03.json\n",
      "data_files/raw/MC_results6_Graphite_Wat_It_50/MC_results6_Graphite_Wat_It_50_8\\38-01_24_2023_22_11_09.json\n",
      "data_files/raw/MC_results6_Graphite_Wat_It_50/MC_results6_Graphite_Wat_It_50_9\\12-01_24_2023_22_14_05.json\n",
      "data_files/raw/MC_results6_Graphite_Wat_Stag_10\n",
      "data_files/raw/MC_results6_Graphite_Wat_Stag_10/MC_results6_Graphite_Wat_Stag_10_1\\22-01_24_2023_23_49_55.json\n",
      "data_files/raw/MC_results6_Graphite_Wat_Stag_10/MC_results6_Graphite_Wat_Stag_10_10\\9-01_25_2023_00_21_53.json\n",
      "data_files/raw/MC_results6_Graphite_Wat_Stag_10/MC_results6_Graphite_Wat_Stag_10_11\\17-01_25_2023_00_25_27.json\n",
      "data_files/raw/MC_results6_Graphite_Wat_Stag_10/MC_results6_Graphite_Wat_Stag_10_12\\4-01_25_2023_00_27_25.json\n",
      "data_files/raw/MC_results6_Graphite_Wat_Stag_10/MC_results6_Graphite_Wat_Stag_10_13\\4-01_25_2023_01_14_28.json\n",
      "data_files/raw/MC_results6_Graphite_Wat_Stag_10/MC_results6_Graphite_Wat_Stag_10_14\\8-01_25_2023_01_17_41.json\n",
      "data_files/raw/MC_results6_Graphite_Wat_Stag_10/MC_results6_Graphite_Wat_Stag_10_15\\1-01_25_2023_01_19_50.json\n",
      "data_files/raw/MC_results6_Graphite_Wat_Stag_10/MC_results6_Graphite_Wat_Stag_10_16\\3-01_25_2023_01_22_15.json\n",
      "data_files/raw/MC_results6_Graphite_Wat_Stag_10/MC_results6_Graphite_Wat_Stag_10_17\\18-01_25_2023_01_26_39.json\n",
      "data_files/raw/MC_results6_Graphite_Wat_Stag_10/MC_results6_Graphite_Wat_Stag_10_18\\13-01_25_2023_01_30_26.json\n",
      "data_files/raw/MC_results6_Graphite_Wat_Stag_10/MC_results6_Graphite_Wat_Stag_10_19\\3-01_25_2023_01_32_39.json\n",
      "data_files/raw/MC_results6_Graphite_Wat_Stag_10/MC_results6_Graphite_Wat_Stag_10_2\\10-01_24_2023_23_52_59.json\n",
      "data_files/raw/MC_results6_Graphite_Wat_Stag_10/MC_results6_Graphite_Wat_Stag_10_20\\11-01_25_2023_01_36_16.json\n",
      "data_files/raw/MC_results6_Graphite_Wat_Stag_10/MC_results6_Graphite_Wat_Stag_10_21\\8-01_25_2023_01_39_41.json\n",
      "data_files/raw/MC_results6_Graphite_Wat_Stag_10/MC_results6_Graphite_Wat_Stag_10_22\\4-01_25_2023_01_41_49.json\n",
      "data_files/raw/MC_results6_Graphite_Wat_Stag_10/MC_results6_Graphite_Wat_Stag_10_23\\10-01_25_2023_01_45_10.json\n",
      "data_files/raw/MC_results6_Graphite_Wat_Stag_10/MC_results6_Graphite_Wat_Stag_10_24\\11-01_25_2023_01_48_53.json\n",
      "data_files/raw/MC_results6_Graphite_Wat_Stag_10/MC_results6_Graphite_Wat_Stag_10_25\\3-01_25_2023_01_51_14.json\n",
      "data_files/raw/MC_results6_Graphite_Wat_Stag_10/MC_results6_Graphite_Wat_Stag_10_26\\4-01_25_2023_01_53_16.json\n",
      "data_files/raw/MC_results6_Graphite_Wat_Stag_10/MC_results6_Graphite_Wat_Stag_10_27\\3-01_25_2023_01_56_12.json\n",
      "data_files/raw/MC_results6_Graphite_Wat_Stag_10/MC_results6_Graphite_Wat_Stag_10_28\\4-01_25_2023_01_58_29.json\n",
      "data_files/raw/MC_results6_Graphite_Wat_Stag_10/MC_results6_Graphite_Wat_Stag_10_29\\5-01_25_2023_02_01_23.json\n",
      "data_files/raw/MC_results6_Graphite_Wat_Stag_10/MC_results6_Graphite_Wat_Stag_10_3\\7-01_24_2023_23_55_49.json\n",
      "data_files/raw/MC_results6_Graphite_Wat_Stag_10/MC_results6_Graphite_Wat_Stag_10_30\\2-01_25_2023_02_03_12.json\n",
      "data_files/raw/MC_results6_Graphite_Wat_Stag_10/MC_results6_Graphite_Wat_Stag_10_4\\11-01_24_2023_23_59_24.json\n",
      "data_files/raw/MC_results6_Graphite_Wat_Stag_10/MC_results6_Graphite_Wat_Stag_10_5\\18-01_25_2023_00_04_26.json\n",
      "data_files/raw/MC_results6_Graphite_Wat_Stag_10/MC_results6_Graphite_Wat_Stag_10_6\\4-01_25_2023_00_06_49.json\n",
      "data_files/raw/MC_results6_Graphite_Wat_Stag_10/MC_results6_Graphite_Wat_Stag_10_7\\14-01_25_2023_00_10_50.json\n",
      "data_files/raw/MC_results6_Graphite_Wat_Stag_10/MC_results6_Graphite_Wat_Stag_10_8\\12-01_25_2023_00_15_18.json\n",
      "data_files/raw/MC_results6_Graphite_Wat_Stag_10/MC_results6_Graphite_Wat_Stag_10_9\\8-01_25_2023_00_18_43.json\n",
      "[[ 0.17211985  0.17211985  0.17211985  0.17211985  0.17211985  0.17211985\n",
      "   0.17211985  0.17211985  0.17211985  0.17211985  0.17211985  0.17211985\n",
      "   0.17211985  0.17211985  0.17211985  0.17211985  0.17211985  0.17211985\n",
      "   0.17211985  0.17211985  0.17211985  0.17211985  0.17211985  0.17211985\n",
      "   0.17211985  0.17211985  0.17211985  0.17211985  0.17211985  0.17211985]\n",
      " [ 0.17211985  0.17211985  0.17211985  0.17211985  0.17211985  0.17211985\n",
      "   0.17211985  0.17211985  0.17211985  0.17211985  0.17211985  0.17211985\n",
      "   0.17211985  0.17211985  0.17211985  0.17211985  0.17211985  0.17211985\n",
      "   0.17211985  0.17211985  0.17211985  0.17211985  0.17211985  0.17211985\n",
      "   0.17211985  0.17211985  0.17211985  0.17211985  0.17211985  0.17211985]\n",
      " [ 0.17211985  0.17211985  0.17211985  0.17211985  0.17211985  0.17211985\n",
      "   0.17211985  0.17211985  0.17211985  0.1721805   0.17211985  0.17211985\n",
      "   0.17211985  0.17212049  0.17211985  0.17211985  0.17211985  0.17211985\n",
      "   0.17211985  0.17211985  0.17211985  0.17211985  0.17211985  0.17211985\n",
      "   0.17211985  0.17211985  0.17211985  0.17211985  0.17211985  0.17211985]\n",
      " [ 0.17211985  0.17211985  0.17211985  0.17211985  0.17211985  0.17211985\n",
      "   0.17211985  0.17211985  0.17211985  0.17211985  0.17211985  0.17211985\n",
      "   0.17211985  0.17211985  0.17211985  0.17211985  0.17211985  0.17211985\n",
      "   0.17211985  0.17211985  0.17211985  0.17211985  0.17211985  0.17211985\n",
      "   0.17211985  0.17211985  0.17211985  0.17212253  0.17211985  0.17211985]\n",
      " [ 0.17211985  0.17211985  0.17211985  0.17211985  0.17211985  0.17211985\n",
      "   0.17211985  0.17211985  0.17211985  0.17211985  0.17211985  0.17211985\n",
      "   0.17211985  0.17211985  0.17220071  0.17211985  0.17211985  0.17211985\n",
      "   0.17211985  0.17211985  0.17211985  0.17211985  0.17211985  0.17211985\n",
      "   0.17211985  0.17211985  0.17211985  0.17211985  0.17211985  0.17211993]\n",
      " [94.36182206 94.36182206 94.36182206 94.36182206 94.36182206 94.36182206\n",
      "  94.36182206 94.36182206 94.36182206 94.36182206 94.36182206 94.36182206\n",
      "  94.39448075 94.36182206 94.36182206 94.36182206 94.36182206 94.36182206\n",
      "  94.36182206 94.36182206 94.36182206 94.36182206 94.36182206 94.36182206\n",
      "  94.36182206 94.36182206 94.36182206 94.36182206 94.36182206 94.36182206]\n",
      " [94.36182206 94.36182206 94.36182206 94.36182206 94.36182206 94.36182206\n",
      "  94.36182206 94.36182206 94.36182206 94.36182206 94.36182206 94.36182206\n",
      "  94.36182206 94.36182206 94.36182206 94.36182206 94.36182206 94.36182206\n",
      "  94.36182206 94.36182206 94.36182206 94.36182206 94.36182206 94.36182206\n",
      "  94.36182206 94.36182206 94.36182206 94.36182206 94.36182206 94.36182206]\n",
      " [94.36182206 94.36182206 94.36182206 94.36182206 94.36182206 94.36182206\n",
      "  94.36182206 94.36182206 94.36182206 94.36182206 94.36182206 94.36182206\n",
      "  94.36182206 94.36182206 94.36182206 94.36182206 94.36182206 94.36182206\n",
      "  94.36182206 94.36182208 94.36182206 94.36182206 94.39448075 94.36182206\n",
      "  94.36216262 94.36182206 94.36182206 94.36182206 94.36182206 94.39448075]\n",
      " [94.36182215 94.36182206 94.36182206 94.36182271 94.36182206 94.36182206\n",
      "  94.36182252 94.36182206 94.36182206 94.36182209 94.36182206 94.36182206\n",
      "  94.36182206 94.36182206 94.36182206 94.36182206 94.36182206 94.36182206\n",
      "  94.36182206 94.36182206 94.36182206 94.36182207 94.36182251 94.36182206\n",
      "  94.36182206 94.36182206 94.3703417  94.36182206 94.36182206 94.36182206]\n",
      " [94.3618221  94.36182206 94.36182206 94.36616159 94.39448075 94.36182206\n",
      "  94.36232755 94.36182206 94.36182206 94.36182206 94.36182206 94.36182206\n",
      "  94.36182206 94.36182206 94.39448075 94.36182206 94.36182206 94.36182206\n",
      "  94.36182206 94.36182346 94.38631608 94.36182206 94.36182206 94.36182206\n",
      "  94.36182206 94.36182206 94.36182314 94.36182206 94.36182206 94.36182206]\n",
      " [ 0.17211984  0.17211984  0.17211984  0.17211984  0.17211984  0.17211984\n",
      "   0.17211984  0.17211984  0.17211984  0.17211984  0.17211984  0.17211984\n",
      "   0.17211984  0.17211984  0.17211984  0.17211984  0.17211984  0.17211984\n",
      "   0.17211984  0.17211984  0.17211984  0.17211984  0.17211984  0.17211984\n",
      "   0.17211984  0.17211984  0.17211984  0.17211984  0.17211984  0.17211984]\n",
      " [ 0.17211984  0.17211984  0.17211984  0.17211984  0.17211984  0.17211984\n",
      "   0.17211984  0.17211984  0.17211984  0.17211984  0.17211984  0.17211984\n",
      "   0.17211984  0.17211984  0.17211984  0.17211984  0.17211984  0.17211984\n",
      "   0.17211984  0.17211984  0.17211984  0.17211984  0.17211984  0.17211984\n",
      "   0.17211984  0.17211984  0.17211984  0.17211984  0.17211984  0.17211984]\n",
      " [ 0.17211984  0.17211984  0.17211984  0.17211984  0.17211984  0.17211984\n",
      "   0.17211984  0.17211984  0.17211984  0.17211984  0.17211984  0.17211984\n",
      "   0.17211984  0.17211984  0.17211984  0.17211984  0.17211984  0.17211984\n",
      "   0.17211984  0.17211984  0.17211984  0.17211984  0.17211984  0.17211984\n",
      "   0.17211984  0.17211984  0.17211984  0.17211984  0.17211984  0.17211984]\n",
      " [ 0.17211984  0.17211984  0.17211984  0.17211984  0.17211984  0.17211984\n",
      "   0.17211984  0.17211984  0.17211984  0.17211984  0.17211984  0.17211984\n",
      "   0.17211984  0.17211984  0.17211984  0.17211984  0.17211984  0.17211984\n",
      "   0.17211984  0.17211984  0.17211984  0.17211984  0.17211984  0.17220069\n",
      "   0.17211984  0.17211984  0.17211984  0.17211984  0.17211984  0.17211984]\n",
      " [ 0.17211984  0.17211984  0.17211984  0.17211984  0.17211984  0.17211984\n",
      "   0.17211984  0.17211984  0.17211984  0.17211984  0.17211984  0.17211984\n",
      "   0.17211984  0.17211984  0.17211984  0.17211984  0.17211984  0.17211984\n",
      "   0.17211984  0.17211984  0.17211984  0.17211984  0.17218048  0.17211984\n",
      "   0.17211984  0.17218048  0.17211984  0.17211984  0.17211984  0.17211984]\n",
      " [94.36182203 94.36182203 94.36182203 94.36182203 94.36182203 94.36182204\n",
      "  94.36182203 94.36182203 94.36182203 94.36182203 94.36182203 94.36182203\n",
      "  94.36182203 94.36182203 94.36182203 94.36182203 94.36182203 94.36182203\n",
      "  94.36182203 94.36182203 94.36182203 94.36182203 94.36182203 94.36182203\n",
      "  94.36182203 94.36182203 94.36182203 94.36182203 94.36182203 94.36182203]\n",
      " [94.36182203 94.36182203 94.36182203 94.36182203 94.36182203 94.36182203\n",
      "  94.36182203 94.36182203 94.36182203 94.36182203 94.36182203 94.36182203\n",
      "  94.36182203 94.36182203 94.36182203 94.36182203 94.36182203 94.36182203\n",
      "  94.36182203 94.36182203 94.36182203 94.36182203 94.36182203 94.36182203\n",
      "  94.36182203 94.36182203 94.36182203 94.36182203 94.36182203 94.36182203]\n",
      " [94.36182203 94.36182204 94.36182203 94.36182203 94.36182203 94.36182203\n",
      "  94.36182203 94.36182203 94.36182203 94.36182203 94.36182203 94.36182203\n",
      "  94.36182203 94.36182203 94.36182203 94.36182203 94.36182203 94.36182203\n",
      "  94.36182203 94.36182203 94.36182205 94.36182203 94.36182203 94.36182203\n",
      "  94.36182203 94.36182203 94.36182203 94.36182203 94.36182204 94.36182203]\n",
      " [94.36182203 94.36182203 94.36182203 94.36182203 94.36182203 94.36182204\n",
      "  94.36182203 94.36182203 94.36182203 94.36182203 94.36182203 94.36182203\n",
      "  94.36182203 94.36182203 94.36182203 94.36182203 94.36182203 94.36182203\n",
      "  94.36182203 94.36182554 94.36182203 94.36182203 94.36182203 94.36182203\n",
      "  94.36182207 94.36182203 94.36182203 94.36182208 94.36182203 94.36182203]\n",
      " [94.38631605 94.36182203 94.36182372 94.36182246 94.3618652  94.36182203\n",
      "  94.36182203 94.38631605 94.36182203 94.36182203 94.36182203 94.36182203\n",
      "  94.36182203 94.36182203 94.36182214 94.36182203 94.36182203 94.36188328\n",
      "  94.36182203 94.36182203 94.36203734 94.36182203 94.36182203 94.36182203\n",
      "  94.36182203 94.36182203 94.36182205 94.36182203 94.36183375 94.36182203]]\n",
      "[[list([28, 27, 11]) list([4, 28, 20]) list([33, 27]) list([13, 30])\n",
      "  list([1, 10]) list([17, 24, 31]) list([6, 20, 31]) list([20, 5, 31])\n",
      "  list([18, 14, 32]) list([33, 21, 8]) list([9, 28]) list([13, 28])\n",
      "  list([17, 32, 27]) list([19, 27]) list([18, 26]) list([20, 28, 26])\n",
      "  list([7, 33, 16]) list([9, 28]) list([12, 31, 4]) list([33, 29, 5])\n",
      "  list([13, 30]) list([26, 30]) list([13, 0, 28]) list([26, 25, 30])\n",
      "  list([27, 30]) list([14, 32, 16]) list([19, 16]) list([13, 28, 23])\n",
      "  list([27, 21]) list([26, 18])]\n",
      " [list([28, 26, 16]) list([32, 26]) list([27, 24, 33]) list([21, 0])\n",
      "  list([13, 28]) list([13, 1, 30]) list([31, 9]) list([20, 10])\n",
      "  list([32, 20]) list([27, 0, 24]) list([19]) list([11, 18, 17])\n",
      "  list([4, 31]) list([4, 32, 17]) list([31, 8, 19]) list([7, 30, 6])\n",
      "  list([13, 30, 2]) list([19, 18, 11]) list([23, 20, 18])\n",
      "  list([17, 33, 9]) list([11, 0, 26]) list([31, 9]) list([30, 14])\n",
      "  list([18, 20]) list([20, 26]) list([21, 12]) list([32, 13, 11])\n",
      "  list([12, 13, 30]) list([26, 0, 5]) list([13, 10, 28])]\n",
      " [list([17, 31]) list([19, 26]) list([26, 32]) list([14, 33])\n",
      "  list([19, 26]) list([26, 33]) list([17, 31]) list([27, 32])\n",
      "  list([22, 21]) list([18]) list([20]) list([19, 11]) list([21])\n",
      "  list([12, 33]) list([14, 30]) list([12, 19]) list([26, 19])\n",
      "  list([10, 2]) list([33, 13]) list([19, 26]) list([10, 19])\n",
      "  list([26, 21]) list([4, 31]) list([26, 33]) list([30, 6])\n",
      "  list([20, 18]) list([30, 14]) list([26, 31]) list([21, 16])\n",
      "  list([14, 30])]\n",
      " [list([26, 18]) list([29, 26, 33]) list([18, 26]) list([26, 10, 32])\n",
      "  list([27, 30]) list([32, 27]) list([32, 21, 14]) list([31, 13, 21])\n",
      "  list([21, 26]) list([23, 30, 26]) list([18, 27, 33]) list([18, 24, 26])\n",
      "  list([13, 32, 0]) list([30, 27]) list([31, 14]) list([19, 10])\n",
      "  list([21, 10]) list([32, 7, 21]) list([24, 21, 27]) list([27, 28])\n",
      "  list([9, 31, 18]) list([9, 33, 29]) list([27, 4, 32]) list([32, 26])\n",
      "  list([33, 9, 15]) list([19, 33, 26]) list([26, 33]) list([1, 22])\n",
      "  list([4, 33, 21]) list([29, 17, 31])]\n",
      " [list([30, 15, 8]) list([20, 16]) list([10, 21]) list([20, 29])\n",
      "  list([16, 19, 12]) list([27, 18, 4]) list([21, 20]) list([12, 29, 27])\n",
      "  list([19, 2, 15]) list([20, 16]) list([21, 11]) list([17, 12, 28])\n",
      "  list([31, 6, 21]) list([10, 0]) list([3, 19, 10]) list([29, 9, 31])\n",
      "  list([20]) list([8, 28, 20]) list([29, 16, 26]) list([20, 19, 10])\n",
      "  list([19, 16]) list([29, 6, 33]) list([30, 5]) list([21, 12])\n",
      "  list([21, 22]) list([26, 28]) list([31, 6]) list([26, 19])\n",
      "  list([26, 18]) list([28, 24, 12])]\n",
      " [list([15, 20]) list([11, 33, 6]) list([5, 28, 16]) list([19, 26])\n",
      "  list([13, 30]) list([13, 33]) list([13, 30]) list([28, 26])\n",
      "  list([10, 20]) list([10, 29, 27]) list([20, 24, 27]) list([20, 12])\n",
      "  list([2]) list([19, 21, 11]) list([21, 27]) list([12, 19])\n",
      "  list([26, 12, 31]) list([27, 32]) list([31, 26]) list([32, 31, 13])\n",
      "  list([26, 11, 19]) list([31, 17, 10]) list([21, 17, 30]) list([33, 27])\n",
      "  list([33, 19, 13]) list([14, 23, 30]) list([30, 29, 9]) list([18, 27])\n",
      "  list([26, 31, 16]) list([32, 9])]\n",
      " [list([32, 7, 13]) list([33, 16, 5]) list([29, 30, 7]) list([33, 27])\n",
      "  list([12, 9, 33]) list([26, 31]) list([30, 6]) list([32, 1, 17])\n",
      "  list([17, 31]) list([9, 12, 31]) list([21, 11]) list([20, 21])\n",
      "  list([10, 19, 4]) list([0, 31, 9]) list([11, 23, 19]) list([21])\n",
      "  list([28, 1, 4]) list([27, 30]) list([28, 26]) list([17, 16, 31])\n",
      "  list([9, 31, 10]) list([12, 20]) list([19, 11]) list([29, 8, 28])\n",
      "  list([11, 7, 32]) list([0, 11, 10]) list([26, 29, 24]) list([31, 9])\n",
      "  list([7, 30, 20]) list([9, 28])]\n",
      " [list([4, 30]) list([31, 13]) list([32, 27]) list([21, 11])\n",
      "  list([31, 26]) list([26, 32]) list([19]) list([13, 32]) list([12, 19])\n",
      "  list([30, 27]) list([14, 28]) list([14, 28]) list([32, 6])\n",
      "  list([21, 15]) list([8, 31]) list([31, 8]) list([13, 32])\n",
      "  list([10, 20]) list([14, 30]) list([31, 16]) list([19, 18])\n",
      "  list([8, 32]) list([0]) list([31, 26]) list([22, 28]) list([20])\n",
      "  list([21]) list([20, 10]) list([21, 26]) list([2])]\n",
      " [list([14, 33]) list([27, 28]) list([22, 29, 26]) list([13, 33])\n",
      "  list([12, 30, 27]) list([29, 27]) list([21]) list([26, 33])\n",
      "  list([31, 26]) list([7, 28, 18]) list([22, 21, 26]) list([1, 13, 28])\n",
      "  list([9, 15, 28]) list([19, 26]) list([10, 29, 21]) list([33, 27])\n",
      "  list([17, 28, 21]) list([8, 31]) list([31, 7]) list([15, 29, 26])\n",
      "  list([16, 21, 29]) list([23, 9, 33]) list([21]) list([9, 12, 28])\n",
      "  list([29, 19, 15]) list([16, 26, 29]) list([24, 20]) list([31, 4])\n",
      "  list([1, 21, 15]) list([20, 15, 29])]\n",
      " [list([21, 30]) list([28, 18, 13]) list([10, 26, 20]) list([24, 32])\n",
      "  list([2]) list([19, 17, 31]) list([24, 30]) list([31, 27])\n",
      "  list([26, 31, 23]) list([0, 9, 30]) list([15, 21]) list([5, 28, 15])\n",
      "  list([32, 20, 6]) list([10, 30, 7]) list([0]) list([6, 33, 16])\n",
      "  list([16, 28, 14]) list([30, 13]) list([26, 11, 28]) list([28, 24, 20])\n",
      "  list([7, 30, 29]) list([14, 33]) list([20, 10]) list([28, 27])\n",
      "  list([33, 13]) list([33, 26, 18]) list([32, 17]) list([13, 21, 32])\n",
      "  list([13, 32]) list([1, 23, 10])]\n",
      " [list([26, 32]) list([30, 6]) list([19, 15, 0]) list([19, 27])\n",
      "  list([1, 10]) list([20, 16]) list([29, 16, 21]) list([13, 30, 18])\n",
      "  list([29, 26]) list([26, 23, 18]) list([19, 11, 1]) list([27, 14, 18])\n",
      "  list([25, 27, 21]) list([28, 26]) list([31, 18, 4]) list([15, 7, 31])\n",
      "  list([19]) list([16, 21]) list([32, 12, 4]) list([10, 20])\n",
      "  list([33, 29, 26]) list([33, 31, 4]) list([33, 21, 6]) list([32, 6])\n",
      "  list([7, 31]) list([27, 29]) list([28, 27]) list([6, 30]) list([31, 4])\n",
      "  list([26, 30])]\n",
      " [list([20, 15]) list([17, 0, 29]) list([4, 29, 28]) list([11, 1, 23])\n",
      "  list([10, 2]) list([13, 19]) list([28, 27]) list([15, 2, 10])\n",
      "  list([11, 19]) list([33, 27]) list([26, 28]) list([14, 19, 26])\n",
      "  list([17, 21]) list([15, 0, 26]) list([25, 13, 28]) list([30, 14])\n",
      "  list([31, 9]) list([21, 17]) list([20]) list([1, 10])\n",
      "  list([26, 25, 32]) list([6, 28, 16]) list([13, 31, 16]) list([11, 19])\n",
      "  list([13, 33, 5]) list([22, 31, 7]) list([13, 1]) list([21, 12])\n",
      "  list([11, 33, 7]) list([7, 32, 6])]\n",
      " [list([27, 20]) list([10, 21]) list([12, 21]) list([26, 29])\n",
      "  list([9, 28]) list([16, 31]) list([31, 7]) list([30, 9]) list([27, 21])\n",
      "  list([21]) list([9, 33]) list([18, 11]) list([21, 26]) list([33, 26])\n",
      "  list([20, 26]) list([9, 30]) list([19, 10]) list([28, 14])\n",
      "  list([32, 27]) list([28, 14]) list([20, 26]) list([26, 18])\n",
      "  list([16, 21]) list([21]) list([21]) list([30, 14]) list([20, 21])\n",
      "  list([19, 27]) list([19, 10]) list([19])]\n",
      " [list([32, 27]) list([6, 31]) list([6, 31, 29]) list([10, 0, 27])\n",
      "  list([31, 17, 30]) list([25, 26, 30]) list([25, 30, 27])\n",
      "  list([33, 26, 5]) list([27, 29, 31]) list([26, 32]) list([21, 24, 27])\n",
      "  list([27, 33, 31]) list([27, 30]) list([20, 27]) list([7, 31])\n",
      "  list([19, 21, 33]) list([27, 33]) list([2, 30, 14]) list([14, 33, 20])\n",
      "  list([28, 26]) list([23, 6, 28]) list([9, 31, 1]) list([28, 0, 9])\n",
      "  list([3]) list([32, 29, 4]) list([27, 33]) list([13, 24, 32])\n",
      "  list([7, 31]) list([10, 9, 33]) list([23, 6, 28])]\n",
      " [list([31, 4]) list([27, 19]) list([23, 21, 26]) list([24, 27, 19])\n",
      "  list([31, 6, 15]) list([14, 30, 21]) list([20]) list([21, 12])\n",
      "  list([28, 6]) list([27, 30]) list([21]) list([19, 26])\n",
      "  list([21, 8, 32]) list([21]) list([25, 26, 20]) list([31, 19, 14])\n",
      "  list([30, 7]) list([8, 33]) list([30, 9, 21]) list([32, 17])\n",
      "  list([29, 9, 28]) list([18, 27]) list([5, 32]) list([30, 12, 4])\n",
      "  list([20, 27, 15]) list([19, 29]) list([8, 32, 11]) list([21, 19])\n",
      "  list([33, 27]) list([6, 28])]\n",
      " [list([11, 19]) list([26, 17, 30]) list([12, 21]) list([26, 31])\n",
      "  list([11, 30, 17]) list([27, 24, 1]) list([32, 14, 12]) list([29, 27])\n",
      "  list([10, 19]) list([20]) list([7, 31, 29]) list([30, 13])\n",
      "  list([27, 20, 22]) list([26, 1, 16]) list([9, 28]) list([16, 5, 31])\n",
      "  list([13, 30]) list([28, 6]) list([20, 11, 26]) list([23, 28, 6])\n",
      "  list([30, 29, 7]) list([19, 16]) list([31, 6, 30]) list([31, 25, 7])\n",
      "  list([20, 17]) list([33, 26]) list([4, 28, 29]) list([15, 29, 2])\n",
      "  list([7, 17, 32]) list([14, 33, 31])]\n",
      " [list([26, 28]) list([10, 19]) list([25, 26, 32]) list([28, 5, 17])\n",
      "  list([30, 15, 27]) list([18, 27]) list([33, 12, 13]) list([13, 9, 32])\n",
      "  list([15, 6, 28]) list([29, 26, 25]) list([18, 19]) list([30, 27])\n",
      "  list([20, 13, 33]) list([14, 31]) list([6, 28]) list([20, 13])\n",
      "  list([11, 19]) list([30, 26]) list([30, 20, 26]) list([4, 28, 11])\n",
      "  list([30, 13, 5]) list([7, 29, 32]) list([21, 19]) list([10, 23, 20])\n",
      "  list([26, 32]) list([17, 18]) list([10, 23, 0]) list([17, 30, 29])\n",
      "  list([14, 1]) list([5, 31])]\n",
      " [list([19]) list([7, 32]) list([14, 30]) list([10, 20]) list([10, 20])\n",
      "  list([31, 27]) list([27, 31]) list([32, 14]) list([9, 30])\n",
      "  list([31, 26]) list([21, 27]) list([28, 6]) list([30, 27])\n",
      "  list([27, 33]) list([20, 27]) list([15, 19]) list([11, 21])\n",
      "  list([14, 30]) list([10, 20]) list([1, 10]) list([31, 16])\n",
      "  list([13, 30]) list([26, 20]) list([28, 26]) list([21, 12])\n",
      "  list([13, 28]) list([32, 26]) list([28, 14]) list([20]) list([20, 27])]\n",
      " [list([26, 28]) list([21, 9, 31]) list([9, 33, 2]) list([31, 29, 17])\n",
      "  list([28, 27]) list([33, 14, 1]) list([32, 30, 26]) list([21, 9, 31])\n",
      "  list([20, 21, 15]) list([18, 6, 31]) list([26, 16, 30]) list([18, 19])\n",
      "  list([26, 29]) list([28, 26]) list([31, 18, 9]) list([30, 29, 14])\n",
      "  list([20, 26]) list([4, 31, 20]) list([29, 15, 2]) list([33, 5])\n",
      "  list([27, 31]) list([33, 9, 15]) list([26, 30]) list([21, 27, 30])\n",
      "  list([19, 15]) list([21, 31, 14]) list([29, 21, 16]) list([31, 22, 4])\n",
      "  list([26, 28, 25]) list([29, 14, 26])]\n",
      " [list([21]) list([15, 19]) list([20, 24]) list([33, 17]) list([29, 10])\n",
      "  list([21, 25, 26]) list([6, 28]) list([20]) list([12, 30, 17])\n",
      "  list([21]) list([9, 33]) list([26, 12, 30]) list([0, 7, 30])\n",
      "  list([13, 11, 33]) list([17, 32]) list([10, 1, 29]) list([18, 26])\n",
      "  list([33, 18, 22]) list([19, 11]) list([9, 28]) list([33, 12])\n",
      "  list([19, 26]) list([1, 10]) list([17, 32, 11]) list([26, 33])\n",
      "  list([27, 21]) list([8, 32]) list([7, 30, 0]) list([19, 32, 12])\n",
      "  list([31, 14])]]\n"
     ]
    }
   ],
   "source": [
    "import glob\n",
    "import os\n",
    "import json\n",
    "import numpy as np\n",
    "import matplotlib.pyplot as plt\n",
    "\n",
    "folderO=['data_files/raw/' + filename for filename \\\n",
    "                  in os.listdir('data_files/raw/') if filename.startswith(\"MC_results6_\")]\n",
    "perf4=np.empty([20,30])\n",
    "comb4=np.empty([20,30],dtype=object)\n",
    "file_type = r'\\*json'\n",
    "row=0\n",
    "for folder in folderO:\n",
    "    folderI=[folder + '/' + filename for filename \\\n",
    "                  in os.listdir(folder) ]\n",
    "    column=0\n",
    "    print(folder)\n",
    "    for folder2 in folderI:\n",
    "        #print(folder2)\n",
    "        list_of_files = glob.glob(folder2 + file_type)\n",
    "        #print(list_of_files)\n",
    "        latest_file = max(list_of_files, key=os.path.getmtime)\n",
    "        print(latest_file)\n",
    "        with open(latest_file) as json_file:\n",
    "            data = json.load(json_file)\n",
    "            perf4[row,column]=data['performance']\n",
    "            comb4[row,column]=data['encoded_solution']\n",
    "        column=column+1\n",
    "    row=row+1\n",
    "\n",
    "# Creating plot\n",
    "#plt.boxplot(vec)\n",
    "\n",
    "# show plot\n",
    "#plt.show()\n",
    "print(perf4)\n",
    "print(comb4)"
   ],
   "metadata": {
    "collapsed": false,
    "pycharm": {
     "name": "#%%\n"
    }
   }
  },
  {
   "cell_type": "code",
   "execution_count": 39,
   "outputs": [
    {
     "data": {
      "text/plain": "<Figure size 1080x1080 with 4 Axes>",
      "image/png": "[encoded data removed]"
     },
     "metadata": {
      "needs_background": "light"
     },
     "output_type": "display_data"
    }
   ],
   "source": [
    "C_A=[perf4[0,:],perf4[1,:],perf4[2,:],perf4[3,:],perf4[4,:]]\n",
    "C_W=[perf4[5,:],perf4[6,:],perf4[7,:],perf4[8,:],perf4[9,:]]\n",
    "G_A=[perf4[10,:],perf4[11,:],perf4[12,:],perf4[13,:],perf4[14,:]]\n",
    "G_W=[perf4[15,:],perf4[16,:],perf4[17,:],perf4[18,:],perf4[19,:]]\n",
    "\n",
    "\n",
    "#labels = ['Default', '50 Agents', 'Cardinality 2', '50 Iterations', '10 Stagnation']\n",
    "labels = ['Default', 'Config 1', 'Config 2', 'Config 3', 'Config 4']\n",
    "\n",
    "fig = plt.figure(figsize =(15, 15))\n",
    "ax1 =fig.add_subplot(2,2,1)\n",
    "plt.boxplot(C_A)\n",
    "plt.title(\"Copper-Air\")\n",
    "plt.ylabel(\"Evaluation Metric\")\n",
    "plt.xlabel(\"Experiment Configuration\")\n",
    "#plt.yscale(\"log\")\n",
    "plt.xticks([1, 2, 3, 4, 5], labels)\n",
    "ax2 =fig.add_subplot(2,2,2)\n",
    "plt.boxplot(C_W)\n",
    "plt.title(\"Copper-Water\")\n",
    "plt.ylabel(\"Evaluation Metric\")\n",
    "plt.xlabel(\"Experiment Configuration\")\n",
    "#plt.yscale(\"log\")\n",
    "plt.xticks([1, 2, 3, 4, 5], labels)\n",
    "ax3 =fig.add_subplot(2,2,3)\n",
    "plt.boxplot(G_A)\n",
    "plt.title(\"Graphite-Air\")\n",
    "plt.ylabel(\"Evaluation Metric\")\n",
    "plt.xlabel(\"Experiment Configuration\")\n",
    "#plt.yscale(\"log\")\n",
    "plt.xticks([1, 2, 3, 4, 5], labels)\n",
    "ax4 =fig.add_subplot(2,2,4)\n",
    "plt.boxplot(G_W)\n",
    "plt.title(\"Graphite-Water\")\n",
    "plt.ylabel(\"Evaluation Metric\")\n",
    "plt.xlabel(\"Experiment Configuration\")\n",
    "#plt.yscale(\"log\")\n",
    "plt.xticks([1, 2, 3, 4, 5], labels)\n",
    "plt.gcf()\n",
    "plt.savefig('resultsHH2.jpg')\n",
    "plt.show()\n"
   ],
   "metadata": {
    "collapsed": false,
    "pycharm": {
     "name": "#%%\n"
    }
   }
  },
  {
   "cell_type": "code",
   "execution_count": 40,
   "outputs": [],
   "source": [
    "dat = np.array([C_A,C_W,G_A,G_W])\n",
    "np.save('data_memo',dat)"
   ],
   "metadata": {
    "collapsed": false,
    "pycharm": {
     "name": "#%%\n"
    }
   }
  },
  {
   "cell_type": "code",
   "execution_count": 41,
   "outputs": [
    {
     "name": "stdout",
     "output_type": "stream",
     "text": [
      "[[0. 0. 0. 1. 0. 0. 0. 1. 7. 1. 0. 0. 0. 2. 0. 0. 0. 2. 1. 1.]]\n"
     ]
    }
   ],
   "source": [
    "index4=np.empty([1,20])\n",
    "operators4=np.empty([1,20])\n",
    "for i in range(0,20):\n",
    "    y=perf4[i,:]\n",
    "    x=np.argmin(y)\n",
    "    index4[0,i]=x\n",
    "print(index4)"
   ],
   "metadata": {
    "collapsed": false,
    "pycharm": {
     "name": "#%%\n"
    }
   }
  },
  {
   "cell_type": "code",
   "execution_count": 42,
   "outputs": [
    {
     "data": {
      "text/plain": "[[28, 27, 11],\n [28, 26, 16],\n [17, 31],\n [29, 26, 33],\n [30, 15, 8],\n [15, 20],\n [32, 7, 13],\n [31, 13],\n [26, 33],\n [28, 18, 13],\n [26, 32],\n [20, 15],\n [27, 20],\n [6, 31, 29],\n [31, 4],\n [11, 19],\n [26, 28],\n [14, 30],\n [21, 9, 31],\n [15, 19]]"
     },
     "execution_count": 42,
     "metadata": {},
     "output_type": "execute_result"
    }
   ],
   "source": [
    "ind_best_perf = np.argmin(perf4, axis=1)\n",
    "best_mhs = [comb4[row, col] for row, col in enumerate(ind_best_perf)]\n",
    "best_mhs"
   ],
   "metadata": {
    "collapsed": false,
    "pycharm": {
     "name": "#%%\n"
    }
   }
  },
  {
   "cell_type": "code",
   "execution_count": 43,
   "outputs": [
    {
     "name": "stdout",
     "output_type": "stream",
     "text": [
      "[28 27 11 ... 12 31 14]\n"
     ]
    }
   ],
   "source": [
    "ac_tot=[]\n",
    "\n",
    "for y in range(0,len(comb4)):\n",
    "    arr_tot= np.array(comb4[y], dtype=object)\n",
    "    for i in range(0,len(arr_tot)):\n",
    "        w_tot=np.array(arr_tot[i])\n",
    "        for z in range(0,len(w_tot)):\n",
    "            ac_tot.append(w_tot[z])\n",
    "\n",
    "ac_tot=np.array(ac_tot)\n",
    "print(ac_tot)"
   ],
   "metadata": {
    "collapsed": false,
    "pycharm": {
     "name": "#%%\n"
    }
   }
  },
  {
   "cell_type": "code",
   "execution_count": 44,
   "outputs": [
    {
     "name": "stdout",
     "output_type": "stream",
     "text": [
      "['0', '1', '2', '3', '4', '5', '6', '7', '8', '9', '10', '11', '12', '13', '14', '15', '16', '17', '18', '19', '20', '21', '22', '23', '24', '25', '26', '27', '28', '29', '30', '31', '32', '33']\n",
      "[0, 1, 2, 3, 4, 5, 6, 7, 8, 9, 10, 11, 12, 13, 14, 15, 16, 17, 18, 19, 20, 21, 22, 23, 24, 25, 26, 27, 28, 29, 30, 31, 32, 33]\n",
      "[20, 21, 12, 2, 24, 15, 32, 28, 13, 41, 46, 33, 32, 47, 39, 28, 32, 34, 36, 68, 67, 82, 10, 16, 17, 12, 109, 78, 73, 51, 82, 87, 61, 67]\n"
     ]
    }
   ],
   "source": [
    "sorted=np.sort(ac_tot);\n",
    "num=[];\n",
    "num2=[];\n",
    "frec=[];\n",
    "ind=[];\n",
    "count=0;\n",
    "while len(sorted)>0:\n",
    "    num.append(str(sorted[0]))\n",
    "    num2.append(sorted[0])\n",
    "    cand=sorted[0]\n",
    "    for i in range(0,len(sorted)):\n",
    "        if cand == sorted[i]:\n",
    "            count=count+1\n",
    "            ind.append(i)\n",
    "    frec.append(count)\n",
    "    count=0\n",
    "    sorted=np.delete(sorted,ind)\n",
    "    ind=[];\n",
    "print(num)\n",
    "print(num2)\n",
    "print(frec)"
   ],
   "metadata": {
    "collapsed": false,
    "pycharm": {
     "name": "#%%\n"
    }
   }
  },
  {
   "cell_type": "code",
   "execution_count": 45,
   "outputs": [
    {
     "name": "stdout",
     "output_type": "stream",
     "text": [
      "[55, 444, 253, 55, 608]\n",
      "['differential mutation', 'genetic crossover', 'random flight', 'spiral dynamic', 'swarm dynamic']\n"
     ]
    }
   ],
   "source": [
    "fam=['differential mutation','genetic crossover','random flight','spiral dynamic','swarm dynamic']\n",
    "frec2=[0,0,0,0,0]\n",
    "for i in range(0,len(num2)):\n",
    "    if num2[i] >= 0 and num2[i] <= 3:\n",
    "        frec2[0]= frec2[0] + frec[i]\n",
    "    elif num2[i] >= 4 and num2[i] <= 17:\n",
    "        frec2[1]= frec2[1] + frec[i]\n",
    "    elif num2[i] >= 18 and num2[i] <= 21:\n",
    "        frec2[2]= frec2[2] + frec[i]\n",
    "    elif num2[i] >= 22 and num2[i] <= 25:\n",
    "        frec2[3]= frec2[3] + frec[i]\n",
    "    elif num2[i] >= 26 and num2[i] <= 33:\n",
    "        frec2[4]= frec2[4] + frec[i]\n",
    "\n",
    "print(frec2)\n",
    "print(fam)"
   ],
   "metadata": {
    "collapsed": false,
    "pycharm": {
     "name": "#%%\n"
    }
   }
  },
  {
   "cell_type": "code",
   "execution_count": 46,
   "outputs": [
    {
     "data": {
      "text/plain": "<Figure size 640x480 with 1 Axes>",
      "image/png": "[encoded data removed]"
     },
     "metadata": {
      "needs_background": "light"
     },
     "output_type": "display_data"
    }
   ],
   "source": [
    "from matplotlib.pyplot import figure\n",
    "\n",
    "figure(figsize=(8, 6), dpi=80)\n",
    "plt.bar(num, frec, color ='maroon',\n",
    "        width = 0.4)\n",
    "plt.xticks(range(len(num)), num, rotation='vertical')\n",
    "plt.xlabel(\"Operator Number\")\n",
    "plt.ylabel(\"Frequency\")\n",
    "plt.gcf()\n",
    "plt.savefig('resultsBG5.jpg')\n",
    "plt.show()"
   ],
   "metadata": {
    "collapsed": false,
    "pycharm": {
     "name": "#%%\n"
    }
   }
  },
  {
   "cell_type": "code",
   "execution_count": 21,
   "outputs": [
    {
     "data": {
      "text/plain": "<Figure size 640x480 with 1 Axes>",
      "image/png": "[encoded data removed]"
     },
     "metadata": {
      "needs_background": "light"
     },
     "output_type": "display_data"
    }
   ],
   "source": [
    "figure(figsize=(8, 6), dpi=80)\n",
    "plt.bar(fam, frec2, color ='maroon',\n",
    "        width = 0.4)\n",
    "plt.xticks(range(len(fam)), fam, rotation='vertical')\n",
    "plt.xlabel(\"Operator Family\")\n",
    "plt.ylabel(\"Frequency\")\n",
    "plt.gcf()\n",
    "plt.savefig('resultsBG6.jpg',bbox_inches='tight')\n",
    "plt.show()"
   ],
   "metadata": {
    "collapsed": false,
    "pycharm": {
     "name": "#%%\n"
    }
   }
  },
  {
   "cell_type": "code",
   "execution_count": 59,
   "outputs": [
    {
     "name": "stdout",
     "output_type": "stream",
     "text": [
      "data_files/raw/MC_results7_Copper_Air\n",
      "data_files/raw/MC_results7_Copper_Air_Ag_50\n",
      "data_files/raw/MC_results7_Copper_Air_Card_2\n",
      "data_files/raw/MC_results7_Copper_Air_It_50\n",
      "data_files/raw/MC_results7_Copper_Air_Stag_10\n",
      "data_files/raw/MC_results7_Copper_Wat\n",
      "data_files/raw/MC_results7_Copper_Wat_Ag_50\n",
      "data_files/raw/MC_results7_Copper_Wat_Card_2\n",
      "data_files/raw/MC_results7_Copper_Wat_It_50\n",
      "data_files/raw/MC_results7_Copper_Wat_Stag_10\n",
      "data_files/raw/MC_results7_Graphite_Air\n",
      "data_files/raw/MC_results7_Graphite_Air_Ag_50\n",
      "data_files/raw/MC_results7_Graphite_Air_Card_2\n",
      "data_files/raw/MC_results7_Graphite_Air_It_50\n",
      "data_files/raw/MC_results7_Graphite_Air_Stag_10\n",
      "data_files/raw/MC_results7_Graphite_Wat\n",
      "data_files/raw/MC_results7_Graphite_Wat_Ag_50\n",
      "data_files/raw/MC_results7_Graphite_Wat_Card_2\n",
      "data_files/raw/MC_results7_Graphite_Wat_It_50\n",
      "data_files/raw/MC_results7_Graphite_Wat_Stag_10\n",
      "[[ 0.17211985  0.17211985  0.17211985  0.17211985  0.17211985  0.17211985\n",
      "   0.17211985  0.17211985  0.17211985  0.17211985  0.17211985  0.17211985\n",
      "   0.17211985  0.17211985  0.17211985  0.17211985  0.17211985  0.17211985\n",
      "   0.17211985  0.17211985  0.17211985  0.17211985  0.17211985  0.17211985\n",
      "   0.17211985  0.17211985  0.17211985  0.17211985  0.17211985  0.17211985]\n",
      " [ 0.17211985  0.17211985  0.17211985  0.17211985  0.17211985  0.17211985\n",
      "   0.17211985  0.17211985  0.17211985  0.17211985  0.17211985  0.17211985\n",
      "   0.17211985  0.17211985  0.17211985  0.17211985  0.17211985  0.17211985\n",
      "   0.17211985  0.17211985  0.17211985  0.17211985  0.17211985  0.17211985\n",
      "   0.17211985  0.17211985  0.17211985  0.17211985  0.17211985  0.17211985]\n",
      " [ 0.17211985  0.17211985  0.17211985  0.17211985  0.17211985  0.17211985\n",
      "   0.17211985  0.17211985  0.17211985  0.17211985  0.17211985  0.17211985\n",
      "   0.17211985  0.17211985  0.17211985  0.17211985  0.17211985  0.17211985\n",
      "   0.17211985  0.17211985  0.17211985  0.17211985  0.17211985  0.17211985\n",
      "   0.17211985  0.17211985  0.17211985  0.17211985  0.17211985  0.17211985]\n",
      " [ 0.17211985  0.17211985  0.17211985  0.17211985  0.17211985  0.17211985\n",
      "   0.17211985  0.17211985  0.17211985  0.17211985  0.17211985  0.17211985\n",
      "   0.17211985  0.17211985  0.17211985  0.17211985  0.17211985  0.17211985\n",
      "   0.17211985  0.17211985  0.17211985  0.17211985  0.17211985  0.17211985\n",
      "   0.17211985  0.17211985  0.17211985  0.17211985  0.17211985  0.17211985]\n",
      " [ 0.17211985  0.17211985  0.17211985  0.17211985  0.17211985  0.17211985\n",
      "   0.17211985  0.17211985  0.17211985  0.17211985  0.17211985  0.17211985\n",
      "   0.17211985  0.17211985  0.17211985  0.17211985  0.17211985  0.17211985\n",
      "   0.17211985  0.17211985  0.17211985  0.17211985  0.17211985  0.17211986\n",
      "   0.17211985  0.17211985  0.17211985  0.17211985  0.17211985  0.17211985]\n",
      " [94.36182206 94.36182206 94.36182206 94.36182206 94.36182206 94.36182206\n",
      "  94.36182206 94.36182206 94.36182206 94.36182206 94.36182206 94.36182206\n",
      "  94.36182206 94.36182206 94.36182206 94.36182206 94.36182206 94.36182206\n",
      "  94.36182206 94.36182206 94.36182206 94.36182206 94.36182206 94.36182206\n",
      "  94.36182206 94.36182206 94.36182206 94.36182206 94.36182206 94.36182206]\n",
      " [94.36182206 94.36182206 94.36182206 94.36182206 94.36182206 94.36182206\n",
      "  94.36182206 94.36182206 94.36182206 94.36182206 94.36182206 94.36182206\n",
      "  94.36182206 94.36182206 94.36182206 94.36182206 94.36182206 94.36182206\n",
      "  94.36182206 94.36182206 94.36182206 94.36182206 94.36182206 94.36182206\n",
      "  94.36182206 94.36182206 94.36182206 94.36182206 94.36182206 94.36182206]\n",
      " [94.36182206 94.36182206 94.36182206 94.36182206 94.36182206 94.36182206\n",
      "  94.36182206 94.36182206 94.36182206 94.36182206 94.36182206 94.36182206\n",
      "  94.36182206 94.36182206 94.36182206 94.36182206 94.36182206 94.36182206\n",
      "  94.36182206 94.36182206 94.36182206 94.36182206 94.36182206 94.36182206\n",
      "  94.36182206 94.36182206 94.36182206 94.36182206 94.36182206 94.36182206]\n",
      " [94.36182206 94.36182206 94.36182206 94.36182206 94.36182206 94.36182206\n",
      "  94.36182206 94.36182206 94.36182206 94.36182206 94.36182206 94.36182206\n",
      "  94.36182206 94.36182206 94.36182206 94.36182206 94.36182206 94.36182206\n",
      "  94.36182206 94.36182206 94.36182206 94.36182206 94.36182206 94.36182206\n",
      "  94.36182206 94.36182206 94.36182206 94.36182206 94.36182206 94.36182206]\n",
      " [94.36182206 94.36182206 94.36182206 94.36182206 94.36182206 94.36182206\n",
      "  94.36182206 94.36182206 94.36182206 94.36182206 94.36182206 94.36182206\n",
      "  94.36182206 94.36182206 94.36182206 94.36182206 94.36182206 94.36182206\n",
      "  94.36182206 94.36182206 94.36182206 94.36182206 94.36182206 94.36182206\n",
      "  94.36182206 94.36182206 94.36182206 94.36182206 94.36182206 94.36182206]\n",
      " [ 0.17211984  0.17211984  0.17211984  0.17211984  0.17211984  0.17211984\n",
      "   0.17211984  0.17211984  0.17211984  0.17211984  0.17211984  0.17211984\n",
      "   0.17211984  0.17211984  0.17211984  0.17211984  0.17211984  0.17211984\n",
      "   0.17211984  0.17211984  0.17211984  0.17211984  0.17211984  0.17211984\n",
      "   0.17211984  0.17211984  0.17211984  0.17211984  0.17211984  0.17211984]\n",
      " [ 0.17211984  0.17211984  0.17211984  0.17211984  0.17211984  0.17211984\n",
      "   0.17211984  0.17211984  0.17211984  0.17211984  0.17211984  0.17211984\n",
      "   0.17211984  0.17211984  0.17211984  0.17211984  0.17211984  0.17211984\n",
      "   0.17211984  0.17211984  0.17211984  0.17211984  0.17211984  0.17211984\n",
      "   0.17211984  0.17211984  0.17211984  0.17211984  0.17211984  0.17211984]\n",
      " [ 0.17211984  0.17211984  0.17211984  0.17211984  0.17211984  0.17211984\n",
      "   0.17211984  0.17211984  0.17211984  0.17211984  0.17211984  0.17211984\n",
      "   0.17211984  0.17211984  0.17211984  0.17211984  0.17211984  0.17211984\n",
      "   0.17211984  0.17211984  0.17211984  0.17211984  0.17211984  0.17211984\n",
      "   0.17211984  0.17211984  0.17211984  0.17211984  0.17211984  0.17211984]\n",
      " [ 0.17211984  0.17211984  0.17211984  0.17211984  0.17211984  0.17211984\n",
      "   0.17211984  0.17211984  0.17211984  0.17211984  0.17211984  0.17211984\n",
      "   0.17211984  0.17211984  0.17211984  0.17211984  0.17211984  0.17211984\n",
      "   0.17211984  0.17211984  0.17211984  0.17211984  0.17211984  0.17211984\n",
      "   0.17211984  0.17211984  0.17211984  0.17211984  0.17211984  0.17211984]\n",
      " [ 0.17211984  0.17211984  0.17211984  0.17211984  0.17211984  0.17218048\n",
      "   0.17211984  0.17211984  0.17211984  0.17211984  0.17211984  0.17211984\n",
      "   0.17211984  0.17211984  0.17211984  0.17211984  0.17211984  0.17211984\n",
      "   0.17211984  0.17211984  0.17211984  0.17211984  0.17211984  0.17211984\n",
      "   0.17211984  0.17211984  0.17211984  0.17211984  0.17211984  0.17211984]\n",
      " [94.36182203 94.36182203 94.36182203 94.36182203 94.36182203 94.36182203\n",
      "  94.36182203 94.36182203 94.36182203 94.36182203 94.36182203 94.36182203\n",
      "  94.36182203 94.36182203 94.36182203 94.36182203 94.36182203 94.36182203\n",
      "  94.36182203 94.36182203 94.36182203 94.36182203 94.36182203 94.36182203\n",
      "  94.36182203 94.36182203 94.36182203 94.36182203 94.36182203 94.36182203]\n",
      " [94.36182203 94.36182203 94.36182203 94.36182203 94.36182203 94.36182203\n",
      "  94.36182203 94.36182203 94.36182203 94.36182203 94.36182203 94.36182203\n",
      "  94.36182203 94.36182203 94.36182203 94.36182203 94.36182203 94.36182203\n",
      "  94.36182203 94.36182203 94.36182203 94.36182203 94.36182203 94.36182203\n",
      "  94.36182203 94.36182203 94.36182203 94.36182203 94.36182203 94.36182203]\n",
      " [94.36182203 94.36182203 94.36182203 94.36182203 94.36182203 94.36182203\n",
      "  94.36182203 94.36182203 94.36182203 94.36182203 94.36182203 94.36182203\n",
      "  94.36182203 94.36182203 94.36182203 94.36182203 94.36182203 94.36182203\n",
      "  94.36182203 94.36182203 94.36182203 94.36182203 94.36182203 94.36182203\n",
      "  94.36182203 94.36182203 94.36182203 94.36182203 94.36182203 94.36182203]\n",
      " [94.36182203 94.36182203 94.36182203 94.36182203 94.36182203 94.36182203\n",
      "  94.36182203 94.36182203 94.36182203 94.36182203 94.36182203 94.36182203\n",
      "  94.36182203 94.36182203 94.36182203 94.36182203 94.36182203 94.36182203\n",
      "  94.36182203 94.36182203 94.36182203 94.36182203 94.36182203 94.36182203\n",
      "  94.36182203 94.36182203 94.36182203 94.36182203 94.36182203 94.36182203]\n",
      " [94.36182203 94.36182203 94.36182203 94.36182203 94.36182215 94.36182203\n",
      "  94.36182203 94.36182203 94.36182203 94.36182203 94.36182203 94.36182203\n",
      "  94.36182203 94.36182203 94.36182203 94.36182203 94.36182203 94.36182203\n",
      "  94.36182204 94.36182203 94.36182203 94.36182203 94.36182203 94.36182203\n",
      "  94.36182203 94.36182203 94.36182203 94.36182203 94.36182203 94.36182203]]\n",
      "[[list([2, 8]) list([5, 6]) list([10, 0]) list([10, 7]) list([8, 0])\n",
      "  list([5, 6]) list([11, 6]) list([2, 8]) list([4, 7, 13])\n",
      "  list([3, 6, 5]) list([3, 5]) list([6, 11]) list([6, 3]) list([10, 2])\n",
      "  list([6, 12, 8]) list([7, 10]) list([6, 13]) list([1, 3]) list([6, 11])\n",
      "  list([8, 2]) list([5, 6]) list([7, 9]) list([6, 13]) list([6, 3])\n",
      "  list([9, 7]) list([1, 5]) list([2, 10, 5]) list([1, 2, 13])\n",
      "  list([7, 4]) list([11, 7])]\n",
      " [list([11, 6]) list([4, 7, 11]) list([2, 12, 1]) list([9, 12, 6])\n",
      "  list([7, 13]) list([3]) list([6, 10]) list([8, 7]) list([11, 0, 9])\n",
      "  list([13, 6]) list([9, 11, 7]) list([3]) list([11, 2]) list([7, 10])\n",
      "  list([3]) list([6, 8]) list([2, 11, 7]) list([12, 6]) list([7, 10])\n",
      "  list([9, 6]) list([11, 9, 0]) list([9, 7]) list([4, 3]) list([3])\n",
      "  list([4, 3]) list([3, 6]) list([10, 7]) list([7, 12]) list([1, 3])\n",
      "  list([2, 0, 12])]\n",
      " [list([3, 7]) list([2, 10]) list([8, 6]) list([11, 6]) list([4, 5])\n",
      "  list([6, 12]) list([1, 3]) list([6, 13]) list([5, 7]) list([2, 11])\n",
      "  list([7, 13]) list([7, 3]) list([7, 8]) list([4, 7]) list([6, 12])\n",
      "  list([5, 6]) list([2, 10]) list([1, 3]) list([3, 5]) list([8, 7])\n",
      "  list([8, 2]) list([5, 7]) list([4, 6]) list([12, 6]) list([7, 12])\n",
      "  list([7, 11]) list([6, 10]) list([8, 7]) list([0, 8]) list([5, 3])]\n",
      " [list([5, 2, 10]) list([8, 5, 6]) list([11, 9, 2]) list([6, 10])\n",
      "  list([6, 10, 7]) list([0, 4, 11]) list([6, 9, 12]) list([13, 0])\n",
      "  list([12, 9, 2]) list([6, 13, 7]) list([2, 8, 9]) list([6, 7, 3])\n",
      "  list([2, 12, 7]) list([11, 0]) list([0, 3, 11]) list([9, 2, 6])\n",
      "  list([8, 6]) list([12, 5, 6]) list([11, 13, 6]) list([5, 8, 6])\n",
      "  list([10, 9, 0]) list([7, 9, 2]) list([7, 11, 2]) list([6, 9, 8])\n",
      "  list([1, 5, 4]) list([6, 8, 7]) list([4, 3]) list([10, 7, 2])\n",
      "  list([0, 9, 7]) list([6, 9, 2])]\n",
      " [list([6, 13]) list([2, 1, 13]) list([7, 5]) list([11, 7, 13])\n",
      "  list([1, 12, 6]) list([7, 10]) list([4, 6]) list([12, 0]) list([5, 4])\n",
      "  list([9, 7, 4]) list([13, 7]) list([7, 5]) list([11, 13, 2])\n",
      "  list([12, 7]) list([12, 7]) list([5, 13, 2]) list([2, 8]) list([13, 7])\n",
      "  list([6, 13]) list([3, 13, 7]) list([7, 4, 3]) list([9, 0, 7])\n",
      "  list([3, 1]) list([1, 9]) list([12, 5, 2]) list([1, 4]) list([6, 8])\n",
      "  list([3, 11, 0]) list([3, 1]) list([0, 11])]\n",
      " [list([7, 10, 5]) list([8, 6]) list([6, 7, 11]) list([7, 10])\n",
      "  list([10, 0]) list([6, 10]) list([12, 7]) list([6, 8]) list([11, 6])\n",
      "  list([0, 9, 13]) list([6, 13]) list([3, 6]) list([5, 6]) list([2, 8])\n",
      "  list([1, 8, 7]) list([5, 7, 3]) list([8, 0]) list([1, 9, 5])\n",
      "  list([12, 6, 5]) list([10, 2]) list([2, 8, 9]) list([0, 8, 11])\n",
      "  list([7, 4]) list([7, 4]) list([3, 2, 12]) list([5, 6])\n",
      "  list([13, 7, 1]) list([6, 12]) list([12, 6]) list([2, 7, 11])]\n",
      " [list([13, 7, 10]) list([8, 6]) list([11, 6]) list([4, 3]) list([6, 13])\n",
      "  list([12, 6]) list([7, 13]) list([6, 10]) list([8, 6]) list([6, 3])\n",
      "  list([10, 2]) list([4, 5]) list([13, 7]) list([8, 0]) list([0, 10])\n",
      "  list([2, 11]) list([5, 2, 10]) list([9, 5, 2]) list([2, 8])\n",
      "  list([3, 6, 4]) list([4, 3]) list([0, 10]) list([5, 7]) list([4, 5])\n",
      "  list([6, 9]) list([12, 7]) list([2, 11]) list([5, 7]) list([7, 3])\n",
      "  list([2, 12, 6])]\n",
      " [list([11, 2]) list([1, 5]) list([3, 4]) list([11, 6]) list([13, 6])\n",
      "  list([5, 4]) list([13, 7]) list([2, 8]) list([10, 0]) list([6, 11])\n",
      "  list([2, 10]) list([6, 13]) list([6, 13]) list([1, 4]) list([6, 10])\n",
      "  list([8, 2]) list([6, 11]) list([13, 7]) list([6, 3]) list([9, 7])\n",
      "  list([2, 8]) list([1, 5]) list([7, 11]) list([1, 3]) list([13, 6])\n",
      "  list([7, 13]) list([8, 2]) list([10, 2]) list([7, 9]) list([3, 6])]\n",
      " [list([5, 6, 13]) list([3, 0, 11]) list([7, 11, 2]) list([6, 4, 11])\n",
      "  list([6, 10, 7]) list([6, 13]) list([13, 6]) list([4, 11, 7])\n",
      "  list([11, 7, 13]) list([7, 11]) list([13, 3, 6]) list([5, 2, 11])\n",
      "  list([6, 4, 13]) list([12, 7, 9]) list([7, 5, 8]) list([0, 10, 5])\n",
      "  list([11, 9, 0]) list([0, 7, 11]) list([7, 10, 6]) list([9, 13, 6])\n",
      "  list([12, 6, 2]) list([12, 6, 3]) list([6, 10, 7]) list([3, 10, 6])\n",
      "  list([2, 11, 4]) list([12, 7]) list([7, 5, 10]) list([9, 7, 6])\n",
      "  list([7, 4]) list([2, 13, 9])]\n",
      " [list([7, 9]) list([2, 10]) list([2, 8]) list([12, 6]) list([10, 7])\n",
      "  list([12, 7]) list([12, 7]) list([4, 1]) list([6, 10]) list([5, 9, 7])\n",
      "  list([9, 5, 1]) list([11, 7]) list([10, 1, 0]) list([6, 13])\n",
      "  list([0, 13]) list([8, 6]) list([2, 10]) list([7, 10]) list([10, 2])\n",
      "  list([9, 7]) list([3, 6, 13]) list([8, 2]) list([0, 1, 13])\n",
      "  list([3, 4, 6]) list([11, 2]) list([13, 4, 0]) list([13, 11, 6])\n",
      "  list([6, 8]) list([7, 10]) list([10, 0])]\n",
      " [list([2, 12, 1]) list([7, 5]) list([5, 3]) list([8, 7]) list([1, 4, 5])\n",
      "  list([7, 10]) list([2, 8]) list([4, 6]) list([4, 10, 2]) list([6, 5])\n",
      "  list([5, 10, 6]) list([8, 2]) list([8, 11, 6]) list([12, 7])\n",
      "  list([13, 7]) list([7, 8]) list([12, 6, 5]) list([8, 6]) list([4, 5])\n",
      "  list([10, 0, 3]) list([5, 4]) list([13, 7]) list([3, 7, 9])\n",
      "  list([4, 3]) list([6, 12]) list([13, 6, 12]) list([3, 0, 13])\n",
      "  list([11, 6]) list([2, 10, 4]) list([5, 7])]\n",
      " [list([2, 5]) list([7, 10]) list([3, 9, 2]) list([5, 7]) list([8, 7])\n",
      "  list([5, 0, 8]) list([8, 2]) list([6, 12, 11]) list([7, 11, 3])\n",
      "  list([6, 4, 13]) list([2, 3]) list([8, 0, 2]) list([9, 7])\n",
      "  list([13, 12, 7]) list([6, 5]) list([12, 7]) list([8, 7]) list([2, 11])\n",
      "  list([12, 7]) list([2, 5]) list([4, 7, 0]) list([7, 3])\n",
      "  list([10, 5, 6]) list([4, 6]) list([6, 3]) list([8, 6]) list([9, 7])\n",
      "  list([3]) list([8, 7]) list([6, 12])]\n",
      " [list([6, 11]) list([1, 4]) list([9, 7]) list([0, 10]) list([6, 11])\n",
      "  list([4, 3]) list([11, 2]) list([3, 5]) list([5, 4]) list([7, 12])\n",
      "  list([6, 3]) list([3, 5]) list([11, 6]) list([4, 1]) list([11, 0])\n",
      "  list([7, 5]) list([11, 7]) list([6, 4]) list([13, 6]) list([3, 6])\n",
      "  list([4, 5]) list([7, 3]) list([7, 4]) list([4, 6]) list([2, 11])\n",
      "  list([3, 4]) list([3, 7]) list([1, 5]) list([7, 12]) list([5, 7])]\n",
      " [list([13, 5, 7]) list([10, 6]) list([9, 2, 10]) list([6, 4, 12])\n",
      "  list([10, 5, 7]) list([7, 10]) list([0, 12, 6]) list([6, 8, 7])\n",
      "  list([0, 12, 9]) list([5, 6, 7]) list([3, 11, 0]) list([12, 6, 11])\n",
      "  list([0, 12, 9]) list([13, 5, 6]) list([0, 11, 5]) list([8, 7, 9])\n",
      "  list([5, 2, 8]) list([0, 13, 5]) list([0, 11, 5]) list([6, 2, 13])\n",
      "  list([8, 6]) list([7, 9, 11]) list([12, 6]) list([6, 10]) list([6, 8])\n",
      "  list([0, 8, 5]) list([6, 9]) list([3, 5]) list([8, 9, 2])\n",
      "  list([6, 7, 12])]\n",
      " [list([12, 7]) list([11, 6]) list([9, 0, 13]) list([4, 0, 12])\n",
      "  list([11, 2]) list([4]) list([3, 4, 5]) list([6, 9, 11]) list([10, 0])\n",
      "  list([0, 6, 9]) list([9, 8, 2]) list([3]) list([7, 10, 2])\n",
      "  list([13, 6, 9]) list([11, 7]) list([7, 8, 3]) list([5, 6])\n",
      "  list([6, 8, 0]) list([9, 0, 13]) list([2, 10]) list([5, 13, 2])\n",
      "  list([5, 2, 13]) list([8, 7, 5]) list([2, 11]) list([6, 10])\n",
      "  list([6, 11, 12]) list([11, 3, 2]) list([9, 7]) list([11, 6])\n",
      "  list([10, 7])]\n",
      " [list([8, 7]) list([0, 3, 11]) list([10, 2]) list([1, 10, 7])\n",
      "  list([8, 2, 7]) list([2, 8]) list([10, 2, 11]) list([8, 7])\n",
      "  list([6, 13]) list([7, 4]) list([7, 8, 5]) list([6, 10]) list([10, 6])\n",
      "  list([6, 8]) list([7, 11, 13]) list([3, 0, 11]) list([2, 10])\n",
      "  list([2, 10]) list([8, 4, 2]) list([10, 2]) list([0, 10, 5])\n",
      "  list([8, 0]) list([2, 12, 9]) list([0, 5, 10]) list([3, 7])\n",
      "  list([7, 12]) list([7, 13]) list([6, 13]) list([11, 7]) list([4, 8, 7])]\n",
      " [list([2, 10]) list([6, 5]) list([4, 6]) list([6, 7, 3]) list([7, 12])\n",
      "  list([13, 7]) list([13, 6, 11]) list([13, 7]) list([9, 6, 3])\n",
      "  list([3, 4, 1]) list([2, 10]) list([0, 13]) list([11, 6]) list([10, 7])\n",
      "  list([6, 3]) list([7, 13]) list([0, 12]) list([0, 10]) list([5, 2, 3])\n",
      "  list([6, 11]) list([0, 2, 13]) list([3, 4]) list([13, 0, 11])\n",
      "  list([1, 10, 0]) list([0, 10]) list([7, 12]) list([0, 10]) list([4, 1])\n",
      "  list([12, 6]) list([7, 8])]\n",
      " [list([12, 7]) list([5, 7]) list([11, 2]) list([5, 6]) list([8, 6])\n",
      "  list([3, 6]) list([9, 6]) list([6, 13]) list([1, 3]) list([6, 12])\n",
      "  list([7, 11]) list([2, 10]) list([5, 4]) list([6, 4]) list([3])\n",
      "  list([7, 8]) list([8, 6]) list([7, 13]) list([13, 6]) list([8, 2])\n",
      "  list([3, 7]) list([0, 8]) list([6, 8]) list([2, 10]) list([4, 3])\n",
      "  list([13, 7]) list([3, 6]) list([8, 7]) list([5, 4]) list([6, 8])]\n",
      " [list([6, 12]) list([3, 2, 11]) list([8, 6]) list([4, 13, 6])\n",
      "  list([12, 6]) list([8, 6]) list([5, 6]) list([4, 2, 11])\n",
      "  list([6, 10, 9]) list([9, 2, 8]) list([4, 8, 7]) list([6, 3, 10])\n",
      "  list([0, 13, 9]) list([9, 0, 7]) list([2, 5, 11]) list([13, 7, 2])\n",
      "  list([13, 6, 5]) list([9, 2, 13]) list([4, 3, 5]) list([7, 12, 6])\n",
      "  list([5, 3, 1]) list([6, 12]) list([10, 7]) list([0, 5, 11])\n",
      "  list([5, 6, 8]) list([4, 0, 11]) list([5, 1, 3]) list([10, 6, 3])\n",
      "  list([0, 1, 8]) list([10, 6, 8])]\n",
      " [list([11, 2, 7]) list([8, 7]) list([13, 5, 7]) list([2, 11])\n",
      "  list([9, 1, 10]) list([13, 2, 1]) list([12, 2, 9]) list([5, 11, 2])\n",
      "  list([4, 0, 13]) list([1, 5]) list([2, 8]) list([6, 5]) list([7, 13])\n",
      "  list([3, 6]) list([2, 10]) list([13, 5, 0]) list([5, 1])\n",
      "  list([8, 7, 1]) list([5]) list([7, 4]) list([7, 6, 10])\n",
      "  list([2, 11, 5]) list([13, 6, 10]) list([7, 4]) list([7, 6, 13])\n",
      "  list([6, 5]) list([6, 10]) list([13, 1, 2]) list([12, 2, 1])\n",
      "  list([1, 12, 0])]]\n"
     ]
    }
   ],
   "source": [
    "import glob\n",
    "import os\n",
    "import json\n",
    "import numpy as np\n",
    "import matplotlib.pyplot as plt\n",
    "\n",
    "folderO=['data_files/raw/' + filename for filename \\\n",
    "                  in os.listdir('data_files/raw/') if filename.startswith(\"MC_results7_\")]\n",
    "perf5=np.empty([20,30])\n",
    "comb5=np.empty([20,30],dtype=object)\n",
    "file_type = r'\\*json'\n",
    "row=0\n",
    "for folder in folderO:\n",
    "    folderI=[folder + '/' + filename for filename \\\n",
    "                  in os.listdir(folder) ]\n",
    "    column=0\n",
    "    print(folder)\n",
    "    for folder2 in folderI:\n",
    "        #print(folder2)\n",
    "        list_of_files = glob.glob(folder2 + file_type)\n",
    "        #print(list_of_files)\n",
    "        latest_file = max(list_of_files, key=os.path.getmtime)\n",
    "        #print(latest_file)\n",
    "        with open(latest_file) as json_file:\n",
    "            data = json.load(json_file)\n",
    "            perf5[row,column]=data['performance']\n",
    "            comb5[row,column]=data['encoded_solution']\n",
    "        column=column+1\n",
    "    row=row+1\n",
    "\n",
    "# Creating plot\n",
    "#plt.boxplot(vec)\n",
    "\n",
    "# show plot\n",
    "#plt.show()\n",
    "print(perf5)\n",
    "print(comb5)"
   ],
   "metadata": {
    "collapsed": false,
    "pycharm": {
     "name": "#%%\n"
    }
   }
  },
  {
   "cell_type": "code",
   "execution_count": 60,
   "outputs": [
    {
     "name": "stdout",
     "output_type": "stream",
     "text": [
      "CA\n",
      "Average of list:  0.17211985470659324\n",
      "Standart Deviation:  0.0\n",
      "CV:  0.0\n",
      "\n",
      "\n",
      "CA_AG\n",
      "Average of list:  0.17211985470659324\n",
      "Standart Deviation:  0.0\n",
      "CV:  0.0\n",
      "\n",
      "\n",
      "CA_CARD\n",
      "Average of list:  0.17211985470659324\n",
      "Standart Deviation:  0.0\n",
      "CV:  0.0\n",
      "\n",
      "\n",
      "CA_IT\n",
      "Average of list:  0.17211985471143762\n",
      "Standart Deviation:  2.6529299002527405e-11\n",
      "CV:  1.5413270622964624e-10\n",
      "\n",
      "\n",
      "CA_STAG\n",
      "Average of list:  0.17211985473646674\n",
      "Standart Deviation:  1.6362391325457352e-10\n",
      "CV:  9.506393873333127e-10\n",
      "\n",
      "\n",
      "CW\n",
      "Average of list:  94.3618220593968\n",
      "Standart Deviation:  0.0\n",
      "CV:  0.0\n",
      "\n",
      "\n",
      "CW_AG\n",
      "Average of list:  94.3618220593968\n",
      "Standart Deviation:  0.0\n",
      "CV:  0.0\n",
      "\n",
      "\n",
      "CW_CARD\n",
      "Average of list:  94.3618220593968\n",
      "Standart Deviation:  0.0\n",
      "CV:  0.0\n",
      "\n",
      "\n",
      "CW_IT\n",
      "Average of list:  94.36182205941483\n",
      "Standart Deviation:  9.718663624163069e-11\n",
      "CV:  1.0299359859799783e-12\n",
      "\n",
      "\n",
      "CW_STAG\n",
      "Average of list:  94.36182205939681\n",
      "Standart Deviation:  3.115305608245512e-14\n",
      "CV:  3.301447068587291e-16\n",
      "\n",
      "\n",
      "GA\n",
      "Average of list:  0.17211983831426717\n",
      "Standart Deviation:  0.0\n",
      "CV:  0.0\n",
      "\n",
      "\n",
      "GA_AG\n",
      "Average of list:  0.17211983831426717\n",
      "Standart Deviation:  0.0\n",
      "CV:  0.0\n",
      "\n",
      "\n",
      "GA_CARD\n",
      "Average of list:  0.17211983831426717\n",
      "Standart Deviation:  0.0\n",
      "CV:  0.0\n",
      "\n",
      "\n",
      "GA_IT\n",
      "Average of list:  0.1721198383142682\n",
      "Standart Deviation:  5.5175272843971155e-15\n",
      "CV:  3.205631226728691e-14\n",
      "\n",
      "\n",
      "GA_STAG\n",
      "Average of list:  0.17212185969810992\n",
      "Standart Deviation:  1.1071575277441008e-05\n",
      "CV:  6.432405097678936e-05\n",
      "\n",
      "\n",
      "GW\n",
      "Average of list:  94.36182203379079\n",
      "Standart Deviation:  0.0\n",
      "CV:  0.0\n",
      "\n",
      "\n",
      "GW_AG\n",
      "Average of list:  94.36182203379079\n",
      "Standart Deviation:  0.0\n",
      "CV:  0.0\n",
      "\n",
      "\n",
      "GW_CARD\n",
      "Average of list:  94.36182203379082\n",
      "Standart Deviation:  1.6864478992713713e-13\n",
      "CV:  1.787214217490901e-15\n",
      "\n",
      "\n",
      "GW_IT\n",
      "Average of list:  94.36182203379215\n",
      "Standart Deviation:  6.311598504940823e-12\n",
      "CV:  6.688720468624017e-14\n",
      "\n",
      "\n",
      "GW_STAG\n",
      "Average of list:  94.36182203785089\n",
      "Standart Deviation:  2.1918236907675514e-08\n",
      "CV:  2.3227865289506132e-10\n",
      "\n",
      "\n"
     ]
    }
   ],
   "source": [
    "import statistics\n",
    "names=[\"CA\",\"CA_AG\",\"CA_CARD\",\"CA_IT\",\"CA_STAG\",\"CW\",\"CW_AG\",\"CW_CARD\",\"CW_IT\",\"CW_STAG\",\"GA\",\"GA_AG\",\"GA_CARD\",\"GA_IT\",\"GA_STAG\",\"GW\",\"GW_AG\",\"GW_CARD\",\"GW_IT\",\"GW_STAG\"]\n",
    "for i in range(0,20):\n",
    "    print(names[i])\n",
    "    average = sum(perf5[i,:])/len(perf5[i,:])\n",
    "    print(\"Average of list: \",average)\n",
    "    sdv=statistics.stdev(perf5[i,:])\n",
    "    print(\"Standart Deviation: \", sdv)\n",
    "    cv= sdv/average\n",
    "    print(\"CV: \", cv)\n",
    "    print(\"\")\n",
    "    print(\"\")"
   ],
   "metadata": {
    "collapsed": false,
    "pycharm": {
     "name": "#%%\n"
    }
   }
  },
  {
   "cell_type": "code",
   "execution_count": 53,
   "outputs": [
    {
     "data": {
      "text/plain": "<Figure size 1080x1080 with 4 Axes>",
      "image/png": "[encoded data removed]"
     },
     "metadata": {
      "needs_background": "light"
     },
     "output_type": "display_data"
    }
   ],
   "source": [
    "C_A=[perf5[0,:],perf5[1,:],perf5[2,:],perf5[3,:],perf5[4,:]]\n",
    "C_W=[perf5[5,:],perf5[6,:],perf5[7,:],perf5[8,:],perf5[9,:]]\n",
    "G_A=[perf5[10,:],perf5[11,:],perf5[12,:],perf5[13,:],perf5[14,:]]\n",
    "G_W=[perf5[15,:],perf5[16,:],perf5[17,:],perf5[18,:],perf5[19,:]]\n",
    "\n",
    "\n",
    "#labels = ['Default', '50 Agents', 'Cardinality 2', '50 Iterations', '10 Stagnation']\n",
    "labels = ['Default', 'Config 1', 'Config 2', 'Config 3', 'Config 4']\n",
    "\n",
    "fig = plt.figure(figsize =(15, 15))\n",
    "ax1 =fig.add_subplot(2,2,1)\n",
    "plt.boxplot(C_A)\n",
    "plt.title(\"Copper-Air\")\n",
    "plt.ylabel(\"Evaluation Metric\")\n",
    "plt.xlabel(\"Experiment Configuration\")\n",
    "#plt.yscale(\"log\")\n",
    "plt.xticks([1, 2, 3, 4, 5], labels)\n",
    "ax2 =fig.add_subplot(2,2,2)\n",
    "plt.boxplot(C_W)\n",
    "plt.title(\"Copper-Water\")\n",
    "plt.ylabel(\"Evaluation Metric\")\n",
    "plt.xlabel(\"Experiment Configuration\")\n",
    "#plt.yscale(\"log\")\n",
    "plt.xticks([1, 2, 3, 4, 5], labels)\n",
    "ax3 =fig.add_subplot(2,2,3)\n",
    "plt.boxplot(G_A)\n",
    "plt.title(\"Graphite-Air\")\n",
    "plt.ylabel(\"Evaluation Metric\")\n",
    "plt.xlabel(\"Experiment Configuration\")\n",
    "#plt.yscale(\"log\")\n",
    "plt.xticks([1, 2, 3, 4, 5], labels)\n",
    "ax4 =fig.add_subplot(2,2,4)\n",
    "plt.boxplot(G_W)\n",
    "plt.title(\"Graphite-Water\")\n",
    "plt.ylabel(\"Evaluation Metric\")\n",
    "plt.xlabel(\"Experiment Configuration\")\n",
    "#plt.yscale(\"log\")\n",
    "plt.xticks([1, 2, 3, 4, 5], labels)\n",
    "plt.gcf()\n",
    "plt.savefig('resultsHH3.jpg')\n",
    "plt.show()"
   ],
   "metadata": {
    "collapsed": false,
    "pycharm": {
     "name": "#%%\n"
    }
   }
  },
  {
   "cell_type": "code",
   "execution_count": 54,
   "outputs": [],
   "source": [
    "dat = np.array([C_A,C_W,G_A,G_W])\n",
    "np.save('data_memo',dat)"
   ],
   "metadata": {
    "collapsed": false,
    "pycharm": {
     "name": "#%%\n"
    }
   }
  },
  {
   "cell_type": "code",
   "execution_count": 26,
   "outputs": [
    {
     "name": "stdout",
     "output_type": "stream",
     "text": [
      "[[0. 0. 0. 1. 0. 0. 0. 0. 1. 0. 0. 0. 0. 2. 0. 0. 0. 0. 1. 0.]]\n"
     ]
    }
   ],
   "source": [
    "index5=np.empty([1,20])\n",
    "operators5=np.empty([1,20])\n",
    "for i in range(0,20):\n",
    "    y=perf5[i,:]\n",
    "    x=np.argmin(y)\n",
    "    index5[0,i]=x\n",
    "print(index5)"
   ],
   "metadata": {
    "collapsed": false,
    "pycharm": {
     "name": "#%%\n"
    }
   }
  },
  {
   "cell_type": "code",
   "execution_count": 65,
   "outputs": [
    {
     "data": {
      "text/plain": "[[2, 8],\n [11, 6],\n [3, 7],\n [8, 5, 6],\n [6, 13],\n [7, 10, 5],\n [13, 7, 10],\n [11, 2],\n [3, 0, 11],\n [7, 9],\n [2, 12, 1],\n [2, 5],\n [6, 11],\n [9, 2, 10],\n [12, 7],\n [8, 7],\n [2, 10],\n [12, 7],\n [3, 2, 11],\n [11, 2, 7]]"
     },
     "execution_count": 65,
     "metadata": {},
     "output_type": "execute_result"
    }
   ],
   "source": [
    "ind_best_perf = np.argmin(perf5, axis=1)\n",
    "best_mhs = [comb5[row, col] for row, col in enumerate(ind_best_perf)]\n",
    "best_mhs"
   ],
   "metadata": {
    "collapsed": false,
    "pycharm": {
     "name": "#%%\n"
    }
   }
  },
  {
   "cell_type": "code",
   "execution_count": 69,
   "outputs": [
    {
     "name": "stdout",
     "output_type": "stream",
     "text": [
      "8.43236006574362e-05\n"
     ]
    }
   ],
   "source": [
    "a= 0.1721225498874615\n",
    "s= 1.4513993160849943e-05\n",
    "x=s/a\n",
    "print(x)"
   ],
   "metadata": {
    "collapsed": false,
    "pycharm": {
     "name": "#%%\n"
    }
   }
  },
  {
   "cell_type": "code",
   "execution_count": 28,
   "outputs": [
    {
     "name": "stdout",
     "output_type": "stream",
     "text": [
      "[ 2  8  5 ...  1 12  0]\n"
     ]
    }
   ],
   "source": [
    "ac_tot=[]\n",
    "\n",
    "for y in range(0,len(comb5)):\n",
    "    arr_tot= np.array(comb5[y], dtype=object)\n",
    "    for i in range(0,len(arr_tot)):\n",
    "        w_tot=np.array(arr_tot[i])\n",
    "        for z in range(0,len(w_tot)):\n",
    "            ac_tot.append(w_tot[z])\n",
    "\n",
    "ac_tot=np.array(ac_tot)\n",
    "print(ac_tot)"
   ],
   "metadata": {
    "collapsed": false,
    "pycharm": {
     "name": "#%%\n"
    }
   }
  },
  {
   "cell_type": "code",
   "execution_count": 29,
   "outputs": [
    {
     "name": "stdout",
     "output_type": "stream",
     "text": [
      "['0', '1', '2', '3', '4', '5', '6', '7', '8', '9', '10', '11', '12', '13']\n",
      "[0, 1, 2, 3, 4, 5, 6, 7, 8, 9, 10, 11, 12, 13]\n",
      "[76, 46, 118, 92, 76, 108, 197, 183, 93, 66, 95, 94, 71, 92]\n"
     ]
    }
   ],
   "source": [
    "sorted=np.sort(ac_tot);\n",
    "num=[];\n",
    "num2=[];\n",
    "frec=[];\n",
    "ind=[];\n",
    "count=0;\n",
    "while len(sorted)>0:\n",
    "    num.append(str(sorted[0]))\n",
    "    num2.append(sorted[0])\n",
    "    cand=sorted[0]\n",
    "    for i in range(0,len(sorted)):\n",
    "        if cand == sorted[i]:\n",
    "            count=count+1\n",
    "            ind.append(i)\n",
    "    frec.append(count)\n",
    "    count=0\n",
    "    sorted=np.delete(sorted,ind)\n",
    "    ind=[];\n",
    "print(num)\n",
    "print(num2)\n",
    "print(frec)"
   ],
   "metadata": {
    "collapsed": false,
    "pycharm": {
     "name": "#%%\n"
    }
   }
  },
  {
   "cell_type": "code",
   "execution_count": 31,
   "outputs": [
    {
     "name": "stdout",
     "output_type": "stream",
     "text": [
      "['0', '1', '2', '3', '4', '5', '6', '7', '8', '9', '10', '11', '12', '13']\n",
      "[0, 1, 2, 3, 4, 5, 6, 7, 8, 9, 10, 11, 12, 13]\n",
      "[76, 46, 118, 92, 76, 108, 197, 183, 93, 66, 95, 94, 71, 92]\n"
     ]
    }
   ],
   "source": [
    "sorted=np.sort(ac_tot);\n",
    "num=[];\n",
    "num2=[];\n",
    "frec=[];\n",
    "ind=[];\n",
    "count=0;\n",
    "while len(sorted)>0:\n",
    "    num.append(str(sorted[0]))\n",
    "    num2.append(sorted[0])\n",
    "    cand=sorted[0]\n",
    "    for i in range(0,len(sorted)):\n",
    "        if cand == sorted[i]:\n",
    "            count=count+1\n",
    "            ind.append(i)\n",
    "    frec.append(count)\n",
    "    count=0\n",
    "    sorted=np.delete(sorted,ind)\n",
    "    ind=[];\n",
    "print(num)\n",
    "print(num2)\n",
    "print(frec)"
   ],
   "metadata": {
    "collapsed": false,
    "pycharm": {
     "name": "#%%\n"
    }
   }
  },
  {
   "cell_type": "code",
   "execution_count": 32,
   "outputs": [
    {
     "name": "stdout",
     "output_type": "stream",
     "text": [
      "[240, 276, 891]\n",
      "['genetic crossover', 'random flight', 'swarm dynamic']\n"
     ]
    }
   ],
   "source": [
    "fam=['genetic crossover','random flight','swarm dynamic']\n",
    "frec2=[0,0,0]\n",
    "for i in range(0,len(num2)):\n",
    "    if num2[i] >= 0 and num2[i] <= 2:\n",
    "        frec2[0]= frec2[0] + frec[i]\n",
    "    elif num2[i] >= 3 and num2[i] <= 5:\n",
    "        frec2[1]= frec2[1] + frec[i]\n",
    "    elif num2[i] >= 6 and num2[i] <= 13:\n",
    "        frec2[2]= frec2[2] + frec[i]\n",
    "\n",
    "print(frec2)\n",
    "print(fam)"
   ],
   "metadata": {
    "collapsed": false,
    "pycharm": {
     "name": "#%%\n"
    }
   }
  },
  {
   "cell_type": "code",
   "execution_count": 33,
   "outputs": [
    {
     "data": {
      "text/plain": "<Figure size 640x480 with 1 Axes>",
      "image/png": "[encoded data removed]"
     },
     "metadata": {
      "needs_background": "light"
     },
     "output_type": "display_data"
    }
   ],
   "source": [
    "from matplotlib.pyplot import figure\n",
    "\n",
    "figure(figsize=(8, 6), dpi=80)\n",
    "plt.bar(num, frec, color ='maroon',\n",
    "        width = 0.4)\n",
    "plt.xticks(range(len(num)), num, rotation='vertical')\n",
    "plt.xlabel(\"Operator Number\")\n",
    "plt.ylabel(\"Frequency\")\n",
    "plt.gcf()\n",
    "plt.savefig('resultsBG7.jpg')\n",
    "plt.show()"
   ],
   "metadata": {
    "collapsed": false,
    "pycharm": {
     "name": "#%%\n"
    }
   }
  },
  {
   "cell_type": "code",
   "execution_count": 34,
   "outputs": [
    {
     "data": {
      "text/plain": "<Figure size 640x480 with 1 Axes>",
      "image/png": "[encoded data removed]"
     },
     "metadata": {
      "needs_background": "light"
     },
     "output_type": "display_data"
    }
   ],
   "source": [
    "figure(figsize=(8, 6), dpi=80)\n",
    "plt.bar(fam, frec2, color ='maroon',\n",
    "        width = 0.4)\n",
    "plt.xticks(range(len(fam)), fam, rotation='vertical')\n",
    "plt.xlabel(\"Operator Family\")\n",
    "plt.ylabel(\"Frequency\")\n",
    "plt.gcf()\n",
    "plt.savefig('resultsBG8.jpg',bbox_inches='tight')\n",
    "plt.show()"
   ],
   "metadata": {
    "collapsed": false,
    "pycharm": {
     "name": "#%%\n"
    }
   }
  },
  {
   "cell_type": "code",
   "execution_count": 34,
   "outputs": [],
   "source": [],
   "metadata": {
    "collapsed": false,
    "pycharm": {
     "name": "#%%\n"
    }
   }
  },
  {
   "cell_type": "code",
   "execution_count": null,
   "outputs": [],
   "source": [],
   "metadata": {
    "collapsed": false,
    "pycharm": {
     "name": "#%%\n"
    }
   }
  }
 ],
 "metadata": {
  "kernelspec": {
   "display_name": "Python 3",
   "language": "python",
   "name": "python3"
  },
  "language_info": {
   "codemirror_mode": {
    "name": "ipython",
    "version": 2
   },
   "file_extension": ".py",
   "mimetype": "text/x-python",
   "name": "python",
   "nbconvert_exporter": "python",
   "pygments_lexer": "ipython2",
   "version": "2.7.6"
  }
 },
 "nbformat": 4,
 "nbformat_minor": 0
}
