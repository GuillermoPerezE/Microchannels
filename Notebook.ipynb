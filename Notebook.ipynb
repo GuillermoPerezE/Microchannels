{
 "cells": [
  {
   "cell_type": "markdown",
   "source": [
    "# CUSTOMHyS for Designing Microchannel Heat Sinks"
   ],
   "metadata": {
    "collapsed": false,
    "pycharm": {
     "name": "#%% md\n"
    }
   }
  },
  {
   "cell_type": "markdown",
   "source": [
    "## 0. Packages' installation and loading"
   ],
   "metadata": {
    "collapsed": false,
    "pycharm": {
     "name": "#%% md\n"
    }
   }
  },
  {
   "cell_type": "code",
   "execution_count": 1,
   "outputs": [
    {
     "data": {
      "text/plain": "'/Users/jcrvz/PycharmProjects/Microchannels'"
     },
     "execution_count": 1,
     "metadata": {},
     "output_type": "execute_result"
    }
   ],
   "source": [
    "%pwd"
   ],
   "metadata": {
    "collapsed": false,
    "pycharm": {
     "name": "#%%\n"
    }
   }
  },
  {
   "cell_type": "markdown",
   "source": [
    "Instalamos el paquete de Customhys directo del repositorio"
   ],
   "metadata": {
    "collapsed": false,
    "pycharm": {
     "name": "#%% md\n"
    }
   }
  },
  {
   "cell_type": "code",
   "execution_count": 2,
   "outputs": [
    {
     "name": "stdout",
     "output_type": "stream",
     "text": [
      "Requirement already satisfied: install in /Users/jcrvz/.pyenv/versions/3.8.13/lib/python3.8/site-packages (1.3.5)\r\n",
      "Requirement already satisfied: customhys==1.0.1.dev1 in /Users/jcrvz/.pyenv/versions/3.8.13/lib/python3.8/site-packages (1.0.1.dev1)\r\n",
      "\u001B[33mWARNING: You are using pip version 22.0.4; however, version 22.1 is available.\r\n",
      "You should consider upgrading via the '/Users/jcrvz/.pyenv/versions/3.8.13/bin/python3.8 -m pip install --upgrade pip' command.\u001B[0m\u001B[33m\r\n",
      "\u001B[0m"
     ]
    }
   ],
   "source": [
    "!pip3 install install customhys==1.0.1.dev1"
   ],
   "metadata": {
    "collapsed": false,
    "pycharm": {
     "name": "#%%\n"
    }
   }
  },
  {
   "cell_type": "markdown",
   "source": [
    "Cargamos los paquetes que vamos a utilizar"
   ],
   "metadata": {
    "collapsed": false,
    "pycharm": {
     "name": "#%% md\n"
    }
   }
  },
  {
   "cell_type": "code",
   "execution_count": 11,
   "metadata": {
    "collapsed": true,
    "pycharm": {
     "name": "#%%\n"
    }
   },
   "outputs": [],
   "source": [
    "import numpy as np\n",
    "from microchannels import Microchannel\n",
    "from materials import Copper, Air\n",
    "from customhys import metaheuristic as mh"
   ]
  },
  {
   "cell_type": "markdown",
   "source": [
    "## 1. Microchannel Heat Sink model preparation\n",
    "En esta parte, preparamos el modelo para utilizarlo y evaluar una configuración de parámetros de diseño en la función objetivo, que en este caso será al generación de entropía."
   ],
   "metadata": {
    "collapsed": false,
    "pycharm": {
     "name": "#%% md\n"
    }
   }
  },
  {
   "cell_type": "code",
   "execution_count": 73,
   "outputs": [],
   "source": [
    "class MicrochannelDesign():\n",
    "    def __init__(self):\n",
    "        self.model = Microchannel(base=Copper(), coolant=Air())\n",
    "        self.max_search_range = np.array([self.model.W_d/10, self.model.W_d/10, 0.005])\n",
    "        self.min_search_range = np.array([1e-24, 1e-12, 1e-8])\n",
    "        self.func_name = 'Microchannel entropy generation model'\n",
    "\n",
    "    def get_func_val(self, variables):\n",
    "        self.model.w_w = variables[0]\n",
    "        self.model.w_c = variables[1]\n",
    "        self.model.G_d = variables[2]\n",
    "        return self.model.sgen\n",
    "\n",
    "    def get_formatted_problem(self, is_constrained=True):\n",
    "        return dict(function=self.get_func_val,\n",
    "                    boundaries=(self.min_search_range, self.max_search_range),\n",
    "                    is_constrained=is_constrained)\n",
    "\n",
    "fun = MicrochannelDesign()"
   ],
   "metadata": {
    "collapsed": false,
    "pycharm": {
     "name": "#%%\n"
    }
   }
  },
  {
   "cell_type": "markdown",
   "source": [
    "## 2. Metaheuristic preparation"
   ],
   "metadata": {
    "collapsed": false,
    "pycharm": {
     "name": "#%% md\n"
    }
   }
  },
  {
   "cell_type": "code",
   "execution_count": 81,
   "outputs": [],
   "source": [
    "# Primero cargamos la colección de operadores\n",
    "with open('./source/collections/' + 'default.txt', 'r') as operators_file:\n",
    "    heuristic_space = [eval(line.rstrip('\\n')) for line in operators_file]"
   ],
   "metadata": {
    "collapsed": false,
    "pycharm": {
     "name": "#%%\n"
    }
   }
  },
  {
   "cell_type": "markdown",
   "source": [
    "Esta es la parte en donde, utilizando los operadores, ensamblamos la metaheurística a usar:"
   ],
   "metadata": {
    "collapsed": false,
    "pycharm": {
     "name": "#%% md\n"
    }
   }
  },
  {
   "cell_type": "code",
   "execution_count": null,
   "outputs": [],
   "source": [
    "# Metaheuristic 1: Random Search\n",
    "# heur = [('random_search', {'scale': 0.01, 'distribution': 'uniform'}, 'greedy')]\n",
    "\n",
    "# Metaheuristic 2: Particle Swarm & Genetic Linear Crossover with Random Pairing and Metropolis Selection\n",
    "heur = [('swarm_dynamic', {'factor': 0.7, 'self_conf': 2.54, 'swarm_conf': 2.56, 'version': 'inertial', 'distribution': 'uniform'}, 'all'),\n",
    "        ('genetic_crossover', {'pairing': 'random', 'crossover': 'linear_0.5_0.5', 'mating_pool_factor': 0.4}, 'metropolis')]"
   ],
   "metadata": {
    "collapsed": false,
    "pycharm": {
     "name": "#%%\n"
    }
   }
  },
  {
   "cell_type": "markdown",
   "source": [
    "Aquí terminamos de definirla empleando CUSTMHyS\n"
   ],
   "metadata": {
    "collapsed": false,
    "pycharm": {
     "name": "#%% md\n"
    }
   }
  },
  {
   "cell_type": "code",
   "execution_count": null,
   "outputs": [],
   "source": [
    "met = mh.Metaheuristic(fun.get_formatted_problem(is_constrained=True), heur , num_iterations=100)"
   ],
   "metadata": {
    "collapsed": false,
    "pycharm": {
     "name": "#%%\n"
    }
   }
  },
  {
   "cell_type": "markdown",
   "source": [
    "## 3. Run designing process"
   ],
   "metadata": {
    "collapsed": false,
    "pycharm": {
     "name": "#%% md\n"
    }
   }
  },
  {
   "cell_type": "code",
   "execution_count": 82,
   "outputs": [
    {
     "name": "stdout",
     "output_type": "stream",
     "text": [
      "\n",
      "Search operators to employ:\n",
      "swarm_dynamic(factor=0.7,self_conf=2.54,swarm_conf=2.56,version='inertial',distribution='uniform') with all\n",
      "genetic_crossover(pairing='random',crossover='linear_0.5_0.5',mating_pool_factor=0.4) with metropolis\n",
      "--------------------------------------------------\n",
      "1\n",
      "pop. radius: 1.3428176449281832\n",
      "x_best = [0.00023072 0.00116055 0.00197101], f_best = 0.10459404963626888\n",
      "2\n",
      "pop. radius: 2.0004254131252757\n",
      "x_best = [0.00023072 0.00116055 0.00197101], f_best = 0.10459404963626888\n",
      "3\n",
      "pop. radius: 1.7903762222747552\n",
      "x_best = [1.76910602e-05 8.36258803e-04 1.86187462e-03], f_best = 0.10280474445164438\n",
      "4\n",
      "pop. radius: 1.5408121796631844\n",
      "x_best = [1.76910602e-05 8.36258803e-04 1.86187462e-03], f_best = 0.10280474445164438\n",
      "5\n",
      "pop. radius: 1.9688665483078684\n",
      "x_best = [1.76910602e-05 8.36258803e-04 1.86187462e-03], f_best = 0.10280474445164438\n",
      "6\n",
      "pop. radius: 1.4358678973720207\n",
      "x_best = [0.00010343 0.00081301 0.00216853], f_best = 0.10087573833183161\n",
      "7\n",
      "pop. radius: 1.2518288212251034\n",
      "x_best = [0.00010343 0.00081301 0.00216853], f_best = 0.10087573833183161\n",
      "8\n",
      "pop. radius: 1.2782768769180288\n",
      "x_best = [0.00010343 0.00081301 0.00216853], f_best = 0.10087573833183161\n",
      "9\n",
      "pop. radius: 1.400450141607148\n",
      "x_best = [0.00010343 0.00081301 0.00216853], f_best = 0.10087573833183161\n",
      "10\n",
      "pop. radius: 0.987630515629824\n",
      "x_best = [0.00011473 0.00066142 0.00209579], f_best = 0.10071921886459148\n",
      "11\n",
      "pop. radius: 1.069615507187966\n",
      "x_best = [6.62466073e-05 6.45064428e-04 2.20041651e-03], f_best = 0.09972269659081555\n",
      "12\n",
      "pop. radius: 1.4482188649650414\n",
      "x_best = [6.62466073e-05 6.45064428e-04 2.20041651e-03], f_best = 0.09972269659081555\n",
      "13\n",
      "pop. radius: 1.485458319996335\n",
      "x_best = [6.62466073e-05 6.45064428e-04 2.20041651e-03], f_best = 0.09972269659081555\n",
      "14\n",
      "pop. radius: 1.566474093543416\n",
      "x_best = [6.62466073e-05 6.45064428e-04 2.20041651e-03], f_best = 0.09972269659081555\n",
      "15\n",
      "pop. radius: 1.4048269515670535\n",
      "x_best = [6.62466073e-05 6.45064428e-04 2.20041651e-03], f_best = 0.09972269659081555\n",
      "16\n",
      "pop. radius: 1.1850541164084711\n",
      "x_best = [6.62466073e-05 6.45064428e-04 2.20041651e-03], f_best = 0.09972269659081555\n",
      "17\n",
      "pop. radius: 1.2454382851413428\n",
      "x_best = [6.62466073e-05 6.45064428e-04 2.20041651e-03], f_best = 0.09972269659081555\n",
      "18\n",
      "pop. radius: 1.163255743382257\n",
      "x_best = [6.62466073e-05 6.45064428e-04 2.20041651e-03], f_best = 0.09972269659081555\n",
      "19\n",
      "pop. radius: 1.543740003475734\n",
      "x_best = [6.62466073e-05 6.45064428e-04 2.20041651e-03], f_best = 0.09972269659081555\n",
      "20\n",
      "pop. radius: 0.772611737049553\n",
      "x_best = [6.62466073e-05 6.45064428e-04 2.20041651e-03], f_best = 0.09972269659081555\n",
      "21\n",
      "pop. radius: 1.0107963337735515\n",
      "x_best = [3.72187502e-05 5.97242055e-04 2.21986007e-03], f_best = 0.09900466132339547\n",
      "22\n",
      "pop. radius: 0.6757056038735916\n",
      "x_best = [3.72187502e-05 5.97242055e-04 2.21986007e-03], f_best = 0.09900466132339547\n",
      "23\n",
      "pop. radius: 0.6049771040967212\n",
      "x_best = [3.72187502e-05 5.97242055e-04 2.21986007e-03], f_best = 0.09900466132339547\n",
      "24\n",
      "pop. radius: 0.636208670270048\n",
      "x_best = [3.72187502e-05 5.97242055e-04 2.21986007e-03], f_best = 0.09900466132339547\n",
      "25\n",
      "pop. radius: 0.5566695435019907\n",
      "x_best = [1.56040436e-05 5.38301867e-04 2.24105273e-03], f_best = 0.09887909123326083\n",
      "26\n",
      "pop. radius: 0.9327073673641146\n",
      "x_best = [1.56040436e-05 5.38301867e-04 2.24105273e-03], f_best = 0.09887909123326083\n",
      "27\n",
      "pop. radius: 0.7375464441488256\n",
      "x_best = [1.49154378e-05 4.54513805e-04 2.10640161e-03], f_best = 0.09868782013181296\n",
      "28\n",
      "pop. radius: 0.7821123723266147\n",
      "x_best = [1.49154378e-05 4.54513805e-04 2.10640161e-03], f_best = 0.09868782013181296\n",
      "29\n",
      "pop. radius: 0.8481069912587049\n",
      "x_best = [1.49154378e-05 4.54513805e-04 2.10640161e-03], f_best = 0.09868782013181296\n",
      "30\n",
      "pop. radius: 0.8496503458086779\n",
      "x_best = [1.49154378e-05 4.54513805e-04 2.10640161e-03], f_best = 0.09868782013181296\n",
      "31\n",
      "pop. radius: 0.5086248131757118\n",
      "x_best = [1.49154378e-05 4.54513805e-04 2.10640161e-03], f_best = 0.09868782013181296\n",
      "32\n",
      "pop. radius: 0.619863268008382\n",
      "x_best = [1.49154378e-05 4.54513805e-04 2.10640161e-03], f_best = 0.09868782013181296\n",
      "33\n",
      "pop. radius: 0.8403780947957883\n",
      "x_best = [1.85565539e-05 4.35308232e-04 2.08457628e-03], f_best = 0.09861356113901824\n",
      "34\n",
      "pop. radius: 0.7921217355139366\n",
      "x_best = [1.85565539e-05 4.35308232e-04 2.08457628e-03], f_best = 0.09861356113901824\n",
      "35\n",
      "pop. radius: 1.0836992619733627\n",
      "x_best = [1.88822654e-05 3.59480977e-04 2.07853734e-03], f_best = 0.09858956629330638\n",
      "36\n",
      "pop. radius: 1.1366285360422628\n",
      "x_best = [1.88822654e-05 3.59480977e-04 2.07853734e-03], f_best = 0.09858956629330638\n"
     ]
    },
    {
     "name": "stderr",
     "output_type": "stream",
     "text": [
      "/Users/jcrvz/PycharmProjects/Microchannels/source/microchannels.py:90: RuntimeWarning: divide by zero encountered in double_scalars\n",
      "  mHc = np.sqrt(2.0 * (2.0 * self.w_w + self.L_d) * self.h_avg / (\n",
      "/Users/jcrvz/PycharmProjects/Microchannels/source/microchannels.py:57: RuntimeWarning: divide by zero encountered in double_scalars\n",
      "  return self.w_c / self.w_w\n",
      "/Users/jcrvz/PycharmProjects/Microchannels/source/microchannels.py:152: RuntimeWarning: invalid value encountered in double_scalars\n",
      "  k_ce = 1.79 - 2.32 * (self.beta / (1 + self.beta)) + \\\n",
      "/Users/jcrvz/PycharmProjects/Microchannels/source/microchannels.py:153: RuntimeWarning: invalid value encountered in double_scalars\n",
      "  0.53 * (self.beta / (1 + self.beta)) ** 2\n"
     ]
    },
    {
     "name": "stdout",
     "output_type": "stream",
     "text": [
      "37\n",
      "pop. radius: 0.555790915945754\n",
      "x_best = [1.88822654e-05 3.59480977e-04 2.07853734e-03], f_best = 0.09858956629330638\n",
      "38\n",
      "pop. radius: 0.5831233651354993\n",
      "x_best = [1.88822654e-05 3.59480977e-04 2.07853734e-03], f_best = 0.09858956629330638\n",
      "39\n",
      "pop. radius: 0.41957088570221107\n",
      "x_best = [1.88822654e-05 3.59480977e-04 2.07853734e-03], f_best = 0.09858956629330638\n",
      "40\n",
      "pop. radius: 0.392566369019693\n",
      "x_best = [1.88822654e-05 3.59480977e-04 2.07853734e-03], f_best = 0.09858956629330638\n",
      "41\n",
      "pop. radius: 0.4858630291815411\n",
      "x_best = [1.88822654e-05 3.59480977e-04 2.07853734e-03], f_best = 0.09858956629330638\n",
      "42\n",
      "pop. radius: 0.3457979814565092\n",
      "x_best = [1.88822654e-05 3.59480977e-04 2.07853734e-03], f_best = 0.09858956629330638\n",
      "43\n",
      "pop. radius: 0.4132257767045401\n",
      "x_best = [1.88822654e-05 3.59480977e-04 2.07853734e-03], f_best = 0.09858956629330638\n",
      "44\n",
      "pop. radius: 0.47916850434904956\n",
      "x_best = [1.88822654e-05 3.59480977e-04 2.07853734e-03], f_best = 0.09858956629330638\n",
      "45\n",
      "pop. radius: 0.3363269315480286\n",
      "x_best = [1.85329201e-05 3.58254424e-04 2.15903059e-03], f_best = 0.098575617426342\n",
      "46\n",
      "pop. radius: 0.15424800169447783\n",
      "x_best = [1.85329201e-05 3.58254424e-04 2.15903059e-03], f_best = 0.098575617426342\n",
      "47\n",
      "pop. radius: 0.22966080293054728\n",
      "x_best = [1.85329201e-05 3.58254424e-04 2.15903059e-03], f_best = 0.098575617426342\n",
      "48\n",
      "pop. radius: 0.41995180510292857\n",
      "x_best = [1.85329201e-05 3.58254424e-04 2.15903059e-03], f_best = 0.098575617426342\n",
      "49\n",
      "pop. radius: 0.4171904417750851\n",
      "x_best = [1.90658033e-05 3.64495538e-04 2.12412090e-03], f_best = 0.098533969700366\n",
      "50\n",
      "pop. radius: 0.34370706702542847\n",
      "x_best = [1.90658033e-05 3.64495538e-04 2.12412090e-03], f_best = 0.098533969700366\n",
      "51\n",
      "pop. radius: 0.28105648009271983\n",
      "x_best = [1.88977403e-05 4.03763139e-04 2.16480832e-03], f_best = 0.09850022329909588\n",
      "52\n",
      "pop. radius: 0.6138585023340094\n",
      "x_best = [1.88977403e-05 4.03763139e-04 2.16480832e-03], f_best = 0.09850022329909588\n",
      "53\n",
      "pop. radius: 0.16829666545965316\n",
      "x_best = [1.88977403e-05 4.03763139e-04 2.16480832e-03], f_best = 0.09850022329909588\n",
      "54\n",
      "pop. radius: 0.19222318610172\n",
      "x_best = [1.88977403e-05 4.03763139e-04 2.16480832e-03], f_best = 0.09850022329909588\n",
      "55\n",
      "pop. radius: 0.4406829858885202\n",
      "x_best = [1.88977403e-05 4.03763139e-04 2.16480832e-03], f_best = 0.09850022329909588\n",
      "56\n",
      "pop. radius: 0.3727850056578444\n",
      "x_best = [1.88977403e-05 4.03763139e-04 2.16480832e-03], f_best = 0.09850022329909588\n",
      "57\n",
      "pop. radius: 0.211141662373378\n",
      "x_best = [1.88977403e-05 4.03763139e-04 2.16480832e-03], f_best = 0.09850022329909588\n",
      "58\n",
      "pop. radius: 0.37150286452444725\n",
      "x_best = [1.88977403e-05 4.03763139e-04 2.16480832e-03], f_best = 0.09850022329909588\n",
      "59\n",
      "pop. radius: 0.20491050002778252\n",
      "x_best = [1.88977403e-05 4.03763139e-04 2.16480832e-03], f_best = 0.09850022329909588\n",
      "60\n",
      "pop. radius: 0.16227232738407513\n",
      "x_best = [1.88977403e-05 4.03763139e-04 2.16480832e-03], f_best = 0.09850022329909588\n",
      "61\n",
      "pop. radius: 0.5534909211760509\n",
      "x_best = [2.25762605e-05 4.31342244e-04 2.16551166e-03], f_best = 0.09849839076337871\n",
      "62\n",
      "pop. radius: 0.07298137440424572\n",
      "x_best = [2.25762605e-05 4.31342244e-04 2.16551166e-03], f_best = 0.09849839076337871\n",
      "63\n",
      "pop. radius: 0.0811664360840781\n",
      "x_best = [1.79050629e-05 4.13606775e-04 2.18212919e-03], f_best = 0.09848107267438189\n",
      "64\n",
      "pop. radius: 0.17723183804113837\n",
      "x_best = [1.79050629e-05 4.13606775e-04 2.18212919e-03], f_best = 0.09848107267438189\n",
      "65\n",
      "pop. radius: 0.1744525062839421\n",
      "x_best = [2.08759714e-05 3.83295723e-04 2.16707454e-03], f_best = 0.09847338420942987\n",
      "66\n",
      "pop. radius: 0.08834298654281596\n",
      "x_best = [2.08759714e-05 3.83295723e-04 2.16707454e-03], f_best = 0.09847338420942987\n",
      "67\n",
      "pop. radius: 0.17900068884909648\n",
      "x_best = [2.08759714e-05 3.83295723e-04 2.16707454e-03], f_best = 0.09847338420942987\n",
      "68\n",
      "pop. radius: 0.09364923550153216\n",
      "x_best = [2.08759714e-05 3.83295723e-04 2.16707454e-03], f_best = 0.09847338420942987\n",
      "69\n",
      "pop. radius: 0.1719674467988564\n",
      "x_best = [2.08759714e-05 3.83295723e-04 2.16707454e-03], f_best = 0.09847338420942987\n",
      "70\n",
      "pop. radius: 0.2504594420167234\n",
      "x_best = [2.08759714e-05 3.83295723e-04 2.16707454e-03], f_best = 0.09847338420942987\n",
      "71\n",
      "pop. radius: 0.20031682513277482\n",
      "x_best = [2.08759714e-05 3.83295723e-04 2.16707454e-03], f_best = 0.09847338420942987\n",
      "72\n",
      "pop. radius: 0.20344851407114675\n",
      "x_best = [2.08759714e-05 3.83295723e-04 2.16707454e-03], f_best = 0.09847338420942987\n",
      "73\n",
      "pop. radius: 0.23770413277270735\n",
      "x_best = [2.08759714e-05 3.83295723e-04 2.16707454e-03], f_best = 0.09847338420942987\n",
      "74\n",
      "pop. radius: 0.10264890549318845\n",
      "x_best = [2.08759714e-05 3.83295723e-04 2.16707454e-03], f_best = 0.09847338420942987\n",
      "75\n",
      "pop. radius: 0.16488191573794053\n",
      "x_best = [2.08759714e-05 3.83295723e-04 2.16707454e-03], f_best = 0.09847338420942987\n",
      "76\n",
      "pop. radius: 0.14918455371097597\n",
      "x_best = [2.08759714e-05 3.83295723e-04 2.16707454e-03], f_best = 0.09847338420942987\n",
      "77\n",
      "pop. radius: 0.3935032464121257\n",
      "x_best = [2.08759714e-05 3.83295723e-04 2.16707454e-03], f_best = 0.09847338420942987\n",
      "78\n",
      "pop. radius: 0.18461739246733325\n",
      "x_best = [2.08759714e-05 3.83295723e-04 2.16707454e-03], f_best = 0.09847338420942987\n",
      "79\n",
      "pop. radius: 0.13740754461529434\n",
      "x_best = [1.91323445e-05 3.91562811e-04 2.16070838e-03], f_best = 0.09845618420479688\n",
      "80\n",
      "pop. radius: 0.30687718607028874\n",
      "x_best = [1.91323445e-05 3.91562811e-04 2.16070838e-03], f_best = 0.09845618420479688\n",
      "81\n",
      "pop. radius: 0.1478985974568646\n",
      "x_best = [1.91323445e-05 3.91562811e-04 2.16070838e-03], f_best = 0.09845618420479688\n",
      "82\n",
      "pop. radius: 0.22946904783591024\n",
      "x_best = [1.91323445e-05 3.91562811e-04 2.16070838e-03], f_best = 0.09845618420479688\n",
      "83\n",
      "pop. radius: 0.07158732868888792\n",
      "x_best = [2.02892946e-05 3.97128331e-04 2.14662655e-03], f_best = 0.09845559745420673\n",
      "84\n",
      "pop. radius: 0.14327482224975466\n",
      "x_best = [2.02892946e-05 3.97128331e-04 2.14662655e-03], f_best = 0.09845559745420673\n",
      "85\n",
      "pop. radius: 0.15023851795095863\n",
      "x_best = [2.02892946e-05 3.97128331e-04 2.14662655e-03], f_best = 0.09845559745420673\n",
      "86\n",
      "pop. radius: 0.3273123469840093\n",
      "x_best = [2.02892946e-05 3.97128331e-04 2.14662655e-03], f_best = 0.09845559745420673\n",
      "87\n",
      "pop. radius: 0.06464483384389617\n",
      "x_best = [2.02892946e-05 3.97128331e-04 2.14662655e-03], f_best = 0.09845559745420673\n",
      "88\n",
      "pop. radius: 0.13757254560780668\n",
      "x_best = [2.02892946e-05 3.97128331e-04 2.14662655e-03], f_best = 0.09845559745420673\n",
      "89\n",
      "pop. radius: 0.09317772123233202\n",
      "x_best = [2.02892946e-05 3.97128331e-04 2.14662655e-03], f_best = 0.09845559745420673\n",
      "90\n",
      "pop. radius: 0.22165282172410783\n",
      "x_best = [2.02892946e-05 3.97128331e-04 2.14662655e-03], f_best = 0.09845559745420673\n",
      "91\n",
      "pop. radius: 0.19652296530883004\n",
      "x_best = [2.02892946e-05 3.97128331e-04 2.14662655e-03], f_best = 0.09845559745420673\n",
      "92\n",
      "pop. radius: 0.21094867133594356\n",
      "x_best = [2.02892946e-05 3.97128331e-04 2.14662655e-03], f_best = 0.09845559745420673\n",
      "93\n",
      "pop. radius: 0.17003320522035786\n",
      "x_best = [2.02892946e-05 3.97128331e-04 2.14662655e-03], f_best = 0.09845559745420673\n",
      "94\n",
      "pop. radius: 0.25171184686256937\n",
      "x_best = [2.02892946e-05 3.97128331e-04 2.14662655e-03], f_best = 0.09845559745420673\n",
      "95\n",
      "pop. radius: 0.22276041875829083\n",
      "x_best = [2.02892946e-05 3.97128331e-04 2.14662655e-03], f_best = 0.09845559745420673\n",
      "96\n",
      "pop. radius: 0.07806658127265258\n",
      "x_best = [2.02892946e-05 3.97128331e-04 2.14662655e-03], f_best = 0.09845559745420673\n",
      "97\n",
      "pop. radius: 0.09875592053607718\n",
      "x_best = [2.02892946e-05 3.97128331e-04 2.14662655e-03], f_best = 0.09845559745420673\n",
      "98\n",
      "pop. radius: 0.10042537735318517\n",
      "x_best = [2.02892946e-05 3.97128331e-04 2.14662655e-03], f_best = 0.09845559745420673\n",
      "99\n",
      "pop. radius: 0.1596577471059478\n",
      "x_best = [2.02892946e-05 3.97128331e-04 2.14662655e-03], f_best = 0.09845559745420673\n",
      "100\n",
      "pop. radius: 0.21729685430043236\n",
      "x_best = [2.02892946e-05 3.97128331e-04 2.14662655e-03], f_best = 0.09845559745420673\n"
     ]
    }
   ],
   "source": [
    "# Aquí corremos la metaheurística seleccionada\n",
    "met.verbose = True  # Se puede comentar para que no muestre todo el log\n",
    "met.run()"
   ],
   "metadata": {
    "collapsed": false,
    "pycharm": {
     "name": "#%%\n"
    }
   }
  },
  {
   "cell_type": "markdown",
   "source": [
    "## 4. Results' visualization"
   ],
   "metadata": {
    "collapsed": false,
    "pycharm": {
     "name": "#%% md\n"
    }
   }
  },
  {
   "cell_type": "markdown",
   "source": [
    "En esta primera gráfica, solo veremos la evolución de la función objetivo (generación de entropía)"
   ],
   "metadata": {
    "collapsed": false,
    "pycharm": {
     "name": "#%% md\n"
    }
   }
  },
  {
   "cell_type": "code",
   "execution_count": 83,
   "outputs": [
    {
     "data": {
      "text/plain": "<Figure size 432x288 with 1 Axes>",
      "image/png": "[encoded data removed]"
     },
     "metadata": {
      "needs_background": "light"
     },
     "output_type": "display_data"
    }
   ],
   "source": [
    "import matplotlib.pyplot as plt\n",
    "\n",
    "plt.plot(met.historical[\"fitness\"])\n",
    "plt.ylabel(r'Entropy Generation (W/K)')\n",
    "plt.xlabel(r'Iteration Number')\n",
    "plt.show()"
   ],
   "metadata": {
    "collapsed": false,
    "pycharm": {
     "name": "#%%\n"
    }
   }
  },
  {
   "cell_type": "code",
   "execution_count": 10,
   "outputs": [],
   "source": [
    "# from source import experiment as ex\n",
    "# expe = ex.Experiment()\n",
    "# expe.hh_config\n",
    "# expe.exp_config\n",
    "# expe.prob_config\n",
    "# expe.run()"
   ],
   "metadata": {
    "collapsed": false,
    "pycharm": {
     "name": "#%%\n"
    }
   }
  }
 ],
 "metadata": {
  "kernelspec": {
   "display_name": "Python 3",
   "language": "python",
   "name": "python3"
  },
  "language_info": {
   "codemirror_mode": {
    "name": "ipython",
    "version": 2
   },
   "file_extension": ".py",
   "mimetype": "text/x-python",
   "name": "python",
   "nbconvert_exporter": "python",
   "pygments_lexer": "ipython2",
   "version": "2.7.6"
  }
 },
 "nbformat": 4,
 "nbformat_minor": 0
}