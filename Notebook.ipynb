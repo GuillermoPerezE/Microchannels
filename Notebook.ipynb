{
 "cells": [
  {
   "cell_type": "markdown",
   "source": [
    "# CUSTOMHyS for Designing Microchannel Heat Sinks"
   ],
   "metadata": {
    "collapsed": false,
    "pycharm": {
     "name": "#%% md\n"
    }
   }
  },
  {
   "cell_type": "markdown",
   "source": [
    "## 0. Packages' installation and loading"
   ],
   "metadata": {
    "collapsed": false,
    "pycharm": {
     "name": "#%% md\n"
    }
   }
  },
  {
   "cell_type": "code",
   "execution_count": 1,
   "outputs": [
    {
     "data": {
      "text/plain": "'C:\\\\Users\\\\memo_\\\\PycharmProjects\\\\Microchannels'"
     },
     "execution_count": 1,
     "metadata": {},
     "output_type": "execute_result"
    }
   ],
   "source": [
    "%pwd"
   ],
   "metadata": {
    "collapsed": false,
    "pycharm": {
     "name": "#%%\n"
    }
   }
  },
  {
   "cell_type": "markdown",
   "source": [
    "Instalamos el paquete de Customhys directo del repositorio"
   ],
   "metadata": {
    "collapsed": false,
    "pycharm": {
     "name": "#%% md\n"
    }
   }
  },
  {
   "cell_type": "code",
   "execution_count": 2,
   "outputs": [
    {
     "name": "stdout",
     "output_type": "stream",
     "text": [
      "Requirement already satisfied: install in c:\\users\\memo_\\pycharmprojects\\microchannels\\venv\\lib\\site-packages (1.3.5)\n",
      "Requirement already satisfied: customhys==1.0.1.dev1 in c:\\users\\memo_\\pycharmprojects\\microchannels\\venv\\lib\\site-packages (1.0.1.dev1)\n"
     ]
    },
    {
     "name": "stderr",
     "output_type": "stream",
     "text": [
      "WARNING: You are using pip version 21.1.2; however, version 22.1 is available.\n",
      "You should consider upgrading via the 'C:\\Users\\memo_\\PycharmProjects\\Microchannels\\venv\\Scripts\\python.exe -m pip install --upgrade pip' command.\n"
     ]
    }
   ],
   "source": [
    "!pip3 install install customhys==1.0.1.dev1"
   ],
   "metadata": {
    "collapsed": false,
    "pycharm": {
     "name": "#%%\n"
    }
   }
  },
  {
   "cell_type": "markdown",
   "source": [
    "Cargamos los paquetes que vamos a utilizar"
   ],
   "metadata": {
    "collapsed": false,
    "pycharm": {
     "name": "#%% md\n"
    }
   }
  },
  {
   "cell_type": "code",
   "execution_count": 3,
   "metadata": {
    "collapsed": true,
    "pycharm": {
     "name": "#%%\n"
    }
   },
   "outputs": [],
   "source": [
    "import numpy as np\n",
    "from microchannels import Microchannel\n",
    "from materials import Copper, Air, Titanium, Aluminium, Graphite, Silicon, AlNF, TiONF\n",
    "from customhys import metaheuristic as mh"
   ]
  },
  {
   "cell_type": "markdown",
   "source": [
    "## 1. Microchannel Heat Sink model preparation\n",
    "En esta parte, preparamos el modelo para utilizarlo y evaluar una configuración de parámetros de diseño en la función objetivo, que en este caso será al generación de entropía."
   ],
   "metadata": {
    "collapsed": false,
    "pycharm": {
     "name": "#%% md\n"
    }
   }
  },
  {
   "cell_type": "code",
   "execution_count": 4,
   "outputs": [],
   "source": [
    "class MicrochannelDesign():\n",
    "    def __init__(self):\n",
    "        self.model = Microchannel(base=Silicon(), coolant=Air())\n",
    "        #self.max_search_range = np.array([self.model.W_d/10, self.model.W_d/10, 0.005])\n",
    "        #self.min_search_range = np.array([1e-24, 1e-12, 1e-8])\n",
    "        self.max_search_range = np.array([2.65e-5, 20.4e-5, 0.009])\n",
    "        self.min_search_range = np.array([4.53e-5, 13.6e-5, 0.005])\n",
    "        self.func_name = 'Microchannel entropy generation model'\n",
    "\n",
    "    def get_func_val(self, variables):\n",
    "        self.model.w_w = variables[0]\n",
    "        self.model.w_c = variables[1]\n",
    "        self.model.G_d = variables[2]\n",
    "        return self.model.sgen\n",
    "\n",
    "    def get_formatted_problem(self, is_constrained=True):\n",
    "        return dict(function=self.get_func_val,\n",
    "                    boundaries=(self.min_search_range, self.max_search_range),\n",
    "                    is_constrained=is_constrained)\n",
    "\n",
    "fun = MicrochannelDesign()"
   ],
   "metadata": {
    "collapsed": false,
    "pycharm": {
     "name": "#%%\n"
    }
   }
  },
  {
   "cell_type": "markdown",
   "source": [
    "## 2. Metaheuristic preparation"
   ],
   "metadata": {
    "collapsed": false,
    "pycharm": {
     "name": "#%% md\n"
    }
   }
  },
  {
   "cell_type": "code",
   "execution_count": 5,
   "outputs": [],
   "source": [
    "# Primero cargamos la colección de operadores\n",
    "with open('./source/collections/' + 'default.txt', 'r') as operators_file:\n",
    "    heuristic_space = [eval(line.rstrip('\\n')) for line in operators_file]"
   ],
   "metadata": {
    "collapsed": false,
    "pycharm": {
     "name": "#%%\n"
    }
   }
  },
  {
   "cell_type": "markdown",
   "source": [
    "Esta es la parte en donde, utilizando los operadores, ensamblamos la metaheurística a usar:"
   ],
   "metadata": {
    "collapsed": false,
    "pycharm": {
     "name": "#%% md\n"
    }
   }
  },
  {
   "cell_type": "code",
   "execution_count": 6,
   "outputs": [],
   "source": [
    "# Metaheuristic 1: Random Search\n",
    "# heur = [('random_search', {'scale': 0.01, 'distribution': 'uniform'}, 'greedy')]\n",
    "\n",
    "# Metaheuristic 2: Particle Swarm & Genetic Linear Crossover with Random Pairing and Metropolis Selection\n",
    "heur = [('swarm_dynamic', {'factor': 0.7, 'self_conf': 2.54, 'swarm_conf': 2.56, 'version': 'inertial', 'distribution': 'uniform'}, 'all'),\n",
    "        ('genetic_crossover', {'pairing': 'random', 'crossover': 'linear_0.5_0.5', 'mating_pool_factor': 0.4}, 'metropolis')]\n",
    "\n",
    "#Metaheuristic 3: Genetic Algorithm\n",
    "#heur = [('genetic_crossover', {'pairing': 'tournament_2_100', 'crossover': 'single', 'mating_pool_factor': 0.4}, 'all'), ('genetic_mutation', {'scale': 1.0, 'elite_rate': 0.1, 'mutation_rate': 0.25, 'distribution': 'uniform'}, 'all')]"
   ],
   "metadata": {
    "collapsed": false,
    "pycharm": {
     "name": "#%%\n"
    }
   }
  },
  {
   "cell_type": "markdown",
   "source": [
    "Aquí terminamos de definirla empleando CUSTMHyS\n"
   ],
   "metadata": {
    "collapsed": false,
    "pycharm": {
     "name": "#%% md\n"
    }
   }
  },
  {
   "cell_type": "code",
   "execution_count": 7,
   "outputs": [],
   "source": [
    "met = mh.Metaheuristic(fun.get_formatted_problem(is_constrained=True), heur , num_iterations=100)"
   ],
   "metadata": {
    "collapsed": false,
    "pycharm": {
     "name": "#%%\n"
    }
   }
  },
  {
   "cell_type": "markdown",
   "source": [
    "## 3. Run designing process"
   ],
   "metadata": {
    "collapsed": false,
    "pycharm": {
     "name": "#%% md\n"
    }
   }
  },
  {
   "cell_type": "code",
   "execution_count": 8,
   "outputs": [
    {
     "name": "stdout",
     "output_type": "stream",
     "text": [
      "\n",
      "Search operators to employ:\n",
      "swarm_dynamic(factor=0.7,self_conf=2.54,swarm_conf=2.56,version='inertial',distribution='uniform') with all\n",
      "genetic_crossover(pairing='random',crossover='linear_0.5_0.5',mating_pool_factor=0.4) with metropolis\n",
      "--------------------------------------------------\n",
      "1\n",
      "pop. radius: 0.47048236222500855\n",
      "x_best = [3.9043747e-05 1.3600000e-04 5.0000000e-03], f_best = 0.5080019262754955\n",
      "2\n",
      "pop. radius: 0.4493977360413115\n",
      "x_best = [3.24942042e-05 1.36000000e-04 5.00000000e-03], f_best = 0.5013345194619945\n",
      "3\n",
      "pop. radius: 0.19633676160756136\n",
      "x_best = [2.65e-05 1.36e-04 5.00e-03], f_best = 0.49657496267000756\n",
      "4\n",
      "pop. radius: 0.0\n",
      "x_best = [2.65e-05 1.36e-04 5.00e-03], f_best = 0.49657496267000756\n",
      "5\n",
      "pop. radius: 0.0\n",
      "x_best = [2.65e-05 1.36e-04 5.00e-03], f_best = 0.49657496267000756\n",
      "6\n",
      "pop. radius: 0.0\n",
      "x_best = [2.65e-05 1.36e-04 5.00e-03], f_best = 0.49657496267000756\n",
      "7\n",
      "pop. radius: 0.0\n",
      "x_best = [2.65e-05 1.36e-04 5.00e-03], f_best = 0.49657496267000756\n",
      "8\n",
      "pop. radius: 0.0\n",
      "x_best = [2.65e-05 1.36e-04 5.00e-03], f_best = 0.49657496267000756\n",
      "9\n",
      "pop. radius: 0.0\n",
      "x_best = [2.65e-05 1.36e-04 5.00e-03], f_best = 0.49657496267000756\n",
      "10\n",
      "pop. radius: 0.0\n",
      "x_best = [2.65e-05 1.36e-04 5.00e-03], f_best = 0.49657496267000756\n",
      "11\n",
      "pop. radius: 0.0\n",
      "x_best = [2.65e-05 1.36e-04 5.00e-03], f_best = 0.49657496267000756\n",
      "12\n",
      "pop. radius: 0.0\n",
      "x_best = [2.65e-05 1.36e-04 5.00e-03], f_best = 0.49657496267000756\n",
      "13\n",
      "pop. radius: 0.0\n",
      "x_best = [2.65e-05 1.36e-04 5.00e-03], f_best = 0.49657496267000756\n",
      "14\n",
      "pop. radius: 0.0\n",
      "x_best = [2.65e-05 1.36e-04 5.00e-03], f_best = 0.49657496267000756\n",
      "15\n",
      "pop. radius: 0.0\n",
      "x_best = [2.65e-05 1.36e-04 5.00e-03], f_best = 0.49657496267000756\n",
      "16\n",
      "pop. radius: 0.0\n",
      "x_best = [2.65e-05 1.36e-04 5.00e-03], f_best = 0.49657496267000756\n",
      "17\n",
      "pop. radius: 0.0\n",
      "x_best = [2.65e-05 1.36e-04 5.00e-03], f_best = 0.49657496267000756\n",
      "18\n",
      "pop. radius: 0.0\n",
      "x_best = [2.65e-05 1.36e-04 5.00e-03], f_best = 0.49657496267000756\n",
      "19\n",
      "pop. radius: 0.0\n",
      "x_best = [2.65e-05 1.36e-04 5.00e-03], f_best = 0.49657496267000756\n",
      "20\n",
      "pop. radius: 0.0\n",
      "x_best = [2.65e-05 1.36e-04 5.00e-03], f_best = 0.49657496267000756\n",
      "21\n",
      "pop. radius: 0.0\n",
      "x_best = [2.65e-05 1.36e-04 5.00e-03], f_best = 0.49657496267000756\n",
      "22\n",
      "pop. radius: 0.0\n",
      "x_best = [2.65e-05 1.36e-04 5.00e-03], f_best = 0.49657496267000756\n",
      "23\n",
      "pop. radius: 0.0\n",
      "x_best = [2.65e-05 1.36e-04 5.00e-03], f_best = 0.49657496267000756\n",
      "24\n",
      "pop. radius: 0.0\n",
      "x_best = [2.65e-05 1.36e-04 5.00e-03], f_best = 0.49657496267000756\n",
      "25\n",
      "pop. radius: 0.0\n",
      "x_best = [2.65e-05 1.36e-04 5.00e-03], f_best = 0.49657496267000756\n",
      "26\n",
      "pop. radius: 0.0\n",
      "x_best = [2.65e-05 1.36e-04 5.00e-03], f_best = 0.49657496267000756\n",
      "27\n",
      "pop. radius: 0.0\n",
      "x_best = [2.65e-05 1.36e-04 5.00e-03], f_best = 0.49657496267000756\n",
      "28\n",
      "pop. radius: 0.0\n",
      "x_best = [2.65e-05 1.36e-04 5.00e-03], f_best = 0.49657496267000756\n",
      "29\n",
      "pop. radius: 0.0\n",
      "x_best = [2.65e-05 1.36e-04 5.00e-03], f_best = 0.49657496267000756\n",
      "30\n",
      "pop. radius: 0.0\n",
      "x_best = [2.65e-05 1.36e-04 5.00e-03], f_best = 0.49657496267000756\n",
      "31\n",
      "pop. radius: 0.0\n",
      "x_best = [2.65e-05 1.36e-04 5.00e-03], f_best = 0.49657496267000756\n",
      "32\n",
      "pop. radius: 0.0\n",
      "x_best = [2.65e-05 1.36e-04 5.00e-03], f_best = 0.49657496267000756\n",
      "33\n",
      "pop. radius: 0.0\n",
      "x_best = [2.65e-05 1.36e-04 5.00e-03], f_best = 0.49657496267000756\n",
      "34\n",
      "pop. radius: 0.0\n",
      "x_best = [2.65e-05 1.36e-04 5.00e-03], f_best = 0.49657496267000756\n",
      "35\n",
      "pop. radius: 0.0\n",
      "x_best = [2.65e-05 1.36e-04 5.00e-03], f_best = 0.49657496267000756\n",
      "36\n",
      "pop. radius: 0.0\n",
      "x_best = [2.65e-05 1.36e-04 5.00e-03], f_best = 0.49657496267000756\n",
      "37\n",
      "pop. radius: 0.0\n",
      "x_best = [2.65e-05 1.36e-04 5.00e-03], f_best = 0.49657496267000756\n",
      "38\n",
      "pop. radius: 0.0\n",
      "x_best = [2.65e-05 1.36e-04 5.00e-03], f_best = 0.49657496267000756\n",
      "39\n",
      "pop. radius: 0.0\n",
      "x_best = [2.65e-05 1.36e-04 5.00e-03], f_best = 0.49657496267000756\n",
      "40\n",
      "pop. radius: 0.0\n",
      "x_best = [2.65e-05 1.36e-04 5.00e-03], f_best = 0.49657496267000756\n",
      "41\n",
      "pop. radius: 0.0\n",
      "x_best = [2.65e-05 1.36e-04 5.00e-03], f_best = 0.49657496267000756\n",
      "42\n",
      "pop. radius: 0.0\n",
      "x_best = [2.65e-05 1.36e-04 5.00e-03], f_best = 0.49657496267000756\n",
      "43\n",
      "pop. radius: 0.0\n",
      "x_best = [2.65e-05 1.36e-04 5.00e-03], f_best = 0.49657496267000756\n",
      "44\n",
      "pop. radius: 0.0\n",
      "x_best = [2.65e-05 1.36e-04 5.00e-03], f_best = 0.49657496267000756\n",
      "45\n",
      "pop. radius: 0.0\n",
      "x_best = [2.65e-05 1.36e-04 5.00e-03], f_best = 0.49657496267000756\n",
      "46\n",
      "pop. radius: 0.0\n",
      "x_best = [2.65e-05 1.36e-04 5.00e-03], f_best = 0.49657496267000756\n",
      "47\n",
      "pop. radius: 0.0\n",
      "x_best = [2.65e-05 1.36e-04 5.00e-03], f_best = 0.49657496267000756\n",
      "48\n",
      "pop. radius: 0.0\n",
      "x_best = [2.65e-05 1.36e-04 5.00e-03], f_best = 0.49657496267000756\n",
      "49\n",
      "pop. radius: 0.0\n",
      "x_best = [2.65e-05 1.36e-04 5.00e-03], f_best = 0.49657496267000756\n",
      "50\n",
      "pop. radius: 0.0\n",
      "x_best = [2.65e-05 1.36e-04 5.00e-03], f_best = 0.49657496267000756\n",
      "51\n",
      "pop. radius: 0.0\n",
      "x_best = [2.65e-05 1.36e-04 5.00e-03], f_best = 0.49657496267000756\n",
      "52\n",
      "pop. radius: 0.0\n",
      "x_best = [2.65e-05 1.36e-04 5.00e-03], f_best = 0.49657496267000756\n",
      "53\n",
      "pop. radius: 0.0\n",
      "x_best = [2.65e-05 1.36e-04 5.00e-03], f_best = 0.49657496267000756\n",
      "54\n",
      "pop. radius: 0.0\n",
      "x_best = [2.65e-05 1.36e-04 5.00e-03], f_best = 0.49657496267000756\n",
      "55\n",
      "pop. radius: 0.0\n",
      "x_best = [2.65e-05 1.36e-04 5.00e-03], f_best = 0.49657496267000756\n",
      "56\n",
      "pop. radius: 0.0\n",
      "x_best = [2.65e-05 1.36e-04 5.00e-03], f_best = 0.49657496267000756\n",
      "57\n",
      "pop. radius: 0.0\n",
      "x_best = [2.65e-05 1.36e-04 5.00e-03], f_best = 0.49657496267000756\n",
      "58\n",
      "pop. radius: 0.0\n",
      "x_best = [2.65e-05 1.36e-04 5.00e-03], f_best = 0.49657496267000756\n",
      "59\n",
      "pop. radius: 0.0\n",
      "x_best = [2.65e-05 1.36e-04 5.00e-03], f_best = 0.49657496267000756\n",
      "60\n",
      "pop. radius: 0.0\n",
      "x_best = [2.65e-05 1.36e-04 5.00e-03], f_best = 0.49657496267000756\n",
      "61\n",
      "pop. radius: 0.0\n",
      "x_best = [2.65e-05 1.36e-04 5.00e-03], f_best = 0.49657496267000756\n",
      "62\n",
      "pop. radius: 0.0\n",
      "x_best = [2.65e-05 1.36e-04 5.00e-03], f_best = 0.49657496267000756\n",
      "63\n",
      "pop. radius: 0.0\n",
      "x_best = [2.65e-05 1.36e-04 5.00e-03], f_best = 0.49657496267000756\n",
      "64\n",
      "pop. radius: 0.0\n",
      "x_best = [2.65e-05 1.36e-04 5.00e-03], f_best = 0.49657496267000756\n",
      "65\n",
      "pop. radius: 0.0\n",
      "x_best = [2.65e-05 1.36e-04 5.00e-03], f_best = 0.49657496267000756\n",
      "66\n",
      "pop. radius: 0.0\n",
      "x_best = [2.65e-05 1.36e-04 5.00e-03], f_best = 0.49657496267000756\n",
      "67\n",
      "pop. radius: 0.0\n",
      "x_best = [2.65e-05 1.36e-04 5.00e-03], f_best = 0.49657496267000756\n",
      "68\n",
      "pop. radius: 0.0\n",
      "x_best = [2.65e-05 1.36e-04 5.00e-03], f_best = 0.49657496267000756\n",
      "69\n",
      "pop. radius: 0.0\n",
      "x_best = [2.65e-05 1.36e-04 5.00e-03], f_best = 0.49657496267000756\n",
      "70\n",
      "pop. radius: 0.0\n",
      "x_best = [2.65e-05 1.36e-04 5.00e-03], f_best = 0.49657496267000756\n",
      "71\n",
      "pop. radius: 0.0\n",
      "x_best = [2.65e-05 1.36e-04 5.00e-03], f_best = 0.49657496267000756\n",
      "72\n",
      "pop. radius: 0.0\n",
      "x_best = [2.65e-05 1.36e-04 5.00e-03], f_best = 0.49657496267000756\n",
      "73\n",
      "pop. radius: 0.0\n",
      "x_best = [2.65e-05 1.36e-04 5.00e-03], f_best = 0.49657496267000756\n",
      "74\n",
      "pop. radius: 0.0\n",
      "x_best = [2.65e-05 1.36e-04 5.00e-03], f_best = 0.49657496267000756\n",
      "75\n",
      "pop. radius: 0.0\n",
      "x_best = [2.65e-05 1.36e-04 5.00e-03], f_best = 0.49657496267000756\n",
      "76\n",
      "pop. radius: 0.0\n",
      "x_best = [2.65e-05 1.36e-04 5.00e-03], f_best = 0.49657496267000756\n",
      "77\n",
      "pop. radius: 0.0\n",
      "x_best = [2.65e-05 1.36e-04 5.00e-03], f_best = 0.49657496267000756\n",
      "78\n",
      "pop. radius: 0.0\n",
      "x_best = [2.65e-05 1.36e-04 5.00e-03], f_best = 0.49657496267000756\n",
      "79\n",
      "pop. radius: 0.0\n",
      "x_best = [2.65e-05 1.36e-04 5.00e-03], f_best = 0.49657496267000756\n",
      "80\n",
      "pop. radius: 0.0\n",
      "x_best = [2.65e-05 1.36e-04 5.00e-03], f_best = 0.49657496267000756\n",
      "81\n",
      "pop. radius: 0.0\n",
      "x_best = [2.65e-05 1.36e-04 5.00e-03], f_best = 0.49657496267000756\n",
      "82\n",
      "pop. radius: 0.0\n",
      "x_best = [2.65e-05 1.36e-04 5.00e-03], f_best = 0.49657496267000756\n",
      "83\n",
      "pop. radius: 0.0\n",
      "x_best = [2.65e-05 1.36e-04 5.00e-03], f_best = 0.49657496267000756\n",
      "84\n",
      "pop. radius: 0.0\n",
      "x_best = [2.65e-05 1.36e-04 5.00e-03], f_best = 0.49657496267000756\n",
      "85\n",
      "pop. radius: 0.0\n",
      "x_best = [2.65e-05 1.36e-04 5.00e-03], f_best = 0.49657496267000756\n",
      "86\n",
      "pop. radius: 0.0\n",
      "x_best = [2.65e-05 1.36e-04 5.00e-03], f_best = 0.49657496267000756\n",
      "87\n",
      "pop. radius: 0.0\n",
      "x_best = [2.65e-05 1.36e-04 5.00e-03], f_best = 0.49657496267000756\n",
      "88\n",
      "pop. radius: 0.0\n",
      "x_best = [2.65e-05 1.36e-04 5.00e-03], f_best = 0.49657496267000756\n",
      "89\n",
      "pop. radius: 0.0\n",
      "x_best = [2.65e-05 1.36e-04 5.00e-03], f_best = 0.49657496267000756\n",
      "90\n",
      "pop. radius: 0.0\n",
      "x_best = [2.65e-05 1.36e-04 5.00e-03], f_best = 0.49657496267000756\n",
      "91\n",
      "pop. radius: 0.0\n",
      "x_best = [2.65e-05 1.36e-04 5.00e-03], f_best = 0.49657496267000756\n",
      "92\n",
      "pop. radius: 0.0\n",
      "x_best = [2.65e-05 1.36e-04 5.00e-03], f_best = 0.49657496267000756\n",
      "93\n",
      "pop. radius: 0.0\n",
      "x_best = [2.65e-05 1.36e-04 5.00e-03], f_best = 0.49657496267000756\n",
      "94\n",
      "pop. radius: 0.0\n",
      "x_best = [2.65e-05 1.36e-04 5.00e-03], f_best = 0.49657496267000756\n",
      "95\n",
      "pop. radius: 0.0\n",
      "x_best = [2.65e-05 1.36e-04 5.00e-03], f_best = 0.49657496267000756\n",
      "96\n",
      "pop. radius: 0.0\n",
      "x_best = [2.65e-05 1.36e-04 5.00e-03], f_best = 0.49657496267000756\n",
      "97\n",
      "pop. radius: 0.0\n",
      "x_best = [2.65e-05 1.36e-04 5.00e-03], f_best = 0.49657496267000756\n",
      "98\n",
      "pop. radius: 0.0\n",
      "x_best = [2.65e-05 1.36e-04 5.00e-03], f_best = 0.49657496267000756\n",
      "99\n",
      "pop. radius: 0.0\n",
      "x_best = [2.65e-05 1.36e-04 5.00e-03], f_best = 0.49657496267000756\n",
      "100\n",
      "pop. radius: 0.0\n",
      "x_best = [2.65e-05 1.36e-04 5.00e-03], f_best = 0.49657496267000756\n"
     ]
    }
   ],
   "source": [
    "# Aquí corremos la metaheurística seleccionada\n",
    "met.verbose = True  # Se puede comentar para que no muestre todo el log\n",
    "met.run()"
   ],
   "metadata": {
    "collapsed": false,
    "pycharm": {
     "name": "#%%\n"
    }
   }
  },
  {
   "cell_type": "markdown",
   "source": [
    "## 4. Results' visualization"
   ],
   "metadata": {
    "collapsed": false,
    "pycharm": {
     "name": "#%% md\n"
    }
   }
  },
  {
   "cell_type": "markdown",
   "source": [
    "En esta primera gráfica, solo veremos la evolución de la función objetivo (generación de entropía)"
   ],
   "metadata": {
    "collapsed": false,
    "pycharm": {
     "name": "#%% md\n"
    }
   }
  },
  {
   "cell_type": "code",
   "execution_count": 9,
   "outputs": [
    {
     "data": {
      "text/plain": "<Figure size 432x288 with 1 Axes>",
      "image/png": "[encoded data removed]"
     },
     "metadata": {
      "needs_background": "light"
     },
     "output_type": "display_data"
    }
   ],
   "source": [
    "import matplotlib.pyplot as plt\n",
    "\n",
    "plt.plot(met.historical[\"fitness\"])\n",
    "plt.ylabel(r'Entropy Generation (W/K)')\n",
    "plt.xlabel(r'Iteration Number')\n",
    "plt.show()"
   ],
   "metadata": {
    "collapsed": false,
    "pycharm": {
     "name": "#%%\n"
    }
   }
  },
  {
   "cell_type": "code",
   "execution_count": 10,
   "outputs": [],
   "source": [
    "# from source import experiment as ex\n",
    "# expe = ex.Experiment()\n",
    "# expe.hh_config\n",
    "# expe.exp_config\n",
    "# expe.prob_config\n",
    "# expe.run()"
   ],
   "metadata": {
    "collapsed": false,
    "pycharm": {
     "name": "#%%\n"
    }
   }
  }
 ],
 "metadata": {
  "kernelspec": {
   "display_name": "Python 3",
   "language": "python",
   "name": "python3"
  },
  "language_info": {
   "codemirror_mode": {
    "name": "ipython",
    "version": 2
   },
   "file_extension": ".py",
   "mimetype": "text/x-python",
   "name": "python",
   "nbconvert_exporter": "python",
   "pygments_lexer": "ipython2",
   "version": "2.7.6"
  }
 },
 "nbformat": 4,
 "nbformat_minor": 0
}