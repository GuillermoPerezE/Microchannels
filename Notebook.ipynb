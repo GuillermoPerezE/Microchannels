{
 "cells": [
  {
   "cell_type": "markdown",
   "source": [
    "# CUSTOMHyS for Designing Microchannel Heat Sinks"
   ],
   "metadata": {
    "collapsed": false,
    "pycharm": {
     "name": "#%% md\n"
    }
   }
  },
  {
   "cell_type": "markdown",
   "source": [
    "## 0. Packages' installation and loading"
   ],
   "metadata": {
    "collapsed": false,
    "pycharm": {
     "name": "#%% md\n"
    }
   }
  },
  {
   "cell_type": "code",
   "execution_count": 1,
   "outputs": [
    {
     "data": {
      "text/plain": "'C:\\\\Users\\\\memo_\\\\PycharmProjects\\\\Microchannels'"
     },
     "execution_count": 1,
     "metadata": {},
     "output_type": "execute_result"
    }
   ],
   "source": [
    "%pwd"
   ],
   "metadata": {
    "collapsed": false,
    "pycharm": {
     "name": "#%%\n"
    }
   }
  },
  {
   "cell_type": "markdown",
   "source": [
    "Instalamos el paquete de Customhys directo del repositorio"
   ],
   "metadata": {
    "collapsed": false,
    "pycharm": {
     "name": "#%% md\n"
    }
   }
  },
  {
   "cell_type": "code",
   "execution_count": 2,
   "outputs": [
    {
     "name": "stderr",
     "output_type": "stream",
     "text": [
      "WARNING: You are using pip version 21.1.2; however, version 22.1.1 is available.\n",
      "You should consider upgrading via the 'C:\\Users\\memo_\\PycharmProjects\\Microchannels\\venv\\Scripts\\python.exe -m pip install --upgrade pip' command.\n"
     ]
    },
    {
     "name": "stdout",
     "output_type": "stream",
     "text": [
      "Requirement already satisfied: install in c:\\users\\memo_\\pycharmprojects\\microchannels\\venv\\lib\\site-packages (1.3.5)\n",
      "Requirement already satisfied: customhys==1.0.1.dev1 in c:\\users\\memo_\\pycharmprojects\\microchannels\\venv\\lib\\site-packages (1.0.1.dev1)\n"
     ]
    }
   ],
   "source": [
    "!pip3 install install customhys==1.0.1.dev1"
   ],
   "metadata": {
    "collapsed": false,
    "pycharm": {
     "name": "#%%\n"
    }
   }
  },
  {
   "cell_type": "markdown",
   "source": [
    "Cargamos los paquetes que vamos a utilizar"
   ],
   "metadata": {
    "collapsed": false,
    "pycharm": {
     "name": "#%% md\n"
    }
   }
  },
  {
   "cell_type": "code",
   "execution_count": 3,
   "metadata": {
    "collapsed": true,
    "pycharm": {
     "name": "#%%\n"
    }
   },
   "outputs": [],
   "source": [
    "import numpy as np\n",
    "from microchannels import Microchannel\n",
    "from materials import Copper, Air, Titanium, Aluminium, Graphite, Silicon, AlNF, TiONF\n",
    "from customhys import metaheuristic as mh"
   ]
  },
  {
   "cell_type": "markdown",
   "source": [
    "## 1. Microchannel Heat Sink model preparation\n",
    "En esta parte, preparamos el modelo para utilizarlo y evaluar una configuración de parámetros de diseño en la función objetivo, que en este caso será al generación de entropía."
   ],
   "metadata": {
    "collapsed": false,
    "pycharm": {
     "name": "#%% md\n"
    }
   }
  },
  {
   "cell_type": "code",
   "execution_count": 4,
   "outputs": [],
   "source": [
    "class MicrochannelDesign():\n",
    "    def __init__(self):\n",
    "        self.model = Microchannel(base=Silicon(), coolant=Air())\n",
    "        #self.max_search_range = np.array([self.model.W_d/10, self.model.W_d/10, 0.005])\n",
    "        #self.min_search_range = np.array([1e-24, 1e-12, 1e-8])\n",
    "        self.max_search_range = np.array([2.65e-5, 20.4e-5, 0.009])\n",
    "        self.min_search_range = np.array([4.53e-5, 13.6e-5, 0.005])\n",
    "        self.func_name = 'Microchannel entropy generation model'\n",
    "\n",
    "    def get_func_val(self, variables):\n",
    "        self.model.w_w = variables[0]\n",
    "        self.model.w_c = variables[1]\n",
    "        self.model.G_d = variables[2]\n",
    "        return self.model.sgen\n",
    "\n",
    "    def get_formatted_problem(self, is_constrained=True):\n",
    "        return dict(function=self.get_func_val,\n",
    "                    boundaries=(self.min_search_range, self.max_search_range),\n",
    "                    is_constrained=is_constrained)\n",
    "\n",
    "fun = MicrochannelDesign()"
   ],
   "metadata": {
    "collapsed": false,
    "pycharm": {
     "name": "#%%\n"
    }
   }
  },
  {
   "cell_type": "markdown",
   "source": [
    "## 2. Metaheuristic preparation"
   ],
   "metadata": {
    "collapsed": false,
    "pycharm": {
     "name": "#%% md\n"
    }
   }
  },
  {
   "cell_type": "code",
   "execution_count": 5,
   "outputs": [],
   "source": [
    "# Primero cargamos la colección de operadores\n",
    "with open('./source/collections/' + 'default.txt', 'r') as operators_file:\n",
    "    heuristic_space = [eval(line.rstrip('\\n')) for line in operators_file]"
   ],
   "metadata": {
    "collapsed": false,
    "pycharm": {
     "name": "#%%\n"
    }
   }
  },
  {
   "cell_type": "markdown",
   "source": [
    "Esta es la parte en donde, utilizando los operadores, ensamblamos la metaheurística a usar:"
   ],
   "metadata": {
    "collapsed": false,
    "pycharm": {
     "name": "#%% md\n"
    }
   }
  },
  {
   "cell_type": "code",
   "execution_count": 6,
   "outputs": [],
   "source": [
    "# Metaheuristic 1: Random Search\n",
    "# heur = [('random_search', {'scale': 0.01, 'distribution': 'uniform'}, 'greedy')]\n",
    "\n",
    "# Metaheuristic 2: Particle Swarm & Genetic Linear Crossover with Random Pairing and Metropolis Selection\n",
    "heur = [('swarm_dynamic', {'factor': 0.7, 'self_conf': 2.54, 'swarm_conf': 2.56, 'version': 'inertial', 'distribution': 'uniform'}, 'all'),\n",
    "        ('genetic_crossover', {'pairing': 'random', 'crossover': 'linear_0.5_0.5', 'mating_pool_factor': 0.4}, 'metropolis')]\n",
    "\n",
    "#Metaheuristic 3: Genetic Algorithm\n",
    "#heur = [('genetic_crossover', {'pairing': 'tournament_2_100', 'crossover': 'single', 'mating_pool_factor': 0.4}, 'all'), ('genetic_mutation', {'scale': 1.0, 'elite_rate': 0.1, 'mutation_rate': 0.25, 'distribution': 'uniform'}, 'all')]"
   ],
   "metadata": {
    "collapsed": false,
    "pycharm": {
     "name": "#%%\n"
    }
   }
  },
  {
   "cell_type": "markdown",
   "source": [
    "Aquí terminamos de definirla empleando CUSTOMHyS\n"
   ],
   "metadata": {
    "collapsed": false,
    "pycharm": {
     "name": "#%% md\n"
    }
   }
  },
  {
   "cell_type": "code",
   "execution_count": 7,
   "outputs": [],
   "source": [
    "met = mh.Metaheuristic(fun.get_formatted_problem(is_constrained=True), heur , num_iterations=100)"
   ],
   "metadata": {
    "collapsed": false,
    "pycharm": {
     "name": "#%%\n"
    }
   }
  },
  {
   "cell_type": "markdown",
   "source": [
    "## 3. Run designing process"
   ],
   "metadata": {
    "collapsed": false,
    "pycharm": {
     "name": "#%% md\n"
    }
   }
  },
  {
   "cell_type": "code",
   "execution_count": 8,
   "outputs": [
    {
     "name": "stdout",
     "output_type": "stream",
     "text": [
      "\n",
      "Search operators to employ:\n",
      "swarm_dynamic(factor=0.7,self_conf=2.54,swarm_conf=2.56,version='inertial',distribution='uniform') with all\n",
      "genetic_crossover(pairing='random',crossover='linear_0.5_0.5',mating_pool_factor=0.4) with metropolis\n",
      "--------------------------------------------------\n",
      "1\n",
      "pop. radius: 1.0206284667576544\n",
      "x_best = [3.28815279e-05 2.04000000e-04 5.00000000e-03], f_best = 0.1745407650417114\n",
      "2\n",
      "pop. radius: 0.8553852846442005\n",
      "x_best = [2.65e-05 2.04e-04 5.00e-03], f_best = 0.17220074473297137\n",
      "3\n",
      "pop. radius: 0.03352055910055973\n",
      "x_best = [2.65000000e-05 2.02778894e-04 5.00000000e-03], f_best = 0.17216166100470381\n",
      "4\n",
      "pop. radius: 0.035722103226585804\n",
      "x_best = [2.65000000e-05 2.02957562e-04 5.00000000e-03], f_best = 0.17212646231286977\n",
      "5\n",
      "pop. radius: 0.03326653666923296\n",
      "x_best = [2.65000000e-05 2.02957562e-04 5.00000000e-03], f_best = 0.17212646231286977\n",
      "6\n",
      "pop. radius: 0.025402748312288725\n",
      "x_best = [2.65000000e-05 2.02957562e-04 5.00000000e-03], f_best = 0.17212646231286977\n",
      "7\n",
      "pop. radius: 0.04969010426134346\n",
      "x_best = [2.65000000e-05 2.02957562e-04 5.00000000e-03], f_best = 0.17212646231286977\n",
      "8\n",
      "pop. radius: 0.030519613113001776\n",
      "x_best = [2.65000000e-05 2.02957562e-04 5.00000000e-03], f_best = 0.17212646231286977\n",
      "9\n",
      "pop. radius: 0.03170026192032149\n",
      "x_best = [2.65000000e-05 2.02989679e-04 5.00000000e-03], f_best = 0.17212014696323727\n",
      "10\n",
      "pop. radius: 0.0514429373382671\n",
      "x_best = [2.65000000e-05 2.02989679e-04 5.00000000e-03], f_best = 0.17212014696323727\n",
      "11\n",
      "pop. radius: 0.043779300210112004\n",
      "x_best = [2.65000000e-05 2.02989679e-04 5.00000000e-03], f_best = 0.17212014696323727\n",
      "12\n",
      "pop. radius: 0.05282811361310136\n",
      "x_best = [2.65000000e-05 2.02989679e-04 5.00000000e-03], f_best = 0.17212014696323727\n",
      "13\n",
      "pop. radius: 0.02186407516462563\n",
      "x_best = [2.65000000e-05 2.02989679e-04 5.00000000e-03], f_best = 0.17212014696323727\n",
      "14\n",
      "pop. radius: 0.03349169601389479\n",
      "x_best = [2.65000000e-05 2.02989679e-04 5.00000000e-03], f_best = 0.17212014696323727\n",
      "15\n",
      "pop. radius: 0.04910224253463935\n",
      "x_best = [2.65000000e-05 2.02989679e-04 5.00000000e-03], f_best = 0.17212014696323727\n",
      "16\n",
      "pop. radius: 0.02250322778526548\n",
      "x_best = [2.65000000e-05 2.02989679e-04 5.00000000e-03], f_best = 0.17212014696323727\n",
      "17\n",
      "pop. radius: 0.05610142026300413\n",
      "x_best = [2.65000000e-05 2.02989679e-04 5.00000000e-03], f_best = 0.17212014696323727\n",
      "18\n",
      "pop. radius: 0.03478892106912899\n",
      "x_best = [2.65000000e-05 2.02989679e-04 5.00000000e-03], f_best = 0.17212014696323727\n",
      "19\n",
      "pop. radius: 0.023030257057746417\n",
      "x_best = [2.65000000e-05 2.02989679e-04 5.00000000e-03], f_best = 0.17212014696323727\n",
      "20\n",
      "pop. radius: 0.05212805305494783\n",
      "x_best = [2.65000000e-05 2.02989679e-04 5.00000000e-03], f_best = 0.17212014696323727\n",
      "21\n",
      "pop. radius: 0.021724274718357472\n",
      "x_best = [2.65000000e-05 2.02989679e-04 5.00000000e-03], f_best = 0.17212014696323727\n",
      "22\n",
      "pop. radius: 0.034270159184827564\n",
      "x_best = [2.65000000e-05 2.02989679e-04 5.00000000e-03], f_best = 0.17212014696323727\n",
      "23\n",
      "pop. radius: 0.04846085039655412\n",
      "x_best = [2.65000000e-05 2.02989679e-04 5.00000000e-03], f_best = 0.17212014696323727\n",
      "24\n",
      "pop. radius: 0.022169727524206206\n",
      "x_best = [2.6500000e-05 2.0298988e-04 5.0000000e-03], f_best = 0.17212010758525695\n",
      "25\n",
      "pop. radius: 0.06635717676975206\n",
      "x_best = [2.6500000e-05 2.0298988e-04 5.0000000e-03], f_best = 0.17212010758525695\n",
      "26\n",
      "pop. radius: 0.053159208699239846\n",
      "x_best = [2.6500000e-05 2.0298988e-04 5.0000000e-03], f_best = 0.17212010758525695\n",
      "27\n",
      "pop. radius: 0.05346077124767623\n",
      "x_best = [2.6500000e-05 2.0298988e-04 5.0000000e-03], f_best = 0.17212010758525695\n",
      "28\n",
      "pop. radius: 0.018255574548671216\n",
      "x_best = [2.6500000e-05 2.0298988e-04 5.0000000e-03], f_best = 0.17212010758525695\n",
      "29\n",
      "pop. radius: 0.052291811983497305\n",
      "x_best = [2.6500000e-05 2.0298988e-04 5.0000000e-03], f_best = 0.17212010758525695\n",
      "30\n",
      "pop. radius: 0.059695202019263593\n",
      "x_best = [2.6500000e-05 2.0298988e-04 5.0000000e-03], f_best = 0.17212010758525695\n",
      "31\n",
      "pop. radius: 0.028664544481424747\n",
      "x_best = [2.6500000e-05 2.0298988e-04 5.0000000e-03], f_best = 0.17212010758525695\n",
      "32\n",
      "pop. radius: 0.06271245790596813\n",
      "x_best = [2.6500000e-05 2.0298988e-04 5.0000000e-03], f_best = 0.17212010758525695\n",
      "33\n",
      "pop. radius: 0.026775748102725205\n",
      "x_best = [2.6500000e-05 2.0298988e-04 5.0000000e-03], f_best = 0.17212010758525695\n",
      "34\n",
      "pop. radius: 0.04284918381162772\n",
      "x_best = [2.6500000e-05 2.0298988e-04 5.0000000e-03], f_best = 0.17212010758525695\n",
      "35\n",
      "pop. radius: 0.02695386110886977\n",
      "x_best = [2.6500000e-05 2.0298988e-04 5.0000000e-03], f_best = 0.17212010758525695\n",
      "36\n",
      "pop. radius: 0.02616546827721855\n",
      "x_best = [2.6500000e-05 2.0298988e-04 5.0000000e-03], f_best = 0.17212010758525695\n",
      "37\n",
      "pop. radius: 0.03735050478456603\n",
      "x_best = [2.6500000e-05 2.0298988e-04 5.0000000e-03], f_best = 0.17212010758525695\n",
      "38\n",
      "pop. radius: 0.04058221402633022\n",
      "x_best = [2.65000000e-05 2.02990309e-04 5.00000000e-03], f_best = 0.17212002326834816\n",
      "39\n",
      "pop. radius: 0.059933884419705485\n",
      "x_best = [2.65000000e-05 2.02990309e-04 5.00000000e-03], f_best = 0.17212002326834816\n",
      "40\n",
      "pop. radius: 0.028974940291913942\n",
      "x_best = [2.65000000e-05 2.02990309e-04 5.00000000e-03], f_best = 0.17212002326834816\n",
      "41\n",
      "pop. radius: 0.022435559688520956\n",
      "x_best = [2.65000000e-05 2.02990309e-04 5.00000000e-03], f_best = 0.17212002326834816\n",
      "42\n",
      "pop. radius: 0.0532496381782408\n",
      "x_best = [2.65000000e-05 2.02990309e-04 5.00000000e-03], f_best = 0.17212002326834816\n",
      "43\n",
      "pop. radius: 0.029561952534848945\n",
      "x_best = [2.65000000e-05 2.02990309e-04 5.00000000e-03], f_best = 0.17212002326834816\n",
      "44\n",
      "pop. radius: 0.04843443885777465\n",
      "x_best = [2.65000000e-05 2.02990309e-04 5.00000000e-03], f_best = 0.17212002326834816\n",
      "45\n",
      "pop. radius: 0.03727707432786309\n",
      "x_best = [2.65000000e-05 2.02990309e-04 5.00000000e-03], f_best = 0.17212002326834816\n",
      "46\n",
      "pop. radius: 0.06087895091427198\n",
      "x_best = [2.65000000e-05 2.02990309e-04 5.00000000e-03], f_best = 0.17212002326834816\n",
      "47\n",
      "pop. radius: 0.055412328431164615\n",
      "x_best = [2.65000000e-05 2.02990309e-04 5.00000000e-03], f_best = 0.17212002326834816\n",
      "48\n",
      "pop. radius: 0.034931933019883954\n",
      "x_best = [2.65000000e-05 2.02990309e-04 5.00000000e-03], f_best = 0.17212002326834816\n",
      "49\n",
      "pop. radius: 0.049280277742558165\n",
      "x_best = [2.65000000e-05 2.02990309e-04 5.00000000e-03], f_best = 0.17212002326834816\n",
      "50\n",
      "pop. radius: 0.03824730177161084\n",
      "x_best = [2.65000000e-05 2.02990309e-04 5.00000000e-03], f_best = 0.17212002326834816\n",
      "51\n",
      "pop. radius: 0.030413300133204202\n",
      "x_best = [2.65000000e-05 2.02990309e-04 5.00000000e-03], f_best = 0.17212002326834816\n",
      "52\n",
      "pop. radius: 0.05065680163308073\n",
      "x_best = [2.65000000e-05 2.02990309e-04 5.00000000e-03], f_best = 0.17212002326834816\n",
      "53\n",
      "pop. radius: 0.03315649130447029\n",
      "x_best = [2.65000000e-05 2.02990309e-04 5.00000000e-03], f_best = 0.17212002326834816\n",
      "54\n",
      "pop. radius: 0.028982639939995503\n",
      "x_best = [2.65000000e-05 2.02990309e-04 5.00000000e-03], f_best = 0.17212002326834816\n",
      "55\n",
      "pop. radius: 0.058570075386297216\n",
      "x_best = [2.65000000e-05 2.02990309e-04 5.00000000e-03], f_best = 0.17212002326834816\n",
      "56\n",
      "pop. radius: 0.025425079689935348\n",
      "x_best = [2.65000000e-05 2.02990309e-04 5.00000000e-03], f_best = 0.17212002326834816\n",
      "57\n",
      "pop. radius: 0.021211218220669292\n",
      "x_best = [2.65000000e-05 2.02990309e-04 5.00000000e-03], f_best = 0.17212002326834816\n",
      "58\n",
      "pop. radius: 0.053388530593749484\n",
      "x_best = [2.65000000e-05 2.02990309e-04 5.00000000e-03], f_best = 0.17212002326834816\n",
      "59\n",
      "pop. radius: 0.032276274205078836\n",
      "x_best = [2.65000000e-05 2.02990309e-04 5.00000000e-03], f_best = 0.17212002326834816\n",
      "60\n",
      "pop. radius: 0.06561894241799515\n",
      "x_best = [2.65000000e-05 2.02990309e-04 5.00000000e-03], f_best = 0.17212002326834816\n",
      "61\n",
      "pop. radius: 0.027132111478043397\n",
      "x_best = [2.65000000e-05 2.02990309e-04 5.00000000e-03], f_best = 0.17212002326834816\n",
      "62\n",
      "pop. radius: 0.029743723207210748\n",
      "x_best = [2.65000000e-05 2.02990309e-04 5.00000000e-03], f_best = 0.17212002326834816\n",
      "63\n",
      "pop. radius: 0.053360273059835706\n",
      "x_best = [2.65000000e-05 2.02990309e-04 5.00000000e-03], f_best = 0.17212002326834816\n",
      "64\n",
      "pop. radius: 0.06901801059686397\n",
      "x_best = [2.65000000e-05 2.02990309e-04 5.00000000e-03], f_best = 0.17212002326834816\n",
      "65\n",
      "pop. radius: 0.03555842837243439\n",
      "x_best = [2.65000000e-05 2.02990309e-04 5.00000000e-03], f_best = 0.17212002326834816\n",
      "66\n",
      "pop. radius: 0.05369404966626967\n",
      "x_best = [2.65000000e-05 2.02990309e-04 5.00000000e-03], f_best = 0.17212002326834816\n",
      "67\n",
      "pop. radius: 0.028093339619783664\n",
      "x_best = [2.65000000e-05 2.02990309e-04 5.00000000e-03], f_best = 0.17212002326834816\n",
      "68\n",
      "pop. radius: 0.04826588989259917\n",
      "x_best = [2.65000000e-05 2.02990309e-04 5.00000000e-03], f_best = 0.17212002326834816\n",
      "69\n",
      "pop. radius: 0.05774333639248419\n",
      "x_best = [2.65000000e-05 2.02990309e-04 5.00000000e-03], f_best = 0.17212002326834816\n",
      "70\n",
      "pop. radius: 0.06654483717107595\n",
      "x_best = [2.65000000e-05 2.02990309e-04 5.00000000e-03], f_best = 0.17212002326834816\n",
      "71\n",
      "pop. radius: 0.028557412471351462\n",
      "x_best = [2.65000000e-05 2.02990309e-04 5.00000000e-03], f_best = 0.17212002326834816\n",
      "72\n",
      "pop. radius: 0.05432350397142405\n",
      "x_best = [2.65000000e-05 2.02990309e-04 5.00000000e-03], f_best = 0.17212002326834816\n",
      "73\n",
      "pop. radius: 0.02935591003931526\n",
      "x_best = [2.65000000e-05 2.02990309e-04 5.00000000e-03], f_best = 0.17212002326834816\n",
      "74\n",
      "pop. radius: 0.05432148187443575\n",
      "x_best = [2.65000000e-05 2.02990309e-04 5.00000000e-03], f_best = 0.17212002326834816\n",
      "75\n",
      "pop. radius: 0.04108875748869101\n",
      "x_best = [2.65000000e-05 2.02990309e-04 5.00000000e-03], f_best = 0.17212002326834816\n",
      "76\n",
      "pop. radius: 0.056251145077153786\n",
      "x_best = [2.65000000e-05 2.02990309e-04 5.00000000e-03], f_best = 0.17212002326834816\n",
      "77\n",
      "pop. radius: 0.024758066769036358\n",
      "x_best = [2.65000000e-05 2.02990309e-04 5.00000000e-03], f_best = 0.17212002326834816\n",
      "78\n",
      "pop. radius: 0.07366800559975561\n",
      "x_best = [2.65000000e-05 2.02990309e-04 5.00000000e-03], f_best = 0.17212002326834816\n",
      "79\n",
      "pop. radius: 0.05448101890849322\n",
      "x_best = [2.65000000e-05 2.02990309e-04 5.00000000e-03], f_best = 0.17212002326834816\n",
      "80\n",
      "pop. radius: 0.04051517680793759\n",
      "x_best = [2.65000000e-05 2.02990309e-04 5.00000000e-03], f_best = 0.17212002326834816\n",
      "81\n",
      "pop. radius: 0.05214896841516148\n",
      "x_best = [2.65000000e-05 2.02990309e-04 5.00000000e-03], f_best = 0.17212002326834816\n",
      "82\n",
      "pop. radius: 0.028997053361279224\n",
      "x_best = [2.65000000e-05 2.02990309e-04 5.00000000e-03], f_best = 0.17212002326834816\n",
      "83\n",
      "pop. radius: 0.0571483246668647\n",
      "x_best = [2.65000000e-05 2.02990309e-04 5.00000000e-03], f_best = 0.17212002326834816\n",
      "84\n",
      "pop. radius: 0.05373696414291729\n",
      "x_best = [2.65000000e-05 2.02990309e-04 5.00000000e-03], f_best = 0.17212002326834816\n",
      "85\n",
      "pop. radius: 0.04433832524689485\n",
      "x_best = [2.65000000e-05 2.02990309e-04 5.00000000e-03], f_best = 0.17212002326834816\n",
      "86\n",
      "pop. radius: 0.05837004177927163\n",
      "x_best = [2.65000000e-05 2.02990309e-04 5.00000000e-03], f_best = 0.17212002326834816\n",
      "87\n",
      "pop. radius: 0.05587712406732015\n",
      "x_best = [2.65000000e-05 2.02990309e-04 5.00000000e-03], f_best = 0.17212002326834816\n",
      "88\n",
      "pop. radius: 0.03257945458336009\n",
      "x_best = [2.65000000e-05 2.02990309e-04 5.00000000e-03], f_best = 0.17212002326834816\n",
      "89\n",
      "pop. radius: 0.045307812685085325\n",
      "x_best = [2.65000000e-05 2.02990309e-04 5.00000000e-03], f_best = 0.17212002326834816\n",
      "90\n",
      "pop. radius: 0.029095061809204736\n",
      "x_best = [2.65000000e-05 2.02990309e-04 5.00000000e-03], f_best = 0.17212002326834816\n",
      "91\n",
      "pop. radius: 0.02286529206320209\n",
      "x_best = [2.65000000e-05 2.02990309e-04 5.00000000e-03], f_best = 0.17212002326834816\n",
      "92\n",
      "pop. radius: 0.0515676390910732\n",
      "x_best = [2.65000000e-05 2.02990309e-04 5.00000000e-03], f_best = 0.17212002326834816\n",
      "93\n",
      "pop. radius: 0.06736290345608609\n",
      "x_best = [2.65000000e-05 2.02990309e-04 5.00000000e-03], f_best = 0.17212002326834816\n",
      "94\n",
      "pop. radius: 0.06610450086245212\n",
      "x_best = [2.65000000e-05 2.02990309e-04 5.00000000e-03], f_best = 0.17212002326834816\n",
      "95\n",
      "pop. radius: 0.0627986943619272\n",
      "x_best = [2.65000000e-05 2.02990309e-04 5.00000000e-03], f_best = 0.17212002326834816\n",
      "96\n",
      "pop. radius: 0.05640620927647688\n",
      "x_best = [2.65000000e-05 2.02990309e-04 5.00000000e-03], f_best = 0.17212002326834816\n",
      "97\n",
      "pop. radius: 0.06749725250780492\n",
      "x_best = [2.65000000e-05 2.02990309e-04 5.00000000e-03], f_best = 0.17212002326834816\n",
      "98\n",
      "pop. radius: 0.03074408396585504\n",
      "x_best = [2.65000000e-05 2.02990309e-04 5.00000000e-03], f_best = 0.17212002326834816\n",
      "99\n",
      "pop. radius: 0.0579095948892705\n",
      "x_best = [2.65000000e-05 2.02990309e-04 5.00000000e-03], f_best = 0.17212002326834816\n",
      "100\n",
      "pop. radius: 0.0633908334520199\n",
      "x_best = [2.65000000e-05 2.02990309e-04 5.00000000e-03], f_best = 0.17212002326834816\n"
     ]
    }
   ],
   "source": [
    "# Aquí corremos la metaheurística seleccionada\n",
    "met.verbose = True  # Se puede comentar para que no muestre todo el log\n",
    "met.run()"
   ],
   "metadata": {
    "collapsed": false,
    "pycharm": {
     "name": "#%%\n"
    }
   }
  },
  {
   "cell_type": "markdown",
   "source": [
    "## 4. Results' visualization"
   ],
   "metadata": {
    "collapsed": false,
    "pycharm": {
     "name": "#%% md\n"
    }
   }
  },
  {
   "cell_type": "markdown",
   "source": [
    "En esta primera gráfica, solo veremos la evolución de la función objetivo (generación de entropía)"
   ],
   "metadata": {
    "collapsed": false,
    "pycharm": {
     "name": "#%% md\n"
    }
   }
  },
  {
   "cell_type": "code",
   "execution_count": 9,
   "outputs": [
    {
     "data": {
      "text/plain": "<Figure size 432x288 with 1 Axes>",
      "image/png": "[encoded data removed]"
     },
     "metadata": {
      "needs_background": "light"
     },
     "output_type": "display_data"
    }
   ],
   "source": [
    "import matplotlib.pyplot as plt\n",
    "\n",
    "plt.plot(met.historical[\"fitness\"])\n",
    "plt.ylabel(r'Entropy Generation (W/K)')\n",
    "plt.xlabel(r'Iteration Number')\n",
    "plt.show()"
   ],
   "metadata": {
    "collapsed": false,
    "pycharm": {
     "name": "#%%\n"
    }
   }
  },
  {
   "cell_type": "code",
   "execution_count": 18,
   "outputs": [
    {
     "data": {
      "text/plain": "<Figure size 432x288 with 1 Axes>",
      "image/png": "[encoded data removed]"
     },
     "metadata": {
      "needs_background": "light"
     },
     "output_type": "display_data"
    }
   ],
   "source": [
    "for i in range(1,50):\n",
    "    met = mh.Metaheuristic(fun.get_formatted_problem(is_constrained=True), heur , num_iterations=100)\n",
    "    met.run()\n",
    "    plt.plot(met.historical[\"fitness\"])\n",
    "plt.ylabel(r'Entropy Generation (W/K)')\n",
    "plt.xlabel(r'Iteration Number')\n",
    "plt.gcf()\n",
    "plt.savefig('resultsMH.jpg')\n",
    "plt.show()\n",
    "\n"
   ],
   "metadata": {
    "collapsed": false,
    "pycharm": {
     "name": "#%%\n"
    }
   }
  },
  {
   "cell_type": "code",
   "execution_count": null,
   "outputs": [],
   "source": [
    "# from source import experiment as ex\n",
    "# expe = ex.Experiment()\n",
    "# expe.hh_config\n",
    "# expe.exp_config\n",
    "# expe.prob_config\n",
    "# expe.run()"
   ],
   "metadata": {
    "collapsed": false,
    "pycharm": {
     "name": "#%%\n"
    }
   }
  }
 ],
 "metadata": {
  "kernelspec": {
   "display_name": "Python 3",
   "language": "python",
   "name": "python3"
  },
  "language_info": {
   "codemirror_mode": {
    "name": "ipython",
    "version": 2
   },
   "file_extension": ".py",
   "mimetype": "text/x-python",
   "name": "python",
   "nbconvert_exporter": "python",
   "pygments_lexer": "ipython2",
   "version": "2.7.6"
  }
 },
 "nbformat": 4,
 "nbformat_minor": 0
}