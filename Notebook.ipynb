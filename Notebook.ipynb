{
 "cells": [
  {
   "cell_type": "markdown",
   "source": [
    "# CUSTOMHyS for Designing Microchannel Heat Sinks"
   ],
   "metadata": {
    "collapsed": false,
    "pycharm": {
     "name": "#%% md\n"
    }
   }
  },
  {
   "cell_type": "markdown",
   "source": [
    "## 0. Packages' installation and loading"
   ],
   "metadata": {
    "collapsed": false,
    "pycharm": {
     "name": "#%% md\n"
    }
   }
  },
  {
   "cell_type": "code",
   "execution_count": 1,
   "outputs": [
    {
     "data": {
      "text/plain": "'C:\\\\Users\\\\memo_\\\\PycharmProjects\\\\Microchannels'"
     },
     "execution_count": 1,
     "metadata": {},
     "output_type": "execute_result"
    }
   ],
   "source": [
    "%pwd"
   ],
   "metadata": {
    "collapsed": false,
    "pycharm": {
     "name": "#%%\n"
    }
   }
  },
  {
   "cell_type": "markdown",
   "source": [
    "Instalamos el paquete de Customhys directo del repositorio"
   ],
   "metadata": {
    "collapsed": false,
    "pycharm": {
     "name": "#%% md\n"
    }
   }
  },
  {
   "cell_type": "code",
   "execution_count": 2,
   "outputs": [
    {
     "name": "stdout",
     "output_type": "stream",
     "text": [
      "Requirement already satisfied: install in c:\\users\\memo_\\pycharmprojects\\microchannels\\venv\\lib\\site-packages (1.3.5)\n",
      "Requirement already satisfied: customhys==1.0.1.dev1 in c:\\users\\memo_\\pycharmprojects\\microchannels\\venv\\lib\\site-packages (1.0.1.dev1)\n"
     ]
    },
    {
     "name": "stderr",
     "output_type": "stream",
     "text": [
      "WARNING: You are using pip version 21.1.2; however, version 22.3.1 is available.\n",
      "You should consider upgrading via the 'C:\\Users\\memo_\\PycharmProjects\\Microchannels\\venv\\Scripts\\python.exe -m pip install --upgrade pip' command.\n"
     ]
    }
   ],
   "source": [
    "!pip3 install install customhys==1.0.1.dev1"
   ],
   "metadata": {
    "collapsed": false,
    "pycharm": {
     "name": "#%%\n"
    }
   }
  },
  {
   "cell_type": "markdown",
   "source": [
    "Cargamos los paquetes que vamos a utilizar"
   ],
   "metadata": {
    "collapsed": false,
    "pycharm": {
     "name": "#%% md\n"
    }
   }
  },
  {
   "cell_type": "code",
   "execution_count": 3,
   "metadata": {
    "collapsed": true,
    "pycharm": {
     "name": "#%%\n"
    }
   },
   "outputs": [],
   "source": [
    "import numpy as np\n",
    "from microchannels import Microchannel\n",
    "from materials import Copper, Air, Titanium, Aluminium, Graphite, Silicon, AlNF, TiONF, Water\n",
    "from customhys import metaheuristic as mh"
   ]
  },
  {
   "cell_type": "markdown",
   "source": [
    "## 1. Microchannel Heat Sink model preparation\n",
    "En esta parte, preparamos el modelo para utilizarlo y evaluar una configuración de parámetros de diseño en la función objetivo, que en este caso será al generación de entropía."
   ],
   "metadata": {
    "collapsed": false,
    "pycharm": {
     "name": "#%% md\n"
    }
   }
  },
  {
   "cell_type": "code",
   "execution_count": 208,
   "outputs": [],
   "source": [
    "class MicrochannelDesign():\n",
    "    def __init__(self):\n",
    "        self.model = Microchannel(base=Silicon(), coolant=Water())\n",
    "        #self.max_search_range = np.array([self.model.W_d/10, self.model.W_d/10, 0.005])\n",
    "        #self.min_search_range = np.array([1e-24, 1e-12, 1e-8])\n",
    "        # self.max_search_range = np.array([2.72e-4, 8.5e-4])\n",
    "        # self.min_search_range = np.array([4.08e-12, 8.5e-12])\n",
    "        self.max_search_range = np.array([1.0, 1000, 1e-3])\n",
    "        self.min_search_range = np.array([1e-3, 2, 1e-6])\n",
    "        #self.func_name = 'Microchannel entropy generation model'\n",
    "\n",
    "    def get_func_val(self, variables):\n",
    "\n",
    "        alpha = variables[0]\n",
    "        beta = variables[1]\n",
    "\n",
    "        self.model.w_c = alpha * 1.7e-3 / 2\n",
    "        self.model.w_w = self.model.w_c / beta\n",
    "        self.model.G_d = variables[2]\n",
    "        #print(self.model.G_d)\n",
    "        #print(self.model.alpha)\n",
    "        #print(self.model.beta)\n",
    "        return self.model.sgen\n",
    "\n",
    "    def get_formatted_problem(self, is_constrained=True):\n",
    "        return dict(function=self.get_func_val,\n",
    "                    boundaries=(self.min_search_range, self.max_search_range),\n",
    "                    is_constrained=True)\n",
    "\n",
    "fun = MicrochannelDesign()"
   ],
   "metadata": {
    "collapsed": false,
    "pycharm": {
     "name": "#%%\n"
    }
   }
  },
  {
   "cell_type": "markdown",
   "source": [
    "## 2. Metaheuristic preparation"
   ],
   "metadata": {
    "collapsed": false,
    "pycharm": {
     "name": "#%% md\n"
    }
   }
  },
  {
   "cell_type": "code",
   "execution_count": 209,
   "outputs": [],
   "source": [
    "# Primero cargamos la colección de operadores\n",
    "with open('./source/collections/' + 'default.txt', 'r') as operators_file:\n",
    "    heuristic_space = [eval(line.rstrip('\\n')) for line in operators_file]"
   ],
   "metadata": {
    "collapsed": false,
    "pycharm": {
     "name": "#%%\n"
    }
   }
  },
  {
   "cell_type": "markdown",
   "source": [
    "Esta es la parte en donde, utilizando los operadores, ensamblamos la metaheurística a usar:"
   ],
   "metadata": {
    "collapsed": false,
    "pycharm": {
     "name": "#%% md\n"
    }
   }
  },
  {
   "cell_type": "code",
   "execution_count": 210,
   "outputs": [],
   "source": [
    "# Metaheuristic 1: Random Search\n",
    "# heur = [('random_search', {'scale': 0.01, 'distribution': 'uniform'}, 'greedy')]\n",
    "\n",
    "# Metaheuristic 2: Particle Swarm & Genetic Linear Crossover with Random Pairing and Metropolis Selection\n",
    "heur = [('swarm_dynamic', {'factor': 0.7, 'self_conf': 2.54, 'swarm_conf': 2.56, 'version': 'inertial', 'distribution': 'uniform'}, 'all'),\n",
    "        ('genetic_crossover', {'pairing': 'random', 'crossover': 'linear_0.5_0.5', 'mating_pool_factor': 0.4}, 'metropolis')]\n",
    "\n",
    "#heur = [('genetic_crossover',\n",
    "#  {'pairing': 'rank', 'crossover': 'linear_0.5_0.5', 'mating_pool_factor': 0.4},\n",
    " # 'all'),\n",
    "  #      ('swarm_dynamic',\n",
    "  #{'factor': 0.7, 'self_conf': 2.54, 'swarm_conf': 2.56, 'version': 'inertial', 'distribution': 'gaussian'},\n",
    "  #'probabilistic'),\n",
    "   #     ('genetic_crossover',\n",
    "  #{'pairing': 'random', 'crossover': 'blend', 'mating_pool_factor': 0.4},\n",
    "  #'probabilistic')]\n",
    "\n",
    "\n",
    "#Metaheuristic 3: Genetic Algorithm\n",
    "#heur = [('genetic_crossover', {'pairing': 'tournament_2_100', 'crossover': 'single', 'mating_pool_factor': 0.4}, 'all'), ('genetic_mutation', {'scale': 1.0, 'elite_rate': 0.1, 'mutation_rate': 0.25, 'distribution': 'uniform'}, 'all')]"
   ],
   "metadata": {
    "collapsed": false,
    "pycharm": {
     "name": "#%%\n"
    }
   }
  },
  {
   "cell_type": "markdown",
   "source": [
    "Aquí terminamos de definirla empleando CUSTOMHyS\n"
   ],
   "metadata": {
    "collapsed": false,
    "pycharm": {
     "name": "#%% md\n"
    }
   }
  },
  {
   "cell_type": "code",
   "execution_count": 211,
   "outputs": [],
   "source": [
    "met = mh.Metaheuristic(fun.get_formatted_problem(is_constrained=True), heur , num_iterations=100)"
   ],
   "metadata": {
    "collapsed": false,
    "pycharm": {
     "name": "#%%\n"
    }
   }
  },
  {
   "cell_type": "markdown",
   "source": [
    "## 3. Run designing process"
   ],
   "metadata": {
    "collapsed": false,
    "pycharm": {
     "name": "#%% md\n"
    }
   }
  },
  {
   "cell_type": "code",
   "execution_count": 212,
   "outputs": [
    {
     "name": "stdout",
     "output_type": "stream",
     "text": [
      "\n",
      "Search operators to employ:\n",
      "swarm_dynamic(factor=0.7,self_conf=2.54,swarm_conf=2.56,version='inertial',distribution='uniform') with all\n",
      "genetic_crossover(pairing='random',crossover='linear_0.5_0.5',mating_pool_factor=0.4) with metropolis\n",
      "--------------------------------------------------\n",
      "1\n",
      "pop. radius: 1.5477787378120638\n",
      "x_best = [2.12253546e-01 2.00000000e+00 1.00000000e-06], f_best = 2.14830108446973e-06\n",
      "2\n",
      "pop. radius: 0.3903743420033089\n",
      "x_best = [2.33546744e-01 2.00000000e+00 1.00000000e-06], f_best = 2.1465985024201705e-06\n",
      "3\n",
      "pop. radius: 0.10801269206697428\n",
      "x_best = [2.36983797e-01 2.00000000e+00 1.00000000e-06], f_best = 2.1464008252920953e-06\n",
      "4\n",
      "pop. radius: 0.07458123487752577\n",
      "x_best = [2.28761405e-01 2.00000000e+00 1.00000000e-06], f_best = 2.1462924828266463e-06\n",
      "5\n",
      "pop. radius: 0.058903274039326325\n",
      "x_best = [2.2889704e-01 2.0000000e+00 1.0000000e-06], f_best = 2.146226710503227e-06\n",
      "6\n",
      "pop. radius: 0.050544327475428696\n",
      "x_best = [2.2889704e-01 2.0000000e+00 1.0000000e-06], f_best = 2.146226710503227e-06\n",
      "7\n",
      "pop. radius: 0.027731590260692385\n",
      "x_best = [2.2889704e-01 2.0000000e+00 1.0000000e-06], f_best = 2.146226710503227e-06\n",
      "8\n",
      "pop. radius: 0.01911749432841725\n",
      "x_best = [2.2889704e-01 2.0000000e+00 1.0000000e-06], f_best = 2.146226710503227e-06\n",
      "9\n",
      "pop. radius: 0.0831486881566428\n",
      "x_best = [2.45129607e-01 4.19408391e+00 1.00000000e-06], f_best = 2.137878092420333e-06\n",
      "10\n",
      "pop. radius: 0.05638657692662131\n",
      "x_best = [2.17532302e-01 4.82013928e+00 1.00000000e-06], f_best = 2.1367463440874754e-06\n",
      "11\n",
      "pop. radius: 0.042276042789021695\n",
      "x_best = [2.17532302e-01 4.82013928e+00 1.00000000e-06], f_best = 2.1367463440874754e-06\n",
      "12\n",
      "pop. radius: 0.051420644724377414\n",
      "x_best = [2.20646364e-01 4.96561354e+00 1.00000000e-06], f_best = 2.1365958004662205e-06\n",
      "13\n",
      "pop. radius: 0.06746365140493002\n",
      "x_best = [2.20646364e-01 4.96561354e+00 1.00000000e-06], f_best = 2.1365958004662205e-06\n",
      "14\n",
      "pop. radius: 0.040161040412284105\n",
      "x_best = [2.27927108e-01 4.65742935e+00 1.00000000e-06], f_best = 2.136593632368066e-06\n",
      "15\n",
      "pop. radius: 0.05220239758156581\n",
      "x_best = [2.31048513e-01 4.73046565e+00 1.00000000e-06], f_best = 2.1364681939719342e-06\n",
      "16\n",
      "pop. radius: 0.043492479353998234\n",
      "x_best = [2.25817805e-01 4.86089576e+00 1.00000000e-06], f_best = 2.136466915822731e-06\n",
      "17\n",
      "pop. radius: 0.03238006323604648\n",
      "x_best = [2.25817805e-01 4.86089576e+00 1.00000000e-06], f_best = 2.136466915822731e-06\n",
      "18\n",
      "pop. radius: 0.040425601508103266\n",
      "x_best = [2.25817805e-01 4.86089576e+00 1.00000000e-06], f_best = 2.136466915822731e-06\n",
      "19\n",
      "pop. radius: 0.04010917271287105\n",
      "x_best = [2.25817805e-01 4.86089576e+00 1.00000000e-06], f_best = 2.136466915822731e-06\n",
      "20\n",
      "pop. radius: 0.025331029114939875\n",
      "x_best = [2.25817805e-01 4.86089576e+00 1.00000000e-06], f_best = 2.136466915822731e-06\n",
      "21\n",
      "pop. radius: 0.024177246698743462\n",
      "x_best = [2.25817805e-01 4.86089576e+00 1.00000000e-06], f_best = 2.136466915822731e-06\n",
      "22\n",
      "pop. radius: 0.041123289791034676\n",
      "x_best = [2.27723155e-01 4.84030922e+00 1.00000000e-06], f_best = 2.1364541496596204e-06\n",
      "23\n",
      "pop. radius: 0.030876422394111737\n",
      "x_best = [2.27723155e-01 4.84030922e+00 1.00000000e-06], f_best = 2.1364541496596204e-06\n",
      "24\n",
      "pop. radius: 0.028737515154476062\n",
      "x_best = [2.27723155e-01 4.84030922e+00 1.00000000e-06], f_best = 2.1364541496596204e-06\n",
      "25\n",
      "pop. radius: 0.029367593578775945\n",
      "x_best = [2.27723155e-01 4.84030922e+00 1.00000000e-06], f_best = 2.1364541496596204e-06\n",
      "26\n",
      "pop. radius: 0.018680056559526925\n",
      "x_best = [2.27723155e-01 4.84030922e+00 1.00000000e-06], f_best = 2.1364541496596204e-06\n",
      "27\n",
      "pop. radius: 0.019976006308683056\n",
      "x_best = [2.27723155e-01 4.84030922e+00 1.00000000e-06], f_best = 2.1364541496596204e-06\n",
      "28\n",
      "pop. radius: 0.025032248984350917\n",
      "x_best = [2.27723155e-01 4.84030922e+00 1.00000000e-06], f_best = 2.1364541496596204e-06\n",
      "29\n",
      "pop. radius: 0.026309454439304783\n",
      "x_best = [2.27723155e-01 4.84030922e+00 1.00000000e-06], f_best = 2.1364541496596204e-06\n",
      "30\n",
      "pop. radius: 0.0402747733670966\n",
      "x_best = [2.27723155e-01 4.84030922e+00 1.00000000e-06], f_best = 2.1364541496596204e-06\n",
      "31\n",
      "pop. radius: 0.03509892633051467\n",
      "x_best = [2.27723155e-01 4.84030922e+00 1.00000000e-06], f_best = 2.1364541496596204e-06\n",
      "32\n",
      "pop. radius: 0.016458896076111975\n",
      "x_best = [2.27723155e-01 4.84030922e+00 1.00000000e-06], f_best = 2.1364541496596204e-06\n",
      "33\n",
      "pop. radius: 0.012727244658286993\n",
      "x_best = [2.27723155e-01 4.84030922e+00 1.00000000e-06], f_best = 2.1364541496596204e-06\n",
      "34\n",
      "pop. radius: 0.03044907629708222\n",
      "x_best = [2.28692089e-01 4.70250911e+00 1.00000000e-06], f_best = 2.136433541137957e-06\n",
      "35\n",
      "pop. radius: 0.026921521942404946\n",
      "x_best = [2.28692089e-01 4.70250911e+00 1.00000000e-06], f_best = 2.136433541137957e-06\n",
      "36\n",
      "pop. radius: 0.03704078787092119\n",
      "x_best = [2.28692089e-01 4.70250911e+00 1.00000000e-06], f_best = 2.136433541137957e-06\n",
      "37\n",
      "pop. radius: 0.02114694346358355\n",
      "x_best = [2.28692089e-01 4.70250911e+00 1.00000000e-06], f_best = 2.136433541137957e-06\n",
      "38\n",
      "pop. radius: 0.02822474246179681\n",
      "x_best = [2.28692089e-01 4.70250911e+00 1.00000000e-06], f_best = 2.136433541137957e-06\n",
      "39\n",
      "pop. radius: 0.021875934233591732\n",
      "x_best = [2.28692089e-01 4.70250911e+00 1.00000000e-06], f_best = 2.136433541137957e-06\n",
      "40\n",
      "pop. radius: 0.016217336928358764\n",
      "x_best = [2.28692089e-01 4.70250911e+00 1.00000000e-06], f_best = 2.136433541137957e-06\n",
      "41\n",
      "pop. radius: 0.020771566308955706\n",
      "x_best = [2.28692089e-01 4.70250911e+00 1.00000000e-06], f_best = 2.136433541137957e-06\n",
      "42\n",
      "pop. radius: 0.017059598653583818\n",
      "x_best = [2.28692089e-01 4.70250911e+00 1.00000000e-06], f_best = 2.136433541137957e-06\n",
      "43\n",
      "pop. radius: 0.0182833799755247\n",
      "x_best = [2.28692089e-01 4.70250911e+00 1.00000000e-06], f_best = 2.136433541137957e-06\n",
      "44\n",
      "pop. radius: 0.02544874389158064\n",
      "x_best = [2.28692089e-01 4.70250911e+00 1.00000000e-06], f_best = 2.136433541137957e-06\n",
      "45\n",
      "pop. radius: 0.020592162161561022\n",
      "x_best = [2.28692089e-01 4.70250911e+00 1.00000000e-06], f_best = 2.136433541137957e-06\n",
      "46\n",
      "pop. radius: 0.030115407216884143\n",
      "x_best = [2.28692089e-01 4.70250911e+00 1.00000000e-06], f_best = 2.136433541137957e-06\n",
      "47\n",
      "pop. radius: 0.014078933824440124\n",
      "x_best = [2.28692089e-01 4.70250911e+00 1.00000000e-06], f_best = 2.136433541137957e-06\n",
      "48\n",
      "pop. radius: 0.02570863598080609\n",
      "x_best = [2.28692089e-01 4.70250911e+00 1.00000000e-06], f_best = 2.136433541137957e-06\n",
      "49\n",
      "pop. radius: 0.01638256175567621\n",
      "x_best = [2.28692089e-01 4.70250911e+00 1.00000000e-06], f_best = 2.136433541137957e-06\n",
      "50\n",
      "pop. radius: 0.013192607367925283\n",
      "x_best = [2.28692089e-01 4.70250911e+00 1.00000000e-06], f_best = 2.136433541137957e-06\n",
      "51\n",
      "pop. radius: 0.023677667610330726\n",
      "x_best = [2.28692089e-01 4.70250911e+00 1.00000000e-06], f_best = 2.136433541137957e-06\n",
      "52\n",
      "pop. radius: 0.022503932417616678\n",
      "x_best = [2.28692089e-01 4.70250911e+00 1.00000000e-06], f_best = 2.136433541137957e-06\n",
      "53\n",
      "pop. radius: 0.03930659219786778\n",
      "x_best = [2.28692089e-01 4.70250911e+00 1.00000000e-06], f_best = 2.136433541137957e-06\n",
      "54\n",
      "pop. radius: 0.014290275270586714\n",
      "x_best = [2.28692089e-01 4.70250911e+00 1.00000000e-06], f_best = 2.136433541137957e-06\n",
      "55\n",
      "pop. radius: 0.02780335618558498\n",
      "x_best = [2.28692089e-01 4.70250911e+00 1.00000000e-06], f_best = 2.136433541137957e-06\n",
      "56\n",
      "pop. radius: 0.014287093136116764\n",
      "x_best = [2.28692089e-01 4.70250911e+00 1.00000000e-06], f_best = 2.136433541137957e-06\n",
      "57\n",
      "pop. radius: 0.03089653214662252\n",
      "x_best = [2.28692089e-01 4.70250911e+00 1.00000000e-06], f_best = 2.136433541137957e-06\n",
      "58\n",
      "pop. radius: 0.029791505664059713\n",
      "x_best = [2.28692089e-01 4.70250911e+00 1.00000000e-06], f_best = 2.136433541137957e-06\n",
      "59\n",
      "pop. radius: 0.022376563590948324\n",
      "x_best = [2.28692089e-01 4.70250911e+00 1.00000000e-06], f_best = 2.136433541137957e-06\n",
      "60\n",
      "pop. radius: 0.024753543393007314\n",
      "x_best = [2.28692089e-01 4.70250911e+00 1.00000000e-06], f_best = 2.136433541137957e-06\n",
      "61\n",
      "pop. radius: 0.011656216963057821\n",
      "x_best = [2.28692089e-01 4.70250911e+00 1.00000000e-06], f_best = 2.136433541137957e-06\n",
      "62\n",
      "pop. radius: 0.018140832035522587\n",
      "x_best = [2.28692089e-01 4.70250911e+00 1.00000000e-06], f_best = 2.136433541137957e-06\n",
      "63\n",
      "pop. radius: 0.027344538844324827\n",
      "x_best = [2.28166160e-01 4.64224128e+00 1.00000000e-06], f_best = 2.1364325032239647e-06\n",
      "64\n",
      "pop. radius: 0.022264922295837337\n",
      "x_best = [2.28166160e-01 4.64224128e+00 1.00000000e-06], f_best = 2.1364325032239647e-06\n",
      "65\n",
      "pop. radius: 0.021159284110911447\n",
      "x_best = [2.28166160e-01 4.64224128e+00 1.00000000e-06], f_best = 2.1364325032239647e-06\n",
      "66\n",
      "pop. radius: 0.02686476991695805\n",
      "x_best = [2.28166160e-01 4.64224128e+00 1.00000000e-06], f_best = 2.1364325032239647e-06\n",
      "67\n",
      "pop. radius: 0.02362559249758209\n",
      "x_best = [2.28166160e-01 4.64224128e+00 1.00000000e-06], f_best = 2.1364325032239647e-06\n",
      "68\n",
      "pop. radius: 0.02547532665579823\n",
      "x_best = [2.28166160e-01 4.64224128e+00 1.00000000e-06], f_best = 2.1364325032239647e-06\n",
      "69\n",
      "pop. radius: 0.029801045791403812\n",
      "x_best = [2.28166160e-01 4.64224128e+00 1.00000000e-06], f_best = 2.1364325032239647e-06\n",
      "70\n",
      "pop. radius: 0.02188837353774273\n",
      "x_best = [2.28166160e-01 4.64224128e+00 1.00000000e-06], f_best = 2.1364325032239647e-06\n",
      "71\n",
      "pop. radius: 0.0225138436846909\n",
      "x_best = [2.28166160e-01 4.64224128e+00 1.00000000e-06], f_best = 2.1364325032239647e-06\n",
      "72\n",
      "pop. radius: 0.030355678774174173\n",
      "x_best = [2.28166160e-01 4.64224128e+00 1.00000000e-06], f_best = 2.1364325032239647e-06\n",
      "73\n",
      "pop. radius: 0.023855205273258125\n",
      "x_best = [2.28166160e-01 4.64224128e+00 1.00000000e-06], f_best = 2.1364325032239647e-06\n",
      "74\n",
      "pop. radius: 0.03485112682335298\n",
      "x_best = [2.28166160e-01 4.64224128e+00 1.00000000e-06], f_best = 2.1364325032239647e-06\n",
      "75\n",
      "pop. radius: 0.017555038919983206\n",
      "x_best = [2.28166160e-01 4.64224128e+00 1.00000000e-06], f_best = 2.1364325032239647e-06\n",
      "76\n",
      "pop. radius: 0.023657329284735695\n",
      "x_best = [2.28166160e-01 4.64224128e+00 1.00000000e-06], f_best = 2.1364325032239647e-06\n",
      "77\n",
      "pop. radius: 0.017595391591511644\n",
      "x_best = [2.28166160e-01 4.64224128e+00 1.00000000e-06], f_best = 2.1364325032239647e-06\n",
      "78\n",
      "pop. radius: 0.020408887584112717\n",
      "x_best = [2.28166160e-01 4.64224128e+00 1.00000000e-06], f_best = 2.1364325032239647e-06\n",
      "79\n",
      "pop. radius: 0.025439109672715676\n",
      "x_best = [2.28166160e-01 4.64224128e+00 1.00000000e-06], f_best = 2.1364325032239647e-06\n",
      "80\n",
      "pop. radius: 0.026380946056606944\n",
      "x_best = [2.28166160e-01 4.64224128e+00 1.00000000e-06], f_best = 2.1364325032239647e-06\n",
      "81\n",
      "pop. radius: 0.020451237722840788\n",
      "x_best = [2.28166160e-01 4.64224128e+00 1.00000000e-06], f_best = 2.1364325032239647e-06\n",
      "82\n",
      "pop. radius: 0.020574500212179863\n",
      "x_best = [2.28166160e-01 4.64224128e+00 1.00000000e-06], f_best = 2.1364325032239647e-06\n",
      "83\n",
      "pop. radius: 0.03278160076574611\n",
      "x_best = [2.28166160e-01 4.64224128e+00 1.00000000e-06], f_best = 2.1364325032239647e-06\n",
      "84\n",
      "pop. radius: 0.025156583743767537\n",
      "x_best = [2.28166160e-01 4.64224128e+00 1.00000000e-06], f_best = 2.1364325032239647e-06\n",
      "85\n",
      "pop. radius: 0.028158765549559605\n",
      "x_best = [2.28166160e-01 4.64224128e+00 1.00000000e-06], f_best = 2.1364325032239647e-06\n",
      "86\n",
      "pop. radius: 0.03161797429417613\n",
      "x_best = [2.28166160e-01 4.64224128e+00 1.00000000e-06], f_best = 2.1364325032239647e-06\n",
      "87\n",
      "pop. radius: 0.0373407289534045\n",
      "x_best = [2.28166160e-01 4.64224128e+00 1.00000000e-06], f_best = 2.1364325032239647e-06\n",
      "88\n",
      "pop. radius: 0.01399922007802081\n",
      "x_best = [2.28166160e-01 4.64224128e+00 1.00000000e-06], f_best = 2.1364325032239647e-06\n",
      "89\n",
      "pop. radius: 0.025137249339690203\n",
      "x_best = [2.28166160e-01 4.64224128e+00 1.00000000e-06], f_best = 2.1364325032239647e-06\n",
      "90\n",
      "pop. radius: 0.020708277882815006\n",
      "x_best = [2.28166160e-01 4.64224128e+00 1.00000000e-06], f_best = 2.1364325032239647e-06\n",
      "91\n",
      "pop. radius: 0.028980609475989995\n",
      "x_best = [2.28166160e-01 4.64224128e+00 1.00000000e-06], f_best = 2.1364325032239647e-06\n",
      "92\n",
      "pop. radius: 0.0220281342597282\n",
      "x_best = [2.28166160e-01 4.64224128e+00 1.00000000e-06], f_best = 2.1364325032239647e-06\n",
      "93\n",
      "pop. radius: 0.02999295128070359\n",
      "x_best = [2.28166160e-01 4.64224128e+00 1.00000000e-06], f_best = 2.1364325032239647e-06\n",
      "94\n",
      "pop. radius: 0.026097308848498074\n",
      "x_best = [2.28166160e-01 4.64224128e+00 1.00000000e-06], f_best = 2.1364325032239647e-06\n",
      "95\n",
      "pop. radius: 0.02123221837071698\n",
      "x_best = [2.28166160e-01 4.64224128e+00 1.00000000e-06], f_best = 2.1364325032239647e-06\n",
      "96\n",
      "pop. radius: 0.027048154724942822\n",
      "x_best = [2.28166160e-01 4.64224128e+00 1.00000000e-06], f_best = 2.1364325032239647e-06\n",
      "97\n",
      "pop. radius: 0.026807196867589478\n",
      "x_best = [2.28166160e-01 4.64224128e+00 1.00000000e-06], f_best = 2.1364325032239647e-06\n",
      "98\n",
      "pop. radius: 0.02994665328291786\n",
      "x_best = [2.28166160e-01 4.64224128e+00 1.00000000e-06], f_best = 2.1364325032239647e-06\n",
      "99\n",
      "pop. radius: 0.024257391975468907\n",
      "x_best = [2.28166160e-01 4.64224128e+00 1.00000000e-06], f_best = 2.1364325032239647e-06\n",
      "100\n",
      "pop. radius: 0.034362980023691675\n",
      "x_best = [2.28166160e-01 4.64224128e+00 1.00000000e-06], f_best = 2.1364325032239647e-06\n"
     ]
    }
   ],
   "source": [
    "# Aquí corremos la metaheurística seleccionada\n",
    "met.verbose = True  # Se puede comentar para que no muestre todo el log\n",
    "\n",
    "met.run()"
   ],
   "metadata": {
    "collapsed": false,
    "pycharm": {
     "name": "#%%\n"
    }
   }
  },
  {
   "cell_type": "markdown",
   "source": [
    "## 4. Results' visualization"
   ],
   "metadata": {
    "collapsed": false,
    "pycharm": {
     "name": "#%% md\n"
    }
   }
  },
  {
   "cell_type": "markdown",
   "source": [
    "En esta primera gráfica, solo veremos la evolución de la función objetivo (generación de entropía)"
   ],
   "metadata": {
    "collapsed": false,
    "pycharm": {
     "name": "#%% md\n"
    }
   }
  },
  {
   "cell_type": "code",
   "execution_count": 213,
   "outputs": [
    {
     "data": {
      "text/plain": "<Figure size 432x288 with 1 Axes>",
      "image/png": "[encoded data removed]"
     },
     "metadata": {
      "needs_background": "light"
     },
     "output_type": "display_data"
    }
   ],
   "source": [
    "import matplotlib.pyplot as plt\n",
    "\n",
    "plt.plot(met.historical[\"fitness\"])\n",
    "plt.ylabel(r'Entropy Generation (W/K)')\n",
    "plt.xlabel(r'Iteration Number')\n",
    "plt.show()"
   ],
   "metadata": {
    "collapsed": false,
    "pycharm": {
     "name": "#%%\n"
    }
   }
  },
  {
   "cell_type": "code",
   "execution_count": 214,
   "outputs": [
    {
     "name": "stdout",
     "output_type": "stream",
     "text": [
      "alpha = 0.23, beta = 4.6, G = 1e-06, S_gen = 2.136433e-06 W/K\n"
     ]
    }
   ],
   "source": [
    "sol, fitness = met.get_solution()\n",
    "\n",
    "print(f\"alpha = {sol[0]:.2g}, beta = {sol[1]:.2g}, G = {sol[2]:.2g}, S_gen = {fitness:.6e} W/K\")"
   ],
   "metadata": {
    "collapsed": false,
    "pycharm": {
     "name": "#%%\n"
    }
   }
  },
  {
   "cell_type": "code",
   "execution_count": 186,
   "outputs": [
    {
     "data": {
      "text/plain": "4.079367147255925e-05"
     },
     "execution_count": 186,
     "metadata": {},
     "output_type": "execute_result"
    }
   ],
   "source": [
    "fun.model.w_w"
   ],
   "metadata": {
    "collapsed": false,
    "pycharm": {
     "name": "#%%\n"
    }
   }
  },
  {
   "cell_type": "code",
   "execution_count": 313,
   "outputs": [
    {
     "data": {
      "text/plain": "<Figure size 432x288 with 1 Axes>",
      "image/png": "[encoded data removed]"
     },
     "metadata": {
      "needs_background": "light"
     },
     "output_type": "display_data"
    }
   ],
   "source": [
    "for i in range(1,50):\n",
    "    met = mh.Metaheuristic(fun.get_formatted_problem(is_constrained=True), heur , num_iterations=100)\n",
    "    met.run()\n",
    "    plt.plot(met.historical[\"fitness\"])\n",
    "plt.ylabel(r'Entropy Generation Rate (W/K)')\n",
    "plt.xlabel(r'Iteration Number')\n",
    "plt.gcf()\n",
    "plt.savefig('resultsMH.jpg')\n",
    "plt.show()\n",
    "\n"
   ],
   "metadata": {
    "collapsed": false,
    "pycharm": {
     "name": "#%%\n"
    }
   }
  },
  {
   "cell_type": "code",
   "execution_count": 46,
   "outputs": [
    {
     "name": "stdout",
     "output_type": "stream",
     "text": [
      "MC_results_Copper_Air_1 :: Step: 0, Perf: 0.17361096240645799, e-Sol: [195]\n",
      "MC_results_Copper_Air_1 :: Step: 3, Perf: 0.17211986450293926, e-Sol: [202]\n",
      "MC_results_Copper_Air_1 :: Step: 33, Perf: 0.17211985470670643, e-Sol: [136 186  85]\n",
      "MC_results_Copper_Air_1 :: Step: 52, Perf: 0.1721198547066086, e-Sol: [148]\n",
      "MC_results_Copper_Air_1 :: Step: 83, Perf: 0.17211985470659716, e-Sol: [145]\n",
      "[['random_flight' {'scale': 1.0, 'distribution': 'gaussian'} 'all']] 0.17211985470659716 [145] \n",
      "\n",
      "\n"
     ]
    }
   ],
   "source": [
    "# from source import experiment as ex\n",
    "# expe = ex.Experiment()\n",
    "# expe.hh_configr\n",
    "# expe.exp_config\n",
    "# expe.prob_config\n",
    "# expe.run()\n",
    "from customhys import hyperheuristic as hh\n",
    "prob = fun.get_formatted_problem(is_constrained=True)\n",
    "hyp = None\n",
    "\n",
    "for i in range(1,2):\n",
    "    del hyp\n",
    "    hyp = hh.Hyperheuristic(heuristic_space=heuristic_space, problem=prob, file_label=\"MC_results_Copper_Air_%d\"%i, parameters=\n",
    "                            dict(cardinality=3,                # Max. numb. of SOs in MHs, lvl:1\n",
    "                              num_iterations=100,           # Iterations a MH performs, lvl:1\n",
    "                              num_agents=30,                # Agents in population,     lvl:1\n",
    "                              num_replicas=30,              # Replicas per each MH,     lvl:2\n",
    "                              num_steps=100,                # Trials per HH step,       lvl:2\n",
    "                              stagnation_percentage=0.3,    # Stagnation percentage,    lvl:2\n",
    "                              max_temperature=200,          # Initial temperature (SA), lvl:2\n",
    "                              cooling_rate=0.1)\n",
    "    )\n",
    "    sol, perf, e_sol = hyp.run()\n",
    "    print( sol, perf, e_sol, \"\\n\\n\")\n"
   ],
   "metadata": {
    "collapsed": false,
    "pycharm": {
     "name": "#%%\n"
    }
   }
  },
  {
   "cell_type": "code",
   "execution_count": 11,
   "outputs": [],
   "source": [
    "class MicrochannelDesign():\n",
    "    def __init__(self):\n",
    "        self.model = Microchannel(base=Graphite(), coolant=Water())\n",
    "        #self.max_search_range = np.array([self.model.W_d/10, self.model.W_d/10, 0.005])\n",
    "        #self.min_search_range = np.array([1e-24, 1e-12, 1e-8])\n",
    "        self.max_search_range = np.array([2.65e-5, 20.4e-5, 0.009])\n",
    "        self.min_search_range = np.array([4.53e-5, 13.6e-5, 0.005])\n",
    "        self.func_name = 'Microchannel entropy generation model'\n",
    "\n",
    "    def get_func_val(self, variables):\n",
    "        self.model.w_w = variables[0]\n",
    "        self.model.w_c = variables[1]\n",
    "        self.model.G_d = variables[2]\n",
    "        #print(self.model.G_d)\n",
    "        #print(self.model.alpha)\n",
    "        #print(self.model.beta)\n",
    "        return self.model.sgen\n",
    "\n",
    "    def get_formatted_problem(self, is_constrained=True):\n",
    "        return dict(function=self.get_func_val,\n",
    "                    boundaries=(self.min_search_range, self.max_search_range),\n",
    "                    is_constrained=is_constrained)\n",
    "\n",
    "fun = MicrochannelDesign()"
   ],
   "metadata": {
    "collapsed": false,
    "pycharm": {
     "name": "#%%\n"
    }
   }
  },
  {
   "cell_type": "code",
   "execution_count": 12,
   "outputs": [
    {
     "name": "stdout",
     "output_type": "stream",
     "text": [
      "MC_results2_Graphite_Wat_Ag_50_Stag_10_26 :: Step: 0, Perf: 108.52248126279315, e-Sol: [110]\n",
      "MC_results2_Graphite_Wat_Ag_50_Stag_10_26 :: Step: 1, Perf: 107.49252218594403, e-Sol: [105]\n",
      "MC_results2_Graphite_Wat_Ag_50_Stag_10_26 :: Step: 2, Perf: 94.3618260800781, e-Sol: [190 105]\n",
      "[['swarm_dynamic'\n",
      "  {'factor': 0.7, 'self_conf': 2.54, 'swarm_conf': 2.56, 'version': 'inertial', 'distribution': 'levy'}\n",
      "  'greedy']\n",
      " ['genetic_crossover'\n",
      "  {'pairing': 'rank', 'crossover': 'linear_0.5_0.5', 'mating_pool_factor': 0.4}\n",
      "  'all']] 94.3618260800781 [190 105] \n",
      "\n",
      "\n",
      "MC_results2_Graphite_Wat_Ag_50_Stag_10_27 :: Step: 0, Perf: 94.91237108307433, e-Sol: [195]\n",
      "MC_results2_Graphite_Wat_Ag_50_Stag_10_27 :: Step: 1, Perf: 94.36182203379083, e-Sol: [139 195]\n",
      "[['random_flight' {'scale': 1.0, 'distribution': 'levy', 'beta': 1.5}\n",
      "  'metropolis']\n",
      " ['swarm_dynamic'\n",
      "  {'factor': 1.0, 'self_conf': 2.54, 'swarm_conf': 2.56, 'version': 'constriction', 'distribution': 'uniform'}\n",
      "  'metropolis']] 94.36182203379083 [139 195] \n",
      "\n",
      "\n",
      "MC_results2_Graphite_Wat_Ag_50_Stag_10_28 :: Step: 0, Perf: 94.4269235859916, e-Sol: [189]\n",
      "MC_results2_Graphite_Wat_Ag_50_Stag_10_28 :: Step: 1, Perf: 94.38899502617852, e-Sol: [27]\n",
      "MC_results2_Graphite_Wat_Ag_50_Stag_10_28 :: Step: 5, Perf: 94.37807475542681, e-Sol: [121  77  27]\n",
      "MC_results2_Graphite_Wat_Ag_50_Stag_10_28 :: Step: 6, Perf: 94.37721498160931, e-Sol: [121  27]\n",
      "MC_results2_Graphite_Wat_Ag_50_Stag_10_28 :: Step: 17, Perf: 94.36182203386116, e-Sol: [160 198  99]\n",
      "[['local_random_walk'\n",
      "  {'probability': 0.75, 'scale': 1.0, 'distribution': 'levy'}\n",
      "  'probabilistic']\n",
      " ['swarm_dynamic'\n",
      "  {'factor': 1.0, 'self_conf': 2.54, 'swarm_conf': 2.56, 'version': 'constriction', 'distribution': 'gaussian'}\n",
      "  'greedy']\n",
      " ['genetic_crossover'\n",
      "  {'pairing': 'random', 'crossover': 'blend', 'mating_pool_factor': 0.4}\n",
      "  'metropolis']] 94.36182203386116 [160 198  99] \n",
      "\n",
      "\n",
      "MC_results2_Graphite_Wat_Ag_50_Stag_10_29 :: Step: 0, Perf: 94.41298064307544, e-Sol: [32]\n",
      "MC_results2_Graphite_Wat_Ag_50_Stag_10_29 :: Step: 1, Perf: 94.36430722948829, e-Sol: [32 92]\n",
      "MC_results2_Graphite_Wat_Ag_50_Stag_10_29 :: Step: 2, Perf: 94.36407902660042, e-Sol: [152  32  92]\n",
      "MC_results2_Graphite_Wat_Ag_50_Stag_10_29 :: Step: 3, Perf: 94.36207524695284, e-Sol: [152 134  92]\n",
      "MC_results2_Graphite_Wat_Ag_50_Stag_10_29 :: Step: 4, Perf: 94.3618714932744, e-Sol: [  9 134  92]\n",
      "MC_results2_Graphite_Wat_Ag_50_Stag_10_29 :: Step: 11, Perf: 94.36182203379084, e-Sol: [146]\n",
      "MC_results2_Graphite_Wat_Ag_50_Stag_10_29 :: Step: 17, Perf: 94.36182203379083, e-Sol: [118 132 184]\n",
      "[['genetic_crossover'\n",
      "  {'pairing': 'tournament_2_100', 'crossover': 'linear_0.5_0.5', 'mating_pool_factor': 0.4}\n",
      "  'greedy']\n",
      " ['genetic_mutation'\n",
      "  {'scale': 1.0, 'elite_rate': 0.1, 'mutation_rate': 0.25, 'distribution': 'levy'}\n",
      "  'probabilistic']\n",
      " ['swarm_dynamic'\n",
      "  {'factor': 0.7, 'self_conf': 2.54, 'swarm_conf': 2.56, 'version': 'inertial', 'distribution': 'uniform'}\n",
      "  'probabilistic']] 94.36182203379083 [118 132 184] \n",
      "\n",
      "\n",
      "MC_results2_Graphite_Wat_Ag_50_Stag_10_30 :: Step: 0, Perf: 94.39448072317089, e-Sol: [188]\n",
      "MC_results2_Graphite_Wat_Ag_50_Stag_10_30 :: Step: 2, Perf: 94.362141561655, e-Sol: [188   6 169]\n",
      "MC_results2_Graphite_Wat_Ag_50_Stag_10_30 :: Step: 5, Perf: 94.36184890913017, e-Sol: [188 116]\n",
      "MC_results2_Graphite_Wat_Ag_50_Stag_10_30 :: Step: 13, Perf: 94.36182203379083, e-Sol: [130 104 197]\n",
      "[['genetic_mutation'\n",
      "  {'scale': 1.0, 'elite_rate': 0.1, 'mutation_rate': 0.25, 'distribution': 'levy'}\n",
      "  'greedy']\n",
      " ['genetic_crossover'\n",
      "  {'pairing': 'tournament_2_100', 'crossover': 'blend', 'mating_pool_factor': 0.4}\n",
      "  'probabilistic']\n",
      " ['swarm_dynamic'\n",
      "  {'factor': 1.0, 'self_conf': 2.54, 'swarm_conf': 2.56, 'version': 'constriction', 'distribution': 'gaussian'}\n",
      "  'all']] 94.36182203379083 [130 104 197] \n",
      "\n",
      "\n"
     ]
    }
   ],
   "source": [
    "from customhys  import hyperheuristic as hh\n",
    "prob = fun.get_formatted_problem(is_constrained=True)\n",
    "hyp = None\n",
    "for i in range(26,31):\n",
    "    del hyp\n",
    "    hyp = hh.Hyperheuristic(heuristic_space=heuristic_space, problem=prob, file_label=\"MC_results2_Graphite_Wat_Ag_50_Stag_10_%d\"%i, parameters=\n",
    "                            dict(cardinality=3,                # Max. numb. of SOs in MHs, lvl:1\n",
    "                              num_iterations=100,           # Iterations a MH performs, lvl:1\n",
    "                              num_agents=50,                # Agents in population,     lvl:1\n",
    "                              num_replicas=30,              # Replicas per each MH,     lvl:2\n",
    "                              num_steps=100,                # Trials per HH step,       lvl:2\n",
    "                              stagnation_percentage=0.1,    # Stagnation percentage,    lvl:2\n",
    "                              max_temperature=200,          # Initial temperature (SA), lvl:2\n",
    "                              cooling_rate=0.1)\n",
    "    )\n",
    "    sol, perf, e_sol = hyp.run()\n",
    "    print( sol, perf, e_sol, \"\\n\\n\")"
   ],
   "metadata": {
    "collapsed": false,
    "pycharm": {
     "name": "#%%\n"
    }
   }
  },
  {
   "cell_type": "code",
   "execution_count": null,
   "outputs": [],
   "source": [],
   "metadata": {
    "collapsed": false,
    "pycharm": {
     "name": "#%%\n"
    }
   }
  },
  {
   "cell_type": "code",
   "execution_count": null,
   "outputs": [],
   "source": [
    "parameters=dict(\n",
    "        cardinality=3,  # Max. numb. of SOs in MHs, lvl:1\n",
    "        num_iterations=500,  # Iterations a MH performs, lvl:1\n",
    "        num_agents=300,  # Agents in population,     lvl:1\n",
    "        num_replicas=30,  # Replicas per each MH,     lvl:2\n",
    "        num_steps=100,  # Trials per HH step,       lvl:2\n",
    "        stagnation_percentage=0.5,  # Stagnation percentage,    lvl:2\n",
    "        max_temperature=200,  # Initial temperature (SA), lvl:2\n",
    "        cooling_rate=0.05,  # Cooling rate (SA),        lvl:2)\n",
    "        compute_replicas_in_parallel=False,\n",
    "        compute_agents_in_parallel=True)"
   ],
   "metadata": {
    "collapsed": false,
    "pycharm": {
     "name": "#%%\n"
    }
   }
  },
  {
   "cell_type": "code",
   "execution_count": 6,
   "outputs": [
    {
     "ename": "ValueError",
     "evalue": "max() arg is an empty sequence",
     "output_type": "error",
     "traceback": [
      "\u001B[1;31m---------------------------------------------------------------------------\u001B[0m",
      "\u001B[1;31mValueError\u001B[0m                                Traceback (most recent call last)",
      "Input \u001B[1;32mIn [6]\u001B[0m, in \u001B[0;36m<cell line: 6>\u001B[1;34m()\u001B[0m\n\u001B[0;32m      3\u001B[0m \u001B[38;5;28;01mimport\u001B[39;00m \u001B[38;5;21;01mos\u001B[39;00m\n\u001B[0;32m      5\u001B[0m list_of_files \u001B[38;5;241m=\u001B[39m glob\u001B[38;5;241m.\u001B[39mglob(\u001B[38;5;124m'\u001B[39m\u001B[38;5;124m/path/to/folder/*\u001B[39m\u001B[38;5;124m'\u001B[39m) \u001B[38;5;66;03m# * means all if need specific format then *.csv\u001B[39;00m\n\u001B[1;32m----> 6\u001B[0m latest_file \u001B[38;5;241m=\u001B[39m \u001B[38;5;28;43mmax\u001B[39;49m\u001B[43m(\u001B[49m\u001B[43mlist_of_files\u001B[49m\u001B[43m,\u001B[49m\u001B[43m \u001B[49m\u001B[43mkey\u001B[49m\u001B[38;5;241;43m=\u001B[39;49m\u001B[43mos\u001B[49m\u001B[38;5;241;43m.\u001B[39;49m\u001B[43mpath\u001B[49m\u001B[38;5;241;43m.\u001B[39;49m\u001B[43mgetctime\u001B[49m\u001B[43m)\u001B[49m\n\u001B[0;32m      7\u001B[0m \u001B[38;5;28mprint\u001B[39m(latest_file)\n\u001B[0;32m      8\u001B[0m \u001B[38;5;66;03m# Opening JSON file\u001B[39;00m\n",
      "\u001B[1;31mValueError\u001B[0m: max() arg is an empty sequence"
     ]
    }
   ],
   "source": [
    "import json\n",
    "import glob\n",
    "import os\n",
    "\n",
    "list_of_files = glob.glob('/path/to/folder/*') # * means all if need specific format then *.csv\n",
    "latest_file = max(list_of_files, key=os.path.getctime)\n",
    "print(latest_file)\n",
    "# Opening JSON file\n",
    "with open('data.json') as json_file:\n",
    "    data = json.load(json_file)\n",
    "\n",
    "    # for reading nested data [0] represents\n",
    "    # the index value of the list\n",
    "    print(data['people1'][0])\n",
    "\n",
    "    # for printing the key-value pair of\n",
    "    # nested dictionary for loop can be used\n",
    "    print(\"\\nPrinting nested dictionary as a key-value pair\\n\")\n",
    "    for i in data['people1']:\n",
    "        print(\"Name:\", i['name'])\n",
    "        print(\"Website:\", i['website'])\n",
    "        print(\"From:\", i['from'])\n",
    "        print()"
   ],
   "metadata": {
    "collapsed": false,
    "pycharm": {
     "name": "#%%\n"
    }
   }
  },
  {
   "cell_type": "code",
   "execution_count": 6,
   "outputs": [],
   "source": [],
   "metadata": {
    "collapsed": false,
    "pycharm": {
     "name": "#%%\n"
    }
   }
  },
  {
   "cell_type": "code",
   "execution_count": 33,
   "outputs": [
    {
     "name": "stdout",
     "output_type": "stream",
     "text": [
      "data_files/raw/MC_results_Copper_Air_Stag_10\n",
      "[]\n",
      "[]\n"
     ]
    },
    {
     "ename": "TypeError",
     "evalue": "expected str, bytes or os.PathLike object, not list",
     "output_type": "error",
     "traceback": [
      "\u001B[1;31m---------------------------------------------------------------------------\u001B[0m",
      "\u001B[1;31mTypeError\u001B[0m                                 Traceback (most recent call last)",
      "Input \u001B[1;32mIn [33]\u001B[0m, in \u001B[0;36m<cell line: 12>\u001B[1;34m()\u001B[0m\n\u001B[0;32m     16\u001B[0m \u001B[38;5;66;03m#latest_file = (list_of_files, key=os.path.getmtime)\u001B[39;00m\n\u001B[0;32m     17\u001B[0m \u001B[38;5;28mprint\u001B[39m(latest_file)\n\u001B[1;32m---> 18\u001B[0m \u001B[38;5;28;01mwith\u001B[39;00m \u001B[38;5;28;43mopen\u001B[39;49m\u001B[43m(\u001B[49m\u001B[43mlatest_file\u001B[49m\u001B[43m)\u001B[49m \u001B[38;5;28;01mas\u001B[39;00m json_file:\n\u001B[0;32m     19\u001B[0m     data \u001B[38;5;241m=\u001B[39m json\u001B[38;5;241m.\u001B[39mload(json_file)\n\u001B[0;32m     20\u001B[0m     vec[i]\u001B[38;5;241m=\u001B[39mdata[\u001B[38;5;124m'\u001B[39m\u001B[38;5;124mperformance\u001B[39m\u001B[38;5;124m'\u001B[39m]\n",
      "\u001B[1;31mTypeError\u001B[0m: expected str, bytes or os.PathLike object, not list"
     ]
    }
   ],
   "source": [
    "import glob\n",
    "import os\n",
    "import json\n",
    "import numpy as np\n",
    "import matplotlib.pyplot as plt\n",
    "\n",
    "CA_def=['data_files/raw/' + filename for filename \\\n",
    "                  in os.listdir('data_files/raw/') if filename.startswith(\"MC_results_Copper_Air_Stag\")]\n",
    "vec=np.empty([30])\n",
    "file_type = r'\\*json'\n",
    "i=0\n",
    "for folder in CA_def:\n",
    "    print(folder)\n",
    "    list_of_files = glob.glob(folder + file_type)\n",
    "    print(list_of_files)\n",
    "    #latest_file = (list_of_files, key=os.path.getmtime)\n",
    "    print(latest_file)\n",
    "    with open(latest_file) as json_file:\n",
    "        data = json.load(json_file)\n",
    "        vec[i]=data['performance']\n",
    "    i=i+1\n",
    "\n",
    "# Creating plot\n",
    "plt.boxplot(vec)\n",
    "\n",
    "# show plot\n",
    "plt.show()\n",
    "print(vec)"
   ],
   "metadata": {
    "collapsed": false,
    "pycharm": {
     "name": "#%%\n"
    }
   }
  },
  {
   "cell_type": "code",
   "execution_count": 2,
   "outputs": [
    {
     "name": "stdout",
     "output_type": "stream",
     "text": [
      "data_files/raw/MC_results1_Al_Water\n",
      "data_files/raw/MC_results1_Al_Water_Ag_50\n",
      "data_files/raw/MC_results1_Al_Water_Card_2\n",
      "data_files/raw/MC_results1_Al_Water_It_50\n",
      "data_files/raw/MC_results1_Al_Water_Stag_10\n",
      "data_files/raw/MC_results1_Copper_Water\n",
      "data_files/raw/MC_results1_Copper_Water_Ag_50\n",
      "data_files/raw/MC_results1_Copper_Water_Card_2\n",
      "data_files/raw/MC_results1_Copper_Water_It_50\n",
      "data_files/raw/MC_results1_Copper_Water_Stag_10\n",
      "data_files/raw/MC_results1_Graphite_Water\n",
      "data_files/raw/MC_results1_Graphite_Water_Ag_50\n",
      "data_files/raw/MC_results1_Graphite_Water_Card_2\n",
      "data_files/raw/MC_results1_Graphite_Water_It_50\n",
      "data_files/raw/MC_results1_Graphite_Water_Stag_10\n",
      "data_files/raw/MC_results1_Silicium_Water\n",
      "data_files/raw/MC_results1_Silicium_Water_Ag_50\n",
      "data_files/raw/MC_results1_Silicium_Water_Card_2\n",
      "data_files/raw/MC_results1_Silicium_Water_It_50\n",
      "data_files/raw/MC_results1_Silicium_Water_Stag_10\n",
      "[[1.02609070e-06 1.02620590e-06 1.02890621e-06 1.02657297e-06\n",
      "  1.02643439e-06 1.02843061e-06 1.02655263e-06 1.02616935e-06\n",
      "  1.02732702e-06 1.02628121e-06 1.02616727e-06 1.02604781e-06\n",
      "  1.02625158e-06 1.02607516e-06 1.02618394e-06 1.02604520e-06\n",
      "  1.02607020e-06 1.02793779e-06 1.02641294e-06 1.02605601e-06\n",
      "  1.02614253e-06 1.02611063e-06 1.02611899e-06 1.02784663e-06\n",
      "  1.02628761e-06 1.02622854e-06 1.02611831e-06 1.02614143e-06\n",
      "  1.02654083e-06 1.02639124e-06]\n",
      " [1.02606082e-06 1.02613495e-06 1.02604928e-06 1.02608645e-06\n",
      "  1.02713755e-06 1.02610177e-06 1.02608432e-06 1.02637339e-06\n",
      "  1.02635610e-06 1.02604521e-06 1.02605015e-06 1.02608752e-06\n",
      "  1.02605046e-06 1.02610895e-06 1.02623873e-06 1.02623770e-06\n",
      "  1.02604906e-06 1.02607472e-06 1.02605011e-06 1.02616047e-06\n",
      "  1.02604520e-06 1.02625800e-06 1.02612959e-06 1.02631017e-06\n",
      "  1.02616699e-06 1.02615244e-06 1.02609171e-06 1.02613604e-06\n",
      "  1.02606815e-06 1.02609259e-06]\n",
      " [1.02606945e-06 1.02643963e-06 1.02606189e-06 1.03299876e-06\n",
      "  1.02648829e-06 1.02609327e-06 1.02610814e-06 1.02613143e-06\n",
      "  1.02625609e-06 1.02612165e-06 1.02638343e-06 1.02645805e-06\n",
      "  1.03072664e-06 1.02607291e-06 1.02641994e-06 1.02618073e-06\n",
      "  1.02631412e-06 1.02626696e-06 1.02985603e-06 1.02605276e-06\n",
      "  1.02615962e-06 1.02616247e-06 1.02633583e-06 1.02761354e-06\n",
      "  1.02627061e-06 1.03660322e-06 1.02611922e-06 1.02613374e-06\n",
      "  1.02624803e-06 1.02637432e-06]\n",
      " [1.02627625e-06 1.02669268e-06 1.02628947e-06 1.02636076e-06\n",
      "  1.02694406e-06 1.02631667e-06 1.02635369e-06 1.02622486e-06\n",
      "  1.02620843e-06 1.02614774e-06 1.02625395e-06 1.02646819e-06\n",
      "  1.02647978e-06 1.02665947e-06 1.02610288e-06 1.02607597e-06\n",
      "  1.03761016e-06 1.02606511e-06 1.02714409e-06 1.02632745e-06\n",
      "  1.02721528e-06 1.02684010e-06 1.02612937e-06 1.02637105e-06\n",
      "  1.02650287e-06 1.02640990e-06 1.02644279e-06 1.02610353e-06\n",
      "  1.02624522e-06 1.02678424e-06]\n",
      " [1.02619993e-06 1.03272971e-06 1.02777635e-06 1.02660553e-06\n",
      "  1.02641586e-06 1.02604525e-06 1.02606456e-06 1.02622176e-06\n",
      "  1.02720067e-06 1.02647328e-06 1.12257681e-06 1.02613471e-06\n",
      "  1.02611921e-06 1.08045764e-06 1.02606369e-06 1.04173356e-06\n",
      "  1.02621993e-06 1.02903814e-06 1.02616187e-06 1.10480678e-06\n",
      "  1.25660437e-06 1.02671671e-06 1.02606052e-06 1.02611995e-06\n",
      "  1.02636045e-06 1.02625121e-06 1.02724079e-06 1.02892167e-06\n",
      "  1.02605818e-06 1.02655371e-06]\n",
      " [1.00419907e-06 1.00419957e-06 1.00416471e-06 1.00422750e-06\n",
      "  1.00419535e-06 1.00425440e-06 1.00422008e-06 1.00421921e-06\n",
      "  1.00435874e-06 1.00437659e-06 1.00424918e-06 1.00418257e-06\n",
      "  1.00420592e-06 1.00467902e-06 1.00442829e-06 1.00554144e-06\n",
      "  1.00451861e-06 1.00432773e-06 1.00431206e-06 1.00552399e-06\n",
      "  1.00437500e-06 1.00451395e-06 1.00413518e-06 1.00413453e-06\n",
      "  1.00435996e-06 1.00424228e-06 1.00448617e-06 1.00455480e-06\n",
      "  1.00460784e-06 1.00472619e-06]\n",
      " [1.00436290e-06 1.00429728e-06 1.00434283e-06 1.00414227e-06\n",
      "  1.00421300e-06 1.00413505e-06 1.00454263e-06 1.00413583e-06\n",
      "  1.00413691e-06 1.00424104e-06 1.00475593e-06 1.00420434e-06\n",
      "  1.00418014e-06 1.00423799e-06 1.00421639e-06 1.00430079e-06\n",
      "  1.00413809e-06 1.00413837e-06 1.02279519e-06 1.00413452e-06\n",
      "  1.00471701e-06 1.00427694e-06 1.00420551e-06 1.00419795e-06\n",
      "  1.00523940e-06 1.00413452e-06 1.00419635e-06 1.00427174e-06\n",
      "  1.00413495e-06 1.00429080e-06]\n",
      " [1.00439461e-06 1.00420290e-06 1.00424199e-06 1.00476822e-06\n",
      "  1.00475135e-06 1.00430274e-06 1.00864923e-06 1.00417794e-06\n",
      "  1.00432039e-06 1.00422008e-06 1.00418363e-06 1.00441480e-06\n",
      "  1.00424307e-06 1.05843067e-06 1.00482817e-06 1.00438709e-06\n",
      "  1.00439427e-06 1.00431447e-06 1.00432449e-06 1.00426817e-06\n",
      "  1.00470522e-06 1.00418938e-06 1.00430124e-06 1.00426338e-06\n",
      "  1.00438191e-06 1.00450364e-06 1.00429503e-06 1.00425701e-06\n",
      "  1.00424224e-06 1.00428542e-06]\n",
      " [1.00557823e-06 1.00440945e-06 1.00448259e-06 1.00445262e-06\n",
      "  1.00447635e-06 1.00446988e-06 1.00419056e-06 1.00426989e-06\n",
      "  1.00466927e-06 1.00467346e-06 1.00449569e-06 1.00442601e-06\n",
      "  1.00441362e-06 1.00602855e-06 1.00429112e-06 1.00429997e-06\n",
      "  1.00440103e-06 1.00427981e-06 1.00432400e-06 1.00420587e-06\n",
      "  1.00421187e-06 1.00481954e-06 1.00423666e-06 1.00429085e-06\n",
      "  1.00423131e-06 1.00433747e-06 1.01186804e-06 1.00442462e-06\n",
      "  1.01087365e-06 1.00438769e-06]\n",
      " [1.00809495e-06 1.00831178e-06 1.00641156e-06 1.00429924e-06\n",
      "  1.01022866e-06 1.00425762e-06 1.00473204e-06 1.01686668e-06\n",
      "  1.00431933e-06 1.00413595e-06 1.00440926e-06 1.00521163e-06\n",
      "  1.00512268e-06 1.00440709e-06 1.00427133e-06 1.00415936e-06\n",
      "  1.00530424e-06 1.00435025e-06 1.02495171e-06 1.00434042e-06\n",
      "  1.00429786e-06 1.01374956e-06 1.00451102e-06 1.02973188e-06\n",
      "  1.00433083e-06 1.00424455e-06 1.01068758e-06 1.22952401e-06\n",
      "  1.00422668e-06 1.00426001e-06]\n",
      " [9.63871335e-07 9.64650802e-07 9.63836390e-07 9.63840816e-07\n",
      "  9.63702395e-07 9.63794776e-07 9.63805765e-07 9.63705552e-07\n",
      "  9.64148803e-07 9.65177433e-07 9.63958769e-07 9.64827453e-07\n",
      "  9.64713724e-07 9.63716165e-07 9.63833477e-07 9.64057938e-07\n",
      "  9.63752602e-07 9.67180310e-07 9.64238318e-07 9.64195198e-07\n",
      "  9.63864679e-07 9.63945807e-07 9.63844365e-07 9.63749963e-07\n",
      "  9.63970441e-07 9.63740897e-07 9.63988980e-07 9.64305862e-07\n",
      "  9.63812174e-07 9.63842506e-07]\n",
      " [9.63752273e-07 9.63707959e-07 9.63739668e-07 9.63703801e-07\n",
      "  9.63710941e-07 9.63702171e-07 9.63867068e-07 9.63702484e-07\n",
      "  9.63846827e-07 9.63708020e-07 9.63755719e-07 9.63708057e-07\n",
      "  9.63730638e-07 9.63702563e-07 9.64015808e-07 9.63708234e-07\n",
      "  9.63737493e-07 9.63708811e-07 9.64328559e-07 9.63808363e-07\n",
      "  9.63705243e-07 9.63837386e-07 9.63778925e-07 9.63837925e-07\n",
      "  9.63704224e-07 9.63839005e-07 9.63775601e-07 9.64178295e-07\n",
      "  9.63776799e-07 9.63711160e-07]\n",
      " [9.63882951e-07 9.64140800e-07 9.64210541e-07 9.63708524e-07\n",
      "  9.63889887e-07 9.63830549e-07 9.63723434e-07 9.63747621e-07\n",
      "  9.63905430e-07 9.63730419e-07 9.63737241e-07 9.63937498e-07\n",
      "  9.63917587e-07 9.63937872e-07 9.63791773e-07 9.63743259e-07\n",
      "  9.63913008e-07 9.64039996e-07 9.63713597e-07 9.63719400e-07\n",
      "  9.63704647e-07 9.64621324e-07 9.63967646e-07 9.63815549e-07\n",
      "  9.63884584e-07 9.63711427e-07 9.63844800e-07 9.63941033e-07\n",
      "  9.63947686e-07 9.63851972e-07]\n",
      " [9.65761819e-07 9.65111939e-07 9.64018898e-07 9.63863756e-07\n",
      "  9.63915422e-07 9.63893129e-07 9.64097348e-07 9.63808876e-07\n",
      "  9.63937469e-07 9.63986846e-07 9.63903071e-07 9.63950452e-07\n",
      "  9.66614463e-07 9.63757866e-07 9.63931586e-07 9.63890615e-07\n",
      "  9.65973357e-07 9.63841991e-07 9.63742940e-07 9.65127930e-07\n",
      "  9.64238197e-07 9.64021752e-07 9.64027256e-07 9.63783597e-07\n",
      "  9.64169870e-07 9.64313912e-07 9.63983213e-07 9.65393642e-07\n",
      "  9.63919566e-07 9.63726040e-07]\n",
      " [9.65043155e-07 9.63859917e-07 9.64293404e-07 9.64003359e-07\n",
      "  9.72751580e-07 9.63815617e-07 9.63890786e-07 9.63713492e-07\n",
      "  9.63896881e-07 9.64236588e-07 9.63835874e-07 9.76290621e-07\n",
      "  9.63773176e-07 9.63811405e-07 9.69181057e-07 9.66309708e-07\n",
      "  9.63953254e-07 9.64254418e-07 9.64493951e-07 9.63716955e-07\n",
      "  9.63877781e-07 9.64074671e-07 9.63926980e-07 9.64916095e-07\n",
      "  9.63923353e-07 9.66401074e-07 1.00194797e-06 9.63977124e-07\n",
      "  9.74283990e-07 9.63868240e-07]\n",
      " [1.05062204e-06 1.05058171e-06 1.05075151e-06 1.05057169e-06\n",
      "  1.05073876e-06 1.05082304e-06 1.05168277e-06 1.42149515e-06\n",
      "  1.05081335e-06 1.05060768e-06 1.05133147e-06 1.05073186e-06\n",
      "  1.05079555e-06 1.05077922e-06 1.05065474e-06 1.05070202e-06\n",
      "  1.05066143e-06 1.05169292e-06 1.05068726e-06 1.05085067e-06\n",
      "  1.05056571e-06 1.05245774e-06 1.05075760e-06 1.05085901e-06\n",
      "  1.05101140e-06 1.05105342e-06 1.05064644e-06 1.05082231e-06\n",
      "  1.05097255e-06 1.05066834e-06]\n",
      " [1.05065219e-06 1.08719529e-06 1.05066140e-06 1.05072415e-06\n",
      "  1.05061148e-06 1.05081167e-06 1.05054417e-06 1.05056298e-06\n",
      "  1.05207908e-06 1.05075230e-06 1.05057933e-06 1.05068439e-06\n",
      "  1.05064444e-06 1.05147181e-06 1.05060611e-06 1.05054417e-06\n",
      "  1.05074667e-06 1.05055141e-06 1.05096776e-06 1.05062964e-06\n",
      "  1.05069228e-06 1.05055871e-06 1.05066802e-06 1.05063356e-06\n",
      "  1.05058554e-06 1.05064577e-06 1.05054417e-06 1.05054418e-06\n",
      "  1.05060203e-06 1.05066986e-06]\n",
      " [1.05515814e-06 1.05071962e-06 1.05056025e-06 1.05077527e-06\n",
      "  1.05071765e-06 1.05057668e-06 1.05077259e-06 1.05057879e-06\n",
      "  1.05062514e-06 1.05057563e-06 1.05145943e-06 1.05054536e-06\n",
      "  1.05079235e-06 1.05081760e-06 1.05059916e-06 1.05080302e-06\n",
      "  1.05076980e-06 1.05070581e-06 1.05055328e-06 1.05068846e-06\n",
      "  1.05057979e-06 1.05077034e-06 1.05087851e-06 1.05095334e-06\n",
      "  1.05079885e-06 1.05976171e-06 1.05070201e-06 1.05093273e-06\n",
      "  1.05065414e-06 1.05072046e-06]\n",
      " [1.05075487e-06 1.05112199e-06 1.16502118e-06 1.05120421e-06\n",
      "  1.05107619e-06 1.05058856e-06 1.05056748e-06 1.05069516e-06\n",
      "  1.05308763e-06 1.05069939e-06 1.05100641e-06 1.05154262e-06\n",
      "  1.05091549e-06 1.05245944e-06 1.05069665e-06 1.05092672e-06\n",
      "  1.05080795e-06 1.05109384e-06 1.05096946e-06 1.05088317e-06\n",
      "  1.05498041e-06 1.05075506e-06 1.05059665e-06 1.05080194e-06\n",
      "  1.05065143e-06 1.05097764e-06 1.05083976e-06 1.05884379e-06\n",
      "  1.05103360e-06 1.05089856e-06]\n",
      " [1.05072462e-06 1.05090759e-06 1.05108192e-06 1.05076533e-06\n",
      "  1.05162301e-06 1.11067276e-06 1.05072018e-06 1.05377506e-06\n",
      "  1.05238555e-06 1.05089450e-06 1.05066270e-06 1.23023240e-06\n",
      "  1.05075810e-06 1.05661631e-06 1.05428975e-06 1.05067970e-06\n",
      "  1.05078010e-06 1.05077747e-06 1.05058154e-06 1.05470986e-06\n",
      "  1.05073182e-06 1.05063059e-06 1.05077432e-06 1.05312508e-06\n",
      "  1.05123498e-06 1.06546374e-06 1.06695870e-06 1.05324034e-06\n",
      "  1.05079228e-06 1.05149612e-06]]\n",
      "[[list([89, 70, 5]) list([9, 109, 160]) list([65, 176]) list([20, 94])\n",
      "  list([145]) list([201, 186, 64]) list([198]) list([147, 148])\n",
      "  list([127, 198, 100]) list([137, 89]) list([139, 199, 81])\n",
      "  list([22, 92]) list([197, 74, 110]) list([194, 139, 122])\n",
      "  list([38, 197, 117]) list([92, 115, 28]) list([98, 200])\n",
      "  list([134, 107, 90]) list([190, 51, 203]) list([193, 57, 202])\n",
      "  list([200, 89, 97]) list([146]) list([192, 195]) list([125, 176, 70])\n",
      "  list([145]) list([186, 36, 99]) list([146]) list([14, 110]) list([140])\n",
      "  list([140, 92])]\n",
      " [list([139, 106]) list([145, 105]) list([193, 8, 102])\n",
      "  list([81, 197, 145]) list([194, 21, 79]) list([148])\n",
      "  list([196, 20, 74]) list([100, 3, 44]) list([51, 188, 85])\n",
      "  list([6, 108]) list([18, 97]) list([140, 96]) list([61, 99, 28])\n",
      "  list([46, 197, 146]) list([147]) list([137, 97]) list([203, 196])\n",
      "  list([90, 104, 184]) list([109, 9, 89]) list([202, 153, 76])\n",
      "  list([26, 115, 2]) list([48, 153, 150]) list([120, 199])\n",
      "  list([138, 85, 181]) list([118, 16]) list([147]) list([194, 152])\n",
      "  list([138, 159, 46]) list([118, 192, 148]) list([204, 153, 87])]\n",
      " [list([143, 195]) list([198]) list([196, 139]) list([133, 22])\n",
      "  list([145]) list([146]) list([146, 139]) list([65, 200]) list([138])\n",
      "  list([146]) list([145, 162]) list([87, 192]) list([52, 176])\n",
      "  list([195, 148]) list([198]) list([197, 55]) list([148]) list([138])\n",
      "  list([10, 169]) list([195, 184]) list([202, 138]) list([196, 188])\n",
      "  list([201, 84]) list([200]) list([88, 203]) list([167, 154])\n",
      "  list([146]) list([92, 139]) list([204, 114]) list([148, 92])]\n",
      " [list([6, 2]) list([147]) list([197, 114]) list([144, 197, 102])\n",
      "  list([202, 140]) list([145, 62, 149]) list([155, 63, 146])\n",
      "  list([14, 89]) list([65, 200]) list([49, 200]) list([146, 130, 137])\n",
      "  list([98, 202, 168]) list([128, 184, 104]) list([148]) list([93, 26])\n",
      "  list([157, 195, 148]) list([117, 202, 95]) list([198, 196])\n",
      "  list([112, 14]) list([114, 10, 184]) list([138]) list([148])\n",
      "  list([202, 14, 112]) list([51, 64, 200]) list([4, 145])\n",
      "  list([66, 105, 184]) list([146]) list([194, 145]) list([45, 97, 201])\n",
      "  list([188, 100, 85])]\n",
      " [list([62, 82, 203]) list([203]) list([120, 164, 9]) list([158, 26])\n",
      "  list([16, 95]) list([14, 90, 154]) list([196, 76, 141]) list([138])\n",
      "  list([97, 10, 169]) list([149, 58, 157]) list([5, 179])\n",
      "  list([176, 103, 11]) list([159, 195]) list([44, 32, 91])\n",
      "  list([196, 147]) list([107, 192]) list([138]) list([71, 202, 125])\n",
      "  list([116, 197]) list([69, 108, 29]) list([90, 166, 2])\n",
      "  list([202, 110]) list([12, 160, 93]) list([107, 110, 28])\n",
      "  list([132, 195]) list([148]) list([79, 197]) list([201, 43])\n",
      "  list([6, 193]) list([145])]\n",
      " [list([99, 20]) list([146, 103, 197]) list([92, 203, 196])\n",
      "  list([148, 198]) list([106, 110, 20]) list([146, 38])\n",
      "  list([204, 94, 95]) list([88, 155, 204]) list([138]) list([24, 107])\n",
      "  list([146]) list([22, 202, 174]) list([196, 139]) list([191, 195])\n",
      "  list([23, 109, 194]) list([134, 49]) list([18, 1]) list([138])\n",
      "  list([202, 22, 1]) list([145, 167]) list([86, 201])\n",
      "  list([75, 101, 181]) list([196, 87, 8]) list([22, 200, 119])\n",
      "  list([95, 68, 188]) list([84, 162, 204]) list([12, 1]) list([2, 12])\n",
      "  list([145]) list([203, 102, 28])]\n",
      " [list([78, 73, 199]) list([7, 113]) list([154, 202])\n",
      "  list([193, 138, 154]) list([111, 204, 48]) list([112, 14])\n",
      "  list([94, 151, 149]) list([70, 5, 102]) list([100, 14])\n",
      "  list([87, 203, 45]) list([57, 197, 154]) list([117, 91, 203])\n",
      "  list([182, 20, 114]) list([140, 108]) list([44, 200, 47])\n",
      "  list([178, 15, 116]) list([137, 195, 106]) list([141, 193])\n",
      "  list([66, 189]) list([115, 28]) list([89, 190]) list([148])\n",
      "  list([66, 115, 203]) list([42, 155, 193]) list([142, 200, 34])\n",
      "  list([18, 126, 110]) list([10, 94]) list([54, 15, 3])\n",
      "  list([18, 190, 92]) list([5, 113, 158])]\n",
      " [list([102, 16]) list([195, 198]) list([146, 38]) list([140])\n",
      "  list([202]) list([199, 81]) list([166, 150]) list([93, 26])\n",
      "  list([140, 110]) list([196, 16]) list([89, 18]) list([147])\n",
      "  list([16, 99]) list([117, 17]) list([140, 134]) list([119, 5])\n",
      "  list([147]) list([70, 200]) list([138]) list([197, 120]) list([198])\n",
      "  list([186, 193]) list([138]) list([204, 83]) list([145])\n",
      "  list([109, 202]) list([147]) list([146]) list([137, 91]) list([138])]\n",
      " [list([101, 12, 121]) list([113, 197]) list([99, 184]) list([201, 54])\n",
      "  list([201, 113]) list([203, 97]) list([110, 12, 195]) list([195, 184])\n",
      "  list([13, 114]) list([148]) list([147, 140]) list([24, 95, 75])\n",
      "  list([63, 97, 204]) list([140, 134]) list([89, 14])\n",
      "  list([119, 193, 199]) list([101, 203]) list([89, 14])\n",
      "  list([117, 14, 197]) list([98, 8]) list([18, 91]) list([98, 138])\n",
      "  list([52, 196, 201]) list([115, 5, 93]) list([98, 200, 139])\n",
      "  list([113, 197]) list([137]) list([99, 201]) list([87, 8, 96])\n",
      "  list([196, 59, 156])]\n",
      " [list([197]) list([180, 157, 59]) list([170, 183]) list([202, 14])\n",
      "  list([32, 70, 171]) list([201, 103]) list([202]) list([202, 159, 16])\n",
      "  list([105, 139]) list([6, 90]) list([15, 116]) list([113, 167, 140])\n",
      "  list([184, 91]) list([192, 146, 72]) list([34, 146]) list([54, 7, 193])\n",
      "  list([182, 183]) list([204, 148, 202]) list([171, 16, 110])\n",
      "  list([147, 193, 85]) list([145, 139]) list([98, 191, 14])\n",
      "  list([140, 95]) list([137, 36]) list([38, 193, 13])\n",
      "  list([63, 203, 101]) list([25, 172, 56]) list([27]) list([194, 143])\n",
      "  list([146])]\n",
      " [list([189, 196, 87]) list([68, 40, 138]) list([199, 104])\n",
      "  list([140, 106, 138]) list([26, 90]) list([197, 114, 94])\n",
      "  list([99, 49, 5]) list([149, 195, 144]) list([198]) list([139])\n",
      "  list([198, 150]) list([137]) list([166, 184]) list([10, 195])\n",
      "  list([100, 8]) list([104, 192]) list([8, 193]) list([152, 147, 65])\n",
      "  list([199, 110]) list([86, 13, 154]) list([9, 112, 178])\n",
      "  list([15, 90, 116]) list([202, 81, 184]) list([116, 195, 15])\n",
      "  list([158, 201, 68]) list([204, 4, 98]) list([91, 69, 20])\n",
      "  list([201, 38, 10]) list([14, 100]) list([96, 182, 137])]\n",
      " [list([94, 0, 12]) list([196, 108, 8]) list([63, 108, 20])\n",
      "  list([108, 195, 198]) list([194, 144]) list([34, 111, 26])\n",
      "  list([1, 94, 186]) list([26, 176, 101]) list([111, 166, 10])\n",
      "  list([174, 148, 193]) list([4, 98, 201]) list([196, 204])\n",
      "  list([195, 38, 11]) list([130, 90, 10]) list([198]) list([196, 199, 6])\n",
      "  list([134, 193, 192]) list([193, 138]) list([137]) list([138])\n",
      "  list([193, 147, 80]) list([150, 3, 117]) list([157, 139, 63])\n",
      "  list([137, 93]) list([195, 182]) list([145, 200, 139]) list([178, 138])\n",
      "  list([51, 83, 175]) list([26, 148, 174]) list([203, 49, 71])]\n",
      " [list([148]) list([147]) list([140]) list([184, 196]) list([150, 147])\n",
      "  list([146]) list([22, 195]) list([194, 141]) list([148])\n",
      "  list([195, 11]) list([193, 9]) list([192, 104]) list([8, 105])\n",
      "  list([201, 54]) list([91, 6]) list([195, 143]) list([148])\n",
      "  list([89, 198]) list([14, 96]) list([14, 138]) list([91, 26])\n",
      "  list([67, 134]) list([200, 101]) list([146, 130]) list([148, 22])\n",
      "  list([96, 18]) list([4, 148]) list([148]) list([147]) list([146])]\n",
      " [list([190, 107]) list([146, 124, 79]) list([118, 201]) list([148, 195])\n",
      "  list([120, 134, 200]) list([104, 197]) list([192, 194, 126])\n",
      "  list([108, 140, 22]) list([197, 87]) list([72, 200])\n",
      "  list([38, 140, 148]) list([197, 55]) list([182, 3])\n",
      "  list([193, 150, 137]) list([204, 104]) list([148, 138])\n",
      "  list([82, 148, 127]) list([43, 106, 200]) list([204, 194])\n",
      "  list([134, 104, 93]) list([105, 91, 17]) list([146]) list([194, 22])\n",
      "  list([74, 204, 196]) list([200, 95]) list([204, 74])\n",
      "  list([81, 199, 46]) list([198]) list([88, 78, 203]) list([14, 92, 194])]\n",
      " [list([177, 145]) list([148]) list([140]) list([145])\n",
      "  list([33, 182, 120]) list([146, 134]) list([148]) list([22, 196, 137])\n",
      "  list([61, 82, 201]) list([58, 197]) list([148, 202])\n",
      "  list([168, 63, 157]) list([138, 194]) list([200, 67])\n",
      "  list([177, 200, 159]) list([184]) list([82, 201]) list([47, 202])\n",
      "  list([202]) list([200, 195]) list([0, 148]) list([188, 72])\n",
      "  list([104, 73, 188]) list([41, 166, 190]) list([137, 45, 3])\n",
      "  list([169, 138]) list([172, 131]) list([138]) list([171, 69, 5])\n",
      "  list([200, 95, 38])]\n",
      " [list([202, 6]) list([139, 194]) list([148]) list([199, 194])\n",
      "  list([153, 146, 145]) list([202, 53, 7]) list([131, 194, 62])\n",
      "  list([176, 112]) list([8, 94]) list([108, 200, 94]) list([189, 195])\n",
      "  list([151, 46, 145]) list([145]) list([88, 201]) list([2, 138])\n",
      "  list([197, 113]) list([102, 204, 146]) list([104, 12, 171])\n",
      "  list([93, 19, 196]) list([105, 192, 119]) list([199, 57, 196])\n",
      "  list([150, 184]) list([138]) list([148]) list([57, 202]) list([198])\n",
      "  list([8, 94, 80]) list([140, 94]) list([61, 41, 197])\n",
      "  list([197, 66, 114])]\n",
      " [list([74, 204, 95]) list([127, 185, 91]) list([196, 188])\n",
      "  list([23, 194, 71]) list([82, 200]) list([148, 100])\n",
      "  list([170, 28, 117]) list([16, 195]) list([137]) list([72, 192])\n",
      "  list([110, 140]) list([197, 82, 202]) list([146]) list([70, 136, 28])\n",
      "  list([92, 12]) list([22, 106]) list([119, 188]) list([196, 201])\n",
      "  list([116, 128, 198]) list([92, 8, 41]) list([6, 140]) list([204, 194])\n",
      "  list([15, 2, 119]) list([148, 140]) list([195, 11])\n",
      "  list([197, 45, 113]) list([107, 26]) list([110, 14])\n",
      "  list([194, 184, 106]) list([142, 145])]\n",
      " [list([154, 203]) list([146]) list([139, 193]) list([108, 139])\n",
      "  list([201, 103]) list([138, 146]) list([145]) list([22, 90])\n",
      "  list([193, 182]) list([16, 193]) list([46, 197]) list([26, 90])\n",
      "  list([56, 201]) list([199, 51]) list([115, 28]) list([154, 14])\n",
      "  list([100, 26]) list([197, 86]) list([12, 195]) list([148, 154])\n",
      "  list([195, 11]) list([115, 204]) list([53, 204]) list([147])\n",
      "  list([94, 140]) list([201]) list([146]) list([83, 201])\n",
      "  list([146, 130]) list([119, 197])]\n",
      " [list([195, 49, 7]) list([146]) list([39, 132, 120])\n",
      "  list([138, 51, 172]) list([117, 184, 192]) list([22, 90])\n",
      "  list([64, 198, 196]) list([183, 194, 104]) list([57, 90, 190])\n",
      "  list([7, 102, 95]) list([183, 101, 98]) list([113, 188])\n",
      "  list([202, 138, 113]) list([184, 93]) list([193, 202]) list([160, 194])\n",
      "  list([24, 193]) list([97, 13]) list([97, 14]) list([204, 67])\n",
      "  list([70, 136, 183]) list([20, 195]) list([14, 193])\n",
      "  list([199, 134, 97]) list([196, 82, 139]) list([151, 4, 148])\n",
      "  list([188, 66, 194]) list([11, 140, 192]) list([48, 170, 140])\n",
      "  list([146])]\n",
      " [list([81, 200]) list([106, 147]) list([145]) list([183, 195])\n",
      "  list([83, 200, 136]) list([160, 179]) list([204, 51, 132])\n",
      "  list([2, 158]) list([180, 146]) list([147]) list([147, 160, 107])\n",
      "  list([151, 8]) list([122, 138]) list([159, 53, 123])\n",
      "  list([156, 120, 36]) list([146]) list([138]) list([194, 12])\n",
      "  list([196, 0, 186]) list([171, 198]) list([72, 199]) list([6, 89])\n",
      "  list([198, 150]) list([201, 41]) list([115, 181, 38])\n",
      "  list([124, 153, 65]) list([166, 27]) list([192, 12, 203])\n",
      "  list([51, 192, 115]) list([177, 56, 199])]]\n"
     ]
    }
   ],
   "source": [
    "import glob\n",
    "import os\n",
    "import json\n",
    "import numpy as np\n",
    "import matplotlib.pyplot as plt\n",
    "\n",
    "folderO=['data_files/raw/' + filename for filename \\\n",
    "                  in os.listdir('data_files/raw/') if filename.startswith(\"MC_results1_\")]\n",
    "perf=np.empty([20,30])\n",
    "comb=np.empty([20,30],dtype=object)\n",
    "file_type = r'\\*json'\n",
    "row=0\n",
    "for folder in folderO:\n",
    "    folderI=[folder + '/' + filename for filename \\\n",
    "                  in os.listdir(folder) ]\n",
    "    column=0\n",
    "    print(folder)\n",
    "    for folder2 in folderI:\n",
    "        #print(folder2)\n",
    "        list_of_files = glob.glob(folder2 + file_type)\n",
    "        #print(list_of_files)\n",
    "        latest_file = max(list_of_files, key=os.path.getmtime)\n",
    "        #print(latest_file)\n",
    "        with open(latest_file) as json_file:\n",
    "            data = json.load(json_file)\n",
    "            perf[row,column]=data['performance']\n",
    "            comb[row,column]=data['encoded_solution']\n",
    "        column=column+1\n",
    "    row=row+1\n",
    "\n",
    "# Creating plot\n",
    "#plt.boxplot(vec)\n",
    "\n",
    "# show plot\n",
    "#plt.show()\n",
    "print(perf)\n",
    "print(comb)"
   ],
   "metadata": {
    "collapsed": false,
    "pycharm": {
     "name": "#%%\n"
    }
   }
  },
  {
   "cell_type": "code",
   "execution_count": 3,
   "outputs": [
    {
     "data": {
      "text/plain": "<Figure size 1080x1080 with 4 Axes>",
      "image/png": "[encoded data removed]"
     },
     "metadata": {
      "needs_background": "light"
     },
     "output_type": "display_data"
    }
   ],
   "source": [
    "C_A=[perf[0,:],perf[1,:],perf[2,:],perf[3,:],perf[4,:]]\n",
    "C_W=[perf[5,:],perf[6,:],perf[7,:],perf[8,:],perf[9,:]]\n",
    "G_A=[perf[10,:],perf[11,:],perf[12,:],perf[13,:],perf[14,:]]\n",
    "G_W=[perf[15,:],perf[16,:],perf[17,:],perf[18,:],perf[19,:]]\n",
    "\n",
    "#labels = ['Default', '50 Agents', 'Cardinality 2', '50 Iterations', '10 Stagnation']\n",
    "labels = ['Default', 'Config 1', 'Config 2', 'Config 3', 'Config 4']\n",
    "\n",
    "fig = plt.figure(figsize =(15, 15))\n",
    "ax1 =fig.add_subplot(1,4,1)\n",
    "plt.boxplot(C_A)\n",
    "plt.title(\"Copper-Air\")\n",
    "plt.ylabel(\"Evaluation Metric\")\n",
    "plt.xlabel(\"Experiment Configuration\")\n",
    "#plt.yscale(\"log\")\n",
    "plt.xticks([1, 2, 3, 4, 5], labels)\n",
    "ax2 =fig.add_subplot(1,4,2)\n",
    "plt.boxplot(C_W)\n",
    "plt.title(\"Copper-Water\")\n",
    "plt.ylabel(\"Evaluation Metric\")\n",
    "plt.xlabel(\"Experiment Configuration\")\n",
    "#plt.yscale(\"log\")\n",
    "plt.xticks([1, 2, 3, 4, 5], labels)\n",
    "ax3 =fig.add_subplot(1,4,3)\n",
    "plt.boxplot(G_A)\n",
    "plt.title(\"Graphite-Air\")\n",
    "plt.ylabel(\"Evaluation Metric\")\n",
    "plt.xlabel(\"Experiment Configuration\")\n",
    "#plt.yscale(\"log\")\n",
    "plt.xticks([1, 2, 3, 4, 5], labels)\n",
    "ax4 =fig.add_subplot(1,4,4)\n",
    "plt.boxplot(G_W)\n",
    "plt.title(\"Graphite-Water\")\n",
    "plt.ylabel(\"Evaluation Metric\")\n",
    "plt.xlabel(\"Experiment Configuration\")\n",
    "#plt.yscale(\"log\")\n",
    "plt.xticks([1, 2, 3, 4, 5], labels)\n",
    "plt.gcf()\n",
    "plt.savefig('resultsHH.jpg')\n",
    "plt.show()\n",
    "\n"
   ],
   "metadata": {
    "collapsed": false,
    "pycharm": {
     "name": "#%%\n"
    }
   }
  },
  {
   "cell_type": "code",
   "execution_count": 4,
   "outputs": [],
   "source": [
    "dat = np.array([C_A, C_W, G_A, G_W])\n",
    "np.save('data_memo',dat)"
   ],
   "metadata": {
    "collapsed": false,
    "pycharm": {
     "name": "#%%\n"
    }
   }
  },
  {
   "cell_type": "code",
   "execution_count": 5,
   "outputs": [
    {
     "data": {
      "text/plain": "array([[[1.02609070e-06, 1.02620590e-06, 1.02890621e-06, 1.02657297e-06,\n         1.02643439e-06, 1.02843061e-06, 1.02655263e-06, 1.02616935e-06,\n         1.02732702e-06, 1.02628121e-06, 1.02616727e-06, 1.02604781e-06,\n         1.02625158e-06, 1.02607516e-06, 1.02618394e-06, 1.02604520e-06,\n         1.02607020e-06, 1.02793779e-06, 1.02641294e-06, 1.02605601e-06,\n         1.02614253e-06, 1.02611063e-06, 1.02611899e-06, 1.02784663e-06,\n         1.02628761e-06, 1.02622854e-06, 1.02611831e-06, 1.02614143e-06,\n         1.02654083e-06, 1.02639124e-06],\n        [1.02606082e-06, 1.02613495e-06, 1.02604928e-06, 1.02608645e-06,\n         1.02713755e-06, 1.02610177e-06, 1.02608432e-06, 1.02637339e-06,\n         1.02635610e-06, 1.02604521e-06, 1.02605015e-06, 1.02608752e-06,\n         1.02605046e-06, 1.02610895e-06, 1.02623873e-06, 1.02623770e-06,\n         1.02604906e-06, 1.02607472e-06, 1.02605011e-06, 1.02616047e-06,\n         1.02604520e-06, 1.02625800e-06, 1.02612959e-06, 1.02631017e-06,\n         1.02616699e-06, 1.02615244e-06, 1.02609171e-06, 1.02613604e-06,\n         1.02606815e-06, 1.02609259e-06],\n        [1.02606945e-06, 1.02643963e-06, 1.02606189e-06, 1.03299876e-06,\n         1.02648829e-06, 1.02609327e-06, 1.02610814e-06, 1.02613143e-06,\n         1.02625609e-06, 1.02612165e-06, 1.02638343e-06, 1.02645805e-06,\n         1.03072664e-06, 1.02607291e-06, 1.02641994e-06, 1.02618073e-06,\n         1.02631412e-06, 1.02626696e-06, 1.02985603e-06, 1.02605276e-06,\n         1.02615962e-06, 1.02616247e-06, 1.02633583e-06, 1.02761354e-06,\n         1.02627061e-06, 1.03660322e-06, 1.02611922e-06, 1.02613374e-06,\n         1.02624803e-06, 1.02637432e-06],\n        [1.02627625e-06, 1.02669268e-06, 1.02628947e-06, 1.02636076e-06,\n         1.02694406e-06, 1.02631667e-06, 1.02635369e-06, 1.02622486e-06,\n         1.02620843e-06, 1.02614774e-06, 1.02625395e-06, 1.02646819e-06,\n         1.02647978e-06, 1.02665947e-06, 1.02610288e-06, 1.02607597e-06,\n         1.03761016e-06, 1.02606511e-06, 1.02714409e-06, 1.02632745e-06,\n         1.02721528e-06, 1.02684010e-06, 1.02612937e-06, 1.02637105e-06,\n         1.02650287e-06, 1.02640990e-06, 1.02644279e-06, 1.02610353e-06,\n         1.02624522e-06, 1.02678424e-06],\n        [1.02619993e-06, 1.03272971e-06, 1.02777635e-06, 1.02660553e-06,\n         1.02641586e-06, 1.02604525e-06, 1.02606456e-06, 1.02622176e-06,\n         1.02720067e-06, 1.02647328e-06, 1.12257681e-06, 1.02613471e-06,\n         1.02611921e-06, 1.08045764e-06, 1.02606369e-06, 1.04173356e-06,\n         1.02621993e-06, 1.02903814e-06, 1.02616187e-06, 1.10480678e-06,\n         1.25660437e-06, 1.02671671e-06, 1.02606052e-06, 1.02611995e-06,\n         1.02636045e-06, 1.02625121e-06, 1.02724079e-06, 1.02892167e-06,\n         1.02605818e-06, 1.02655371e-06]],\n\n       [[1.00419907e-06, 1.00419957e-06, 1.00416471e-06, 1.00422750e-06,\n         1.00419535e-06, 1.00425440e-06, 1.00422008e-06, 1.00421921e-06,\n         1.00435874e-06, 1.00437659e-06, 1.00424918e-06, 1.00418257e-06,\n         1.00420592e-06, 1.00467902e-06, 1.00442829e-06, 1.00554144e-06,\n         1.00451861e-06, 1.00432773e-06, 1.00431206e-06, 1.00552399e-06,\n         1.00437500e-06, 1.00451395e-06, 1.00413518e-06, 1.00413453e-06,\n         1.00435996e-06, 1.00424228e-06, 1.00448617e-06, 1.00455480e-06,\n         1.00460784e-06, 1.00472619e-06],\n        [1.00436290e-06, 1.00429728e-06, 1.00434283e-06, 1.00414227e-06,\n         1.00421300e-06, 1.00413505e-06, 1.00454263e-06, 1.00413583e-06,\n         1.00413691e-06, 1.00424104e-06, 1.00475593e-06, 1.00420434e-06,\n         1.00418014e-06, 1.00423799e-06, 1.00421639e-06, 1.00430079e-06,\n         1.00413809e-06, 1.00413837e-06, 1.02279519e-06, 1.00413452e-06,\n         1.00471701e-06, 1.00427694e-06, 1.00420551e-06, 1.00419795e-06,\n         1.00523940e-06, 1.00413452e-06, 1.00419635e-06, 1.00427174e-06,\n         1.00413495e-06, 1.00429080e-06],\n        [1.00439461e-06, 1.00420290e-06, 1.00424199e-06, 1.00476822e-06,\n         1.00475135e-06, 1.00430274e-06, 1.00864923e-06, 1.00417794e-06,\n         1.00432039e-06, 1.00422008e-06, 1.00418363e-06, 1.00441480e-06,\n         1.00424307e-06, 1.05843067e-06, 1.00482817e-06, 1.00438709e-06,\n         1.00439427e-06, 1.00431447e-06, 1.00432449e-06, 1.00426817e-06,\n         1.00470522e-06, 1.00418938e-06, 1.00430124e-06, 1.00426338e-06,\n         1.00438191e-06, 1.00450364e-06, 1.00429503e-06, 1.00425701e-06,\n         1.00424224e-06, 1.00428542e-06],\n        [1.00557823e-06, 1.00440945e-06, 1.00448259e-06, 1.00445262e-06,\n         1.00447635e-06, 1.00446988e-06, 1.00419056e-06, 1.00426989e-06,\n         1.00466927e-06, 1.00467346e-06, 1.00449569e-06, 1.00442601e-06,\n         1.00441362e-06, 1.00602855e-06, 1.00429112e-06, 1.00429997e-06,\n         1.00440103e-06, 1.00427981e-06, 1.00432400e-06, 1.00420587e-06,\n         1.00421187e-06, 1.00481954e-06, 1.00423666e-06, 1.00429085e-06,\n         1.00423131e-06, 1.00433747e-06, 1.01186804e-06, 1.00442462e-06,\n         1.01087365e-06, 1.00438769e-06],\n        [1.00809495e-06, 1.00831178e-06, 1.00641156e-06, 1.00429924e-06,\n         1.01022866e-06, 1.00425762e-06, 1.00473204e-06, 1.01686668e-06,\n         1.00431933e-06, 1.00413595e-06, 1.00440926e-06, 1.00521163e-06,\n         1.00512268e-06, 1.00440709e-06, 1.00427133e-06, 1.00415936e-06,\n         1.00530424e-06, 1.00435025e-06, 1.02495171e-06, 1.00434042e-06,\n         1.00429786e-06, 1.01374956e-06, 1.00451102e-06, 1.02973188e-06,\n         1.00433083e-06, 1.00424455e-06, 1.01068758e-06, 1.22952401e-06,\n         1.00422668e-06, 1.00426001e-06]],\n\n       [[9.63871335e-07, 9.64650802e-07, 9.63836390e-07, 9.63840816e-07,\n         9.63702395e-07, 9.63794776e-07, 9.63805765e-07, 9.63705552e-07,\n         9.64148803e-07, 9.65177433e-07, 9.63958769e-07, 9.64827453e-07,\n         9.64713724e-07, 9.63716165e-07, 9.63833477e-07, 9.64057938e-07,\n         9.63752602e-07, 9.67180310e-07, 9.64238318e-07, 9.64195198e-07,\n         9.63864679e-07, 9.63945807e-07, 9.63844365e-07, 9.63749963e-07,\n         9.63970441e-07, 9.63740897e-07, 9.63988980e-07, 9.64305862e-07,\n         9.63812174e-07, 9.63842506e-07],\n        [9.63752273e-07, 9.63707959e-07, 9.63739668e-07, 9.63703801e-07,\n         9.63710941e-07, 9.63702171e-07, 9.63867068e-07, 9.63702484e-07,\n         9.63846827e-07, 9.63708020e-07, 9.63755719e-07, 9.63708057e-07,\n         9.63730638e-07, 9.63702563e-07, 9.64015808e-07, 9.63708234e-07,\n         9.63737493e-07, 9.63708811e-07, 9.64328559e-07, 9.63808363e-07,\n         9.63705243e-07, 9.63837386e-07, 9.63778925e-07, 9.63837925e-07,\n         9.63704224e-07, 9.63839005e-07, 9.63775601e-07, 9.64178295e-07,\n         9.63776799e-07, 9.63711160e-07],\n        [9.63882951e-07, 9.64140800e-07, 9.64210541e-07, 9.63708524e-07,\n         9.63889887e-07, 9.63830549e-07, 9.63723434e-07, 9.63747621e-07,\n         9.63905430e-07, 9.63730419e-07, 9.63737241e-07, 9.63937498e-07,\n         9.63917587e-07, 9.63937872e-07, 9.63791773e-07, 9.63743259e-07,\n         9.63913008e-07, 9.64039996e-07, 9.63713597e-07, 9.63719400e-07,\n         9.63704647e-07, 9.64621324e-07, 9.63967646e-07, 9.63815549e-07,\n         9.63884584e-07, 9.63711427e-07, 9.63844800e-07, 9.63941033e-07,\n         9.63947686e-07, 9.63851972e-07],\n        [9.65761819e-07, 9.65111939e-07, 9.64018898e-07, 9.63863756e-07,\n         9.63915422e-07, 9.63893129e-07, 9.64097348e-07, 9.63808876e-07,\n         9.63937469e-07, 9.63986846e-07, 9.63903071e-07, 9.63950452e-07,\n         9.66614463e-07, 9.63757866e-07, 9.63931586e-07, 9.63890615e-07,\n         9.65973357e-07, 9.63841991e-07, 9.63742940e-07, 9.65127930e-07,\n         9.64238197e-07, 9.64021752e-07, 9.64027256e-07, 9.63783597e-07,\n         9.64169870e-07, 9.64313912e-07, 9.63983213e-07, 9.65393642e-07,\n         9.63919566e-07, 9.63726040e-07],\n        [9.65043155e-07, 9.63859917e-07, 9.64293404e-07, 9.64003359e-07,\n         9.72751580e-07, 9.63815617e-07, 9.63890786e-07, 9.63713492e-07,\n         9.63896881e-07, 9.64236588e-07, 9.63835874e-07, 9.76290621e-07,\n         9.63773176e-07, 9.63811405e-07, 9.69181057e-07, 9.66309708e-07,\n         9.63953254e-07, 9.64254418e-07, 9.64493951e-07, 9.63716955e-07,\n         9.63877781e-07, 9.64074671e-07, 9.63926980e-07, 9.64916095e-07,\n         9.63923353e-07, 9.66401074e-07, 1.00194797e-06, 9.63977124e-07,\n         9.74283990e-07, 9.63868240e-07]],\n\n       [[1.05062204e-06, 1.05058171e-06, 1.05075151e-06, 1.05057169e-06,\n         1.05073876e-06, 1.05082304e-06, 1.05168277e-06, 1.42149515e-06,\n         1.05081335e-06, 1.05060768e-06, 1.05133147e-06, 1.05073186e-06,\n         1.05079555e-06, 1.05077922e-06, 1.05065474e-06, 1.05070202e-06,\n         1.05066143e-06, 1.05169292e-06, 1.05068726e-06, 1.05085067e-06,\n         1.05056571e-06, 1.05245774e-06, 1.05075760e-06, 1.05085901e-06,\n         1.05101140e-06, 1.05105342e-06, 1.05064644e-06, 1.05082231e-06,\n         1.05097255e-06, 1.05066834e-06],\n        [1.05065219e-06, 1.08719529e-06, 1.05066140e-06, 1.05072415e-06,\n         1.05061148e-06, 1.05081167e-06, 1.05054417e-06, 1.05056298e-06,\n         1.05207908e-06, 1.05075230e-06, 1.05057933e-06, 1.05068439e-06,\n         1.05064444e-06, 1.05147181e-06, 1.05060611e-06, 1.05054417e-06,\n         1.05074667e-06, 1.05055141e-06, 1.05096776e-06, 1.05062964e-06,\n         1.05069228e-06, 1.05055871e-06, 1.05066802e-06, 1.05063356e-06,\n         1.05058554e-06, 1.05064577e-06, 1.05054417e-06, 1.05054418e-06,\n         1.05060203e-06, 1.05066986e-06],\n        [1.05515814e-06, 1.05071962e-06, 1.05056025e-06, 1.05077527e-06,\n         1.05071765e-06, 1.05057668e-06, 1.05077259e-06, 1.05057879e-06,\n         1.05062514e-06, 1.05057563e-06, 1.05145943e-06, 1.05054536e-06,\n         1.05079235e-06, 1.05081760e-06, 1.05059916e-06, 1.05080302e-06,\n         1.05076980e-06, 1.05070581e-06, 1.05055328e-06, 1.05068846e-06,\n         1.05057979e-06, 1.05077034e-06, 1.05087851e-06, 1.05095334e-06,\n         1.05079885e-06, 1.05976171e-06, 1.05070201e-06, 1.05093273e-06,\n         1.05065414e-06, 1.05072046e-06],\n        [1.05075487e-06, 1.05112199e-06, 1.16502118e-06, 1.05120421e-06,\n         1.05107619e-06, 1.05058856e-06, 1.05056748e-06, 1.05069516e-06,\n         1.05308763e-06, 1.05069939e-06, 1.05100641e-06, 1.05154262e-06,\n         1.05091549e-06, 1.05245944e-06, 1.05069665e-06, 1.05092672e-06,\n         1.05080795e-06, 1.05109384e-06, 1.05096946e-06, 1.05088317e-06,\n         1.05498041e-06, 1.05075506e-06, 1.05059665e-06, 1.05080194e-06,\n         1.05065143e-06, 1.05097764e-06, 1.05083976e-06, 1.05884379e-06,\n         1.05103360e-06, 1.05089856e-06],\n        [1.05072462e-06, 1.05090759e-06, 1.05108192e-06, 1.05076533e-06,\n         1.05162301e-06, 1.11067276e-06, 1.05072018e-06, 1.05377506e-06,\n         1.05238555e-06, 1.05089450e-06, 1.05066270e-06, 1.23023240e-06,\n         1.05075810e-06, 1.05661631e-06, 1.05428975e-06, 1.05067970e-06,\n         1.05078010e-06, 1.05077747e-06, 1.05058154e-06, 1.05470986e-06,\n         1.05073182e-06, 1.05063059e-06, 1.05077432e-06, 1.05312508e-06,\n         1.05123498e-06, 1.06546374e-06, 1.06695870e-06, 1.05324034e-06,\n         1.05079228e-06, 1.05149612e-06]]])"
     },
     "execution_count": 5,
     "metadata": {},
     "output_type": "execute_result"
    }
   ],
   "source": [
    "dat"
   ],
   "metadata": {
    "collapsed": false,
    "pycharm": {
     "name": "#%%\n"
    }
   }
  },
  {
   "cell_type": "code",
   "execution_count": 11,
   "outputs": [
    {
     "data": {
      "text/plain": "Text(0.5, 0, 'Experiment Configuration')"
     },
     "execution_count": 11,
     "metadata": {},
     "output_type": "execute_result"
    },
    {
     "data": {
      "text/plain": "<Figure size 1080x1080 with 1 Axes>",
      "image/png": "[encoded data removed]"
     },
     "metadata": {
      "needs_background": "light"
     },
     "output_type": "display_data"
    }
   ],
   "source": [
    "fig = plt.figure(figsize =(15, 15))\n",
    "ax1 =fig.add_subplot(1,4,1)\n",
    "plt.boxplot(S_W)\n",
    "plt.title(\"S-A\")\n",
    "plt.ylabel(\"Evaluation Metric\")\n",
    "plt.xlabel(\"Experiment Configuration\")"
   ],
   "metadata": {
    "collapsed": false,
    "pycharm": {
     "name": "#%%\n"
    }
   }
  },
  {
   "cell_type": "code",
   "execution_count": 6,
   "outputs": [
    {
     "data": {
      "text/plain": "[[92, 115, 28],\n [26, 115, 2],\n [195, 184],\n [198, 196],\n [14, 90, 154],\n [22, 200, 119],\n [18, 126, 110],\n [93, 26],\n [110, 12, 195],\n [6, 90],\n [26, 90],\n [34, 111, 26],\n [91, 26],\n [14, 92, 194],\n [22, 196, 137],\n [199, 57, 196],\n [170, 28, 117],\n [26, 90],\n [64, 198, 196],\n [196, 0, 186]]"
     },
     "execution_count": 6,
     "metadata": {},
     "output_type": "execute_result"
    }
   ],
   "source": [
    "ind_best_perf = np.argmin(perf, axis=1)\n",
    "best_mhs = [comb[row, col] for row, col in enumerate(ind_best_perf)]\n",
    "best_mhs"
   ],
   "metadata": {
    "collapsed": false,
    "pycharm": {
     "name": "#%%\n"
    }
   }
  },
  {
   "cell_type": "code",
   "execution_count": 7,
   "outputs": [
    {
     "data": {
      "text/plain": "[1.0260452033239058e-06,\n 1.0260452033239056e-06,\n 1.026052764112821e-06,\n 1.0260651106846765e-06,\n 1.0260452538282889e-06,\n 1.0041345326868018e-06,\n 1.0041345245695694e-06,\n 1.0041779375866535e-06,\n 1.0041905631089816e-06,\n 1.0041359548404956e-06,\n 9.637023945145323e-07,\n 9.637021710021423e-07,\n 9.637046469215461e-07,\n 9.637260396339575e-07,\n 9.63713491534606e-07,\n 1.050565713044866e-06,\n 1.0505441696477707e-06,\n 1.0505453628823821e-06,\n 1.0505674767519043e-06,\n 1.0505815445093405e-06]"
     },
     "execution_count": 7,
     "metadata": {},
     "output_type": "execute_result"
    }
   ],
   "source": [
    "best_mhs = [perf[row, col] for row, col in enumerate(ind_best_perf)]\n",
    "best_mhs"
   ],
   "metadata": {
    "collapsed": false,
    "pycharm": {
     "name": "#%%\n"
    }
   }
  },
  {
   "cell_type": "code",
   "execution_count": 8,
   "outputs": [
    {
     "data": {
      "text/plain": "<Figure size 432x288 with 1 Axes>",
      "image/png": "[encoded data removed]"
     },
     "metadata": {
      "needs_background": "light"
     },
     "output_type": "display_data"
    }
   ],
   "source": [
    "np.set_printoptions(precision=55)\n",
    "plt.plot(perf[4,:])\n",
    "plt.show()"
   ],
   "metadata": {
    "collapsed": false,
    "pycharm": {
     "name": "#%%\n"
    }
   }
  },
  {
   "cell_type": "code",
   "execution_count": 36,
   "outputs": [
    {
     "name": "stdout",
     "output_type": "stream",
     "text": [
      "data_files/raw/MC_results3_Aluminium_Water\n",
      "data_files/raw/MC_results3_Aluminium_Water_Ag_50\n",
      "data_files/raw/MC_results3_Aluminium_Water_Card_2\n",
      "data_files/raw/MC_results3_Aluminium_Water_It_50\n",
      "data_files/raw/MC_results3_Aluminium_Water_Stag_10\n"
     ]
    },
    {
     "ename": "IndexError",
     "evalue": "index 4 is out of bounds for axis 0 with size 4",
     "output_type": "error",
     "traceback": [
      "\u001B[1;31m---------------------------------------------------------------------------\u001B[0m",
      "\u001B[1;31mIndexError\u001B[0m                                Traceback (most recent call last)",
      "Input \u001B[1;32mIn [36]\u001B[0m, in \u001B[0;36m<cell line: 7>\u001B[1;34m()\u001B[0m\n\u001B[0;32m     18\u001B[0m \u001B[38;5;28;01mwith\u001B[39;00m \u001B[38;5;28mopen\u001B[39m(latest_file) \u001B[38;5;28;01mas\u001B[39;00m json_file:\n\u001B[0;32m     19\u001B[0m     data \u001B[38;5;241m=\u001B[39m json\u001B[38;5;241m.\u001B[39mload(json_file)\n\u001B[1;32m---> 20\u001B[0m     perf2[row,column]\u001B[38;5;241m=\u001B[39mdata[\u001B[38;5;124m'\u001B[39m\u001B[38;5;124mperformance\u001B[39m\u001B[38;5;124m'\u001B[39m]\n\u001B[0;32m     21\u001B[0m     comb2[row,column]\u001B[38;5;241m=\u001B[39mdata[\u001B[38;5;124m'\u001B[39m\u001B[38;5;124mencoded_solution\u001B[39m\u001B[38;5;124m'\u001B[39m]\n\u001B[0;32m     22\u001B[0m column\u001B[38;5;241m=\u001B[39mcolumn\u001B[38;5;241m+\u001B[39m\u001B[38;5;241m1\u001B[39m\n",
      "\u001B[1;31mIndexError\u001B[0m: index 4 is out of bounds for axis 0 with size 4"
     ]
    }
   ],
   "source": [
    "folderO=['data_files/raw/' + filename for filename \\\n",
    "                  in os.listdir('data_files/raw/') if filename.startswith(\"MC_results3_\")]\n",
    "perf2=np.empty([4,30])\n",
    "comb2=np.empty([4,30],dtype=object)\n",
    "file_type = r'\\*json'\n",
    "row=0\n",
    "for folder in folderO:\n",
    "    folderI=[folder + '/' + filename for filename \\\n",
    "                  in os.listdir(folder) ]\n",
    "    column=0\n",
    "    print(folder)\n",
    "    for folder2 in folderI:\n",
    "        #print(folder2)\n",
    "        list_of_files = glob.glob(folder2 + file_type)\n",
    "        #print(list_of_files)\n",
    "        latest_file = max(list_of_files, key=os.path.getmtime)\n",
    "        #print(latest_file)\n",
    "        with open(latest_file) as json_file:\n",
    "            data = json.load(json_file)\n",
    "            perf2[row,column]=data['performance']\n",
    "            comb2[row,column]=data['encoded_solution']\n",
    "        column=column+1\n",
    "    row=row+1\n",
    "\n",
    "# Creating plot\n",
    "#plt.boxplot(vec)\n",
    "\n",
    "# show plot\n",
    "#plt.show()\n",
    "print(perf2)\n",
    "print(comb2)"
   ],
   "metadata": {
    "collapsed": false,
    "pycharm": {
     "name": "#%%\n"
    }
   }
  },
  {
   "cell_type": "code",
   "execution_count": 15,
   "outputs": [
    {
     "ename": "NameError",
     "evalue": "name 'perf2' is not defined",
     "output_type": "error",
     "traceback": [
      "\u001B[1;31m---------------------------------------------------------------------------\u001B[0m",
      "\u001B[1;31mNameError\u001B[0m                                 Traceback (most recent call last)",
      "Input \u001B[1;32mIn [15]\u001B[0m, in \u001B[0;36m<cell line: 1>\u001B[1;34m()\u001B[0m\n\u001B[1;32m----> 1\u001B[0m C_A\u001B[38;5;241m=\u001B[39m[perf[\u001B[38;5;241m0\u001B[39m,:],perf[\u001B[38;5;241m1\u001B[39m,:],perf[\u001B[38;5;241m4\u001B[39m,:],\u001B[43mperf2\u001B[49m[\u001B[38;5;241m0\u001B[39m,:]]\n\u001B[0;32m      2\u001B[0m C_W\u001B[38;5;241m=\u001B[39m[perf[\u001B[38;5;241m5\u001B[39m,:],perf[\u001B[38;5;241m6\u001B[39m,:],perf[\u001B[38;5;241m9\u001B[39m,:],perf2[\u001B[38;5;241m1\u001B[39m,:]]\n\u001B[0;32m      3\u001B[0m G_A\u001B[38;5;241m=\u001B[39m[perf[\u001B[38;5;241m10\u001B[39m,:],perf[\u001B[38;5;241m11\u001B[39m,:],perf[\u001B[38;5;241m14\u001B[39m,:],perf2[\u001B[38;5;241m2\u001B[39m,:]]\n",
      "\u001B[1;31mNameError\u001B[0m: name 'perf2' is not defined"
     ]
    }
   ],
   "source": [
    "C_A=[perf[0,:],perf[1,:],perf[4,:],perf2[0,:]]\n",
    "C_W=[perf[5,:],perf[6,:],perf[9,:],perf2[1,:]]\n",
    "G_A=[perf[10,:],perf[11,:],perf[14,:],perf2[2,:]]\n",
    "G_W=[perf[15,:],perf[16,:],perf[19,:],perf2[3,:]]\n",
    "\n",
    "labels = ['Default', '50 Agents','10 Stagnation','AG-Stag']\n",
    "\n",
    "fig = plt.figure(figsize =(15, 15))\n",
    "ax1 =fig.add_subplot(2,2,1)\n",
    "plt.boxplot(C_A)\n",
    "plt.title(\"Copper-Air\")\n",
    "plt.ylabel(\"Performance\")\n",
    "#plt.yscale(\"log\")\n",
    "plt.xticks([1, 2, 3, 4], labels)\n",
    "ax2 =fig.add_subplot(2,2,2)\n",
    "plt.boxplot(C_W)\n",
    "plt.title(\"Copper-Water\")\n",
    "plt.ylabel(\"Performance\")\n",
    "#plt.yscale(\"log\")\n",
    "plt.xticks([1, 2, 3, 4], labels)\n",
    "ax3 =fig.add_subplot(2,2,3)\n",
    "plt.boxplot(G_A)\n",
    "plt.title(\"Graphite-Air\")\n",
    "plt.ylabel(\"Performance\")\n",
    "#plt.yscale(\"log\")\n",
    "plt.xticks([1, 2, 3, 4], labels)\n",
    "ax4 =fig.add_subplot(2,2,4)\n",
    "plt.boxplot(G_W)\n",
    "plt.title(\"Graphite-Water\")\n",
    "plt.ylabel(\"Performance\")\n",
    "#plt.yscale(\"log\")\n",
    "plt.xticks([1, 2, 3, 4], labels)\n",
    "plt.gcf()\n",
    "plt.savefig('resultsHH2.jpg')\n",
    "plt.show()\n"
   ],
   "metadata": {
    "collapsed": false,
    "pycharm": {
     "name": "#%%\n"
    }
   }
  },
  {
   "cell_type": "code",
   "execution_count": 12,
   "outputs": [
    {
     "name": "stdout",
     "output_type": "stream",
     "text": [
      "[[15. 20. 19. 17.  5. 23. 25.  7.  6.  9.  4.  5. 20. 29.  7. 20.  6. 11.\n",
      "   6. 18.]]\n"
     ]
    }
   ],
   "source": [
    "index=np.empty([1,20])\n",
    "operators=np.empty([1,20])\n",
    "for i in range(0,20):\n",
    "    y=perf[i,:]\n",
    "    x=np.argmin(y)\n",
    "    index[0,i]=x\n",
    "print(index)"
   ],
   "metadata": {
    "collapsed": false,
    "pycharm": {
     "name": "#%%\n"
    }
   }
  },
  {
   "cell_type": "code",
   "execution_count": 37,
   "outputs": [
    {
     "data": {
      "text/plain": "[[92, 115, 28],\n [26, 115, 2],\n [195, 184],\n [198, 196],\n [14, 90, 154],\n [22, 200, 119],\n [18, 126, 110],\n [93, 26],\n [110, 12, 195],\n [6, 90],\n [26, 90],\n [34, 111, 26],\n [91, 26],\n [14, 92, 194],\n [22, 196, 137],\n [199, 57, 196],\n [170, 28, 117],\n [26, 90],\n [64, 198, 196],\n [196, 0, 186]]"
     },
     "execution_count": 37,
     "metadata": {},
     "output_type": "execute_result"
    }
   ],
   "source": [
    "ind_best_perf = np.argmin(perf, axis=1)\n",
    "best_mhs = [comb[row, col] for row, col in enumerate(ind_best_perf)]\n",
    "best_mhs"
   ],
   "metadata": {
    "collapsed": false,
    "pycharm": {
     "name": "#%%\n"
    }
   }
  },
  {
   "cell_type": "code",
   "execution_count": 1,
   "outputs": [
    {
     "ename": "NameError",
     "evalue": "name 'np' is not defined",
     "output_type": "error",
     "traceback": [
      "\u001B[1;31m---------------------------------------------------------------------------\u001B[0m",
      "\u001B[1;31mNameError\u001B[0m                                 Traceback (most recent call last)",
      "Input \u001B[1;32mIn [1]\u001B[0m, in \u001B[0;36m<cell line: 1>\u001B[1;34m()\u001B[0m\n\u001B[1;32m----> 1\u001B[0m ind_best_perf \u001B[38;5;241m=\u001B[39m \u001B[43mnp\u001B[49m\u001B[38;5;241m.\u001B[39margmin(perf, axis\u001B[38;5;241m=\u001B[39m\u001B[38;5;241m1\u001B[39m)\n\u001B[0;32m      2\u001B[0m best_mhs \u001B[38;5;241m=\u001B[39m [perf[row, col] \u001B[38;5;28;01mfor\u001B[39;00m row, col \u001B[38;5;129;01min\u001B[39;00m \u001B[38;5;28menumerate\u001B[39m(ind_best_perf)]\n\u001B[0;32m      3\u001B[0m best_mhs\n",
      "\u001B[1;31mNameError\u001B[0m: name 'np' is not defined"
     ]
    }
   ],
   "source": [
    "ind_best_perf = np.argmin(perf, axis=1)\n",
    "best_mhs = [perf[row, col] for row, col in enumerate(ind_best_perf)]\n",
    "best_mhs"
   ],
   "metadata": {
    "collapsed": false,
    "pycharm": {
     "name": "#%%\n"
    }
   }
  },
  {
   "cell_type": "code",
   "execution_count": 139,
   "outputs": [
    {
     "name": "stdout",
     "output_type": "stream",
     "text": [
      "[list([127]) list([174, 59]) list([201]) list([174]) list([134])\n",
      " list([10]) list([51]) list([200]) list([166]) list([174]) list([4])\n",
      " list([86]) list([119]) list([90, 176]) list([59]) list([124]) list([53])\n",
      " list([181]) list([18]) list([165, 24]) list([115]) list([145])\n",
      " list([204]) list([53]) list([104]) list([63]) list([47]) list([7])\n",
      " list([119]) list([104])]\n"
     ]
    }
   ],
   "source": [
    "x=comb[19]\n",
    "print(x)"
   ],
   "metadata": {
    "collapsed": false,
    "pycharm": {
     "name": "#%%\n"
    }
   }
  },
  {
   "cell_type": "code",
   "execution_count": 15,
   "outputs": [
    {
     "name": "stdout",
     "output_type": "stream",
     "text": [
      "[ 89  70   5 ... 177  56 199]\n"
     ]
    }
   ],
   "source": [
    "ac_tot=[]\n",
    "\n",
    "for y in range(0,len(comb)):\n",
    "    arr_tot= np.array(comb[y], dtype=object)\n",
    "    for i in range(0,len(arr_tot)):\n",
    "        w_tot=np.array(arr_tot[i])\n",
    "        for z in range(0,len(w_tot)):\n",
    "            ac_tot.append(w_tot[z])\n",
    "\n",
    "ac_tot=np.array(ac_tot)\n",
    "print(ac_tot)\n"
   ],
   "metadata": {
    "collapsed": false,
    "pycharm": {
     "name": "#%%\n"
    }
   }
  },
  {
   "cell_type": "code",
   "execution_count": 16,
   "outputs": [
    {
     "name": "stdout",
     "output_type": "stream",
     "text": [
      "['0', '1', '2', '3', '4', '5', '6', '7', '8', '9', '10', '11', '12', '13', '14', '15', '16', '17', '18', '19', '20', '21', '22', '23', '24', '25', '26', '27', '28', '29', '32', '33', '34', '36', '38', '39', '40', '41', '42', '43', '44', '45', '46', '47', '48', '49', '51', '52', '53', '54', '55', '56', '57', '58', '59', '61', '62', '63', '64', '65', '66', '67', '68', '69', '70', '71', '72', '73', '74', '75', '76', '78', '79', '80', '81', '82', '83', '84', '85', '86', '87', '88', '89', '90', '91', '92', '93', '94', '95', '96', '97', '98', '99', '100', '101', '102', '103', '104', '105', '106', '107', '108', '109', '110', '111', '112', '113', '114', '115', '116', '117', '118', '119', '120', '121', '122', '123', '124', '125', '126', '127', '128', '130', '131', '132', '133', '134', '136', '137', '138', '139', '140', '141', '142', '143', '144', '145', '146', '147', '148', '149', '150', '151', '152', '153', '154', '155', '156', '157', '158', '159', '160', '162', '164', '166', '167', '168', '169', '170', '171', '172', '174', '175', '176', '177', '178', '179', '180', '181', '182', '183', '184', '185', '186', '188', '189', '190', '191', '192', '193', '194', '195', '196', '197', '198', '199', '200', '201', '202', '203', '204']\n",
      "[0, 1, 2, 3, 4, 5, 6, 7, 8, 9, 10, 11, 12, 13, 14, 15, 16, 17, 18, 19, 20, 21, 22, 23, 24, 25, 26, 27, 28, 29, 32, 33, 34, 36, 38, 39, 40, 41, 42, 43, 44, 45, 46, 47, 48, 49, 51, 52, 53, 54, 55, 56, 57, 58, 59, 61, 62, 63, 64, 65, 66, 67, 68, 69, 70, 71, 72, 73, 74, 75, 76, 78, 79, 80, 81, 82, 83, 84, 85, 86, 87, 88, 89, 90, 91, 92, 93, 94, 95, 96, 97, 98, 99, 100, 101, 102, 103, 104, 105, 106, 107, 108, 109, 110, 111, 112, 113, 114, 115, 116, 117, 118, 119, 120, 121, 122, 123, 124, 125, 126, 127, 128, 130, 131, 132, 133, 134, 136, 137, 138, 139, 140, 141, 142, 143, 144, 145, 146, 147, 148, 149, 150, 151, 152, 153, 154, 155, 156, 157, 158, 159, 160, 162, 164, 166, 167, 168, 169, 170, 171, 172, 174, 175, 176, 177, 178, 179, 180, 181, 182, 183, 184, 185, 186, 188, 189, 190, 191, 192, 193, 194, 195, 196, 197, 198, 199, 200, 201, 202, 203, 204]\n",
      "[3, 4, 7, 5, 5, 8, 9, 5, 12, 5, 8, 6, 11, 4, 20, 6, 9, 2, 7, 1, 8, 1, 13, 2, 3, 1, 12, 2, 8, 1, 2, 1, 3, 3, 9, 1, 1, 4, 1, 2, 3, 4, 5, 2, 3, 5, 8, 2, 3, 4, 2, 3, 5, 2, 2, 3, 3, 6, 3, 5, 5, 3, 3, 3, 7, 3, 5, 2, 5, 2, 2, 2, 3, 2, 6, 7, 4, 2, 4, 3, 7, 4, 11, 12, 10, 10, 8, 12, 10, 5, 10, 9, 7, 8, 7, 7, 4, 11, 6, 8, 7, 9, 4, 12, 3, 5, 10, 7, 9, 6, 8, 3, 7, 7, 1, 2, 1, 2, 2, 2, 3, 2, 4, 2, 3, 1, 10, 3, 15, 32, 17, 24, 3, 2, 3, 3, 23, 35, 19, 36, 4, 8, 4, 2, 5, 9, 3, 2, 5, 4, 5, 5, 2, 1, 6, 3, 2, 3, 3, 5, 3, 3, 1, 6, 3, 3, 2, 2, 3, 7, 6, 16, 1, 5, 10, 3, 6, 2, 15, 24, 23, 31, 27, 29, 19, 15, 26, 24, 28, 17, 22]\n"
     ]
    }
   ],
   "source": [
    "sorted=np.sort(ac_tot);\n",
    "num=[];\n",
    "num2=[];\n",
    "frec=[];\n",
    "ind=[];\n",
    "count=0;\n",
    "while len(sorted)>0:\n",
    "    num.append(str(sorted[0]))\n",
    "    num2.append(sorted[0])\n",
    "    cand=sorted[0]\n",
    "    for i in range(0,len(sorted)):\n",
    "        if cand == sorted[i]:\n",
    "            count=count+1\n",
    "            ind.append(i)\n",
    "    frec.append(count)\n",
    "    count=0\n",
    "    sorted=np.delete(sorted,ind)\n",
    "    ind=[];\n",
    "print(num)\n",
    "print(num2)\n",
    "print(frec)"
   ],
   "metadata": {
    "collapsed": false,
    "pycharm": {
     "name": "#%%\n"
    }
   }
  },
  {
   "cell_type": "code",
   "execution_count": 17,
   "outputs": [
    {
     "name": "stdout",
     "output_type": "stream",
     "text": [
      "[38, 21, 163, 21, 416, 24, 14, 212, 56, 3, 10, 359]\n",
      "['random search', 'central force dynamic', 'differential mutation', 'firefly dynamic', 'genetic crossover', 'genetic mutation', 'gravitational search', 'random flight', 'local random walk', 'random sample', 'spiral dynamic', 'swarm dynamic']\n"
     ]
    }
   ],
   "source": [
    "fam=['random search','central force dynamic','differential mutation','firefly dynamic','genetic crossover','genetic mutation','gravitational search','random flight','local random walk','random sample','spiral dynamic','swarm dynamic']\n",
    "frec2=[0,0,0,0,0,0,0,0,0,0,0,0]\n",
    "for i in range(0,len(num2)):\n",
    "    if num2[i] == 0:\n",
    "        frec2[0]= frec2[0] + frec[i]\n",
    "    elif num2[i] >= 1 and num2[i] <= 4:\n",
    "        frec2[1]= frec2[1] + frec[i]\n",
    "    elif num2[i] >= 5 and num2[i] <= 28:\n",
    "        frec2[2]= frec2[2] + frec[i]\n",
    "    elif num2[i] >= 29 and num2[i] <= 40:\n",
    "        frec2[3]= frec2[3] + frec[i]\n",
    "    elif num2[i] >= 41 and num2[i] <= 120:\n",
    "        frec2[4]= frec2[4] + frec[i]\n",
    "    elif num2[i] >= 121 and num2[i] <= 132:\n",
    "        frec2[5]= frec2[5] + frec[i]\n",
    "    elif num2[i] >= 133 and num2[i] <= 136:\n",
    "        frec2[6]= frec2[6] + frec[i]\n",
    "    elif num2[i] >= 137 and num2[i] <= 148:\n",
    "        frec2[7]= frec2[7] + frec[i]\n",
    "    elif num2[i] >= 149 and num2[i] <= 160:\n",
    "        frec2[8]= frec2[8] + frec[i]\n",
    "    elif num2[i] >= 161 and num2[i] <= 164:\n",
    "        frec2[9]= frec2[9] + frec[i]\n",
    "    elif num2[i] >= 165 and num2[i] <= 176:\n",
    "        frec2[0]= frec2[0] + frec[i]\n",
    "    elif num2[i] >= 177 and num2[i] <= 180:\n",
    "        frec2[10]= frec2[10] + frec[i]\n",
    "    elif num2[i] >= 181 and num2[i] <= 204:\n",
    "        frec2[11]= frec2[11] + frec[i]\n",
    "print(frec2)\n",
    "print(fam)\n"
   ],
   "metadata": {
    "collapsed": false,
    "pycharm": {
     "name": "#%%\n"
    }
   }
  },
  {
   "cell_type": "code",
   "execution_count": 18,
   "outputs": [
    {
     "data": {
      "text/plain": "<Figure size 640x480 with 1 Axes>",
      "image/png": "[encoded data removed]"
     },
     "metadata": {
      "needs_background": "light"
     },
     "output_type": "display_data"
    }
   ],
   "source": [
    "from matplotlib.pyplot import figure\n",
    "\n",
    "figure(figsize=(8, 6), dpi=80)\n",
    "plt.bar(num, frec, color ='maroon',\n",
    "        width = 0.4)\n",
    "plt.xticks(range(len(num)), num, rotation='vertical')\n",
    "plt.xlabel(\"Operator Number\")\n",
    "plt.ylabel(\"Frequency\")\n",
    "plt.gcf()\n",
    "plt.savefig('resultsBG1.jpg')\n",
    "plt.show()"
   ],
   "metadata": {
    "collapsed": false,
    "pycharm": {
     "name": "#%%\n"
    }
   }
  },
  {
   "cell_type": "code",
   "execution_count": 19,
   "outputs": [
    {
     "data": {
      "text/plain": "<Figure size 640x480 with 1 Axes>",
      "image/png": "[encoded data removed]"
     },
     "metadata": {
      "needs_background": "light"
     },
     "output_type": "display_data"
    }
   ],
   "source": [
    "figure(figsize=(8, 6), dpi=80)\n",
    "plt.bar(fam, frec2, color ='maroon',\n",
    "        width = 0.4)\n",
    "plt.xticks(range(len(fam)), fam, rotation='vertical')\n",
    "plt.xlabel(\"Operator Family\")\n",
    "plt.ylabel(\"Frequency\")\n",
    "plt.gcf()\n",
    "plt.savefig('resultsBG2.jpg',bbox_inches='tight')\n",
    "plt.show()"
   ],
   "metadata": {
    "collapsed": false,
    "pycharm": {
     "name": "#%%\n"
    }
   }
  },
  {
   "cell_type": "code",
   "execution_count": 20,
   "outputs": [
    {
     "name": "stdout",
     "output_type": "stream",
     "text": [
      "[ 92 115  28  26 115   2 195 184 198 196  14  90 154  22 200 119  18 126\n",
      " 110  93  26 110  12 195   6  90  26  90  34 111  26  91  26  14  92 194\n",
      "  22 196 137 199  57 196 170  28 117  26  90  64 198 196 196   0 186]\n"
     ]
    }
   ],
   "source": [
    "arr = np.array(best_mhs, dtype=object)\n",
    "ac=[]\n",
    "\n",
    "for i in range(0,len(arr)):\n",
    "    w=np.array(arr[i])\n",
    "    for z in range(0,len(w)):\n",
    "        ac.append(w[z])\n",
    "\n",
    "ac=np.array(ac)\n",
    "print(ac)\n",
    "\n"
   ],
   "metadata": {
    "collapsed": false,
    "pycharm": {
     "name": "#%%\n"
    }
   }
  },
  {
   "cell_type": "code",
   "execution_count": 21,
   "outputs": [
    {
     "name": "stdout",
     "output_type": "stream",
     "text": [
      "['0', '2', '6', '12', '14', '18', '22', '26', '28', '34', '57', '64', '90', '91', '92', '93', '110', '111', '115', '117', '119', '126', '137', '154', '170', '184', '186', '194', '195', '196', '198', '199', '200']\n",
      "[0, 2, 6, 12, 14, 18, 22, 26, 28, 34, 57, 64, 90, 91, 92, 93, 110, 111, 115, 117, 119, 126, 137, 154, 170, 184, 186, 194, 195, 196, 198, 199, 200]\n",
      "[1, 1, 1, 1, 2, 1, 2, 6, 2, 1, 1, 1, 4, 1, 2, 1, 2, 1, 2, 1, 1, 1, 1, 1, 1, 1, 1, 1, 2, 5, 2, 1, 1]\n"
     ]
    }
   ],
   "source": [
    "sorted=np.sort(ac);\n",
    "num=[];\n",
    "num2=[];\n",
    "frec=[];\n",
    "ind=[];\n",
    "count=0;\n",
    "while len(sorted)>0:\n",
    "    num.append(str(sorted[0]))\n",
    "    num2.append(sorted[0])\n",
    "    cand=sorted[0]\n",
    "    for i in range(0,len(sorted)):\n",
    "        if cand == sorted[i]:\n",
    "            count=count+1\n",
    "            ind.append(i)\n",
    "    frec.append(count)\n",
    "    count=0\n",
    "    sorted=np.delete(sorted,ind)\n",
    "    ind=[];\n",
    "print(num)\n",
    "print(num2)\n",
    "print(frec)"
   ],
   "metadata": {
    "collapsed": false,
    "pycharm": {
     "name": "#%%\n"
    }
   }
  },
  {
   "cell_type": "code",
   "execution_count": 22,
   "outputs": [
    {
     "name": "stdout",
     "output_type": "stream",
     "text": [
      "[2, 1, 15, 1, 17, 1, 0, 1, 1, 0, 0, 14]\n",
      "['random search', 'central force_dynamic', 'differential mutation', 'firefly dynamic', 'genetic crossover', 'genetic mutation', 'gravitational search', 'random flight', 'local random_walk', 'random sample', 'spiral dynamic', 'swarm dynamic']\n"
     ]
    }
   ],
   "source": [
    "fam=['random search','central force_dynamic','differential mutation','firefly dynamic','genetic crossover','genetic mutation','gravitational search','random flight','local random_walk','random sample','spiral dynamic','swarm dynamic']\n",
    "frec2=[0,0,0,0,0,0,0,0,0,0,0,0]\n",
    "for i in range(0,len(num2)):\n",
    "    if num2[i] == 0:\n",
    "        frec2[0]= frec2[0] + frec[i]\n",
    "    elif num2[i] >= 1 and num2[i] <= 4:\n",
    "        frec2[1]= frec2[1] + frec[i]\n",
    "    elif num2[i] >= 5 and num2[i] <= 28:\n",
    "        frec2[2]= frec2[2] + frec[i]\n",
    "    elif num2[i] >= 29 and num2[i] <= 40:\n",
    "        frec2[3]= frec2[3] + frec[i]\n",
    "    elif num2[i] >= 41 and num2[i] <= 120:\n",
    "        frec2[4]= frec2[4] + frec[i]\n",
    "    elif num2[i] >= 121 and num2[i] <= 132:\n",
    "        frec2[5]= frec2[5] + frec[i]\n",
    "    elif num2[i] >= 133 and num2[i] <= 136:\n",
    "        frec2[6]= frec2[6] + frec[i]\n",
    "    elif num2[i] >= 137 and num2[i] <= 148:\n",
    "        frec2[7]= frec2[7] + frec[i]\n",
    "    elif num2[i] >= 149 and num2[i] <= 160:\n",
    "        frec2[8]= frec2[8] + frec[i]\n",
    "    elif num2[i] >= 161 and num2[i] <= 164:\n",
    "        frec2[9]= frec2[9] + frec[i]\n",
    "    elif num2[i] >= 165 and num2[i] <= 176:\n",
    "        frec2[0]= frec2[0] + frec[i]\n",
    "    elif num2[i] >= 177 and num2[i] <= 180:\n",
    "        frec2[10]= frec2[10] + frec[i]\n",
    "    elif num2[i] >= 181 and num2[i] <= 204:\n",
    "        frec2[11]= frec2[11] + frec[i]\n",
    "print(frec2)\n",
    "print(fam)\n"
   ],
   "metadata": {
    "collapsed": false,
    "pycharm": {
     "name": "#%%\n"
    }
   }
  },
  {
   "cell_type": "code",
   "execution_count": 89,
   "outputs": [
    {
     "data": {
      "text/plain": "<Figure size 640x480 with 1 Axes>",
      "image/png": "[encoded data removed]"
     },
     "metadata": {
      "needs_background": "light"
     },
     "output_type": "display_data"
    }
   ],
   "source": [
    "from matplotlib.pyplot import figure\n",
    "\n",
    "figure(figsize=(8, 6), dpi=80)\n",
    "plt.bar(num, frec, color ='maroon',\n",
    "        width = 0.4)\n",
    "plt.xticks(range(len(num)), num, rotation='vertical')\n",
    "plt.xlabel(\"Operator Number\")\n",
    "plt.ylabel(\"Frequency\")\n",
    "plt.gcf()\n",
    "plt.savefig('resultsBG3.jpg')\n",
    "plt.show()"
   ],
   "metadata": {
    "collapsed": false,
    "pycharm": {
     "name": "#%%\n"
    }
   }
  },
  {
   "cell_type": "code",
   "execution_count": 90,
   "outputs": [
    {
     "data": {
      "text/plain": "<Figure size 640x480 with 1 Axes>",
      "image/png": "[encoded data removed]"
     },
     "metadata": {
      "needs_background": "light"
     },
     "output_type": "display_data"
    }
   ],
   "source": [
    "figure(figsize=(8, 6), dpi=80)\n",
    "plt.bar(fam, frec2, color ='maroon',\n",
    "        width = 0.4)\n",
    "plt.xticks(range(len(fam)), fam, rotation='vertical')\n",
    "plt.xlabel(\"Operator Family\")\n",
    "plt.ylabel(\"Frequency\")\n",
    "plt.gcf()\n",
    "plt.savefig('resultsBG4.jpg',bbox_inches='tight')\n",
    "plt.show()"
   ],
   "metadata": {
    "collapsed": false,
    "pycharm": {
     "name": "#%%\n"
    }
   }
  },
  {
   "cell_type": "code",
   "execution_count": 29,
   "outputs": [
    {
     "data": {
      "text/plain": "(20,)"
     },
     "execution_count": 29,
     "metadata": {},
     "output_type": "execute_result"
    }
   ],
   "source": [
    "arr = np.array(best_mhs, dtype=object)\n",
    "arr = np.transpose(arr)\n",
    "arr.shape"
   ],
   "metadata": {
    "collapsed": false,
    "pycharm": {
     "name": "#%%\n"
    }
   }
  },
  {
   "cell_type": "code",
   "execution_count": 44,
   "outputs": [
    {
     "data": {
      "text/plain": "157"
     },
     "execution_count": 44,
     "metadata": {},
     "output_type": "execute_result"
    }
   ],
   "source": [
    "\n",
    "x=np.array(arr[0])\n",
    "x[0]"
   ],
   "metadata": {
    "collapsed": false,
    "pycharm": {
     "name": "#%%\n"
    }
   }
  },
  {
   "cell_type": "code",
   "execution_count": 63,
   "outputs": [
    {
     "name": "stdout",
     "output_type": "stream",
     "text": [
      "[[0. 0. 0. 0. 0. 0. 0. 0. 0. 0. 0. 0. 0. 0. 0. 0. 0. 0. 0. 0.]]\n"
     ]
    }
   ],
   "source": [
    "ac=np.zeros(shape=(1, len(arr)))\n",
    "print(ac)"
   ],
   "metadata": {
    "collapsed": false,
    "pycharm": {
     "name": "#%%\n"
    }
   }
  },
  {
   "cell_type": "code",
   "execution_count": 81,
   "outputs": [
    {
     "name": "stdout",
     "output_type": "stream",
     "text": [
      "[1 3]\n"
     ]
    }
   ],
   "source": [
    "test=np.array([1,2,3])\n",
    "test=np.delete(test,1)\n",
    "h=len(test)\n",
    "print(test)"
   ],
   "metadata": {
    "collapsed": false,
    "pycharm": {
     "name": "#%%\n"
    }
   }
  },
  {
   "cell_type": "code",
   "execution_count": 100,
   "outputs": [
    {
     "data": {
      "text/plain": "[('random_search', {'scale': 1.0, 'distribution': 'uniform'}, 'greedy'),\n ('central_force_dynamic',\n  {'gravity': 0.001, 'alpha': 0.01, 'beta': 1.5, 'dt': 1.0},\n  'all'),\n ('central_force_dynamic',\n  {'gravity': 0.001, 'alpha': 0.01, 'beta': 1.5, 'dt': 1.0},\n  'greedy'),\n ('central_force_dynamic',\n  {'gravity': 0.001, 'alpha': 0.01, 'beta': 1.5, 'dt': 1.0},\n  'metropolis'),\n ('central_force_dynamic',\n  {'gravity': 0.001, 'alpha': 0.01, 'beta': 1.5, 'dt': 1.0},\n  'probabilistic'),\n ('differential_mutation',\n  {'expression': 'rand', 'num_rands': 1, 'factor': 1.0},\n  'all'),\n ('differential_mutation',\n  {'expression': 'rand', 'num_rands': 1, 'factor': 1.0},\n  'greedy'),\n ('differential_mutation',\n  {'expression': 'rand', 'num_rands': 1, 'factor': 1.0},\n  'metropolis'),\n ('differential_mutation',\n  {'expression': 'rand', 'num_rands': 1, 'factor': 1.0},\n  'probabilistic'),\n ('differential_mutation',\n  {'expression': 'best', 'num_rands': 1, 'factor': 1.0},\n  'all'),\n ('differential_mutation',\n  {'expression': 'best', 'num_rands': 1, 'factor': 1.0},\n  'greedy'),\n ('differential_mutation',\n  {'expression': 'best', 'num_rands': 1, 'factor': 1.0},\n  'metropolis'),\n ('differential_mutation',\n  {'expression': 'best', 'num_rands': 1, 'factor': 1.0},\n  'probabilistic'),\n ('differential_mutation',\n  {'expression': 'current', 'num_rands': 1, 'factor': 1.0},\n  'all'),\n ('differential_mutation',\n  {'expression': 'current', 'num_rands': 1, 'factor': 1.0},\n  'greedy'),\n ('differential_mutation',\n  {'expression': 'current', 'num_rands': 1, 'factor': 1.0},\n  'metropolis'),\n ('differential_mutation',\n  {'expression': 'current', 'num_rands': 1, 'factor': 1.0},\n  'probabilistic'),\n ('differential_mutation',\n  {'expression': 'current-to-best', 'num_rands': 1, 'factor': 1.0},\n  'all'),\n ('differential_mutation',\n  {'expression': 'current-to-best', 'num_rands': 1, 'factor': 1.0},\n  'greedy'),\n ('differential_mutation',\n  {'expression': 'current-to-best', 'num_rands': 1, 'factor': 1.0},\n  'metropolis'),\n ('differential_mutation',\n  {'expression': 'current-to-best', 'num_rands': 1, 'factor': 1.0},\n  'probabilistic'),\n ('differential_mutation',\n  {'expression': 'rand-to-best', 'num_rands': 1, 'factor': 1.0},\n  'all'),\n ('differential_mutation',\n  {'expression': 'rand-to-best', 'num_rands': 1, 'factor': 1.0},\n  'greedy'),\n ('differential_mutation',\n  {'expression': 'rand-to-best', 'num_rands': 1, 'factor': 1.0},\n  'metropolis'),\n ('differential_mutation',\n  {'expression': 'rand-to-best', 'num_rands': 1, 'factor': 1.0},\n  'probabilistic'),\n ('differential_mutation',\n  {'expression': 'rand-to-best-and-current', 'num_rands': 1, 'factor': 1.0},\n  'all'),\n ('differential_mutation',\n  {'expression': 'rand-to-best-and-current', 'num_rands': 1, 'factor': 1.0},\n  'greedy'),\n ('differential_mutation',\n  {'expression': 'rand-to-best-and-current', 'num_rands': 1, 'factor': 1.0},\n  'metropolis'),\n ('differential_mutation',\n  {'expression': 'rand-to-best-and-current', 'num_rands': 1, 'factor': 1.0},\n  'probabilistic'),\n ('firefly_dynamic',\n  {'distribution': 'uniform', 'alpha': 1.0, 'beta': 1.0, 'gamma': 100.0},\n  'all'),\n ('firefly_dynamic',\n  {'distribution': 'uniform', 'alpha': 1.0, 'beta': 1.0, 'gamma': 100.0},\n  'greedy'),\n ('firefly_dynamic',\n  {'distribution': 'uniform', 'alpha': 1.0, 'beta': 1.0, 'gamma': 100.0},\n  'metropolis'),\n ('firefly_dynamic',\n  {'distribution': 'uniform', 'alpha': 1.0, 'beta': 1.0, 'gamma': 100.0},\n  'probabilistic'),\n ('firefly_dynamic',\n  {'distribution': 'gaussian', 'alpha': 1.0, 'beta': 1.0, 'gamma': 100.0},\n  'all'),\n ('firefly_dynamic',\n  {'distribution': 'gaussian', 'alpha': 1.0, 'beta': 1.0, 'gamma': 100.0},\n  'greedy'),\n ('firefly_dynamic',\n  {'distribution': 'gaussian', 'alpha': 1.0, 'beta': 1.0, 'gamma': 100.0},\n  'metropolis'),\n ('firefly_dynamic',\n  {'distribution': 'gaussian', 'alpha': 1.0, 'beta': 1.0, 'gamma': 100.0},\n  'probabilistic'),\n ('firefly_dynamic',\n  {'distribution': 'levy', 'alpha': 1.0, 'beta': 1.0, 'gamma': 100.0},\n  'all'),\n ('firefly_dynamic',\n  {'distribution': 'levy', 'alpha': 1.0, 'beta': 1.0, 'gamma': 100.0},\n  'greedy'),\n ('firefly_dynamic',\n  {'distribution': 'levy', 'alpha': 1.0, 'beta': 1.0, 'gamma': 100.0},\n  'metropolis'),\n ('firefly_dynamic',\n  {'distribution': 'levy', 'alpha': 1.0, 'beta': 1.0, 'gamma': 100.0},\n  'probabilistic'),\n ('genetic_crossover',\n  {'pairing': 'rank', 'crossover': 'single', 'mating_pool_factor': 0.4},\n  'all'),\n ('genetic_crossover',\n  {'pairing': 'rank', 'crossover': 'single', 'mating_pool_factor': 0.4},\n  'greedy'),\n ('genetic_crossover',\n  {'pairing': 'rank', 'crossover': 'single', 'mating_pool_factor': 0.4},\n  'metropolis'),\n ('genetic_crossover',\n  {'pairing': 'rank', 'crossover': 'single', 'mating_pool_factor': 0.4},\n  'probabilistic'),\n ('genetic_crossover',\n  {'pairing': 'cost', 'crossover': 'single', 'mating_pool_factor': 0.4},\n  'all'),\n ('genetic_crossover',\n  {'pairing': 'cost', 'crossover': 'single', 'mating_pool_factor': 0.4},\n  'greedy'),\n ('genetic_crossover',\n  {'pairing': 'cost', 'crossover': 'single', 'mating_pool_factor': 0.4},\n  'metropolis'),\n ('genetic_crossover',\n  {'pairing': 'cost', 'crossover': 'single', 'mating_pool_factor': 0.4},\n  'probabilistic'),\n ('genetic_crossover',\n  {'pairing': 'random', 'crossover': 'single', 'mating_pool_factor': 0.4},\n  'all'),\n ('genetic_crossover',\n  {'pairing': 'random', 'crossover': 'single', 'mating_pool_factor': 0.4},\n  'greedy'),\n ('genetic_crossover',\n  {'pairing': 'random', 'crossover': 'single', 'mating_pool_factor': 0.4},\n  'metropolis'),\n ('genetic_crossover',\n  {'pairing': 'random', 'crossover': 'single', 'mating_pool_factor': 0.4},\n  'probabilistic'),\n ('genetic_crossover',\n  {'pairing': 'tournament_2_100',\n   'crossover': 'single',\n   'mating_pool_factor': 0.4},\n  'all'),\n ('genetic_crossover',\n  {'pairing': 'tournament_2_100',\n   'crossover': 'single',\n   'mating_pool_factor': 0.4},\n  'greedy'),\n ('genetic_crossover',\n  {'pairing': 'tournament_2_100',\n   'crossover': 'single',\n   'mating_pool_factor': 0.4},\n  'metropolis'),\n ('genetic_crossover',\n  {'pairing': 'tournament_2_100',\n   'crossover': 'single',\n   'mating_pool_factor': 0.4},\n  'probabilistic'),\n ('genetic_crossover',\n  {'pairing': 'rank', 'crossover': 'two', 'mating_pool_factor': 0.4},\n  'all'),\n ('genetic_crossover',\n  {'pairing': 'rank', 'crossover': 'two', 'mating_pool_factor': 0.4},\n  'greedy'),\n ('genetic_crossover',\n  {'pairing': 'rank', 'crossover': 'two', 'mating_pool_factor': 0.4},\n  'metropolis'),\n ('genetic_crossover',\n  {'pairing': 'rank', 'crossover': 'two', 'mating_pool_factor': 0.4},\n  'probabilistic'),\n ('genetic_crossover',\n  {'pairing': 'cost', 'crossover': 'two', 'mating_pool_factor': 0.4},\n  'all'),\n ('genetic_crossover',\n  {'pairing': 'cost', 'crossover': 'two', 'mating_pool_factor': 0.4},\n  'greedy'),\n ('genetic_crossover',\n  {'pairing': 'cost', 'crossover': 'two', 'mating_pool_factor': 0.4},\n  'metropolis'),\n ('genetic_crossover',\n  {'pairing': 'cost', 'crossover': 'two', 'mating_pool_factor': 0.4},\n  'probabilistic'),\n ('genetic_crossover',\n  {'pairing': 'random', 'crossover': 'two', 'mating_pool_factor': 0.4},\n  'all'),\n ('genetic_crossover',\n  {'pairing': 'random', 'crossover': 'two', 'mating_pool_factor': 0.4},\n  'greedy'),\n ('genetic_crossover',\n  {'pairing': 'random', 'crossover': 'two', 'mating_pool_factor': 0.4},\n  'metropolis'),\n ('genetic_crossover',\n  {'pairing': 'random', 'crossover': 'two', 'mating_pool_factor': 0.4},\n  'probabilistic'),\n ('genetic_crossover',\n  {'pairing': 'tournament_2_100',\n   'crossover': 'two',\n   'mating_pool_factor': 0.4},\n  'all'),\n ('genetic_crossover',\n  {'pairing': 'tournament_2_100',\n   'crossover': 'two',\n   'mating_pool_factor': 0.4},\n  'greedy'),\n ('genetic_crossover',\n  {'pairing': 'tournament_2_100',\n   'crossover': 'two',\n   'mating_pool_factor': 0.4},\n  'metropolis'),\n ('genetic_crossover',\n  {'pairing': 'tournament_2_100',\n   'crossover': 'two',\n   'mating_pool_factor': 0.4},\n  'probabilistic'),\n ('genetic_crossover',\n  {'pairing': 'rank', 'crossover': 'uniform', 'mating_pool_factor': 0.4},\n  'all'),\n ('genetic_crossover',\n  {'pairing': 'rank', 'crossover': 'uniform', 'mating_pool_factor': 0.4},\n  'greedy'),\n ('genetic_crossover',\n  {'pairing': 'rank', 'crossover': 'uniform', 'mating_pool_factor': 0.4},\n  'metropolis'),\n ('genetic_crossover',\n  {'pairing': 'rank', 'crossover': 'uniform', 'mating_pool_factor': 0.4},\n  'probabilistic'),\n ('genetic_crossover',\n  {'pairing': 'cost', 'crossover': 'uniform', 'mating_pool_factor': 0.4},\n  'all'),\n ('genetic_crossover',\n  {'pairing': 'cost', 'crossover': 'uniform', 'mating_pool_factor': 0.4},\n  'greedy'),\n ('genetic_crossover',\n  {'pairing': 'cost', 'crossover': 'uniform', 'mating_pool_factor': 0.4},\n  'metropolis'),\n ('genetic_crossover',\n  {'pairing': 'cost', 'crossover': 'uniform', 'mating_pool_factor': 0.4},\n  'probabilistic'),\n ('genetic_crossover',\n  {'pairing': 'random', 'crossover': 'uniform', 'mating_pool_factor': 0.4},\n  'all'),\n ('genetic_crossover',\n  {'pairing': 'random', 'crossover': 'uniform', 'mating_pool_factor': 0.4},\n  'greedy'),\n ('genetic_crossover',\n  {'pairing': 'random', 'crossover': 'uniform', 'mating_pool_factor': 0.4},\n  'metropolis'),\n ('genetic_crossover',\n  {'pairing': 'random', 'crossover': 'uniform', 'mating_pool_factor': 0.4},\n  'probabilistic'),\n ('genetic_crossover',\n  {'pairing': 'tournament_2_100',\n   'crossover': 'uniform',\n   'mating_pool_factor': 0.4},\n  'all'),\n ('genetic_crossover',\n  {'pairing': 'tournament_2_100',\n   'crossover': 'uniform',\n   'mating_pool_factor': 0.4},\n  'greedy'),\n ('genetic_crossover',\n  {'pairing': 'tournament_2_100',\n   'crossover': 'uniform',\n   'mating_pool_factor': 0.4},\n  'metropolis'),\n ('genetic_crossover',\n  {'pairing': 'tournament_2_100',\n   'crossover': 'uniform',\n   'mating_pool_factor': 0.4},\n  'probabilistic'),\n ('genetic_crossover',\n  {'pairing': 'rank', 'crossover': 'blend', 'mating_pool_factor': 0.4},\n  'all'),\n ('genetic_crossover',\n  {'pairing': 'rank', 'crossover': 'blend', 'mating_pool_factor': 0.4},\n  'greedy'),\n ('genetic_crossover',\n  {'pairing': 'rank', 'crossover': 'blend', 'mating_pool_factor': 0.4},\n  'metropolis'),\n ('genetic_crossover',\n  {'pairing': 'rank', 'crossover': 'blend', 'mating_pool_factor': 0.4},\n  'probabilistic'),\n ('genetic_crossover',\n  {'pairing': 'cost', 'crossover': 'blend', 'mating_pool_factor': 0.4},\n  'all'),\n ('genetic_crossover',\n  {'pairing': 'cost', 'crossover': 'blend', 'mating_pool_factor': 0.4},\n  'greedy'),\n ('genetic_crossover',\n  {'pairing': 'cost', 'crossover': 'blend', 'mating_pool_factor': 0.4},\n  'metropolis'),\n ('genetic_crossover',\n  {'pairing': 'cost', 'crossover': 'blend', 'mating_pool_factor': 0.4},\n  'probabilistic'),\n ('genetic_crossover',\n  {'pairing': 'random', 'crossover': 'blend', 'mating_pool_factor': 0.4},\n  'all'),\n ('genetic_crossover',\n  {'pairing': 'random', 'crossover': 'blend', 'mating_pool_factor': 0.4},\n  'greedy'),\n ('genetic_crossover',\n  {'pairing': 'random', 'crossover': 'blend', 'mating_pool_factor': 0.4},\n  'metropolis'),\n ('genetic_crossover',\n  {'pairing': 'random', 'crossover': 'blend', 'mating_pool_factor': 0.4},\n  'probabilistic'),\n ('genetic_crossover',\n  {'pairing': 'tournament_2_100',\n   'crossover': 'blend',\n   'mating_pool_factor': 0.4},\n  'all'),\n ('genetic_crossover',\n  {'pairing': 'tournament_2_100',\n   'crossover': 'blend',\n   'mating_pool_factor': 0.4},\n  'greedy'),\n ('genetic_crossover',\n  {'pairing': 'tournament_2_100',\n   'crossover': 'blend',\n   'mating_pool_factor': 0.4},\n  'metropolis'),\n ('genetic_crossover',\n  {'pairing': 'tournament_2_100',\n   'crossover': 'blend',\n   'mating_pool_factor': 0.4},\n  'probabilistic'),\n ('genetic_crossover',\n  {'pairing': 'rank',\n   'crossover': 'linear_0.5_0.5',\n   'mating_pool_factor': 0.4},\n  'all'),\n ('genetic_crossover',\n  {'pairing': 'rank',\n   'crossover': 'linear_0.5_0.5',\n   'mating_pool_factor': 0.4},\n  'greedy'),\n ('genetic_crossover',\n  {'pairing': 'rank',\n   'crossover': 'linear_0.5_0.5',\n   'mating_pool_factor': 0.4},\n  'metropolis'),\n ('genetic_crossover',\n  {'pairing': 'rank',\n   'crossover': 'linear_0.5_0.5',\n   'mating_pool_factor': 0.4},\n  'probabilistic'),\n ('genetic_crossover',\n  {'pairing': 'cost',\n   'crossover': 'linear_0.5_0.5',\n   'mating_pool_factor': 0.4},\n  'all'),\n ('genetic_crossover',\n  {'pairing': 'cost',\n   'crossover': 'linear_0.5_0.5',\n   'mating_pool_factor': 0.4},\n  'greedy'),\n ('genetic_crossover',\n  {'pairing': 'cost',\n   'crossover': 'linear_0.5_0.5',\n   'mating_pool_factor': 0.4},\n  'metropolis'),\n ('genetic_crossover',\n  {'pairing': 'cost',\n   'crossover': 'linear_0.5_0.5',\n   'mating_pool_factor': 0.4},\n  'probabilistic'),\n ('genetic_crossover',\n  {'pairing': 'random',\n   'crossover': 'linear_0.5_0.5',\n   'mating_pool_factor': 0.4},\n  'all'),\n ('genetic_crossover',\n  {'pairing': 'random',\n   'crossover': 'linear_0.5_0.5',\n   'mating_pool_factor': 0.4},\n  'greedy'),\n ('genetic_crossover',\n  {'pairing': 'random',\n   'crossover': 'linear_0.5_0.5',\n   'mating_pool_factor': 0.4},\n  'metropolis'),\n ('genetic_crossover',\n  {'pairing': 'random',\n   'crossover': 'linear_0.5_0.5',\n   'mating_pool_factor': 0.4},\n  'probabilistic'),\n ('genetic_crossover',\n  {'pairing': 'tournament_2_100',\n   'crossover': 'linear_0.5_0.5',\n   'mating_pool_factor': 0.4},\n  'all'),\n ('genetic_crossover',\n  {'pairing': 'tournament_2_100',\n   'crossover': 'linear_0.5_0.5',\n   'mating_pool_factor': 0.4},\n  'greedy'),\n ('genetic_crossover',\n  {'pairing': 'tournament_2_100',\n   'crossover': 'linear_0.5_0.5',\n   'mating_pool_factor': 0.4},\n  'metropolis'),\n ('genetic_crossover',\n  {'pairing': 'tournament_2_100',\n   'crossover': 'linear_0.5_0.5',\n   'mating_pool_factor': 0.4},\n  'probabilistic'),\n ('genetic_mutation',\n  {'scale': 1.0,\n   'elite_rate': 0.1,\n   'mutation_rate': 0.25,\n   'distribution': 'uniform'},\n  'all'),\n ('genetic_mutation',\n  {'scale': 1.0,\n   'elite_rate': 0.1,\n   'mutation_rate': 0.25,\n   'distribution': 'uniform'},\n  'greedy'),\n ('genetic_mutation',\n  {'scale': 1.0,\n   'elite_rate': 0.1,\n   'mutation_rate': 0.25,\n   'distribution': 'uniform'},\n  'metropolis'),\n ('genetic_mutation',\n  {'scale': 1.0,\n   'elite_rate': 0.1,\n   'mutation_rate': 0.25,\n   'distribution': 'uniform'},\n  'probabilistic'),\n ('genetic_mutation',\n  {'scale': 1.0,\n   'elite_rate': 0.1,\n   'mutation_rate': 0.25,\n   'distribution': 'gaussian'},\n  'all'),\n ('genetic_mutation',\n  {'scale': 1.0,\n   'elite_rate': 0.1,\n   'mutation_rate': 0.25,\n   'distribution': 'gaussian'},\n  'greedy'),\n ('genetic_mutation',\n  {'scale': 1.0,\n   'elite_rate': 0.1,\n   'mutation_rate': 0.25,\n   'distribution': 'gaussian'},\n  'metropolis'),\n ('genetic_mutation',\n  {'scale': 1.0,\n   'elite_rate': 0.1,\n   'mutation_rate': 0.25,\n   'distribution': 'gaussian'},\n  'probabilistic'),\n ('genetic_mutation',\n  {'scale': 1.0,\n   'elite_rate': 0.1,\n   'mutation_rate': 0.25,\n   'distribution': 'levy'},\n  'all'),\n ('genetic_mutation',\n  {'scale': 1.0,\n   'elite_rate': 0.1,\n   'mutation_rate': 0.25,\n   'distribution': 'levy'},\n  'greedy'),\n ('genetic_mutation',\n  {'scale': 1.0,\n   'elite_rate': 0.1,\n   'mutation_rate': 0.25,\n   'distribution': 'levy'},\n  'metropolis'),\n ('genetic_mutation',\n  {'scale': 1.0,\n   'elite_rate': 0.1,\n   'mutation_rate': 0.25,\n   'distribution': 'levy'},\n  'probabilistic'),\n ('gravitational_search', {'gravity': 1.0, 'alpha': 0.02}, 'all'),\n ('gravitational_search', {'gravity': 1.0, 'alpha': 0.02}, 'greedy'),\n ('gravitational_search', {'gravity': 1.0, 'alpha': 0.02}, 'metropolis'),\n ('gravitational_search', {'gravity': 1.0, 'alpha': 0.02}, 'probabilistic'),\n ('random_flight', {'scale': 1.0, 'distribution': 'levy', 'beta': 1.5}, 'all'),\n ('random_flight',\n  {'scale': 1.0, 'distribution': 'levy', 'beta': 1.5},\n  'greedy'),\n ('random_flight',\n  {'scale': 1.0, 'distribution': 'levy', 'beta': 1.5},\n  'metropolis'),\n ('random_flight',\n  {'scale': 1.0, 'distribution': 'levy', 'beta': 1.5},\n  'probabilistic'),\n ('random_flight', {'scale': 1.0, 'distribution': 'uniform'}, 'all'),\n ('random_flight', {'scale': 1.0, 'distribution': 'uniform'}, 'greedy'),\n ('random_flight', {'scale': 1.0, 'distribution': 'uniform'}, 'metropolis'),\n ('random_flight', {'scale': 1.0, 'distribution': 'uniform'}, 'probabilistic'),\n ('random_flight', {'scale': 1.0, 'distribution': 'gaussian'}, 'all'),\n ('random_flight', {'scale': 1.0, 'distribution': 'gaussian'}, 'greedy'),\n ('random_flight', {'scale': 1.0, 'distribution': 'gaussian'}, 'metropolis'),\n ('random_flight',\n  {'scale': 1.0, 'distribution': 'gaussian'},\n  'probabilistic'),\n ('local_random_walk',\n  {'probability': 0.75, 'scale': 1.0, 'distribution': 'uniform'},\n  'all'),\n ('local_random_walk',\n  {'probability': 0.75, 'scale': 1.0, 'distribution': 'uniform'},\n  'greedy'),\n ('local_random_walk',\n  {'probability': 0.75, 'scale': 1.0, 'distribution': 'uniform'},\n  'metropolis'),\n ('local_random_walk',\n  {'probability': 0.75, 'scale': 1.0, 'distribution': 'uniform'},\n  'probabilistic'),\n ('local_random_walk',\n  {'probability': 0.75, 'scale': 1.0, 'distribution': 'gaussian'},\n  'all'),\n ('local_random_walk',\n  {'probability': 0.75, 'scale': 1.0, 'distribution': 'gaussian'},\n  'greedy'),\n ('local_random_walk',\n  {'probability': 0.75, 'scale': 1.0, 'distribution': 'gaussian'},\n  'metropolis'),\n ('local_random_walk',\n  {'probability': 0.75, 'scale': 1.0, 'distribution': 'gaussian'},\n  'probabilistic'),\n ('local_random_walk',\n  {'probability': 0.75, 'scale': 1.0, 'distribution': 'levy'},\n  'all'),\n ('local_random_walk',\n  {'probability': 0.75, 'scale': 1.0, 'distribution': 'levy'},\n  'greedy'),\n ('local_random_walk',\n  {'probability': 0.75, 'scale': 1.0, 'distribution': 'levy'},\n  'metropolis'),\n ('local_random_walk',\n  {'probability': 0.75, 'scale': 1.0, 'distribution': 'levy'},\n  'probabilistic'),\n ('random_sample', {}, 'all'),\n ('random_sample', {}, 'greedy'),\n ('random_sample', {}, 'metropolis'),\n ('random_sample', {}, 'probabilistic'),\n ('random_search', {'scale': 0.01, 'distribution': 'uniform'}, 'all'),\n ('random_search', {'scale': 0.01, 'distribution': 'uniform'}, 'greedy'),\n ('random_search', {'scale': 0.01, 'distribution': 'uniform'}, 'metropolis'),\n ('random_search',\n  {'scale': 0.01, 'distribution': 'uniform'},\n  'probabilistic'),\n ('random_search', {'scale': 0.01, 'distribution': 'gaussian'}, 'all'),\n ('random_search', {'scale': 0.01, 'distribution': 'gaussian'}, 'greedy'),\n ('random_search', {'scale': 0.01, 'distribution': 'gaussian'}, 'metropolis'),\n ('random_search',\n  {'scale': 0.01, 'distribution': 'gaussian'},\n  'probabilistic'),\n ('random_search', {'scale': 0.01, 'distribution': 'levy'}, 'all'),\n ('random_search', {'scale': 0.01, 'distribution': 'levy'}, 'greedy'),\n ('random_search', {'scale': 0.01, 'distribution': 'levy'}, 'metropolis'),\n ('random_search', {'scale': 0.01, 'distribution': 'levy'}, 'probabilistic'),\n ('spiral_dynamic', {'radius': 0.9, 'angle': 22.5, 'sigma': 0.1}, 'all'),\n ('spiral_dynamic', {'radius': 0.9, 'angle': 22.5, 'sigma': 0.1}, 'greedy'),\n ('spiral_dynamic',\n  {'radius': 0.9, 'angle': 22.5, 'sigma': 0.1},\n  'metropolis'),\n ('spiral_dynamic',\n  {'radius': 0.9, 'angle': 22.5, 'sigma': 0.1},\n  'probabilistic'),\n ('swarm_dynamic',\n  {'factor': 0.7,\n   'self_conf': 2.54,\n   'swarm_conf': 2.56,\n   'version': 'inertial',\n   'distribution': 'uniform'},\n  'all'),\n ('swarm_dynamic',\n  {'factor': 0.7,\n   'self_conf': 2.54,\n   'swarm_conf': 2.56,\n   'version': 'inertial',\n   'distribution': 'uniform'},\n  'greedy'),\n ('swarm_dynamic',\n  {'factor': 0.7,\n   'self_conf': 2.54,\n   'swarm_conf': 2.56,\n   'version': 'inertial',\n   'distribution': 'uniform'},\n  'metropolis'),\n ('swarm_dynamic',\n  {'factor': 0.7,\n   'self_conf': 2.54,\n   'swarm_conf': 2.56,\n   'version': 'inertial',\n   'distribution': 'uniform'},\n  'probabilistic'),\n ('swarm_dynamic',\n  {'factor': 0.7,\n   'self_conf': 2.54,\n   'swarm_conf': 2.56,\n   'version': 'inertial',\n   'distribution': 'gaussian'},\n  'all'),\n ('swarm_dynamic',\n  {'factor': 0.7,\n   'self_conf': 2.54,\n   'swarm_conf': 2.56,\n   'version': 'inertial',\n   'distribution': 'gaussian'},\n  'greedy'),\n ('swarm_dynamic',\n  {'factor': 0.7,\n   'self_conf': 2.54,\n   'swarm_conf': 2.56,\n   'version': 'inertial',\n   'distribution': 'gaussian'},\n  'metropolis'),\n ('swarm_dynamic',\n  {'factor': 0.7,\n   'self_conf': 2.54,\n   'swarm_conf': 2.56,\n   'version': 'inertial',\n   'distribution': 'gaussian'},\n  'probabilistic'),\n ('swarm_dynamic',\n  {'factor': 0.7,\n   'self_conf': 2.54,\n   'swarm_conf': 2.56,\n   'version': 'inertial',\n   'distribution': 'levy'},\n  'all'),\n ('swarm_dynamic',\n  {'factor': 0.7,\n   'self_conf': 2.54,\n   'swarm_conf': 2.56,\n   'version': 'inertial',\n   'distribution': 'levy'},\n  'greedy'),\n ('swarm_dynamic',\n  {'factor': 0.7,\n   'self_conf': 2.54,\n   'swarm_conf': 2.56,\n   'version': 'inertial',\n   'distribution': 'levy'},\n  'metropolis'),\n ('swarm_dynamic',\n  {'factor': 0.7,\n   'self_conf': 2.54,\n   'swarm_conf': 2.56,\n   'version': 'inertial',\n   'distribution': 'levy'},\n  'probabilistic'),\n ('swarm_dynamic',\n  {'factor': 1.0,\n   'self_conf': 2.54,\n   'swarm_conf': 2.56,\n   'version': 'constriction',\n   'distribution': 'uniform'},\n  'all'),\n ('swarm_dynamic',\n  {'factor': 1.0,\n   'self_conf': 2.54,\n   'swarm_conf': 2.56,\n   'version': 'constriction',\n   'distribution': 'uniform'},\n  'greedy'),\n ('swarm_dynamic',\n  {'factor': 1.0,\n   'self_conf': 2.54,\n   'swarm_conf': 2.56,\n   'version': 'constriction',\n   'distribution': 'uniform'},\n  'metropolis'),\n ('swarm_dynamic',\n  {'factor': 1.0,\n   'self_conf': 2.54,\n   'swarm_conf': 2.56,\n   'version': 'constriction',\n   'distribution': 'uniform'},\n  'probabilistic'),\n ('swarm_dynamic',\n  {'factor': 1.0,\n   'self_conf': 2.54,\n   'swarm_conf': 2.56,\n   'version': 'constriction',\n   'distribution': 'gaussian'},\n  'all'),\n ('swarm_dynamic',\n  {'factor': 1.0,\n   'self_conf': 2.54,\n   'swarm_conf': 2.56,\n   'version': 'constriction',\n   'distribution': 'gaussian'},\n  'greedy'),\n ('swarm_dynamic',\n  {'factor': 1.0,\n   'self_conf': 2.54,\n   'swarm_conf': 2.56,\n   'version': 'constriction',\n   'distribution': 'gaussian'},\n  'metropolis'),\n ('swarm_dynamic',\n  {'factor': 1.0,\n   'self_conf': 2.54,\n   'swarm_conf': 2.56,\n   'version': 'constriction',\n   'distribution': 'gaussian'},\n  'probabilistic'),\n ('swarm_dynamic',\n  {'factor': 1.0,\n   'self_conf': 2.54,\n   'swarm_conf': 2.56,\n   'version': 'constriction',\n   'distribution': 'levy'},\n  'all'),\n ('swarm_dynamic',\n  {'factor': 1.0,\n   'self_conf': 2.54,\n   'swarm_conf': 2.56,\n   'version': 'constriction',\n   'distribution': 'levy'},\n  'greedy'),\n ('swarm_dynamic',\n  {'factor': 1.0,\n   'self_conf': 2.54,\n   'swarm_conf': 2.56,\n   'version': 'constriction',\n   'distribution': 'levy'},\n  'metropolis'),\n ('swarm_dynamic',\n  {'factor': 1.0,\n   'self_conf': 2.54,\n   'swarm_conf': 2.56,\n   'version': 'constriction',\n   'distribution': 'levy'},\n  'probabilistic')]"
     },
     "execution_count": 100,
     "metadata": {},
     "output_type": "execute_result"
    }
   ],
   "source": [
    "heuristic_space"
   ],
   "metadata": {
    "collapsed": false,
    "pycharm": {
     "name": "#%%\n"
    }
   }
  },
  {
   "cell_type": "code",
   "execution_count": 80,
   "outputs": [
    {
     "name": "stdout",
     "output_type": "stream",
     "text": [
      "[1 2 5 6 8 9]\n"
     ]
    }
   ],
   "source": [
    "a = np.array([1, 2, 3, 4, 5, 6, 7, 8, 9])\n",
    "index = [2, 3, 6]\n",
    "\n",
    "new_a = np.delete(a, index)\n",
    "\n",
    "print(new_a)"
   ],
   "metadata": {
    "collapsed": false,
    "pycharm": {
     "name": "#%%\n"
    }
   }
  },
  {
   "cell_type": "code",
   "execution_count": 5,
   "outputs": [
    {
     "name": "stdout",
     "output_type": "stream",
     "text": [
      "data_files/raw/MC_results2_Aluminium_Water\n",
      "data_files/raw/MC_results2_Aluminium_Water_Ag_50\n",
      "data_files/raw/MC_results2_Aluminium_Water_Card_2\n",
      "data_files/raw/MC_results2_Aluminium_Water_It_50\n",
      "data_files/raw/MC_results2_Aluminium_Water_Stag_10\n",
      "data_files/raw/MC_results2_Copper_Water\n",
      "data_files/raw/MC_results2_Copper_Water_Ag_50\n",
      "data_files/raw/MC_results2_Copper_Water_Card_2\n",
      "data_files/raw/MC_results2_Copper_Water_It_50\n",
      "data_files/raw/MC_results2_Copper_Water_Stag_10\n",
      "data_files/raw/MC_results2_Graphite_Water\n",
      "data_files/raw/MC_results2_Graphite_Water_Ag_50\n",
      "data_files/raw/MC_results2_Graphite_Water_Card_2\n",
      "data_files/raw/MC_results2_Graphite_Water_It_50\n",
      "data_files/raw/MC_results2_Graphite_Water_Stag_10\n",
      "data_files/raw/MC_results2_Silicon_Water\n",
      "data_files/raw/MC_results2_Silicon_Water_Ag_50\n",
      "data_files/raw/MC_results2_Silicon_Water_Card_2\n",
      "data_files/raw/MC_results2_Silicon_Water_It_50\n",
      "data_files/raw/MC_results2_Silicon_Water_Stag_10\n",
      "[[1.02604537e-06 1.02604899e-06 1.02605202e-06 1.02615700e-06\n",
      "  1.02605177e-06 1.02605269e-06 1.02605044e-06 1.02604546e-06\n",
      "  1.02605483e-06 1.02605153e-06 1.02605003e-06 1.02605010e-06\n",
      "  1.02606696e-06 1.02606558e-06 1.02606177e-06 1.02605896e-06\n",
      "  1.02621088e-06 1.02604577e-06 1.02604740e-06 1.02604979e-06\n",
      "  1.02604901e-06 1.02604574e-06 1.02605438e-06 1.02604520e-06\n",
      "  1.02605043e-06 1.02604592e-06 1.02604821e-06 1.02605036e-06\n",
      "  1.02605564e-06 1.02604935e-06]\n",
      " [1.02604075e-06 1.02604409e-06 1.02604562e-06 1.02604520e-06\n",
      "  1.02604625e-06 1.02604045e-06 1.02604543e-06 1.02604969e-06\n",
      "  1.02604041e-06 1.02604041e-06 1.02604520e-06 1.02604105e-06\n",
      "  1.02604051e-06 1.02604146e-06 1.02604042e-06 1.02604041e-06\n",
      "  1.02604944e-06 1.02606919e-06 1.02604457e-06 1.02604069e-06\n",
      "  1.02604637e-06 1.02604815e-06 1.02604458e-06 1.02604836e-06\n",
      "  1.02604667e-06 1.02604520e-06 1.02604227e-06 1.02604559e-06\n",
      "  1.02604458e-06 1.02604603e-06]\n",
      " [1.02605302e-06 1.02605095e-06 1.02605527e-06 1.02604872e-06\n",
      "  1.02604636e-06 1.02614775e-06 1.02605000e-06 1.02604540e-06\n",
      "  1.02605271e-06 1.02606515e-06 1.02605054e-06 1.02605023e-06\n",
      "  1.02604543e-06 1.02605041e-06 1.02630674e-06 1.02605184e-06\n",
      "  1.02606352e-06 1.02605584e-06 1.02606720e-06 1.02605871e-06\n",
      "  1.02604537e-06 1.02605340e-06 1.02605818e-06 1.02605019e-06\n",
      "  1.02605804e-06 1.02604803e-06 1.02605331e-06 1.02604790e-06\n",
      "  1.02604915e-06 1.02605089e-06]\n",
      " [1.02606924e-06 1.02605527e-06 1.02607546e-06 1.02608666e-06\n",
      "  1.02607637e-06 1.02608621e-06 1.02608284e-06 1.02607480e-06\n",
      "  1.02608635e-06 1.02605604e-06 1.02609117e-06 1.02606754e-06\n",
      "  1.02606292e-06 1.02609339e-06 1.02609317e-06 1.02604638e-06\n",
      "  1.02605010e-06 1.02605157e-06 1.02610299e-06 1.02605676e-06\n",
      "  1.02611736e-06 1.02610115e-06 1.02607747e-06 1.02605948e-06\n",
      "  1.02618055e-06 1.02606731e-06 1.02605262e-06 1.02611636e-06\n",
      "  1.02608668e-06 1.02605797e-06]\n",
      " [1.02605922e-06 1.02605181e-06 1.02611101e-06 1.02646239e-06\n",
      "  1.02609702e-06 1.02605004e-06 1.02605947e-06 1.02622684e-06\n",
      "  1.02605037e-06 1.02605686e-06 1.02612638e-06 1.02605160e-06\n",
      "  1.02605564e-06 1.02605019e-06 1.02604544e-06 1.02606152e-06\n",
      "  1.02605553e-06 1.02604968e-06 1.02606803e-06 1.02605025e-06\n",
      "  1.02604982e-06 1.02604970e-06 1.02736969e-06 1.02609727e-06\n",
      "  1.02625393e-06 1.02652250e-06 1.02604890e-06 1.02607518e-06\n",
      "  1.02604996e-06 1.02604728e-06]\n",
      " [1.00419096e-06 1.00415731e-06 1.00413561e-06 1.00445573e-06\n",
      "  1.00414288e-06 1.00416384e-06 1.00413976e-06 1.00413618e-06\n",
      "  1.00413509e-06 1.00414080e-06 1.00427587e-06 1.00414939e-06\n",
      "  1.00413454e-06 1.00418491e-06 1.00416199e-06 1.00416972e-06\n",
      "  1.00414222e-06 1.00413649e-06 1.00419535e-06 1.00414442e-06\n",
      "  1.00413759e-06 1.00413526e-06 1.00413634e-06 1.00414674e-06\n",
      "  1.00413727e-06 1.00413452e-06 1.00415850e-06 1.00416376e-06\n",
      "  1.00415003e-06 1.00413814e-06]\n",
      " [1.00413874e-06 1.00413741e-06 1.00413452e-06 1.00413452e-06\n",
      "  1.00413558e-06 1.00417344e-06 1.00413561e-06 1.00413556e-06\n",
      "  1.00413452e-06 1.00413452e-06 1.00413452e-06 1.00413452e-06\n",
      "  1.00414343e-06 1.00413453e-06 1.00413452e-06 1.00415044e-06\n",
      "  1.00419350e-06 1.00413469e-06 1.00413454e-06 1.00413452e-06\n",
      "  1.00413452e-06 1.00413532e-06 1.00413453e-06 1.00413452e-06\n",
      "  1.00413452e-06 1.00413461e-06 1.00413452e-06 1.00413453e-06\n",
      "  1.00413452e-06 1.00419847e-06]\n",
      " [1.00421532e-06 1.00414305e-06 1.00415431e-06 1.00413485e-06\n",
      "  1.00415165e-06 1.00414291e-06 1.00419767e-06 1.00414465e-06\n",
      "  1.00415599e-06 1.00416752e-06 1.00419678e-06 1.00433728e-06\n",
      "  1.00415282e-06 1.00415596e-06 1.00413465e-06 1.00413882e-06\n",
      "  1.00415670e-06 1.00414825e-06 1.00419999e-06 1.00413531e-06\n",
      "  1.00413528e-06 1.00420023e-06 1.00414778e-06 1.00421847e-06\n",
      "  1.00418601e-06 1.00416258e-06 1.00419450e-06 1.00415644e-06\n",
      "  1.00414161e-06 1.00419793e-06]\n",
      " [1.00431860e-06 1.00417683e-06 1.00419986e-06 1.00421273e-06\n",
      "  1.00418643e-06 1.00415865e-06 1.00422511e-06 1.00421899e-06\n",
      "  1.00414855e-06 1.00420247e-06 1.00418190e-06 1.00420209e-06\n",
      "  1.00414721e-06 1.00446434e-06 1.00421272e-06 1.00421554e-06\n",
      "  1.00414136e-06 1.00419573e-06 1.00420877e-06 1.00417554e-06\n",
      "  1.00413566e-06 1.00414649e-06 1.00416975e-06 1.00422425e-06\n",
      "  1.00419017e-06 1.00417315e-06 1.00420272e-06 1.00422373e-06\n",
      "  1.00422032e-06 1.00424657e-06]\n",
      " [1.00419577e-06 1.00416154e-06 1.00552023e-06 1.00413469e-06\n",
      "  1.00415131e-06 1.00414661e-06 1.00424421e-06 1.00436967e-06\n",
      "  1.00427680e-06 1.00413829e-06 1.00453924e-06 1.00414560e-06\n",
      "  1.00415689e-06 1.00425431e-06 1.00415754e-06 1.00420073e-06\n",
      "  1.00433966e-06 1.00425869e-06 1.00421946e-06 1.00420203e-06\n",
      "  1.00469005e-06 1.00445211e-06 1.00415646e-06 1.00419757e-06\n",
      "  1.00420054e-06 1.00414577e-06 1.00419717e-06 1.00510807e-06\n",
      "  1.00420964e-06 1.00420794e-06]\n",
      " [9.64006133e-07 9.63709712e-07 9.63702282e-07 9.63714766e-07\n",
      "  9.63724715e-07 9.63703680e-07 9.63714664e-07 9.63702212e-07\n",
      "  9.64044468e-07 9.63789655e-07 9.63718928e-07 9.63710941e-07\n",
      "  9.63705959e-07 9.63704386e-07 9.63715032e-07 9.63717371e-07\n",
      "  9.63714921e-07 9.63702273e-07 9.63711098e-07 9.63704953e-07\n",
      "  9.63703528e-07 9.63702385e-07 9.63702381e-07 9.63707820e-07\n",
      "  9.63702775e-07 9.63702382e-07 9.63702484e-07 9.63708609e-07\n",
      "  9.63702303e-07 9.63708227e-07]\n",
      " [9.63702171e-07 9.63702334e-07 9.63702859e-07 9.63702171e-07\n",
      "  9.63702172e-07 9.63702500e-07 9.63702183e-07 9.63702172e-07\n",
      "  9.63702171e-07 9.63702171e-07 9.63702172e-07 9.63704991e-07\n",
      "  9.63702171e-07 9.63702171e-07 9.63702196e-07 9.63702377e-07\n",
      "  9.63704234e-07 9.63702171e-07 9.63702174e-07 9.63702185e-07\n",
      "  9.63702171e-07 9.63710437e-07 9.63706373e-07 9.63705621e-07\n",
      "  9.63702171e-07 9.63706218e-07 9.63702171e-07 9.63702171e-07\n",
      "  9.63702555e-07 9.63702186e-07]\n",
      " [9.63714003e-07 9.63766536e-07 9.63708318e-07 9.63708458e-07\n",
      "  9.63731388e-07 9.63719619e-07 9.63712541e-07 9.63743173e-07\n",
      "  9.63703252e-07 9.63704393e-07 9.63718103e-07 9.63762687e-07\n",
      "  9.63735696e-07 9.63709147e-07 9.63702251e-07 9.63854993e-07\n",
      "  9.63703864e-07 9.63846940e-07 9.63714192e-07 9.64053149e-07\n",
      "  9.63702676e-07 9.63702479e-07 9.63702314e-07 9.63710869e-07\n",
      "  9.63707411e-07 9.63702275e-07 9.63714654e-07 9.63707154e-07\n",
      "  9.63710912e-07 9.63702401e-07]\n",
      " [9.63793457e-07 9.63733883e-07 9.63708631e-07 9.63709138e-07\n",
      "  9.63793443e-07 9.63711964e-07 9.63807322e-07 9.63732100e-07\n",
      "  9.63724701e-07 9.63729725e-07 9.63792757e-07 9.63836317e-07\n",
      "  9.63742116e-07 9.63731809e-07 9.63728150e-07 9.63827173e-07\n",
      "  9.63733944e-07 9.63816867e-07 9.63715612e-07 9.63727336e-07\n",
      "  9.63706270e-07 9.63744844e-07 9.63703202e-07 9.63724872e-07\n",
      "  9.63714741e-07 9.63791394e-07 9.63734145e-07 9.63737217e-07\n",
      "  9.63811054e-07 9.63739313e-07]\n",
      " [9.63864651e-07 9.64056517e-07 9.63769636e-07 9.63702755e-07\n",
      "  9.63714168e-07 9.63702428e-07 9.63703145e-07 9.64116642e-07\n",
      "  9.63818416e-07 9.63712746e-07 9.63816216e-07 9.63711684e-07\n",
      "  9.63713900e-07 9.63880490e-07 9.63703515e-07 9.63702252e-07\n",
      "  9.63955105e-07 9.63706796e-07 9.63829234e-07 9.63711828e-07\n",
      "  9.63702808e-07 9.63712710e-07 9.63805144e-07 9.63736420e-07\n",
      "  9.63703336e-07 9.63705663e-07 9.63702454e-07 9.63704554e-07\n",
      "  9.63704143e-07 9.63724582e-07]\n",
      " [1.05054437e-06 1.05054497e-06 1.05055404e-06 1.05055801e-06\n",
      "  1.05054478e-06 1.05058640e-06 1.05058203e-06 1.05054505e-06\n",
      "  1.05092668e-06 1.05055649e-06 1.05055606e-06 1.05054493e-06\n",
      "  1.05054474e-06 1.05054423e-06 1.05056609e-06 1.05062498e-06\n",
      "  1.05054540e-06 1.05056044e-06 1.05054472e-06 1.05073636e-06\n",
      "  1.05060599e-06 1.05055051e-06 1.05057169e-06 1.05054475e-06\n",
      "  1.05089389e-06 1.05056022e-06 1.05054528e-06 1.05054427e-06\n",
      "  1.05054741e-06 1.05054738e-06]\n",
      " [1.05054547e-06 1.05055304e-06 1.05054417e-06 1.05054418e-06\n",
      "  1.05055000e-06 1.05055192e-06 1.05054888e-06 1.05054525e-06\n",
      "  1.05054441e-06 1.05054417e-06 1.05054874e-06 1.05054708e-06\n",
      "  1.05069528e-06 1.05055041e-06 1.05054418e-06 1.05054425e-06\n",
      "  1.05055007e-06 1.05054417e-06 1.05054420e-06 1.05054421e-06\n",
      "  1.05054421e-06 1.05054417e-06 1.05054448e-06 1.05054984e-06\n",
      "  1.05054417e-06 1.05054417e-06 1.05054515e-06 1.05054522e-06\n",
      "  1.05054417e-06 1.05055199e-06]\n",
      " [1.05055750e-06 1.05055154e-06 1.05056253e-06 1.05055659e-06\n",
      "  1.05054582e-06 1.05055507e-06 1.05058215e-06 1.05057694e-06\n",
      "  1.05056932e-06 1.05056363e-06 1.05054557e-06 1.05054995e-06\n",
      "  1.05062193e-06 1.05061546e-06 1.05054558e-06 1.05058581e-06\n",
      "  1.05067419e-06 1.05057311e-06 1.05055432e-06 1.05055776e-06\n",
      "  1.05058458e-06 1.05056893e-06 1.05055019e-06 1.05056767e-06\n",
      "  1.05054474e-06 1.05056039e-06 1.05062679e-06 1.05062768e-06\n",
      "  1.05054490e-06 1.05062041e-06]\n",
      " [1.05062000e-06 1.05062051e-06 1.05062829e-06 1.05064598e-06\n",
      "  1.05056780e-06 1.05059651e-06 1.05072838e-06 1.05063228e-06\n",
      "  1.05056815e-06 1.05058116e-06 1.05060414e-06 1.05062011e-06\n",
      "  1.05064428e-06 1.05063116e-06 1.05061683e-06 1.05055826e-06\n",
      "  1.05055085e-06 1.05060039e-06 1.05062063e-06 1.05063140e-06\n",
      "  1.05062133e-06 1.05056954e-06 1.05063291e-06 1.05062258e-06\n",
      "  1.05062201e-06 1.05059113e-06 1.05136700e-06 1.05060559e-06\n",
      "  1.05073603e-06 1.05061339e-06]\n",
      " [1.05190967e-06 1.05068849e-06 1.05054470e-06 1.06829803e-06\n",
      "  1.05055043e-06 1.05070635e-06 1.05087138e-06 1.05083234e-06\n",
      "  1.05097822e-06 1.05057015e-06 1.05056174e-06 1.05054988e-06\n",
      "  1.05062906e-06 1.05064171e-06 1.05057424e-06 1.05067399e-06\n",
      "  1.05058654e-06 1.05054472e-06 1.05054774e-06 1.05091488e-06\n",
      "  1.05055783e-06 1.05233354e-06 1.05055056e-06 1.05065045e-06\n",
      "  1.05073261e-06 1.05062899e-06 1.05054446e-06 1.05054434e-06\n",
      "  1.05065405e-06 1.05056135e-06]]\n",
      "[[list([12, 1, 7]) list([3, 14, 24]) list([13, 26, 28]) list([5, 1])\n",
      "  list([5, 15, 30]) list([28, 26, 12]) list([6, 13]) list([16, 4, 6])\n",
      "  list([29, 26]) list([30, 29]) list([12, 21, 7]) list([21, 13, 7])\n",
      "  list([30, 27]) list([6, 1, 16]) list([22, 28, 10]) list([29, 32])\n",
      "  list([23, 30]) list([12, 1, 6]) list([27, 6, 23]) list([27, 13, 32])\n",
      "  list([15, 6]) list([2, 23, 12]) list([30, 29]) list([17, 23, 5])\n",
      "  list([28, 11, 5]) list([16, 5, 29]) list([6, 12, 24]) list([27, 13, 7])\n",
      "  list([26, 29]) list([11, 3, 28])]\n",
      " [list([12, 4]) list([12, 4]) list([27, 2, 13]) list([7, 16])\n",
      "  list([13, 2]) list([12, 2]) list([4, 7, 14]) list([28, 9, 25])\n",
      "  list([4, 2, 16]) list([4, 2, 12]) list([5, 16]) list([7, 12, 9])\n",
      "  list([12, 0, 5]) list([21, 4, 12]) list([2, 27, 6]) list([6, 12, 4])\n",
      "  list([1, 29, 23]) list([31, 20, 16]) list([1, 2, 0]) list([6, 2, 24])\n",
      "  list([2, 15]) list([10, 14, 7]) list([16, 27, 6]) list([14, 29, 6])\n",
      "  list([4, 15]) list([6, 16]) list([2, 27, 24]) list([1, 2])\n",
      "  list([3, 29, 14]) list([27, 6, 23])]\n",
      " [list([2, 29]) list([14, 6]) list([30, 29]) list([7, 12]) list([14, 5])\n",
      "  list([26, 27]) list([12, 4]) list([4, 12]) list([7, 13]) list([28, 5])\n",
      "  list([13, 4]) list([5, 14]) list([12, 5]) list([6, 14]) list([30, 1])\n",
      "  list([28, 32]) list([29, 3]) list([6, 16]) list([4, 13]) list([31, 28])\n",
      "  list([12, 6]) list([7, 15]) list([28, 25]) list([13, 6]) list([26, 29])\n",
      "  list([5, 12]) list([32, 27]) list([28, 31]) list([6, 13]) list([14, 2])]\n",
      " [list([26, 19, 29]) list([30, 15, 28]) list([29, 31, 22]) list([2, 28])\n",
      "  list([20, 6, 28]) list([5, 13]) list([32, 28, 27]) list([2, 28])\n",
      "  list([6, 29]) list([7, 12, 6]) list([4, 29, 26]) list([29, 11, 3])\n",
      "  list([5, 12]) list([28, 6]) list([26, 29]) list([5, 12, 27])\n",
      "  list([14, 12, 6]) list([12, 5]) list([5, 13]) list([28, 11, 5])\n",
      "  list([27, 6, 1]) list([5, 13]) list([4, 28]) list([23, 30, 29])\n",
      "  list([17, 24, 7]) list([30, 21, 28]) list([14, 4, 6]) list([3, 23, 17])\n",
      "  list([6, 28]) list([29, 30, 4])]\n",
      " [list([28, 5]) list([3, 28]) list([22, 20, 31]) list([30])\n",
      "  list([16, 32, 10]) list([14, 4]) list([4, 13]) list([32, 16])\n",
      "  list([14, 7]) list([25, 28, 13]) list([15, 22]) list([14, 4])\n",
      "  list([11, 27, 31]) list([13, 6]) list([12, 4]) list([27, 31])\n",
      "  list([3, 28, 24]) list([13, 3, 4]) list([15, 5, 12]) list([6, 12])\n",
      "  list([29, 16, 26]) list([5, 14]) list([4, 0]) list([17, 5, 30])\n",
      "  list([22, 12]) list([30]) list([7, 13]) list([27, 23, 30])\n",
      "  list([5, 14]) list([14, 5])]\n",
      " [list([27, 31]) list([28, 2, 26]) list([12, 5]) list([0, 30])\n",
      "  list([22, 29, 14]) list([7, 28]) list([6, 1, 27]) list([6, 2, 12])\n",
      "  list([12, 5]) list([13, 5]) list([30, 5]) list([22, 29, 26])\n",
      "  list([7, 4, 12]) list([27, 4]) list([27, 25]) list([15, 6])\n",
      "  list([14, 7, 4]) list([29, 13, 5]) list([6, 32, 20]) list([5, 27, 28])\n",
      "  list([2, 12]) list([12, 4]) list([27, 3, 29]) list([28, 25])\n",
      "  list([12, 7]) list([32, 19, 6]) list([2, 29]) list([6, 29, 31])\n",
      "  list([13, 1, 3]) list([5, 13])]\n",
      " [list([6, 28, 10]) list([29, 30]) list([16, 4, 0]) list([16, 7])\n",
      "  list([4, 14]) list([29, 22]) list([13, 2]) list([3, 16, 29])\n",
      "  list([2, 16]) list([1, 5, 17]) list([2, 20, 6]) list([16, 5])\n",
      "  list([30, 2]) list([4, 16]) list([6, 17]) list([6, 28])\n",
      "  list([19, 13, 31]) list([23, 6, 15]) list([30, 17, 2]) list([6, 16, 0])\n",
      "  list([17, 7, 4]) list([2, 4, 9]) list([12, 6, 1]) list([24, 17, 7])\n",
      "  list([18, 6, 5]) list([17, 7]) list([5, 16, 24]) list([30, 17, 4])\n",
      "  list([17, 3]) list([1, 23, 29])]\n",
      " [list([2, 1]) list([14, 3]) list([4, 29]) list([12, 7]) list([3, 28])\n",
      "  list([14, 7]) list([14, 4]) list([28, 26]) list([28, 6]) list([28, 2])\n",
      "  list([13, 6]) list([30, 2]) list([27, 32]) list([25, 28]) list([12, 4])\n",
      "  list([2, 27]) list([4, 13]) list([15, 3]) list([15, 6]) list([14, 5])\n",
      "  list([12, 6]) list([28, 4]) list([27, 6]) list([2, 27]) list([5, 12])\n",
      "  list([30, 29]) list([28, 3]) list([4, 15]) list([7, 14]) list([14, 4])]\n",
      " [list([13, 6, 22]) list([26, 2, 14]) list([14, 6, 30])\n",
      "  list([31, 29, 13]) list([14, 6, 5]) list([30, 4, 29]) list([29, 2])\n",
      "  list([12, 4]) list([12, 5]) list([29, 22]) list([7, 29, 14])\n",
      "  list([15, 2, 6]) list([6, 12, 26]) list([32, 16]) list([12, 4])\n",
      "  list([13, 5]) list([12, 1, 5]) list([28, 12, 5]) list([32, 28, 10])\n",
      "  list([29, 5, 30]) list([5, 12, 6]) list([23, 12, 2]) list([2, 29, 30])\n",
      "  list([28, 4]) list([30, 27, 2]) list([14, 5]) list([14, 2])\n",
      "  list([17, 23, 7]) list([29, 7]) list([14, 4])]\n",
      " [list([6, 13]) list([29, 6]) list([30, 3]) list([12, 5]) list([31, 29])\n",
      "  list([7, 14]) list([30, 2]) list([30, 23]) list([4, 15]) list([14, 6])\n",
      "  list([18, 25]) list([1, 27, 31]) list([32, 29]) list([31, 18])\n",
      "  list([28, 3, 6]) list([3, 0, 12]) list([1, 32]) list([2, 15])\n",
      "  list([25, 5, 27]) list([22, 27]) list([30]) list([4, 23])\n",
      "  list([2, 27, 12]) list([3, 15]) list([3, 13]) list([32, 27])\n",
      "  list([3, 13]) list([22, 23]) list([15, 2]) list([32, 16, 14])]\n",
      " [list([22, 13]) list([13, 7]) list([12, 2, 9]) list([25, 28])\n",
      "  list([27, 22]) list([5, 13]) list([29, 21, 25]) list([5, 9, 12])\n",
      "  list([18, 9, 25]) list([24, 1, 4]) list([29, 5, 21]) list([3, 23, 29])\n",
      "  list([28, 32, 31]) list([2, 28, 30]) list([28, 7, 30]) list([25, 27])\n",
      "  list([28, 31]) list([12, 5]) list([31, 27]) list([28, 30, 4])\n",
      "  list([29, 32, 30]) list([27, 6, 5]) list([6, 27, 4]) list([26, 29, 30])\n",
      "  list([2, 12, 27]) list([14, 5, 2]) list([14, 5]) list([26, 32, 27])\n",
      "  list([0, 4, 12]) list([28, 31, 18])]\n",
      " [list([4, 19, 5]) list([18, 29, 7]) list([15, 29, 32]) list([16, 4])\n",
      "  list([16, 4]) list([5, 14]) list([6, 12]) list([7, 17]) list([7, 16])\n",
      "  list([16, 5]) list([4, 17, 26]) list([13, 4]) list([4, 1, 16])\n",
      "  list([17, 6, 0]) list([12, 4]) list([15, 2]) list([15, 26, 4])\n",
      "  list([2, 16]) list([3, 17]) list([26, 5, 12]) list([12, 6, 17])\n",
      "  list([11, 19, 31]) list([31, 29]) list([25, 29, 32]) list([18, 7])\n",
      "  list([28, 32]) list([18, 7, 23]) list([6, 17]) list([15, 5])\n",
      "  list([12, 5])]\n",
      " [list([32, 28]) list([1, 2]) list([14, 6]) list([29, 32]) list([28, 25])\n",
      "  list([1, 6]) list([4, 28]) list([22, 28]) list([5, 13]) list([2, 12])\n",
      "  list([30, 28]) list([27, 30]) list([3, 12]) list([28, 2]) list([12, 4])\n",
      "  list([18, 32]) list([14, 4]) list([17, 5]) list([2, 23]) list([13, 30])\n",
      "  list([12, 4]) list([12, 5]) list([12, 5]) list([28, 2]) list([3, 28])\n",
      "  list([5, 12]) list([30, 28]) list([3, 28]) list([2, 29]) list([12, 2])]\n",
      " [list([14, 3]) list([12, 29, 7]) list([26, 5, 12]) list([5, 15, 4])\n",
      "  list([0, 5, 15]) list([3, 28, 14]) list([3, 17, 27]) list([2, 14, 23])\n",
      "  list([29, 25]) list([27, 31, 18]) list([6, 28]) list([12, 3])\n",
      "  list([26, 29, 24]) list([14, 2]) list([15, 6]) list([4, 13, 27])\n",
      "  list([4, 12]) list([32, 28, 10]) list([2, 12]) list([29, 30])\n",
      "  list([12, 2, 1]) list([14, 2]) list([1, 5, 12]) list([4, 12, 24])\n",
      "  list([3, 29, 11]) list([32, 30, 20]) list([14, 5]) list([10, 28, 22])\n",
      "  list([14, 2]) list([28, 2, 32])]\n",
      " [list([8, 29, 19]) list([32, 19]) list([22, 14]) list([29, 6, 16])\n",
      "  list([14, 3, 23]) list([1, 23, 2]) list([11, 4, 29]) list([16, 18, 25])\n",
      "  list([4, 9, 15]) list([4, 29]) list([30, 4]) list([27, 31, 0])\n",
      "  list([31, 30, 28]) list([24, 23, 29]) list([16, 28, 3]) list([6, 12])\n",
      "  list([18, 25, 2]) list([30, 29, 1]) list([7, 15]) list([27, 32])\n",
      "  list([30, 14, 6]) list([2, 27]) list([15, 6]) list([27, 2])\n",
      "  list([30, 2, 27]) list([5, 15]) list([2, 12]) list([15, 23, 3])\n",
      "  list([2, 14, 1]) list([22, 27])]\n",
      " [list([5, 30, 12]) list([4, 12]) list([14, 29, 7]) list([23, 29, 2])\n",
      "  list([7, 26, 12]) list([3, 14, 26]) list([5, 28]) list([2, 12])\n",
      "  list([27, 23]) list([5, 29, 10]) list([3, 28]) list([12, 4])\n",
      "  list([5, 1, 6]) list([12, 6, 5]) list([29, 2]) list([32, 29])\n",
      "  list([12, 6]) list([14, 4]) list([12, 6, 23]) list([4, 13])\n",
      "  list([32, 11, 14]) list([7, 14]) list([32, 27]) list([4, 12, 23])\n",
      "  list([25, 1, 21]) list([17, 31, 27]) list([5, 12]) list([30, 12, 4])\n",
      "  list([6, 13, 1]) list([27, 6, 30])]\n",
      " [list([4, 14]) list([28, 31]) list([17, 24, 7]) list([27, 6, 2])\n",
      "  list([22, 28, 30]) list([32, 29]) list([23, 30, 28]) list([4, 14])\n",
      "  list([14, 1, 2]) list([7, 16]) list([15, 6]) list([29, 32, 30])\n",
      "  list([32, 13]) list([29, 30]) list([17, 4, 26]) list([12, 5])\n",
      "  list([32, 28, 23]) list([5, 17]) list([2, 12]) list([12, 4])\n",
      "  list([12, 5]) list([16, 6]) list([17, 14, 5]) list([28, 30, 6])\n",
      "  list([0, 17, 6]) list([6, 16]) list([15, 5, 27]) list([27, 15, 5])\n",
      "  list([16, 4]) list([27, 26, 6])]\n",
      " [list([29, 3]) list([27, 2]) list([28, 3]) list([28, 3]) list([12, 4])\n",
      "  list([28, 3]) list([22, 29]) list([29, 22]) list([29, 26])\n",
      "  list([5, 28]) list([2, 12]) list([14, 7]) list([22, 29]) list([7, 15])\n",
      "  list([12, 4]) list([5, 27]) list([13, 4]) list([5, 14]) list([2, 27])\n",
      "  list([3, 28]) list([29, 31]) list([4, 14]) list([5, 12]) list([28, 2])\n",
      "  list([7, 12]) list([29, 2]) list([29, 25]) list([28, 30]) list([4, 12])\n",
      "  list([7, 14])]\n",
      " [list([29, 6, 30]) list([32, 28, 11]) list([29, 32]) list([28, 26, 23])\n",
      "  list([27, 4, 12]) list([29, 30, 31]) list([3, 15]) list([3, 23, 29])\n",
      "  list([12, 4, 23]) list([12, 7, 24]) list([13, 26, 29]) list([5, 14, 2])\n",
      "  list([28, 2]) list([10, 31, 28]) list([23, 6, 27]) list([5, 14, 4])\n",
      "  list([1, 5, 12]) list([24, 29, 4]) list([3, 28]) list([32, 29, 17])\n",
      "  list([6, 28]) list([13, 3, 29]) list([7, 13, 5]) list([12, 26, 6])\n",
      "  list([2, 29]) list([2, 27, 7]) list([24, 22, 20]) list([27, 31])\n",
      "  list([5, 15]) list([4, 29])]\n",
      " [list([8, 32, 19]) list([31, 20]) list([2, 12, 27]) list([27, 9, 11])\n",
      "  list([28, 9, 3]) list([4, 0, 15]) list([1, 22]) list([24, 6])\n",
      "  list([2, 25, 18]) list([29, 1, 6]) list([4, 28]) list([23, 15, 7])\n",
      "  list([15, 5]) list([13, 16, 32]) list([5, 28]) list([32, 16, 6])\n",
      "  list([31, 27]) list([0, 12, 5]) list([7, 14, 30]) list([31, 6, 17])\n",
      "  list([18, 2, 32]) list([4, 0]) list([27, 6]) list([1, 23, 30])\n",
      "  list([13, 17, 5]) list([32, 17, 14]) list([12, 7]) list([12, 5])\n",
      "  list([4, 30]) list([24, 29, 26])]]\n"
     ]
    }
   ],
   "source": [
    "import glob\n",
    "import os\n",
    "import json\n",
    "import numpy as np\n",
    "import matplotlib.pyplot as plt\n",
    "\n",
    "folderO=['data_files/raw/' + filename for filename \\\n",
    "                  in os.listdir('data_files/raw/') if filename.startswith(\"MC_results2_\")]\n",
    "perf4=np.empty([20,30])\n",
    "comb4=np.empty([20,30],dtype=object)\n",
    "file_type = r'\\*json'\n",
    "row=0\n",
    "for folder in folderO:\n",
    "    folderI=[folder + '/' + filename for filename \\\n",
    "                  in os.listdir(folder) ]\n",
    "    column=0\n",
    "    print(folder)\n",
    "    for folder2 in folderI:\n",
    "        #print(folder2)\n",
    "        list_of_files = glob.glob(folder2 + file_type)\n",
    "        #print(list_of_files)\n",
    "        latest_file = max(list_of_files, key=os.path.getmtime)\n",
    "        #print(latest_file)\n",
    "        with open(latest_file) as json_file:\n",
    "            data = json.load(json_file)\n",
    "            perf4[row,column]=data['performance']\n",
    "            comb4[row,column]=data['encoded_solution']\n",
    "        column=column+1\n",
    "    row=row+1\n",
    "\n",
    "# Creating plot\n",
    "#plt.boxplot(vec)\n",
    "\n",
    "# show plot\n",
    "#plt.show()\n",
    "print(perf4)\n",
    "print(comb4)"
   ],
   "metadata": {
    "collapsed": false,
    "pycharm": {
     "name": "#%%\n"
    }
   }
  },
  {
   "cell_type": "code",
   "execution_count": 6,
   "outputs": [
    {
     "data": {
      "text/plain": "<Figure size 1080x1080 with 4 Axes>",
      "image/png": "[encoded data removed]"
     },
     "metadata": {
      "needs_background": "light"
     },
     "output_type": "display_data"
    }
   ],
   "source": [
    "C_A=[perf4[0,:],perf4[1,:],perf4[2,:],perf4[3,:],perf4[4,:]]\n",
    "C_W=[perf4[5,:],perf4[6,:],perf4[7,:],perf4[8,:],perf4[9,:]]\n",
    "G_A=[perf4[10,:],perf4[11,:],perf4[12,:],perf4[13,:],perf4[14,:]]\n",
    "G_W=[perf4[15,:],perf4[16,:],perf4[17,:],perf4[18,:],perf4[19,:]]\n",
    "\n",
    "\n",
    "#labels = ['Default', '50 Agents', 'Cardinality 2', '50 Iterations', '10 Stagnation']\n",
    "labels = ['Default', 'Config 1', 'Config 2', 'Config 3', 'Config 4']\n",
    "\n",
    "fig = plt.figure(figsize =(15, 15))\n",
    "ax1 =fig.add_subplot(2,2,1)\n",
    "plt.boxplot(C_A)\n",
    "plt.title(\"Copper-Air\")\n",
    "plt.ylabel(\"Evaluation Metric\")\n",
    "plt.xlabel(\"Experiment Configuration\")\n",
    "#plt.yscale(\"log\")\n",
    "plt.xticks([1, 2, 3, 4, 5], labels)\n",
    "ax2 =fig.add_subplot(2,2,2)\n",
    "plt.boxplot(C_W)\n",
    "plt.title(\"Copper-Water\")\n",
    "plt.ylabel(\"Evaluation Metric\")\n",
    "plt.xlabel(\"Experiment Configuration\")\n",
    "#plt.yscale(\"log\")\n",
    "plt.xticks([1, 2, 3, 4, 5], labels)\n",
    "ax3 =fig.add_subplot(2,2,3)\n",
    "plt.boxplot(G_A)\n",
    "plt.title(\"Graphite-Air\")\n",
    "plt.ylabel(\"Evaluation Metric\")\n",
    "plt.xlabel(\"Experiment Configuration\")\n",
    "#plt.yscale(\"log\")\n",
    "plt.xticks([1, 2, 3, 4, 5], labels)\n",
    "ax4 =fig.add_subplot(2,2,4)\n",
    "plt.boxplot(G_W)\n",
    "plt.title(\"Graphite-Water\")\n",
    "plt.ylabel(\"Evaluation Metric\")\n",
    "plt.xlabel(\"Experiment Configuration\")\n",
    "#plt.yscale(\"log\")\n",
    "plt.xticks([1, 2, 3, 4, 5], labels)\n",
    "plt.gcf()\n",
    "plt.savefig('resultsHH2.jpg')\n",
    "plt.show()\n"
   ],
   "metadata": {
    "collapsed": false,
    "pycharm": {
     "name": "#%%\n"
    }
   }
  },
  {
   "cell_type": "code",
   "execution_count": 7,
   "outputs": [],
   "source": [
    "dat = np.array([C_A,C_W,G_A,G_W])\n",
    "np.save('data_memo_2',dat)"
   ],
   "metadata": {
    "collapsed": false,
    "pycharm": {
     "name": "#%%\n"
    }
   }
  },
  {
   "cell_type": "code",
   "execution_count": 8,
   "outputs": [
    {
     "name": "stdout",
     "output_type": "stream",
     "text": [
      "[[23.  8. 20. 15. 14. 25. 10. 14. 20.  3.  7.  0. 14. 22. 15. 13. 25. 24.\n",
      "  16. 27.]]\n"
     ]
    }
   ],
   "source": [
    "index4=np.empty([1,20])\n",
    "operators4=np.empty([1,20])\n",
    "for i in range(0,20):\n",
    "    y=perf4[i,:]\n",
    "    x=np.argmin(y)\n",
    "    index4[0,i]=x\n",
    "print(index4)"
   ],
   "metadata": {
    "collapsed": false,
    "pycharm": {
     "name": "#%%\n"
    }
   }
  },
  {
   "cell_type": "code",
   "execution_count": 9,
   "outputs": [
    {
     "data": {
      "text/plain": "[[17, 23, 5],\n [4, 2, 16],\n [12, 6],\n [5, 12, 27],\n [12, 4],\n [32, 19, 6],\n [2, 20, 6],\n [12, 4],\n [5, 12, 6],\n [12, 5],\n [5, 9, 12],\n [4, 19, 5],\n [12, 4],\n [1, 5, 12],\n [6, 12],\n [12, 6, 5],\n [6, 16],\n [7, 12],\n [1, 5, 12],\n [12, 5]]"
     },
     "execution_count": 9,
     "metadata": {},
     "output_type": "execute_result"
    }
   ],
   "source": [
    "ind_best_perf = np.argmin(perf4, axis=1)\n",
    "best_mhs = [comb4[row, col] for row, col in enumerate(ind_best_perf)]\n",
    "best_mhs"
   ],
   "metadata": {
    "collapsed": false,
    "pycharm": {
     "name": "#%%\n"
    }
   }
  },
  {
   "cell_type": "code",
   "execution_count": 10,
   "outputs": [
    {
     "data": {
      "text/plain": "[1.0260452033256996e-06,\n 1.0260404063336709e-06,\n 1.0260453674312521e-06,\n 1.0260463784728395e-06,\n 1.0260454424706033e-06,\n 1.0041345249585162e-06,\n 1.004134524569563e-06,\n 1.0041346489208512e-06,\n 1.0041356615493211e-06,\n 1.0041346855271984e-06,\n 9.637022116004045e-07,\n 9.637021709833021e-07,\n 9.637022511554195e-07,\n 9.637032017646353e-07,\n 9.637022521742962e-07,\n 1.0505442296140813e-06,\n 1.0505441696477758e-06,\n 1.0505447440545939e-06,\n 1.0505508494285655e-06,\n 1.050544339739786e-06]"
     },
     "execution_count": 10,
     "metadata": {},
     "output_type": "execute_result"
    }
   ],
   "source": [
    "ind_best_perf = np.argmin(perf4, axis=1)\n",
    "best_mhs = [perf4[row, col] for row, col in enumerate(ind_best_perf)]\n",
    "best_mhs"
   ],
   "metadata": {
    "collapsed": false,
    "pycharm": {
     "name": "#%%\n"
    }
   }
  },
  {
   "cell_type": "code",
   "execution_count": 11,
   "outputs": [
    {
     "name": "stdout",
     "output_type": "stream",
     "text": [
      "[12  1  7 ... 24 29 26]\n"
     ]
    }
   ],
   "source": [
    "ac_tot=[]\n",
    "\n",
    "for y in range(0,len(comb4)):\n",
    "    arr_tot= np.array(comb4[y], dtype=object)\n",
    "    for i in range(0,len(arr_tot)):\n",
    "        w_tot=np.array(arr_tot[i])\n",
    "        for z in range(0,len(w_tot)):\n",
    "            ac_tot.append(w_tot[z])\n",
    "\n",
    "ac_tot=np.array(ac_tot)\n",
    "print(ac_tot)"
   ],
   "metadata": {
    "collapsed": false,
    "pycharm": {
     "name": "#%%\n"
    }
   }
  },
  {
   "cell_type": "code",
   "execution_count": 12,
   "outputs": [
    {
     "name": "stdout",
     "output_type": "stream",
     "text": [
      "['0', '1', '2', '3', '4', '5', '6', '7', '8', '9', '10', '11', '12', '13', '14', '15', '16', '17', '18', '19', '20', '21', '22', '23', '24', '25', '26', '27', '28', '29', '30', '31', '32']\n",
      "[0, 1, 2, 3, 4, 5, 6, 7, 8, 9, 10, 11, 12, 13, 14, 15, 16, 17, 18, 19, 20, 21, 22, 23, 24, 25, 26, 27, 28, 29, 30, 31, 32]\n",
      "[15, 35, 87, 48, 96, 98, 95, 54, 2, 9, 9, 11, 110, 50, 70, 39, 38, 31, 14, 8, 8, 7, 24, 36, 18, 20, 31, 69, 90, 95, 62, 32, 45]\n"
     ]
    }
   ],
   "source": [
    "sorted=np.sort(ac_tot);\n",
    "num=[];\n",
    "num2=[];\n",
    "frec=[];\n",
    "ind=[];\n",
    "count=0;\n",
    "while len(sorted)>0:\n",
    "    num.append(str(sorted[0]))\n",
    "    num2.append(sorted[0])\n",
    "    cand=sorted[0]\n",
    "    for i in range(0,len(sorted)):\n",
    "        if cand == sorted[i]:\n",
    "            count=count+1\n",
    "            ind.append(i)\n",
    "    frec.append(count)\n",
    "    count=0\n",
    "    sorted=np.delete(sorted,ind)\n",
    "    ind=[];\n",
    "print(num)\n",
    "print(num2)\n",
    "print(frec)"
   ],
   "metadata": {
    "collapsed": false,
    "pycharm": {
     "name": "#%%\n"
    }
   }
  },
  {
   "cell_type": "code",
   "execution_count": 13,
   "outputs": [
    {
     "data": {
      "text/plain": "array([  2,   7,   8,   8,   9,   9,  11,  14,  15,  18,  20,  24,  31,\n        31,  32,  35,  36,  38,  39,  45,  48,  50,  54,  62,  69,  70,\n        87,  90,  95,  95,  96,  98, 110])"
     },
     "execution_count": 13,
     "metadata": {},
     "output_type": "execute_result"
    }
   ],
   "source": [
    "np.sort(frec)"
   ],
   "metadata": {
    "collapsed": false,
    "pycharm": {
     "name": "#%%\n"
    }
   }
  },
  {
   "cell_type": "code",
   "execution_count": 14,
   "outputs": [
    {
     "name": "stdout",
     "output_type": "stream",
     "text": [
      "[33, 35, 480, 9, 395, 24, 36, 444]\n",
      "['Random Search', 'Central Force Dynamic', 'differential mutation', 'Firefly Dynamic', 'genetic crossover', 'random flight', 'Local Random Walk', 'swarm dynamic']\n"
     ]
    }
   ],
   "source": [
    "fam=['Random Search','Central Force Dynamic','differential mutation','Firefly Dynamic','genetic crossover','random flight','Local Random Walk','swarm dynamic']\n",
    "frec2=[0,0,0,0,0,0,0,0]\n",
    "for i in range(0,len(num2)):\n",
    "    if num2[i] == 0 or num2[i] == 24:\n",
    "        frec2[0]= frec2[0] + frec[i]\n",
    "    elif num2[i] == 1:\n",
    "        frec2[1]= frec2[1] + frec[i]\n",
    "    elif num2[i] >= 2 and num2[i] <= 8:\n",
    "        frec2[2]= frec2[2] + frec[i]\n",
    "    elif num2[i] == 9:\n",
    "        frec2[3]= frec2[3] + frec[i]\n",
    "    elif num2[i] >= 10 and num2[i] <= 21:\n",
    "        frec2[4]= frec2[4] + frec[i]\n",
    "    elif num2[i] == 22:\n",
    "        frec2[5]= frec2[5] + frec[i]\n",
    "    elif num2[i] == 23:\n",
    "        frec2[6]= frec2[6] + frec[i]\n",
    "    elif num2[i] >= 25 and num2[i] <= 32:\n",
    "        frec2[7]= frec2[7] + frec[i]\n",
    "\n",
    "print(frec2)\n",
    "print(fam)"
   ],
   "metadata": {
    "collapsed": false,
    "pycharm": {
     "name": "#%%\n"
    }
   }
  },
  {
   "cell_type": "code",
   "execution_count": 69,
   "outputs": [
    {
     "data": {
      "text/plain": "<Figure size 3600x900 with 1 Axes>",
      "image/png": "[encoded data removed]"
     },
     "metadata": {
      "needs_background": "light"
     },
     "output_type": "display_data"
    }
   ],
   "source": [
    "from matplotlib.pyplot import figure\n",
    "plt.rcParams.update({'font.size': 18})\n",
    "figure(figsize=(12, 3), dpi=300)\n",
    "plt.bar(num, frec, color ='maroon',\n",
    "        width = 0.4)\n",
    "plt.xticks(range(len(num)), num, rotation='vertical')\n",
    "plt.xlabel(u'h\\u2096', fontstyle='italic')\n",
    "plt.ylabel(\"Frequency\")\n",
    "plt.savefig('resultsBG5.jpg',bbox_inches=\"tight\")\n",
    "plt.show()"
   ],
   "metadata": {
    "collapsed": false,
    "pycharm": {
     "name": "#%%\n"
    }
   }
  },
  {
   "cell_type": "code",
   "execution_count": null,
   "outputs": [],
   "source": [
    "plt.rcParams.update({'font.size': 18})\n",
    "# Plot the data\n",
    "fig=plt.bar(num, frec, color ='maroon',\n",
    "        width = 0.4)\n",
    "\n",
    "# Adjust the layout to avoid cuts\n",
    "fig.tight_layout()\n",
    "\n",
    "# Save the plot to a file\n",
    "fig.savefig('plot.png', dpi=100)"
   ],
   "metadata": {
    "collapsed": false,
    "pycharm": {
     "name": "#%%\n"
    }
   }
  },
  {
   "cell_type": "code",
   "execution_count": 1,
   "outputs": [
    {
     "name": "stdout",
     "output_type": "stream",
     "text": [
      "data_files/raw/MC_results3_Aluminium_Water\n",
      "data_files/raw/MC_results3_Aluminium_Water_Ag_50\n",
      "data_files/raw/MC_results3_Aluminium_Water_Card_2\n",
      "data_files/raw/MC_results3_Aluminium_Water_It_50\n",
      "data_files/raw/MC_results3_Aluminium_Water_Stag_10\n",
      "data_files/raw/MC_results3_Copper_Water\n",
      "data_files/raw/MC_results3_Copper_Water_Ag_50\n",
      "data_files/raw/MC_results3_Copper_Water_Card_2\n",
      "data_files/raw/MC_results3_Copper_Water_It_50\n",
      "data_files/raw/MC_results3_Copper_Water_Stag_10\n",
      "data_files/raw/MC_results3_Graphite_Water\n",
      "data_files/raw/MC_results3_Graphite_Water_Ag_50\n",
      "data_files/raw/MC_results3_Graphite_Water_Card_2\n",
      "data_files/raw/MC_results3_Graphite_Water_It_50\n",
      "data_files/raw/MC_results3_Graphite_Water_Stag_10\n",
      "data_files/raw/MC_results3_Silicon_Water\n",
      "data_files/raw/MC_results3_Silicon_Water_Ag_50\n",
      "data_files/raw/MC_results3_Silicon_Water_Card_2\n",
      "data_files/raw/MC_results3_Silicon_Water_It_50\n",
      "data_files/raw/MC_results3_Silicon_Water_Stag_10\n",
      "[[1.02604554e-06 1.02605127e-06 1.02604521e-06 1.02604977e-06\n",
      "  1.02604594e-06 1.02604709e-06 1.02604957e-06 1.02604574e-06\n",
      "  1.02604521e-06 1.02604747e-06 1.02605047e-06 1.02604568e-06\n",
      "  1.02606242e-06 1.02604589e-06 1.02605084e-06 1.02604522e-06\n",
      "  1.02604527e-06 1.02604523e-06 1.02604751e-06 1.02604997e-06\n",
      "  1.02604531e-06 1.02604521e-06 1.02604788e-06 1.02604547e-06\n",
      "  1.02604413e-06 1.02604998e-06 1.02604569e-06 1.02604554e-06\n",
      "  1.02604522e-06 1.02604568e-06]\n",
      " [1.02604131e-06 1.02604041e-06 1.02604047e-06 1.02604042e-06\n",
      "  1.02604043e-06 1.02604587e-06 1.02604234e-06 1.02604055e-06\n",
      "  1.02604528e-06 1.02604049e-06 1.02604041e-06 1.02604042e-06\n",
      "  1.02604468e-06 1.02604244e-06 1.02604583e-06 1.02604080e-06\n",
      "  1.02604044e-06 1.02604041e-06 1.02604523e-06 1.02604059e-06\n",
      "  1.02604099e-06 1.02604522e-06 1.02604057e-06 1.02604175e-06\n",
      "  1.02604041e-06 1.02604051e-06 1.02604323e-06 1.02604164e-06\n",
      "  1.02604068e-06 1.02604364e-06]\n",
      " [1.02604564e-06 1.02605254e-06 1.02604538e-06 1.02604864e-06\n",
      "  1.02604581e-06 1.02605126e-06 1.02604981e-06 1.02604792e-06\n",
      "  1.02604826e-06 1.02604541e-06 1.02605250e-06 1.02604823e-06\n",
      "  1.02604774e-06 1.02604528e-06 1.02604970e-06 1.02604534e-06\n",
      "  1.02604534e-06 1.02605614e-06 1.02604527e-06 1.02604997e-06\n",
      "  1.02605590e-06 1.02604810e-06 1.02604558e-06 1.02604542e-06\n",
      "  1.02604945e-06 1.02604980e-06 1.02604531e-06 1.02604601e-06\n",
      "  1.02605011e-06 1.02604568e-06]\n",
      " [1.02605822e-06 1.02605318e-06 1.02604985e-06 1.02604922e-06\n",
      "  1.02605203e-06 1.02605588e-06 1.02604752e-06 1.02604949e-06\n",
      "  1.02605353e-06 1.02604998e-06 1.02605724e-06 1.02605292e-06\n",
      "  1.02607160e-06 1.02605742e-06 1.02604613e-06 1.02605674e-06\n",
      "  1.02604838e-06 1.02605524e-06 1.02604952e-06 1.02606071e-06\n",
      "  1.02605513e-06 1.02604965e-06 1.02605181e-06 1.02605408e-06\n",
      "  1.02605410e-06 1.02604843e-06 1.02605053e-06 1.02605591e-06\n",
      "  1.02605003e-06 1.02605004e-06]\n",
      " [1.02605656e-06 1.02605847e-06 1.02605108e-06 1.02604698e-06\n",
      "  1.02605657e-06 1.02605049e-06 1.02604794e-06 1.02604990e-06\n",
      "  1.02605062e-06 1.02605014e-06 1.02605293e-06 1.02604588e-06\n",
      "  1.02604928e-06 1.02604597e-06 1.02604584e-06 1.02604985e-06\n",
      "  1.02605003e-06 1.02604543e-06 1.02605003e-06 1.02605004e-06\n",
      "  1.02605032e-06 1.02604773e-06 1.02604555e-06 1.02604960e-06\n",
      "  1.02605006e-06 1.02604606e-06 1.02604170e-06 1.02604533e-06\n",
      "  1.02605056e-06 1.02605884e-06]\n",
      " [1.00413502e-06 1.00413489e-06 1.00413619e-06 1.00413463e-06\n",
      "  1.00414508e-06 1.00413462e-06 1.00414521e-06 1.00413533e-06\n",
      "  1.00414514e-06 1.00414207e-06 1.00413473e-06 1.00413465e-06\n",
      "  1.00413488e-06 1.00413718e-06 1.00413626e-06 1.00413493e-06\n",
      "  1.00413629e-06 1.00414094e-06 1.00414933e-06 1.00413601e-06\n",
      "  1.00413458e-06 1.00414222e-06 1.00413482e-06 1.00413474e-06\n",
      "  1.00413711e-06 1.00415159e-06 1.00413531e-06 1.00413463e-06\n",
      "  1.00414668e-06 1.00415042e-06]\n",
      " [1.00413453e-06 1.00413458e-06 1.00413461e-06 1.00413456e-06\n",
      "  1.00413454e-06 1.00413453e-06 1.00413455e-06 1.00413519e-06\n",
      "  1.00413452e-06 1.00413459e-06 1.00413457e-06 1.00413453e-06\n",
      "  1.00413460e-06 1.00413492e-06 1.00413453e-06 1.00413454e-06\n",
      "  1.00413458e-06 1.00413455e-06 1.00413468e-06 1.00413536e-06\n",
      "  1.00413454e-06 1.00413453e-06 1.00413453e-06 1.00413517e-06\n",
      "  1.00413453e-06 1.00413455e-06 1.00413455e-06 1.00413463e-06\n",
      "  1.00413453e-06 1.00413457e-06]\n",
      " [1.00413470e-06 1.00413464e-06 1.00413514e-06 1.00413479e-06\n",
      "  1.00413990e-06 1.00414838e-06 1.00415287e-06 1.00413504e-06\n",
      "  1.00413469e-06 1.00413975e-06 1.00415426e-06 1.00414595e-06\n",
      "  1.00415835e-06 1.00414468e-06 1.00413470e-06 1.00413538e-06\n",
      "  1.00414617e-06 1.00413499e-06 1.00413504e-06 1.00418461e-06\n",
      "  1.00414485e-06 1.00415675e-06 1.00413640e-06 1.00414307e-06\n",
      "  1.00415217e-06 1.00414455e-06 1.00413542e-06 1.00413509e-06\n",
      "  1.00414182e-06 1.00416703e-06]\n",
      " [1.00413852e-06 1.00413541e-06 1.00414445e-06 1.00418096e-06\n",
      "  1.00413619e-06 1.00421830e-06 1.00414303e-06 1.00419133e-06\n",
      "  1.00415798e-06 1.00416421e-06 1.00420122e-06 1.00418555e-06\n",
      "  1.00415170e-06 1.00413783e-06 1.00413744e-06 1.00415098e-06\n",
      "  1.00416051e-06 1.00413655e-06 1.00418441e-06 1.00416570e-06\n",
      "  1.00413753e-06 1.00415244e-06 1.00413598e-06 1.00413927e-06\n",
      "  1.00413618e-06 1.00413882e-06 1.00415564e-06 1.00415617e-06\n",
      "  1.00417505e-06 1.00417237e-06]\n",
      " [1.00413563e-06 1.00413455e-06 1.00414016e-06 1.00413636e-06\n",
      "  1.00413462e-06 1.00413720e-06 1.00420187e-06 1.00413457e-06\n",
      "  1.00414509e-06 1.00413504e-06 1.00414514e-06 1.00415281e-06\n",
      "  1.00414993e-06 1.00413556e-06 1.00419420e-06 1.00414255e-06\n",
      "  1.00413473e-06 1.00415248e-06 1.00415351e-06 1.00414910e-06\n",
      "  1.00413848e-06 1.00416250e-06 1.00422239e-06 1.00413788e-06\n",
      "  1.00413695e-06 1.00413549e-06 1.00413479e-06 1.00413526e-06\n",
      "  1.00414744e-06 1.00415390e-06]\n",
      " [9.63702185e-07 9.63702486e-07 9.63702260e-07 9.63702574e-07\n",
      "  9.63702714e-07 9.63702259e-07 9.63702173e-07 9.63702431e-07\n",
      "  9.63702274e-07 9.63702262e-07 9.63702177e-07 9.63702570e-07\n",
      "  9.63702333e-07 9.63703335e-07 9.63702211e-07 9.63702184e-07\n",
      "  9.63703098e-07 9.63702344e-07 9.63702352e-07 9.63702590e-07\n",
      "  9.63702445e-07 9.63702185e-07 9.63702391e-07 9.63702254e-07\n",
      "  9.63702737e-07 9.63702230e-07 9.63702178e-07 9.63702214e-07\n",
      "  9.63702284e-07 9.63702893e-07]\n",
      " [9.63702179e-07 9.63702202e-07 9.63702176e-07 9.63702407e-07\n",
      "  9.63702185e-07 9.63702203e-07 9.63702216e-07 9.63702172e-07\n",
      "  9.63702179e-07 9.63702581e-07 9.63702181e-07 9.63702171e-07\n",
      "  9.63702188e-07 9.63702201e-07 9.63702177e-07 9.63702171e-07\n",
      "  9.63702172e-07 9.63702171e-07 9.63702171e-07 9.63702181e-07\n",
      "  9.63702219e-07 9.63702178e-07 9.63702173e-07 9.63702173e-07\n",
      "  9.63702179e-07 9.63702199e-07 9.63702258e-07 9.63702185e-07\n",
      "  9.63703272e-07 9.63702285e-07]\n",
      " [9.63707077e-07 9.63702220e-07 9.63703870e-07 9.63702379e-07\n",
      "  9.63702231e-07 9.63702374e-07 9.63702643e-07 9.63705103e-07\n",
      "  9.63702235e-07 9.63704734e-07 9.63703233e-07 9.63702325e-07\n",
      "  9.63702326e-07 9.63702557e-07 9.63702721e-07 9.63703078e-07\n",
      "  9.63703613e-07 9.63702208e-07 9.63702273e-07 9.63702508e-07\n",
      "  9.63702230e-07 9.63702558e-07 9.63705676e-07 9.63702823e-07\n",
      "  9.63703736e-07 9.63703316e-07 9.63702257e-07 9.63705152e-07\n",
      "  9.63702372e-07 9.63706296e-07]\n",
      " [9.63732104e-07 9.63702886e-07 9.63705073e-07 9.63710837e-07\n",
      "  9.63728857e-07 9.63741622e-07 9.63702932e-07 9.63704271e-07\n",
      "  9.63710496e-07 9.63703727e-07 9.63706847e-07 9.63703975e-07\n",
      "  9.63727288e-07 9.63719924e-07 9.63715761e-07 9.63727312e-07\n",
      "  9.63704434e-07 9.63703324e-07 9.63708075e-07 9.63703960e-07\n",
      "  9.63715046e-07 9.63725948e-07 9.63706392e-07 9.63705072e-07\n",
      "  9.63713180e-07 9.63733754e-07 9.63705522e-07 9.63707094e-07\n",
      "  9.63720475e-07 9.63710071e-07]\n",
      " [9.63729291e-07 9.63725372e-07 9.63704552e-07 9.63702194e-07\n",
      "  9.63709191e-07 9.63710381e-07 9.63702247e-07 9.63702236e-07\n",
      "  9.63702172e-07 9.63704287e-07 9.63702987e-07 9.63702228e-07\n",
      "  9.63805433e-07 9.63702192e-07 9.63717440e-07 9.63723926e-07\n",
      "  9.63702176e-07 9.63709908e-07 9.63702587e-07 9.63713296e-07\n",
      "  9.63703165e-07 9.65664890e-07 9.63702956e-07 9.63702417e-07\n",
      "  9.63702246e-07 9.63702214e-07 9.63707155e-07 9.63702740e-07\n",
      "  9.63702176e-07 9.63703960e-07]\n",
      " [1.05054585e-06 1.05055189e-06 1.05054440e-06 1.05054578e-06\n",
      "  1.05054434e-06 1.05054419e-06 1.05054676e-06 1.05054538e-06\n",
      "  1.05054549e-06 1.05054441e-06 1.05054699e-06 1.05054456e-06\n",
      "  1.05054602e-06 1.05054438e-06 1.05054568e-06 1.05054675e-06\n",
      "  1.05054434e-06 1.05054460e-06 1.05055033e-06 1.05054462e-06\n",
      "  1.05054463e-06 1.05054498e-06 1.05054663e-06 1.05054461e-06\n",
      "  1.05054461e-06 1.05054568e-06 1.05056677e-06 1.05054484e-06\n",
      "  1.05054514e-06 1.05054434e-06]\n",
      " [1.05054623e-06 1.05054419e-06 1.05054418e-06 1.05054420e-06\n",
      "  1.05054467e-06 1.05054421e-06 1.05054420e-06 1.05054508e-06\n",
      "  1.05054417e-06 1.05054434e-06 1.05054456e-06 1.05054420e-06\n",
      "  1.05054419e-06 1.05054421e-06 1.05054420e-06 1.05054419e-06\n",
      "  1.05054417e-06 1.05054418e-06 1.05054421e-06 1.05054426e-06\n",
      "  1.05054438e-06 1.05054419e-06 1.05054417e-06 1.05054427e-06\n",
      "  1.05054431e-06 1.05054417e-06 1.05054417e-06 1.05054420e-06\n",
      "  1.05054417e-06 1.05054430e-06]\n",
      " [1.05054448e-06 1.05054419e-06 1.05056064e-06 1.05054613e-06\n",
      "  1.05054640e-06 1.05054435e-06 1.05056788e-06 1.05054695e-06\n",
      "  1.05054419e-06 1.05054580e-06 1.05054585e-06 1.05055224e-06\n",
      "  1.05054650e-06 1.05054639e-06 1.05054446e-06 1.05055827e-06\n",
      "  1.05054418e-06 1.05056644e-06 1.05054845e-06 1.05055956e-06\n",
      "  1.05054823e-06 1.05054861e-06 1.05055059e-06 1.05054438e-06\n",
      "  1.05054438e-06 1.05055800e-06 1.05054455e-06 1.05055418e-06\n",
      "  1.05057127e-06 1.05055538e-06]\n",
      " [1.05054592e-06 1.05057539e-06 1.05054573e-06 1.05055155e-06\n",
      "  1.05057724e-06 1.05063376e-06 1.05061721e-06 1.05062126e-06\n",
      "  1.05062514e-06 1.05057340e-06 1.05054840e-06 1.05062848e-06\n",
      "  1.05061191e-06 1.05055935e-06 1.05057127e-06 1.05055864e-06\n",
      "  1.05060187e-06 1.05055207e-06 1.05059504e-06 1.05061696e-06\n",
      "  1.05055490e-06 1.05055980e-06 1.05061081e-06 1.05055622e-06\n",
      "  1.05055486e-06 1.05062416e-06 1.05055582e-06 1.05054579e-06\n",
      "  1.05057139e-06 1.05056817e-06]\n",
      " [1.05058600e-06 1.05055318e-06 1.05065905e-06 1.05061904e-06\n",
      "  1.05056469e-06 1.05054623e-06 1.05054892e-06 1.05056063e-06\n",
      "  1.05054420e-06 1.05054675e-06 1.05056216e-06 1.05059907e-06\n",
      "  1.05054913e-06 1.05054582e-06 1.05056406e-06 1.05055120e-06\n",
      "  1.05055279e-06 1.05061116e-06 1.05054500e-06 1.05054462e-06\n",
      "  1.05054805e-06 1.05061755e-06 1.05056517e-06 1.05056390e-06\n",
      "  1.05056971e-06 1.05055004e-06 1.05054419e-06 1.05054451e-06\n",
      "  1.05056857e-06 1.05056757e-06]]\n",
      "[[list([6, 0]) list([10, 11, 1]) list([6, 2, 3]) list([8, 2])\n",
      "  list([5, 7, 8]) list([0, 8, 12]) list([11, 2, 7]) list([3, 8, 12])\n",
      "  list([4, 6, 2]) list([7, 3]) list([0, 2, 8]) list([4, 11, 7])\n",
      "  list([3, 10]) list([3, 8, 12]) list([12, 5, 10]) list([5, 4, 6])\n",
      "  list([5, 6, 12]) list([6, 2, 4]) list([2, 8]) list([7, 1, 11])\n",
      "  list([6, 3, 12]) list([5, 6, 2]) list([3, 8]) list([5, 6])\n",
      "  list([2, 5, 6]) list([7, 1]) list([5, 6]) list([6, 4]) list([6, 3, 0])\n",
      "  list([6, 3])]\n",
      " [list([6, 5]) list([0, 2, 6]) list([0, 6]) list([2, 5, 6])\n",
      "  list([6, 5, 3]) list([8, 1, 10]) list([6, 5]) list([2, 6])\n",
      "  list([5, 12, 6]) list([3, 6]) list([3, 0, 6]) list([5, 6, 4])\n",
      "  list([0, 7, 3]) list([0, 6]) list([4, 7]) list([6, 3]) list([6, 4])\n",
      "  list([6, 0, 3]) list([3, 6]) list([6, 4]) list([5, 6]) list([6, 3])\n",
      "  list([6, 4]) list([6, 4]) list([6, 2, 4]) list([2, 6, 9])\n",
      "  list([2, 0, 8]) list([5, 0, 12]) list([6, 12, 5]) list([2, 4, 12])]\n",
      " [list([3, 6]) list([11, 9]) list([3, 6]) list([8, 3]) list([6, 2])\n",
      "  list([11, 13]) list([7, 5]) list([8, 2]) list([7, 1]) list([5, 6])\n",
      "  list([11, 12]) list([6, 5]) list([6, 4]) list([2, 6]) list([6, 0])\n",
      "  list([5, 6]) list([6, 2]) list([9, 10]) list([4, 6]) list([8, 0])\n",
      "  list([12, 10]) list([2, 6]) list([6, 3]) list([5, 6]) list([2, 6])\n",
      "  list([8, 0]) list([6, 2]) list([4, 6]) list([8, 5]) list([3, 6])]\n",
      " [list([10, 9, 11]) list([2, 4, 7]) list([6, 8, 4]) list([3, 0, 6])\n",
      "  list([8, 2, 4]) list([8, 2, 11]) list([7, 6, 3]) list([10, 12, 13])\n",
      "  list([11, 8, 0]) list([8, 2, 0]) list([4, 6]) list([6, 0])\n",
      "  list([11, 9]) list([7, 5, 0]) list([0, 4, 6]) list([1, 11, 10])\n",
      "  list([6, 2, 0]) list([2, 7, 3]) list([3, 6, 9]) list([12, 11])\n",
      "  list([8, 4]) list([2, 6, 0]) list([3, 7, 6]) list([6, 1, 11])\n",
      "  list([1, 11, 7]) list([5, 3, 6]) list([6, 5, 0]) list([10, 7, 4])\n",
      "  list([0, 6, 4]) list([3, 8, 6])]\n",
      " [list([1, 7, 0]) list([1, 11]) list([7, 5]) list([6, 5]) list([11, 2])\n",
      "  list([7, 12, 3]) list([0, 2, 8]) list([12, 8, 4]) list([10, 8, 1])\n",
      "  list([6, 2]) list([7, 1]) list([8, 3, 2]) list([0, 8]) list([4, 7])\n",
      "  list([6, 4, 8]) list([11, 3, 7]) list([6, 0, 4]) list([5, 6])\n",
      "  list([5, 8]) list([7, 1]) list([6, 5]) list([0, 8]) list([8, 3])\n",
      "  list([13, 9, 11]) list([11, 7, 3]) list([6, 5]) list([6, 12, 5])\n",
      "  list([6, 5]) list([6, 11, 2]) list([2, 11])]\n",
      " [list([6, 2]) list([5, 6]) list([0, 8, 4]) list([6, 5, 2])\n",
      "  list([9, 7, 2]) list([0, 2, 6]) list([4, 10, 7]) list([6, 4])\n",
      "  list([10, 13, 12]) list([10, 1]) list([5, 6]) list([2, 6])\n",
      "  list([8, 2, 3]) list([3, 8]) list([7, 11, 1]) list([6, 3])\n",
      "  list([1, 8, 11]) list([10, 12, 13]) list([11, 1]) list([1, 11, 8])\n",
      "  list([5, 6, 4]) list([7, 10, 1]) list([5, 6]) list([3, 2, 6])\n",
      "  list([4, 8, 11]) list([2, 10]) list([6, 2]) list([6, 9, 5])\n",
      "  list([6, 11, 13]) list([10, 4, 7])]\n",
      " [list([5, 4, 6]) list([3, 6]) list([6, 5]) list([8, 4, 0])\n",
      "  list([9, 4, 6]) list([6, 0]) list([4, 6]) list([3, 7]) list([0, 4, 6])\n",
      "  list([8, 7, 1]) list([6, 3]) list([2, 6, 4]) list([4, 3, 8])\n",
      "  list([8, 2]) list([0, 6, 12]) list([4, 6]) list([2, 0, 12])\n",
      "  list([3, 6]) list([0, 9, 8]) list([7, 3, 5]) list([4, 6])\n",
      "  list([0, 6, 12]) list([6, 0]) list([7, 4]) list([6, 0]) list([0, 3, 8])\n",
      "  list([6, 3]) list([8, 12, 0]) list([4, 6, 3]) list([3, 6])]\n",
      " [list([6, 2]) list([6, 3]) list([6, 2]) list([3, 6]) list([1, 10])\n",
      "  list([10, 9]) list([11, 1]) list([6, 2]) list([3, 6]) list([8, 4])\n",
      "  list([9, 11]) list([1, 10]) list([4, 10]) list([3, 7]) list([6, 5])\n",
      "  list([0, 6]) list([12, 11]) list([6, 2]) list([2, 6]) list([10, 4])\n",
      "  list([0, 8]) list([6, 3]) list([4, 6]) list([10, 1]) list([1, 10])\n",
      "  list([2, 11]) list([6, 5]) list([6, 5]) list([10, 1]) list([10, 9])]\n",
      " [list([3, 6, 5]) list([6, 2, 3]) list([0, 6, 12]) list([10, 1])\n",
      "  list([6, 0, 4]) list([2, 10]) list([4, 9, 6]) list([12, 5, 8])\n",
      "  list([12, 11, 13]) list([12, 8, 3]) list([8, 5, 11]) list([10, 9, 8])\n",
      "  list([3, 12, 8]) list([6, 3, 5]) list([6, 4, 12]) list([12, 5, 6])\n",
      "  list([0, 6]) list([6, 5, 2]) list([1, 11, 7]) list([11, 1, 8])\n",
      "  list([4, 5, 6]) list([11, 8, 5]) list([0, 5, 6]) list([6, 5, 4])\n",
      "  list([4, 6, 0]) list([3, 6, 5]) list([6, 9, 5]) list([2, 12, 6])\n",
      "  list([11, 3, 7]) list([12, 11, 3])]\n",
      " [list([8, 4, 11]) list([6, 4, 2]) list([5, 7]) list([6, 0])\n",
      "  list([0, 2, 6]) list([7, 4]) list([11, 9]) list([2, 3, 6]) list([7, 3])\n",
      "  list([7, 1, 11]) list([4, 11, 10]) list([2, 11]) list([3, 12, 11])\n",
      "  list([8, 0, 4]) list([0, 10]) list([12, 11, 13]) list([6, 2])\n",
      "  list([2, 9, 10]) list([11, 1]) list([2, 11]) list([9, 3, 8])\n",
      "  list([10, 2]) list([0, 12]) list([11, 1, 7]) list([3, 10, 8])\n",
      "  list([8, 4]) list([6, 3]) list([6, 4]) list([10, 9, 8]) list([11, 1])]\n",
      " [list([6, 2, 5]) list([5, 7, 4]) list([12, 6, 5]) list([6, 4])\n",
      "  list([4, 2, 8]) list([6, 5]) list([6, 4, 3]) list([4, 2, 7])\n",
      "  list([4, 6]) list([6, 9, 3]) list([2, 6, 5]) list([6, 4]) list([0, 6])\n",
      "  list([3, 8]) list([8, 0, 5]) list([6, 2, 4]) list([8, 0])\n",
      "  list([3, 8, 5]) list([5, 12, 6]) list([11, 6, 1]) list([4, 2, 8])\n",
      "  list([3, 0, 6]) list([3, 6]) list([6, 5]) list([5, 9, 8]) list([6, 5])\n",
      "  list([2, 4, 6]) list([12, 6, 0]) list([4, 8, 2]) list([7, 5, 2])]\n",
      " [list([6, 4, 9]) list([12, 4, 0]) list([6, 0]) list([7, 0]) list([6, 4])\n",
      "  list([2, 6]) list([2, 12, 0]) list([6, 4, 5]) list([6, 4]) list([5, 8])\n",
      "  list([4, 6, 9]) list([2, 4, 6]) list([6, 4]) list([3, 6]) list([6, 0])\n",
      "  list([3, 0, 6]) list([6, 4, 5]) list([6, 4, 3]) list([6, 3, 0])\n",
      "  list([6, 12, 2]) list([4, 12, 0]) list([6, 3, 12]) list([12, 6, 0])\n",
      "  list([6, 3, 5]) list([3, 6]) list([4, 7, 6]) list([6, 5])\n",
      "  list([9, 0, 6]) list([12, 11]) list([8, 4])]\n",
      " [list([1, 10]) list([3, 6]) list([8, 0]) list([3, 8]) list([3, 6])\n",
      "  list([5, 6]) list([6, 4]) list([12, 11]) list([3, 6]) list([7, 3])\n",
      "  list([8, 4]) list([6, 5]) list([6, 2]) list([5, 6]) list([8, 4])\n",
      "  list([8, 2]) list([6, 4]) list([6, 3]) list([6, 3]) list([6, 0])\n",
      "  list([6, 3]) list([3, 7]) list([11, 12]) list([3, 8]) list([3, 7])\n",
      "  list([0, 6]) list([0, 6]) list([8, 5]) list([6, 2]) list([1, 8])]\n",
      " [list([5, 6]) list([6, 2, 3]) list([4, 9, 6]) list([4, 6]) list([5, 6])\n",
      "  list([10, 2]) list([2, 6, 3]) list([3, 6, 5]) list([11, 7, 4])\n",
      "  list([3, 6, 4]) list([3, 6]) list([8, 0, 2]) list([11, 0, 12])\n",
      "  list([7, 5, 2]) list([3, 6]) list([12, 0, 11]) list([6, 4])\n",
      "  list([5, 6, 3]) list([6, 3]) list([3, 12, 6]) list([4, 7, 11])\n",
      "  list([4, 8]) list([3, 6]) list([6, 9, 3]) list([6, 11, 0])\n",
      "  list([10, 3, 8]) list([8, 4, 3]) list([10, 1, 11]) list([6, 5])\n",
      "  list([6, 3])]\n",
      " [list([8, 1]) list([4, 11]) list([5, 8]) list([3, 6, 4])\n",
      "  list([10, 9, 11]) list([10, 9, 13]) list([9, 3, 6]) list([4, 2, 8])\n",
      "  list([6, 2, 3]) list([13, 12, 10]) list([7, 11, 0]) list([12, 6, 5])\n",
      "  list([6, 1, 0]) list([3, 6, 4]) list([10, 13]) list([2, 10])\n",
      "  list([6, 2, 3]) list([7, 0]) list([4, 6]) list([13, 11])\n",
      "  list([8, 5, 9]) list([13]) list([12, 8, 5]) list([8, 4]) list([0, 6])\n",
      "  list([6, 2]) list([10, 1]) list([2, 7, 0]) list([2, 6, 5])\n",
      "  list([5, 7, 11])]\n",
      " [list([6, 4, 11]) list([1, 12, 10]) list([6, 0, 12]) list([2, 4, 6])\n",
      "  list([3, 6]) list([2, 6, 5]) list([0, 6, 11]) list([6, 3])\n",
      "  list([3, 2, 7]) list([3, 6]) list([1, 11, 6]) list([6, 3])\n",
      "  list([6, 3, 12]) list([6, 2]) list([3, 6]) list([4, 6]) list([4, 5, 6])\n",
      "  list([6, 2, 9]) list([8, 5]) list([6, 9, 2]) list([0, 6]) list([6, 4])\n",
      "  list([6, 0]) list([3, 6, 9]) list([0, 6]) list([8, 5, 2]) list([11, 0])\n",
      "  list([2, 4, 7]) list([4, 2, 7]) list([0, 6])]\n",
      " [list([8, 5, 12]) list([4, 6]) list([0, 6]) list([4, 9, 6]) list([4, 8])\n",
      "  list([6, 4]) list([6, 4]) list([3, 8]) list([2, 6, 3]) list([8, 3, 6])\n",
      "  list([8, 0, 9]) list([12, 4, 6]) list([6, 0]) list([3, 6]) list([4, 6])\n",
      "  list([6, 0]) list([6, 0, 4]) list([6, 0]) list([4, 6]) list([6, 2])\n",
      "  list([5, 6]) list([6, 4]) list([6, 0, 5]) list([8, 5, 6])\n",
      "  list([2, 3, 8]) list([2, 4, 6]) list([6, 0, 3]) list([0, 3, 8])\n",
      "  list([6, 4, 5]) list([6, 2])]\n",
      " [list([5, 6, 12]) list([4, 6, 2]) list([12, 10, 3]) list([4, 11, 8])\n",
      "  list([4, 7]) list([5, 6]) list([2, 8, 12]) list([6, 3, 4])\n",
      "  list([6, 3, 5]) list([2, 8, 0]) list([0, 8, 3]) list([8, 4])\n",
      "  list([7, 3, 2]) list([4, 12, 3]) list([6, 3]) list([10, 1])\n",
      "  list([6, 0, 3]) list([0, 11]) list([11, 1, 8]) list([11, 12, 3])\n",
      "  list([8, 5]) list([4, 7, 11]) list([7, 3]) list([12, 0, 6])\n",
      "  list([6, 0]) list([11, 13, 2]) list([6, 12, 0]) list([3, 12, 4])\n",
      "  list([11, 4, 13]) list([12, 0, 10])]\n",
      " [list([2, 6, 4]) list([7, 5, 10]) list([6, 3, 2]) list([4, 12, 6])\n",
      "  list([12, 2, 6]) list([3, 7, 9]) list([10, 12, 2]) list([6, 11, 9])\n",
      "  list([2, 12, 8]) list([8, 11, 1]) list([6, 3, 2]) list([2, 11, 5])\n",
      "  list([4, 8, 3]) list([3, 6, 5]) list([8, 1, 10]) list([4, 6])\n",
      "  list([12, 4, 10]) list([3, 6]) list([9, 7, 11]) list([7, 12, 11])\n",
      "  list([8, 3, 0]) list([6, 4]) list([10, 5, 8]) list([4, 8, 3])\n",
      "  list([6, 4]) list([5, 7, 10]) list([6, 4]) list([3, 6, 2])\n",
      "  list([11, 7, 3]) list([8, 6, 4])]\n",
      " [list([10, 3]) list([8, 9, 5]) list([12, 2]) list([5, 8]) list([1, 10])\n",
      "  list([6, 3]) list([4, 11, 7]) list([13, 5, 10]) list([6, 0, 2])\n",
      "  list([3, 11, 8]) list([13, 11]) list([5, 10]) list([11, 2, 7])\n",
      "  list([6, 4]) list([11, 1]) list([0, 11, 12]) list([7, 1]) list([6, 4])\n",
      "  list([5, 6]) list([12, 2, 6]) list([12, 0, 8]) list([7, 2])\n",
      "  list([10, 2]) list([10, 0]) list([1, 11]) list([11, 12, 13])\n",
      "  list([5, 3, 6]) list([2, 6]) list([1, 10, 13]) list([12, 10])]]\n"
     ]
    }
   ],
   "source": [
    "import glob\n",
    "import os\n",
    "import json\n",
    "import numpy as np\n",
    "import matplotlib.pyplot as plt\n",
    "\n",
    "folderO=['data_files/raw/' + filename for filename \\\n",
    "                  in os.listdir('data_files/raw/') if filename.startswith(\"MC_results3_\")]\n",
    "perf5=np.empty([20,30])\n",
    "comb5=np.empty([20,30],dtype=object)\n",
    "file_type = r'\\*json'\n",
    "row=0\n",
    "for folder in folderO:\n",
    "    folderI=[folder + '/' + filename for filename \\\n",
    "                  in os.listdir(folder) ]\n",
    "    column=0\n",
    "    print(folder)\n",
    "    for folder2 in folderI:\n",
    "        #print(folder2)\n",
    "        list_of_files = glob.glob(folder2 + file_type)\n",
    "        #print(list_of_files)\n",
    "        latest_file = max(list_of_files, key=os.path.getmtime)\n",
    "        #print(latest_file)\n",
    "        with open(latest_file) as json_file:\n",
    "            data = json.load(json_file)\n",
    "            perf5[row,column]=data['performance']\n",
    "            comb5[row,column]=data['encoded_solution']\n",
    "        column=column+1\n",
    "    row=row+1\n",
    "\n",
    "# Creating plot\n",
    "#plt.boxplot(vec)\n",
    "\n",
    "# show plot\n",
    "#plt.show()\n",
    "print(perf5)\n",
    "print(comb5)"
   ],
   "metadata": {
    "collapsed": false,
    "pycharm": {
     "name": "#%%\n"
    }
   }
  },
  {
   "cell_type": "code",
   "execution_count": 2,
   "outputs": [
    {
     "name": "stdout",
     "output_type": "stream",
     "text": [
      "CA\n",
      "Average of list:  1.0260473816057472e-06\n",
      "Standart Deviation:  3.5271373626765832e-12\n",
      "CV:  3.4375969627802877e-06\n",
      "\n",
      "\n",
      "CA_AG\n",
      "Average of list:  1.026041915002624e-06\n",
      "Standart Deviation:  1.9524648858072366e-12\n",
      "CV:  1.9029094789000344e-06\n",
      "\n",
      "\n",
      "CA_CARD\n",
      "Average of list:  1.026048252475264e-06\n",
      "Standart Deviation:  3.1108526447623482e-12\n",
      "CV:  3.0318775333008473e-06\n",
      "\n",
      "\n",
      "CA_IT\n",
      "Average of list:  1.0260531504705227e-06\n",
      "Standart Deviation:  5.0059397452563674e-12\n",
      "CV:  4.878830831483503e-06\n",
      "\n",
      "\n",
      "CA_STAG\n",
      "Average of list:  1.0260496586977272e-06\n",
      "Standart Deviation:  3.9834016742882954e-12\n",
      "CV:  3.882269869222577e-06\n",
      "\n",
      "\n",
      "CW\n",
      "Average of list:  1.0041388493802444e-06\n",
      "Standart Deviation:  5.484873137306247e-12\n",
      "CV:  5.462265642536903e-06\n",
      "\n",
      "\n",
      "CW_AG\n",
      "Average of list:  1.0041346399149695e-06\n",
      "Standart Deviation:  2.1812506704950551e-13\n",
      "CV:  2.172269119885919e-07\n",
      "\n",
      "\n",
      "CW_CARD\n",
      "Average of list:  1.0041440399733542e-06\n",
      "Standart Deviation:  1.1604579586660047e-11\n",
      "CV:  1.155668820876334e-05\n",
      "\n",
      "\n",
      "CW_IT\n",
      "Average of list:  1.0041573900693644e-06\n",
      "Standart Deviation:  2.2344320547017596e-11\n",
      "CV:  2.225181108857259e-05\n",
      "\n",
      "\n",
      "CW_STAG\n",
      "Average of list:  1.0041483388491114e-06\n",
      "Standart Deviation:  2.137664965622713e-11\n",
      "CV:  2.128833841494737e-05\n",
      "\n",
      "\n",
      "GA\n",
      "Average of list:  9.6370242075869e-07\n",
      "Standart Deviation:  2.887160396748636e-13\n",
      "CV:  2.9959044768982456e-07\n",
      "\n",
      "\n",
      "GA_AG\n",
      "Average of list:  9.637022468536708e-07\n",
      "Standart Deviation:  2.111175706812951e-13\n",
      "CV:  2.190692938307026e-07\n",
      "\n",
      "\n",
      "GA_CARD\n",
      "Average of list:  9.637032707967558e-07\n",
      "Standart Deviation:  1.356669409729867e-12\n",
      "CV:  1.4077667377928692e-06\n",
      "\n",
      "\n",
      "GA_IT\n",
      "Average of list:  9.637135418806594e-07\n",
      "Standart Deviation:  1.1122603480192144e-11\n",
      "CV:  1.1541400008229314e-05\n",
      "\n",
      "\n",
      "GA_STAG\n",
      "Average of list:  9.63775600488517e-07\n",
      "Standart Deviation:  3.5736070649786215e-10\n",
      "CV:  0.0003707924399795178\n",
      "\n",
      "\n",
      "GW\n",
      "Average of list:  1.0505462998623785e-06\n",
      "Standart Deviation:  4.2318890319739455e-12\n",
      "CV:  4.02827465341444e-06\n",
      "\n",
      "\n",
      "GW_AG\n",
      "Average of list:  1.0505443387840834e-06\n",
      "Standart Deviation:  4.038982891381683e-13\n",
      "CV:  3.8446572336551404e-07\n",
      "\n",
      "\n",
      "GW_CARD\n",
      "Average of list:  1.0505507639354672e-06\n",
      "Standart Deviation:  7.892010540495063e-12\n",
      "CV:  7.51226005579284e-06\n",
      "\n",
      "\n",
      "GW_IT\n",
      "Average of list:  1.0505804175747635e-06\n",
      "Standart Deviation:  3.0233580718855625e-11\n",
      "CV:  2.8777978546991225e-05\n",
      "\n",
      "\n",
      "GW_STAG\n",
      "Average of list:  1.0505664323706378e-06\n",
      "Standart Deviation:  2.8115244893185528e-11\n",
      "CV:  2.676198670249015e-05\n",
      "\n",
      "\n"
     ]
    }
   ],
   "source": [
    "import statistics\n",
    "names=[\"CA\",\"CA_AG\",\"CA_CARD\",\"CA_IT\",\"CA_STAG\",\"CW\",\"CW_AG\",\"CW_CARD\",\"CW_IT\",\"CW_STAG\",\"GA\",\"GA_AG\",\"GA_CARD\",\"GA_IT\",\"GA_STAG\",\"GW\",\"GW_AG\",\"GW_CARD\",\"GW_IT\",\"GW_STAG\"]\n",
    "for i in range(0,20):\n",
    "    print(names[i])\n",
    "    average = sum(perf5[i,:])/len(perf5[i,:])\n",
    "    print(\"Average of list: \",average)\n",
    "    sdv=statistics.stdev(perf5[i,:])\n",
    "    print(\"Standart Deviation: \", sdv)\n",
    "    cv= sdv/average\n",
    "    print(\"CV: \", cv)\n",
    "    print(\"\")\n",
    "    print(\"\")"
   ],
   "metadata": {
    "collapsed": false,
    "pycharm": {
     "name": "#%%\n"
    }
   }
  },
  {
   "cell_type": "code",
   "execution_count": 3,
   "outputs": [
    {
     "data": {
      "text/plain": "<Figure size 1080x1080 with 4 Axes>",
      "image/png": "[encoded data removed]"
     },
     "metadata": {
      "needs_background": "light"
     },
     "output_type": "display_data"
    }
   ],
   "source": [
    "C_A=[perf5[0,:],perf5[1,:],perf5[2,:],perf5[3,:],perf5[4,:]]\n",
    "C_W=[perf5[5,:],perf5[6,:],perf5[7,:],perf5[8,:],perf5[9,:]]\n",
    "G_A=[perf5[10,:],perf5[11,:],perf5[12,:],perf5[13,:],perf5[14,:]]\n",
    "G_W=[perf5[15,:],perf5[16,:],perf5[17,:],perf5[18,:],perf5[19,:]]\n",
    "\n",
    "\n",
    "#labels = ['Default', '50 Agents', 'Cardinality 2', '50 Iterations', '10 Stagnation']\n",
    "labels = ['Default', 'Config 1', 'Config 2', 'Config 3', 'Config 4']\n",
    "\n",
    "fig = plt.figure(figsize =(15, 15))\n",
    "ax1 =fig.add_subplot(2,2,1)\n",
    "plt.boxplot(C_A)\n",
    "plt.title(\"Copper-Air\")\n",
    "plt.ylabel(\"Evaluation Metric\")\n",
    "plt.xlabel(\"Experiment Configuration\")\n",
    "#plt.yscale(\"log\")\n",
    "plt.xticks([1, 2, 3, 4, 5], labels)\n",
    "ax2 =fig.add_subplot(2,2,2)\n",
    "plt.boxplot(C_W)\n",
    "plt.title(\"Copper-Water\")\n",
    "plt.ylabel(\"Evaluation Metric\")\n",
    "plt.xlabel(\"Experiment Configuration\")\n",
    "#plt.yscale(\"log\")\n",
    "plt.xticks([1, 2, 3, 4, 5], labels)\n",
    "ax3 =fig.add_subplot(2,2,3)\n",
    "plt.boxplot(G_A)\n",
    "plt.title(\"Graphite-Air\")\n",
    "plt.ylabel(\"Evaluation Metric\")\n",
    "plt.xlabel(\"Experiment Configuration\")\n",
    "#plt.yscale(\"log\")\n",
    "plt.xticks([1, 2, 3, 4, 5], labels)\n",
    "ax4 =fig.add_subplot(2,2,4)\n",
    "plt.boxplot(G_W)\n",
    "plt.title(\"Graphite-Water\")\n",
    "plt.ylabel(\"Evaluation Metric\")\n",
    "plt.xlabel(\"Experiment Configuration\")\n",
    "#plt.yscale(\"log\")\n",
    "plt.xticks([1, 2, 3, 4, 5], labels)\n",
    "plt.gcf()\n",
    "plt.savefig('resultsHH3.jpg')\n",
    "plt.show()"
   ],
   "metadata": {
    "collapsed": false,
    "pycharm": {
     "name": "#%%\n"
    }
   }
  },
  {
   "cell_type": "code",
   "execution_count": 4,
   "outputs": [],
   "source": [
    "dat = np.array([C_A,C_W,G_A,G_W])\n",
    "np.save('data_memo_3',dat)"
   ],
   "metadata": {
    "collapsed": false,
    "pycharm": {
     "name": "#%%\n"
    }
   }
  },
  {
   "cell_type": "code",
   "execution_count": 26,
   "outputs": [
    {
     "name": "stdout",
     "output_type": "stream",
     "text": [
      "[[0. 0. 0. 1. 0. 0. 0. 0. 1. 0. 0. 0. 0. 2. 0. 0. 0. 0. 1. 0.]]\n"
     ]
    }
   ],
   "source": [
    "index5=np.empty([1,20])\n",
    "operators5=np.empty([1,20])\n",
    "for i in range(0,20):\n",
    "    y=perf5[i,:]\n",
    "    x=np.argmin(y)\n",
    "    index5[0,i]=x\n",
    "print(index5)"
   ],
   "metadata": {
    "collapsed": false,
    "pycharm": {
     "name": "#%%\n"
    }
   }
  },
  {
   "cell_type": "code",
   "execution_count": 42,
   "outputs": [
    {
     "data": {
      "text/plain": "[[2, 5, 6],\n [6, 0, 3],\n [4, 6],\n [0, 4, 6],\n [6, 12, 5],\n [5, 6, 4],\n [0, 4, 6],\n [6, 3],\n [6, 2, 3],\n [6, 4, 2],\n [6, 4, 3],\n [3, 0, 6],\n [6, 3],\n [6, 2, 3],\n [6, 2, 3],\n [2, 6, 5],\n [6, 0, 4],\n [6, 0, 3],\n [6, 3, 2],\n [5, 3, 6]]"
     },
     "execution_count": 42,
     "metadata": {},
     "output_type": "execute_result"
    }
   ],
   "source": [
    "ind_best_perf = np.argmin(perf5, axis=1)\n",
    "best_mhs = [comb5[row, col] for row, col in enumerate(ind_best_perf)]\n",
    "best_mhs"
   ],
   "metadata": {
    "collapsed": false,
    "pycharm": {
     "name": "#%%\n"
    }
   }
  },
  {
   "cell_type": "code",
   "execution_count": 43,
   "outputs": [
    {
     "data": {
      "text/plain": "[1.026044130186384e-06,\n 1.0260404066751844e-06,\n 1.0260452708619406e-06,\n 1.0260461306571932e-06,\n 1.026041695942946e-06,\n 1.0041345845472076e-06,\n 1.0041345248431098e-06,\n 1.0041346364380464e-06,\n 1.0041354100360315e-06,\n 1.0041345463035698e-06,\n 9.637021725775736e-07,\n 9.637021710199082e-07,\n 9.63702207542153e-07,\n 9.63702885796939e-07,\n 9.63702172483852e-07,\n 1.0505441870366609e-06,\n 1.0505441697933196e-06,\n 1.050544179465969e-06,\n 1.0505457318884373e-06,\n 1.0505441941310535e-06]"
     },
     "execution_count": 43,
     "metadata": {},
     "output_type": "execute_result"
    }
   ],
   "source": [
    "ind_best_perf = np.argmin(perf5, axis=1)\n",
    "best_mhs = [perf5[row, col] for row, col in enumerate(ind_best_perf)]\n",
    "best_mhs"
   ],
   "metadata": {
    "collapsed": false,
    "pycharm": {
     "name": "#%%\n"
    }
   }
  },
  {
   "cell_type": "code",
   "execution_count": 69,
   "outputs": [
    {
     "name": "stdout",
     "output_type": "stream",
     "text": [
      "8.43236006574362e-05\n"
     ]
    }
   ],
   "source": [
    "a= 0.1721225498874615\n",
    "s= 1.4513993160849943e-05\n",
    "x=s/a\n",
    "print(x)"
   ],
   "metadata": {
    "collapsed": false,
    "pycharm": {
     "name": "#%%\n"
    }
   }
  },
  {
   "cell_type": "code",
   "execution_count": 28,
   "outputs": [
    {
     "name": "stdout",
     "output_type": "stream",
     "text": [
      "[ 2  8  5 ...  1 12  0]\n"
     ]
    }
   ],
   "source": [
    "ac_tot=[]\n",
    "\n",
    "for y in range(0,len(comb5)):\n",
    "    arr_tot= np.array(comb5[y], dtype=object)\n",
    "    for i in range(0,len(arr_tot)):\n",
    "        w_tot=np.array(arr_tot[i])\n",
    "        for z in range(0,len(w_tot)):\n",
    "            ac_tot.append(w_tot[z])\n",
    "\n",
    "ac_tot=np.array(ac_tot)\n",
    "print(ac_tot)"
   ],
   "metadata": {
    "collapsed": false,
    "pycharm": {
     "name": "#%%\n"
    }
   }
  },
  {
   "cell_type": "code",
   "execution_count": 29,
   "outputs": [
    {
     "name": "stdout",
     "output_type": "stream",
     "text": [
      "['0', '1', '2', '3', '4', '5', '6', '7', '8', '9', '10', '11', '12', '13']\n",
      "[0, 1, 2, 3, 4, 5, 6, 7, 8, 9, 10, 11, 12, 13]\n",
      "[76, 46, 118, 92, 76, 108, 197, 183, 93, 66, 95, 94, 71, 92]\n"
     ]
    }
   ],
   "source": [
    "sorted=np.sort(ac_tot);\n",
    "num=[];\n",
    "num2=[];\n",
    "frec=[];\n",
    "ind=[];\n",
    "count=0;\n",
    "while len(sorted)>0:\n",
    "    num.append(str(sorted[0]))\n",
    "    num2.append(sorted[0])\n",
    "    cand=sorted[0]\n",
    "    for i in range(0,len(sorted)):\n",
    "        if cand == sorted[i]:\n",
    "            count=count+1\n",
    "            ind.append(i)\n",
    "    frec.append(count)\n",
    "    count=0\n",
    "    sorted=np.delete(sorted,ind)\n",
    "    ind=[];\n",
    "print(num)\n",
    "print(num2)\n",
    "print(frec)"
   ],
   "metadata": {
    "collapsed": false,
    "pycharm": {
     "name": "#%%\n"
    }
   }
  },
  {
   "cell_type": "code",
   "execution_count": 31,
   "outputs": [
    {
     "name": "stdout",
     "output_type": "stream",
     "text": [
      "['0', '1', '2', '3', '4', '5', '6', '7', '8', '9', '10', '11', '12', '13']\n",
      "[0, 1, 2, 3, 4, 5, 6, 7, 8, 9, 10, 11, 12, 13]\n",
      "[76, 46, 118, 92, 76, 108, 197, 183, 93, 66, 95, 94, 71, 92]\n"
     ]
    }
   ],
   "source": [
    "sorted=np.sort(ac_tot);\n",
    "num=[];\n",
    "num2=[];\n",
    "frec=[];\n",
    "ind=[];\n",
    "count=0;\n",
    "while len(sorted)>0:\n",
    "    num.append(str(sorted[0]))\n",
    "    num2.append(sorted[0])\n",
    "    cand=sorted[0]\n",
    "    for i in range(0,len(sorted)):\n",
    "        if cand == sorted[i]:\n",
    "            count=count+1\n",
    "            ind.append(i)\n",
    "    frec.append(count)\n",
    "    count=0\n",
    "    sorted=np.delete(sorted,ind)\n",
    "    ind=[];\n",
    "print(num)\n",
    "print(num2)\n",
    "print(frec)"
   ],
   "metadata": {
    "collapsed": false,
    "pycharm": {
     "name": "#%%\n"
    }
   }
  },
  {
   "cell_type": "code",
   "execution_count": 32,
   "outputs": [
    {
     "name": "stdout",
     "output_type": "stream",
     "text": [
      "[240, 276, 891]\n",
      "['genetic crossover', 'random flight', 'swarm dynamic']\n"
     ]
    }
   ],
   "source": [
    "fam=['genetic crossover','random flight','swarm dynamic']\n",
    "frec2=[0,0,0]\n",
    "for i in range(0,len(num2)):\n",
    "    if num2[i] >= 0 and num2[i] <= 2:\n",
    "        frec2[0]= frec2[0] + frec[i]\n",
    "    elif num2[i] >= 3 and num2[i] <= 5:\n",
    "        frec2[1]= frec2[1] + frec[i]\n",
    "    elif num2[i] >= 6 and num2[i] <= 13:\n",
    "        frec2[2]= frec2[2] + frec[i]\n",
    "\n",
    "print(frec2)\n",
    "print(fam)"
   ],
   "metadata": {
    "collapsed": false,
    "pycharm": {
     "name": "#%%\n"
    }
   }
  },
  {
   "cell_type": "code",
   "execution_count": 33,
   "outputs": [
    {
     "data": {
      "text/plain": "<Figure size 640x480 with 1 Axes>",
      "image/png": "[encoded data removed]"
     },
     "metadata": {
      "needs_background": "light"
     },
     "output_type": "display_data"
    }
   ],
   "source": [
    "from matplotlib.pyplot import figure\n",
    "\n",
    "figure(figsize=(8, 6), dpi=80)\n",
    "plt.bar(num, frec, color ='maroon',\n",
    "        width = 0.4)\n",
    "plt.xticks(range(len(num)), num, rotation='vertical')\n",
    "plt.xlabel(\"Operator Number\")\n",
    "plt.ylabel(\"Frequency\")\n",
    "plt.gcf()\n",
    "plt.savefig('resultsBG7.jpg')\n",
    "plt.show()"
   ],
   "metadata": {
    "collapsed": false,
    "pycharm": {
     "name": "#%%\n"
    }
   }
  },
  {
   "cell_type": "code",
   "execution_count": 34,
   "outputs": [
    {
     "data": {
      "text/plain": "<Figure size 640x480 with 1 Axes>",
      "image/png": "[encoded data removed]"
     },
     "metadata": {
      "needs_background": "light"
     },
     "output_type": "display_data"
    }
   ],
   "source": [
    "figure(figsize=(8, 6), dpi=80)\n",
    "plt.bar(fam, frec2, color ='maroon',\n",
    "        width = 0.4)\n",
    "plt.xticks(range(len(fam)), fam, rotation='vertical')\n",
    "plt.xlabel(\"Operator Family\")\n",
    "plt.ylabel(\"Frequency\")\n",
    "plt.gcf()\n",
    "plt.savefig('resultsBG8.jpg',bbox_inches='tight')\n",
    "plt.show()"
   ],
   "metadata": {
    "collapsed": false,
    "pycharm": {
     "name": "#%%\n"
    }
   }
  },
  {
   "cell_type": "code",
   "execution_count": 34,
   "outputs": [],
   "source": [],
   "metadata": {
    "collapsed": false,
    "pycharm": {
     "name": "#%%\n"
    }
   }
  },
  {
   "cell_type": "code",
   "execution_count": null,
   "outputs": [],
   "source": [],
   "metadata": {
    "collapsed": false,
    "pycharm": {
     "name": "#%%\n"
    }
   }
  }
 ],
 "metadata": {
  "kernelspec": {
   "display_name": "Python 3",
   "language": "python",
   "name": "python3"
  },
  "language_info": {
   "codemirror_mode": {
    "name": "ipython",
    "version": 2
   },
   "file_extension": ".py",
   "mimetype": "text/x-python",
   "name": "python",
   "nbconvert_exporter": "python",
   "pygments_lexer": "ipython2",
   "version": "2.7.6"
  }
 },
 "nbformat": 4,
 "nbformat_minor": 0
}