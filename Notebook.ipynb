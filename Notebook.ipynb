{
 "cells": [
  {
   "cell_type": "markdown",
   "source": [
    "# CUSTOMHyS for Designing Microchannel Heat Sinks"
   ],
   "metadata": {
    "collapsed": false,
    "pycharm": {
     "name": "#%% md\n"
    }
   }
  },
  {
   "cell_type": "markdown",
   "source": [
    "## 0. Packages' installation and loading"
   ],
   "metadata": {
    "collapsed": false,
    "pycharm": {
     "name": "#%% md\n"
    }
   }
  },
  {
   "cell_type": "code",
   "execution_count": 1,
   "outputs": [
    {
     "data": {
      "text/plain": "'C:\\\\Users\\\\memo_\\\\PycharmProjects\\\\Microchannels'"
     },
     "execution_count": 1,
     "metadata": {},
     "output_type": "execute_result"
    }
   ],
   "source": [
    "%pwd"
   ],
   "metadata": {
    "collapsed": false,
    "pycharm": {
     "name": "#%%\n"
    }
   }
  },
  {
   "cell_type": "markdown",
   "source": [
    "Instalamos el paquete de Customhys directo del repositorio"
   ],
   "metadata": {
    "collapsed": false,
    "pycharm": {
     "name": "#%% md\n"
    }
   }
  },
  {
   "cell_type": "code",
   "execution_count": 2,
   "outputs": [
    {
     "name": "stdout",
     "output_type": "stream",
     "text": [
      "Requirement already satisfied: install in c:\\users\\memo_\\pycharmprojects\\microchannels\\venv\\lib\\site-packages (1.3.5)\n",
      "Requirement already satisfied: customhys==1.0.1.dev1 in c:\\users\\memo_\\pycharmprojects\\microchannels\\venv\\lib\\site-packages (1.0.1.dev1)\n"
     ]
    },
    {
     "name": "stderr",
     "output_type": "stream",
     "text": [
      "WARNING: You are using pip version 21.1.2; however, version 22.2.2 is available.\n",
      "You should consider upgrading via the 'C:\\Users\\memo_\\PycharmProjects\\Microchannels\\venv\\Scripts\\python.exe -m pip install --upgrade pip' command.\n"
     ]
    }
   ],
   "source": [
    "!pip3 install install customhys==1.0.1.dev1"
   ],
   "metadata": {
    "collapsed": false,
    "pycharm": {
     "name": "#%%\n"
    }
   }
  },
  {
   "cell_type": "markdown",
   "source": [
    "Cargamos los paquetes que vamos a utilizar"
   ],
   "metadata": {
    "collapsed": false,
    "pycharm": {
     "name": "#%% md\n"
    }
   }
  },
  {
   "cell_type": "code",
   "execution_count": 3,
   "metadata": {
    "collapsed": true,
    "pycharm": {
     "name": "#%%\n"
    }
   },
   "outputs": [],
   "source": [
    "import numpy as np\n",
    "from microchannels import Microchannel\n",
    "from materials import Copper, Air, Titanium, Aluminium, Graphite, Silicon, AlNF, TiONF\n",
    "from customhys import metaheuristic as mh"
   ]
  },
  {
   "cell_type": "markdown",
   "source": [
    "## 1. Microchannel Heat Sink model preparation\n",
    "En esta parte, preparamos el modelo para utilizarlo y evaluar una configuración de parámetros de diseño en la función objetivo, que en este caso será al generación de entropía."
   ],
   "metadata": {
    "collapsed": false,
    "pycharm": {
     "name": "#%% md\n"
    }
   }
  },
  {
   "cell_type": "code",
   "execution_count": 4,
   "outputs": [],
   "source": [
    "class MicrochannelDesign():\n",
    "    def __init__(self):\n",
    "        self.model = Microchannel(base=Copper(), coolant=Air())\n",
    "        #self.max_search_range = np.array([self.model.W_d/10, self.model.W_d/10, 0.005])\n",
    "        #self.min_search_range = np.array([1e-24, 1e-12, 1e-8])\n",
    "        self.max_search_range = np.array([2.65e-5, 20.4e-5, 0.009])\n",
    "        self.min_search_range = np.array([4.53e-5, 13.6e-5, 0.005])\n",
    "        self.func_name = 'Microchannel entropy generation model'\n",
    "\n",
    "    def get_func_val(self, variables):\n",
    "        self.model.w_w = variables[0]\n",
    "        self.model.w_c = variables[1]\n",
    "        self.model.G_d = variables[2]\n",
    "        #print(self.model.G_d)\n",
    "        #print(self.model.alpha)\n",
    "        #print(self.model.beta)\n",
    "        return self.model.sgen\n",
    "\n",
    "    def get_formatted_problem(self, is_constrained=True):\n",
    "        return dict(function=self.get_func_val,\n",
    "                    boundaries=(self.min_search_range, self.max_search_range),\n",
    "                    is_constrained=is_constrained)\n",
    "\n",
    "fun = MicrochannelDesign()"
   ],
   "metadata": {
    "collapsed": false,
    "pycharm": {
     "name": "#%%\n"
    }
   }
  },
  {
   "cell_type": "markdown",
   "source": [
    "## 2. Metaheuristic preparation"
   ],
   "metadata": {
    "collapsed": false,
    "pycharm": {
     "name": "#%% md\n"
    }
   }
  },
  {
   "cell_type": "code",
   "execution_count": 6,
   "outputs": [],
   "source": [
    "# Primero cargamos la colección de operadores\n",
    "with open('./source/collections/' + 'default.txt', 'r') as operators_file:\n",
    "    heuristic_space = [eval(line.rstrip('\\n')) for line in operators_file]"
   ],
   "metadata": {
    "collapsed": false,
    "pycharm": {
     "name": "#%%\n"
    }
   }
  },
  {
   "cell_type": "markdown",
   "source": [
    "Esta es la parte en donde, utilizando los operadores, ensamblamos la metaheurística a usar:"
   ],
   "metadata": {
    "collapsed": false,
    "pycharm": {
     "name": "#%% md\n"
    }
   }
  },
  {
   "cell_type": "code",
   "execution_count": 15,
   "outputs": [],
   "source": [
    "# Metaheuristic 1: Random Search\n",
    "# heur = [('random_search', {'scale': 0.01, 'distribution': 'uniform'}, 'greedy')]\n",
    "\n",
    "# Metaheuristic 2: Particle Swarm & Genetic Linear Crossover with Random Pairing and Metropolis Selection\n",
    "#heur = [('swarm_dynamic', {'factor': 0.7, 'self_conf': 2.54, 'swarm_conf': 2.56, 'version': 'inertial', 'distribution': 'uniform'}, 'all'),\n",
    "#        ('genetic_crossover', {'pairing': 'random', 'crossover': 'linear_0.5_0.5', 'mating_pool_factor': 0.4}, 'metropolis')]\n",
    "\n",
    "heur = [('genetic_crossover',\n",
    "  {'pairing': 'rank', 'crossover': 'linear_0.5_0.5', 'mating_pool_factor': 0.4},\n",
    "  'all'),\n",
    "        ('swarm_dynamic',\n",
    "  {'factor': 0.7, 'self_conf': 2.54, 'swarm_conf': 2.56, 'version': 'inertial', 'distribution': 'gaussian'},\n",
    "  'probabilistic'),\n",
    "        ('genetic_crossover',\n",
    "  {'pairing': 'random', 'crossover': 'blend', 'mating_pool_factor': 0.4},\n",
    "  'probabilistic')]\n",
    "\n",
    "\n",
    "#Metaheuristic 3: Genetic Algorithm\n",
    "#heur = [('genetic_crossover', {'pairing': 'tournament_2_100', 'crossover': 'single', 'mating_pool_factor': 0.4}, 'all'), ('genetic_mutation', {'scale': 1.0, 'elite_rate': 0.1, 'mutation_rate': 0.25, 'distribution': 'uniform'}, 'all')]"
   ],
   "metadata": {
    "collapsed": false,
    "pycharm": {
     "name": "#%%\n"
    }
   }
  },
  {
   "cell_type": "markdown",
   "source": [
    "Aquí terminamos de definirla empleando CUSTOMHyS\n"
   ],
   "metadata": {
    "collapsed": false,
    "pycharm": {
     "name": "#%% md\n"
    }
   }
  },
  {
   "cell_type": "code",
   "execution_count": 16,
   "outputs": [],
   "source": [
    "met = mh.Metaheuristic(fun.get_formatted_problem(is_constrained=True), heur , num_iterations=100)"
   ],
   "metadata": {
    "collapsed": false,
    "pycharm": {
     "name": "#%%\n"
    }
   }
  },
  {
   "cell_type": "markdown",
   "source": [
    "## 3. Run designing process"
   ],
   "metadata": {
    "collapsed": false,
    "pycharm": {
     "name": "#%% md\n"
    }
   }
  },
  {
   "cell_type": "code",
   "execution_count": 17,
   "outputs": [
    {
     "name": "stdout",
     "output_type": "stream",
     "text": [
      "\n",
      "Search operators to employ:\n",
      "genetic_crossover(pairing='rank',crossover='linear_0.5_0.5',mating_pool_factor=0.4) with all\n",
      "swarm_dynamic(factor=0.7,self_conf=2.54,swarm_conf=2.56,version='inertial',distribution='gaussian') with probabilistic\n",
      "genetic_crossover(pairing='random',crossover='blend',mating_pool_factor=0.4) with probabilistic\n",
      "--------------------------------------------------\n",
      "1\n",
      "pop. radius: 1.419155017643375\n",
      "x_best = [2.65e-05 2.04e-04 5.00e-03], f_best = 0.17220074473297137\n",
      "2\n",
      "pop. radius: 0.7295353160932749\n",
      "x_best = [2.65e-05 2.04e-04 5.00e-03], f_best = 0.17220074473297137\n",
      "3\n",
      "pop. radius: 0.03903480018038563\n",
      "x_best = [2.65000000e-05 2.02627052e-04 5.00000000e-03], f_best = 0.172191663432088\n",
      "4\n",
      "pop. radius: 0.035610319131157864\n",
      "x_best = [2.65000000e-05 2.02864512e-04 5.00000000e-03], f_best = 0.17214477968532144\n",
      "5\n",
      "pop. radius: 0.03308539537106214\n",
      "x_best = [2.65000000e-05 2.02864512e-04 5.00000000e-03], f_best = 0.17214477968532144\n",
      "6\n",
      "pop. radius: 0.0368014437687344\n",
      "x_best = [2.65000000e-05 2.02893662e-04 5.00000000e-03], f_best = 0.17213903812103415\n",
      "7\n",
      "pop. radius: 0.025666349641414232\n",
      "x_best = [2.65000000e-05 2.02980589e-04 5.00000000e-03], f_best = 0.172121934089846\n",
      "8\n",
      "pop. radius: 0.02796933336893026\n",
      "x_best = [2.65000000e-05 2.02982657e-04 5.00000000e-03], f_best = 0.17212152753381532\n",
      "9\n",
      "pop. radius: 0.027780985293550886\n",
      "x_best = [2.65000000e-05 2.02989043e-04 5.00000000e-03], f_best = 0.1721202720552659\n",
      "10\n",
      "pop. radius: 0.004127423820655118\n",
      "x_best = [2.65000000e-05 2.02989043e-04 5.00000000e-03], f_best = 0.1721202720552659\n",
      "11\n",
      "pop. radius: 0.002318919411881115\n",
      "x_best = [2.65000000e-05 2.02989043e-04 5.00000000e-03], f_best = 0.1721202720552659\n",
      "12\n",
      "pop. radius: 0.0018382907211602628\n",
      "x_best = [2.65000000e-05 2.02989043e-04 5.00000000e-03], f_best = 0.1721202720552659\n",
      "13\n",
      "pop. radius: 0.0011448809916633218\n",
      "x_best = [2.65000000e-05 2.02989043e-04 5.00000000e-03], f_best = 0.1721202720552659\n",
      "14\n",
      "pop. radius: 0.000485797274655031\n",
      "x_best = [2.65000000e-05 2.02989043e-04 5.00000000e-03], f_best = 0.1721202720552659\n",
      "15\n",
      "pop. radius: 0.0009264773159249895\n",
      "x_best = [2.65000000e-05 2.02989043e-04 5.00000000e-03], f_best = 0.1721202720552659\n",
      "16\n",
      "pop. radius: 0.00040436769971108344\n",
      "x_best = [2.65000000e-05 2.02989043e-04 5.00000000e-03], f_best = 0.1721202720552659\n",
      "17\n",
      "pop. radius: 0.0007946730664163404\n",
      "x_best = [2.65000000e-05 2.02990983e-04 5.00000000e-03], f_best = 0.1721198906817163\n",
      "18\n",
      "pop. radius: 0.0005768953552208744\n",
      "x_best = [2.65000000e-05 2.02990983e-04 5.00000000e-03], f_best = 0.1721198906817163\n",
      "19\n",
      "pop. radius: 0.002793984923929127\n",
      "x_best = [2.65000000e-05 2.02990983e-04 5.00000000e-03], f_best = 0.1721198906817163\n",
      "20\n",
      "pop. radius: 0.001328057975101049\n",
      "x_best = [2.65000000e-05 2.02990983e-04 5.00000000e-03], f_best = 0.1721198906817163\n",
      "21\n",
      "pop. radius: 0.00021076557895061132\n",
      "x_best = [2.65000000e-05 2.02990983e-04 5.00000000e-03], f_best = 0.1721198906817163\n",
      "22\n",
      "pop. radius: 9.668508803906128e-05\n",
      "x_best = [2.65000000e-05 2.02990983e-04 5.00000000e-03], f_best = 0.1721198906817163\n",
      "23\n",
      "pop. radius: 4.7307297396992354e-05\n",
      "x_best = [2.65000000e-05 2.02990983e-04 5.00000000e-03], f_best = 0.1721198906817163\n",
      "24\n",
      "pop. radius: 3.1101283559875625e-05\n",
      "x_best = [2.65000000e-05 2.02990983e-04 5.00000000e-03], f_best = 0.1721198906817163\n",
      "25\n",
      "pop. radius: 1.9007573458518223e-05\n",
      "x_best = [2.65000000e-05 2.02990983e-04 5.00000000e-03], f_best = 0.1721198906817163\n",
      "26\n",
      "pop. radius: 8.491281302425158e-06\n",
      "x_best = [2.65000000e-05 2.02990983e-04 5.00000000e-03], f_best = 0.1721198906817163\n",
      "27\n",
      "pop. radius: 6.126845031539929e-06\n",
      "x_best = [2.65000000e-05 2.02990983e-04 5.00000000e-03], f_best = 0.1721198906817163\n",
      "28\n",
      "pop. radius: 3.893440291169448e-06\n",
      "x_best = [2.65000000e-05 2.02990983e-04 5.00000000e-03], f_best = 0.1721198906817163\n",
      "29\n",
      "pop. radius: 3.040314307756198e-06\n",
      "x_best = [2.65000000e-05 2.02990983e-04 5.00000000e-03], f_best = 0.1721198906817163\n",
      "30\n",
      "pop. radius: 9.357969714685055e-07\n",
      "x_best = [2.65000000e-05 2.02990983e-04 5.00000000e-03], f_best = 0.1721198906817163\n",
      "31\n",
      "pop. radius: 4.447589981748656e-06\n",
      "x_best = [2.65000000e-05 2.02990983e-04 5.00000000e-03], f_best = 0.1721198906817163\n",
      "32\n",
      "pop. radius: 3.83848729057501e-06\n",
      "x_best = [2.65000000e-05 2.02990983e-04 5.00000000e-03], f_best = 0.1721198906817163\n",
      "33\n",
      "pop. radius: 3.2455361690386653e-06\n",
      "x_best = [2.65000000e-05 2.02990983e-04 5.00000000e-03], f_best = 0.1721198906817163\n",
      "34\n",
      "pop. radius: 3.159439711630796e-06\n",
      "x_best = [2.65000000e-05 2.02990983e-04 5.00000000e-03], f_best = 0.1721198906817163\n",
      "35\n",
      "pop. radius: 9.460863699128907e-06\n",
      "x_best = [2.65000000e-05 2.02990983e-04 5.00000000e-03], f_best = 0.1721198906817163\n",
      "36\n",
      "pop. radius: 8.462203287429304e-06\n",
      "x_best = [2.65000000e-05 2.02990983e-04 5.00000000e-03], f_best = 0.1721198906817163\n",
      "37\n",
      "pop. radius: 7.324213987525141e-06\n",
      "x_best = [2.65000000e-05 2.02990983e-04 5.00000000e-03], f_best = 0.1721198906817163\n",
      "38\n",
      "pop. radius: 4.0112013697246596e-06\n",
      "x_best = [2.65000000e-05 2.02990983e-04 5.00000000e-03], f_best = 0.1721198906817163\n",
      "39\n",
      "pop. radius: 4.5140803619503345e-06\n",
      "x_best = [2.65000000e-05 2.02990983e-04 5.00000000e-03], f_best = 0.1721198906817163\n",
      "40\n",
      "pop. radius: 2.688815247120502e-06\n",
      "x_best = [2.65000000e-05 2.02990983e-04 5.00000000e-03], f_best = 0.1721198906817163\n",
      "41\n",
      "pop. radius: 2.8363386466168095e-06\n",
      "x_best = [2.65000000e-05 2.02990983e-04 5.00000000e-03], f_best = 0.1721198906817163\n",
      "42\n",
      "pop. radius: 2.0071154152034865e-06\n",
      "x_best = [2.65000000e-05 2.02990983e-04 5.00000000e-03], f_best = 0.1721198906817163\n",
      "43\n",
      "pop. radius: 2.7478731001728818e-06\n",
      "x_best = [2.65000000e-05 2.02990983e-04 5.00000000e-03], f_best = 0.1721198906817163\n",
      "44\n",
      "pop. radius: 2.4161770130204374e-06\n",
      "x_best = [2.65000000e-05 2.02990983e-04 5.00000000e-03], f_best = 0.1721198906817163\n",
      "45\n",
      "pop. radius: 3.823203822886338e-05\n",
      "x_best = [2.65000000e-05 2.02990983e-04 5.00000000e-03], f_best = 0.1721198906817163\n",
      "46\n",
      "pop. radius: 1.4637062235589582e-06\n",
      "x_best = [2.65000000e-05 2.02990983e-04 5.00000000e-03], f_best = 0.1721198906817163\n",
      "47\n",
      "pop. radius: 1.132441188711475e-06\n",
      "x_best = [2.65000000e-05 2.02990983e-04 5.00000000e-03], f_best = 0.1721198906817163\n",
      "48\n",
      "pop. radius: 6.701070605075188e-07\n",
      "x_best = [2.65000000e-05 2.02990983e-04 5.00000000e-03], f_best = 0.1721198906817163\n",
      "49\n",
      "pop. radius: 3.7078154524472495e-07\n",
      "x_best = [2.65000000e-05 2.02990983e-04 5.00000000e-03], f_best = 0.1721198906817163\n",
      "50\n",
      "pop. radius: 2.1631349422790436e-07\n",
      "x_best = [2.65000000e-05 2.02990983e-04 5.00000000e-03], f_best = 0.1721198906817163\n",
      "51\n",
      "pop. radius: 2.0542424028491268e-07\n",
      "x_best = [2.65000000e-05 2.02990983e-04 5.00000000e-03], f_best = 0.1721198906817163\n",
      "52\n",
      "pop. radius: 6.152037382856079e-07\n",
      "x_best = [2.65000000e-05 2.02990988e-04 5.00000000e-03], f_best = 0.1721198897741659\n",
      "53\n",
      "pop. radius: 3.7922938100898307e-07\n",
      "x_best = [2.65000000e-05 2.02990988e-04 5.00000000e-03], f_best = 0.1721198897741659\n",
      "54\n",
      "pop. radius: 2.2371501118279014e-07\n",
      "x_best = [2.65000000e-05 2.02990988e-04 5.00000000e-03], f_best = 0.1721198897741659\n",
      "55\n",
      "pop. radius: 1.940558280733029e-07\n",
      "x_best = [2.65000000e-05 2.02990988e-04 5.00000000e-03], f_best = 0.1721198897741659\n",
      "56\n",
      "pop. radius: 1.1301914926153955e-07\n",
      "x_best = [2.65000000e-05 2.02990988e-04 5.00000000e-03], f_best = 0.1721198897741659\n",
      "57\n",
      "pop. radius: 4.551023402576959e-08\n",
      "x_best = [2.65000000e-05 2.02990988e-04 5.00000000e-03], f_best = 0.1721198897741659\n",
      "58\n",
      "pop. radius: 3.226636635655922e-08\n",
      "x_best = [2.65000000e-05 2.02990988e-04 5.00000000e-03], f_best = 0.1721198897741659\n",
      "59\n",
      "pop. radius: 2.6214477033548178e-08\n",
      "x_best = [2.65000000e-05 2.02990988e-04 5.00000000e-03], f_best = 0.1721198897741659\n",
      "60\n",
      "pop. radius: 1.0805720873641178e-08\n",
      "x_best = [2.65000000e-05 2.02990988e-04 5.00000000e-03], f_best = 0.1721198897741659\n",
      "61\n",
      "pop. radius: 1.1092090057562842e-07\n",
      "x_best = [2.6500000e-05 2.0299099e-04 5.0000000e-03], f_best = 0.17211988928523259\n",
      "62\n",
      "pop. radius: 6.132515306678243e-08\n",
      "x_best = [2.6500000e-05 2.0299099e-04 5.0000000e-03], f_best = 0.17211988928523259\n",
      "63\n",
      "pop. radius: 4.643683582106206e-08\n",
      "x_best = [2.6500000e-05 2.0299099e-04 5.0000000e-03], f_best = 0.17211988928523259\n",
      "64\n",
      "pop. radius: 2.3437893625910533e-08\n",
      "x_best = [2.6500000e-05 2.0299099e-04 5.0000000e-03], f_best = 0.17211988928523259\n",
      "65\n",
      "pop. radius: 1.1401967370261445e-08\n",
      "x_best = [2.6500000e-05 2.0299099e-04 5.0000000e-03], f_best = 0.17211988928523259\n",
      "66\n",
      "pop. radius: 1.0155308594050894e-08\n",
      "x_best = [2.6500000e-05 2.0299099e-04 5.0000000e-03], f_best = 0.17211988928523259\n",
      "67\n",
      "pop. radius: 8.358268976937921e-08\n",
      "x_best = [2.65000000e-05 2.02990991e-04 5.00000000e-03], f_best = 0.17211988924172703\n",
      "68\n",
      "pop. radius: 8.112794358527964e-08\n",
      "x_best = [2.65000000e-05 2.02990991e-04 5.00000000e-03], f_best = 0.17211988924172703\n",
      "69\n",
      "pop. radius: 1.8262789141231307e-07\n",
      "x_best = [2.65000000e-05 2.02990991e-04 5.00000000e-03], f_best = 0.17211988924172703\n",
      "70\n",
      "pop. radius: 6.27816915121926e-08\n",
      "x_best = [2.65000000e-05 2.02990991e-04 5.00000000e-03], f_best = 0.17211988924172703\n",
      "71\n",
      "pop. radius: 4.129148212239642e-08\n",
      "x_best = [2.65000000e-05 2.02990991e-04 5.00000000e-03], f_best = 0.17211988924172703\n",
      "72\n",
      "pop. radius: 2.7802953717070977e-08\n",
      "x_best = [2.65000000e-05 2.02990991e-04 5.00000000e-03], f_best = 0.17211988924172703\n",
      "73\n",
      "pop. radius: 2.271852805879604e-08\n",
      "x_best = [2.65000000e-05 2.02990991e-04 5.00000000e-03], f_best = 0.17211988923579352\n",
      "74\n",
      "pop. radius: 1.9543902940455382e-08\n",
      "x_best = [2.65000000e-05 2.02990991e-04 5.00000000e-03], f_best = 0.17211988919261645\n",
      "75\n",
      "pop. radius: 1.5458508362264922e-08\n",
      "x_best = [2.65000000e-05 2.02990991e-04 5.00000000e-03], f_best = 0.1721198891623925\n",
      "76\n",
      "pop. radius: 6.494238924403817e-09\n",
      "x_best = [2.65000000e-05 2.02990991e-04 5.00000000e-03], f_best = 0.1721198891623925\n",
      "77\n",
      "pop. radius: 5.223472210325042e-09\n",
      "x_best = [2.65000000e-05 2.02990991e-04 5.00000000e-03], f_best = 0.1721198891623925\n",
      "78\n",
      "pop. radius: 4.207648784948503e-09\n",
      "x_best = [2.65000000e-05 2.02990991e-04 5.00000000e-03], f_best = 0.1721198891623925\n",
      "79\n",
      "pop. radius: 4.271467290983821e-09\n",
      "x_best = [2.65000000e-05 2.02990991e-04 5.00000000e-03], f_best = 0.1721198891623925\n",
      "80\n",
      "pop. radius: 3.6045685325447607e-09\n",
      "x_best = [2.65000000e-05 2.02990991e-04 5.00000000e-03], f_best = 0.1721198891623925\n",
      "81\n",
      "pop. radius: 2.377584240598196e-09\n",
      "x_best = [2.65000000e-05 2.02990991e-04 5.00000000e-03], f_best = 0.1721198891623925\n",
      "82\n",
      "pop. radius: 1.4257482972013236e-09\n",
      "x_best = [2.65000000e-05 2.02990991e-04 5.00000000e-03], f_best = 0.1721198891623925\n",
      "83\n",
      "pop. radius: 1.6697611071592178e-09\n",
      "x_best = [2.65000000e-05 2.02990991e-04 5.00000000e-03], f_best = 0.1721198891623925\n",
      "84\n",
      "pop. radius: 9.324433907919863e-09\n",
      "x_best = [2.65000000e-05 2.02990991e-04 5.00000000e-03], f_best = 0.1721198891623925\n",
      "85\n",
      "pop. radius: 2.1977643038795236e-09\n",
      "x_best = [2.65000000e-05 2.02990991e-04 5.00000000e-03], f_best = 0.1721198891623925\n",
      "86\n",
      "pop. radius: 4.205307879701081e-09\n",
      "x_best = [2.65000000e-05 2.02990991e-04 5.00000000e-03], f_best = 0.17211988915722565\n",
      "87\n",
      "pop. radius: 3.1691275159673182e-09\n",
      "x_best = [2.65000000e-05 2.02990991e-04 5.00000000e-03], f_best = 0.17211988915722565\n",
      "88\n",
      "pop. radius: 2.0966218761131472e-09\n",
      "x_best = [2.65000000e-05 2.02990991e-04 5.00000000e-03], f_best = 0.17211988915722565\n",
      "89\n",
      "pop. radius: 1.1070236949350942e-09\n",
      "x_best = [2.65000000e-05 2.02990991e-04 5.00000000e-03], f_best = 0.17211988915722565\n",
      "90\n",
      "pop. radius: 5.972407013388192e-10\n",
      "x_best = [2.65000000e-05 2.02990991e-04 5.00000000e-03], f_best = 0.17211988915722565\n",
      "91\n",
      "pop. radius: 2.562852152721007e-10\n",
      "x_best = [2.65000000e-05 2.02990991e-04 5.00000000e-03], f_best = 0.17211988915722565\n",
      "92\n",
      "pop. radius: 3.037278206718952e-10\n",
      "x_best = [2.65000000e-05 2.02990991e-04 5.00000000e-03], f_best = 0.17211988915722565\n",
      "93\n",
      "pop. radius: 5.475895292761379e-10\n",
      "x_best = [2.65000000e-05 2.02990991e-04 5.00000000e-03], f_best = 0.17211988915532767\n",
      "94\n",
      "pop. radius: 4.0217562613520386e-10\n",
      "x_best = [2.65000000e-05 2.02990991e-04 5.00000000e-03], f_best = 0.17211988915532767\n",
      "95\n",
      "pop. radius: 1.1845809028715998e-08\n",
      "x_best = [2.65000000e-05 2.02990991e-04 5.00000000e-03], f_best = 0.17211988915532767\n",
      "96\n",
      "pop. radius: 9.824507873901211e-11\n",
      "x_best = [2.65000000e-05 2.02990991e-04 5.00000000e-03], f_best = 0.17211988915532767\n",
      "97\n",
      "pop. radius: 9.974832071435458e-11\n",
      "x_best = [2.65000000e-05 2.02990991e-04 5.00000000e-03], f_best = 0.17211988915532767\n",
      "98\n",
      "pop. radius: 4.5389247915750275e-10\n",
      "x_best = [2.65000000e-05 2.02990991e-04 5.00000000e-03], f_best = 0.17211988915398568\n",
      "99\n",
      "pop. radius: 3.6592551211356295e-10\n",
      "x_best = [2.65000000e-05 2.02990991e-04 5.00000000e-03], f_best = 0.17211988915398568\n",
      "100\n",
      "pop. radius: 1.1263157073670982e-10\n",
      "x_best = [2.65000000e-05 2.02990991e-04 5.00000000e-03], f_best = 0.17211988915398568\n"
     ]
    }
   ],
   "source": [
    "# Aquí corremos la metaheurística seleccionada\n",
    "met.verbose = True  # Se puede comentar para que no muestre todo el log\n",
    "met.run()"
   ],
   "metadata": {
    "collapsed": false,
    "pycharm": {
     "name": "#%%\n"
    }
   }
  },
  {
   "cell_type": "markdown",
   "source": [
    "## 4. Results' visualization"
   ],
   "metadata": {
    "collapsed": false,
    "pycharm": {
     "name": "#%% md\n"
    }
   }
  },
  {
   "cell_type": "markdown",
   "source": [
    "En esta primera gráfica, solo veremos la evolución de la función objetivo (generación de entropía)"
   ],
   "metadata": {
    "collapsed": false,
    "pycharm": {
     "name": "#%% md\n"
    }
   }
  },
  {
   "cell_type": "code",
   "execution_count": 18,
   "outputs": [
    {
     "data": {
      "text/plain": "<Figure size 432x288 with 1 Axes>",
      "image/png": "[encoded data removed]"
     },
     "metadata": {
      "needs_background": "light"
     },
     "output_type": "display_data"
    }
   ],
   "source": [
    "import matplotlib.pyplot as plt\n",
    "\n",
    "plt.plot(met.historical[\"fitness\"])\n",
    "plt.ylabel(r'Entropy Generation (W/K)')\n",
    "plt.xlabel(r'Iteration Number')\n",
    "plt.show()"
   ],
   "metadata": {
    "collapsed": false,
    "pycharm": {
     "name": "#%%\n"
    }
   }
  },
  {
   "cell_type": "code",
   "execution_count": 19,
   "outputs": [
    {
     "data": {
      "text/plain": "<Figure size 432x288 with 1 Axes>",
      "image/png": "[encoded data removed]"
     },
     "metadata": {
      "needs_background": "light"
     },
     "output_type": "display_data"
    }
   ],
   "source": [
    "for i in range(1,50):\n",
    "    met = mh.Metaheuristic(fun.get_formatted_problem(is_constrained=True), heur , num_iterations=100)\n",
    "    met.run()\n",
    "    plt.plot(met.historical[\"fitness\"])\n",
    "plt.ylabel(r'Entropy Generation Rate (W/K)')\n",
    "plt.xlabel(r'Iteration Number')\n",
    "plt.gcf()\n",
    "plt.savefig('resultsMH.jpg')\n",
    "plt.show()\n",
    "\n"
   ],
   "metadata": {
    "collapsed": false,
    "pycharm": {
     "name": "#%%\n"
    }
   }
  },
  {
   "cell_type": "code",
   "execution_count": 15,
   "outputs": [
    {
     "ename": "KeyboardInterrupt",
     "evalue": "",
     "output_type": "error",
     "traceback": [
      "\u001B[1;31m---------------------------------------------------------------------------\u001B[0m",
      "\u001B[1;31mKeyboardInterrupt\u001B[0m                         Traceback (most recent call last)",
      "Input \u001B[1;32mIn [15]\u001B[0m, in \u001B[0;36m<cell line: 10>\u001B[1;34m()\u001B[0m\n\u001B[0;32m     11\u001B[0m \u001B[38;5;28;01mdel\u001B[39;00m hyp\n\u001B[0;32m     12\u001B[0m hyp \u001B[38;5;241m=\u001B[39m hh\u001B[38;5;241m.\u001B[39mHyperheuristic(heuristic_space\u001B[38;5;241m=\u001B[39mheuristic_space, problem\u001B[38;5;241m=\u001B[39mprob, file_label\u001B[38;5;241m=\u001B[39m\u001B[38;5;124m\"\u001B[39m\u001B[38;5;124mMC_results_Copper_Air_\u001B[39m\u001B[38;5;132;01m%d\u001B[39;00m\u001B[38;5;124m\"\u001B[39m\u001B[38;5;241m%\u001B[39mi\n\u001B[0;32m     13\u001B[0m )\n\u001B[1;32m---> 14\u001B[0m sol, perf, e_sol \u001B[38;5;241m=\u001B[39m \u001B[43mhyp\u001B[49m\u001B[38;5;241;43m.\u001B[39;49m\u001B[43mrun\u001B[49m\u001B[43m(\u001B[49m\u001B[43m)\u001B[49m\n\u001B[0;32m     15\u001B[0m \u001B[38;5;28mprint\u001B[39m( sol, perf, e_sol, \u001B[38;5;124m\"\u001B[39m\u001B[38;5;130;01m\\n\u001B[39;00m\u001B[38;5;130;01m\\n\u001B[39;00m\u001B[38;5;124m\"\u001B[39m)\n",
      "File \u001B[1;32mc:\\users\\memo_\\pycharmprojects\\microchannels\\venv\\lib\\site-packages\\customhys\\hyperheuristic.py:221\u001B[0m, in \u001B[0;36mHyperheuristic.run\u001B[1;34m(self)\u001B[0m\n\u001B[0;32m    218\u001B[0m current_encoded_solution, current_solution \u001B[38;5;241m=\u001B[39m obtain_neighbour_solution()\n\u001B[0;32m    220\u001B[0m \u001B[38;5;66;03m# Evaluate this solution\u001B[39;00m\n\u001B[1;32m--> 221\u001B[0m current_performance, current_details \u001B[38;5;241m=\u001B[39m \u001B[38;5;28;43mself\u001B[39;49m\u001B[38;5;241;43m.\u001B[39;49m\u001B[43mevaluate_metaheuristic\u001B[49m\u001B[43m(\u001B[49m\u001B[43mcurrent_solution\u001B[49m\u001B[43m)\u001B[49m\n\u001B[0;32m    223\u001B[0m \u001B[38;5;66;03m# Initialise the best solution and its performance\u001B[39;00m\n\u001B[0;32m    224\u001B[0m best_encoded_solution \u001B[38;5;241m=\u001B[39m np\u001B[38;5;241m.\u001B[39mcopy(current_encoded_solution)\n",
      "File \u001B[1;32mc:\\users\\memo_\\pycharmprojects\\microchannels\\venv\\lib\\site-packages\\customhys\\hyperheuristic.py:320\u001B[0m, in \u001B[0;36mHyperheuristic.evaluate_metaheuristic\u001B[1;34m(self, search_operators)\u001B[0m\n\u001B[0;32m    316\u001B[0m mh \u001B[38;5;241m=\u001B[39m Metaheuristic(\u001B[38;5;28mself\u001B[39m\u001B[38;5;241m.\u001B[39mproblem, search_operators, \u001B[38;5;28mself\u001B[39m\u001B[38;5;241m.\u001B[39mparameters[\u001B[38;5;124m'\u001B[39m\u001B[38;5;124mnum_agents\u001B[39m\u001B[38;5;124m'\u001B[39m],\n\u001B[0;32m    317\u001B[0m                    \u001B[38;5;28mself\u001B[39m\u001B[38;5;241m.\u001B[39mparameters[\u001B[38;5;124m'\u001B[39m\u001B[38;5;124mnum_iterations\u001B[39m\u001B[38;5;124m'\u001B[39m])\n\u001B[0;32m    319\u001B[0m \u001B[38;5;66;03m# Run this metaheuristic\u001B[39;00m\n\u001B[1;32m--> 320\u001B[0m \u001B[43mmh\u001B[49m\u001B[38;5;241;43m.\u001B[39;49m\u001B[43mrun\u001B[49m\u001B[43m(\u001B[49m\u001B[43m)\u001B[49m\n\u001B[0;32m    322\u001B[0m \u001B[38;5;66;03m# Store the historical values from this run\u001B[39;00m\n\u001B[0;32m    323\u001B[0m historical_data\u001B[38;5;241m.\u001B[39mappend(mh\u001B[38;5;241m.\u001B[39mhistorical)\n",
      "File \u001B[1;32mc:\\users\\memo_\\pycharmprojects\\microchannels\\venv\\lib\\site-packages\\customhys\\metaheuristic.py:122\u001B[0m, in \u001B[0;36mMetaheuristic.run\u001B[1;34m(self)\u001B[0m\n\u001B[0;32m    120\u001B[0m \u001B[38;5;66;03m# Update population\u001B[39;00m\n\u001B[0;32m    121\u001B[0m \u001B[38;5;28;01mif\u001B[39;00m selector \u001B[38;5;129;01min\u001B[39;00m __selectors__:\n\u001B[1;32m--> 122\u001B[0m     \u001B[38;5;28;43mself\u001B[39;49m\u001B[38;5;241;43m.\u001B[39;49m\u001B[43mpop\u001B[49m\u001B[38;5;241;43m.\u001B[39;49m\u001B[43mupdate_positions\u001B[49m\u001B[43m(\u001B[49m\u001B[38;5;124;43m'\u001B[39;49m\u001B[38;5;124;43mpopulation\u001B[39;49m\u001B[38;5;124;43m'\u001B[39;49m\u001B[43m,\u001B[49m\u001B[43m \u001B[49m\u001B[43mselector\u001B[49m\u001B[43m)\u001B[49m\n\u001B[0;32m    123\u001B[0m \u001B[38;5;28;01melse\u001B[39;00m:\n\u001B[0;32m    124\u001B[0m     \u001B[38;5;28mself\u001B[39m\u001B[38;5;241m.\u001B[39mpop\u001B[38;5;241m.\u001B[39mupdate_positions()\n",
      "File \u001B[1;32mc:\\users\\memo_\\pycharmprojects\\microchannels\\venv\\lib\\site-packages\\customhys\\population.py:161\u001B[0m, in \u001B[0;36mPopulation.update_positions\u001B[1;34m(self, level, selector)\u001B[0m\n\u001B[0;32m    159\u001B[0m     \u001B[38;5;28mself\u001B[39m\u001B[38;5;241m.\u001B[39mprevious_fitness[agent] \u001B[38;5;241m=\u001B[39m np\u001B[38;5;241m.\u001B[39mcopy(\u001B[38;5;28mself\u001B[39m\u001B[38;5;241m.\u001B[39mfitness[agent])\n\u001B[0;32m    160\u001B[0m     \u001B[38;5;28mself\u001B[39m\u001B[38;5;241m.\u001B[39mprevious_positions[agent, :] \u001B[38;5;241m=\u001B[39m np\u001B[38;5;241m.\u001B[39mcopy(\u001B[38;5;28mself\u001B[39m\u001B[38;5;241m.\u001B[39mpositions[agent, :])\n\u001B[1;32m--> 161\u001B[0m     \u001B[38;5;28mself\u001B[39m\u001B[38;5;241m.\u001B[39mprevious_velocities[agent, :] \u001B[38;5;241m=\u001B[39m np\u001B[38;5;241m.\u001B[39mcopy(\u001B[38;5;28mself\u001B[39m\u001B[38;5;241m.\u001B[39mvelocities[agent, :])\n\u001B[0;32m    162\u001B[0m \u001B[38;5;28;01melse\u001B[39;00m:\n\u001B[0;32m    163\u001B[0m     \u001B[38;5;66;03m# ... otherwise,return to previous values\u001B[39;00m\n\u001B[0;32m    164\u001B[0m     \u001B[38;5;28mself\u001B[39m\u001B[38;5;241m.\u001B[39mfitness[agent] \u001B[38;5;241m=\u001B[39m np\u001B[38;5;241m.\u001B[39mcopy(\u001B[38;5;28mself\u001B[39m\u001B[38;5;241m.\u001B[39mprevious_fitness[agent])\n",
      "\u001B[1;31mKeyboardInterrupt\u001B[0m: "
     ]
    }
   ],
   "source": [
    "# from source import experiment as ex\n",
    "# expe = ex.Experiment()\n",
    "# expe.hh_configr\n",
    "# expe.exp_config\n",
    "# expe.prob_config\n",
    "# expe.run()\n",
    "from customhys import hyperheuristic as hh\n",
    "prob = fun.get_formatted_problem(is_constrained=True)\n",
    "hyp = None\n",
    "for i in range(1,30):\n",
    "    del hyp\n",
    "    hyp = hh.Hyperheuristic(heuristic_space=heuristic_space, problem=prob, file_label=\"MC_results_Copper_Air_%d\"%i\n",
    "    )\n",
    "    sol, perf, e_sol = hyp.run()\n",
    "    print( sol, perf, e_sol, \"\\n\\n\")"
   ],
   "metadata": {
    "collapsed": false,
    "pycharm": {
     "name": "#%%\n"
    }
   }
  },
  {
   "cell_type": "code",
   "execution_count": null,
   "outputs": [],
   "source": [],
   "metadata": {
    "collapsed": false,
    "pycharm": {
     "name": "#%%\n"
    }
   }
  },
  {
   "cell_type": "code",
   "execution_count": 21,
   "outputs": [
    {
     "data": {
      "text/plain": "{'fitness': [array(0.17864928),\n  array(0.17227999),\n  array(0.17220074),\n  array(0.17214032),\n  array(0.17214032),\n  array(0.17214032),\n  array(0.17214032),\n  array(0.17214032),\n  array(0.17214032),\n  array(0.17214032),\n  array(0.17214032),\n  array(0.17214032),\n  array(0.17214032),\n  array(0.17214032),\n  array(0.17214032),\n  array(0.17213927),\n  array(0.17212368),\n  array(0.17212368),\n  array(0.17212368),\n  array(0.17212368),\n  array(0.17212368),\n  array(0.17212368),\n  array(0.17212269),\n  array(0.17212204),\n  array(0.17212204),\n  array(0.172121),\n  array(0.172121),\n  array(0.17212095),\n  array(0.17212095),\n  array(0.17212095),\n  array(0.17212054),\n  array(0.17212054),\n  array(0.17212054),\n  array(0.17212054),\n  array(0.17212039),\n  array(0.17212027),\n  array(0.17212021),\n  array(0.17212017),\n  array(0.17212014),\n  array(0.17212012),\n  array(0.17212003),\n  array(0.17211998),\n  array(0.17211998),\n  array(0.17211998),\n  array(0.17211997),\n  array(0.17211996),\n  array(0.1721199),\n  array(0.1721199),\n  array(0.1721199),\n  array(0.1721199),\n  array(0.1721199),\n  array(0.1721199),\n  array(0.1721199),\n  array(0.1721199),\n  array(0.1721199),\n  array(0.1721199),\n  array(0.1721199),\n  array(0.1721199),\n  array(0.1721199),\n  array(0.1721199),\n  array(0.1721199),\n  array(0.1721199),\n  array(0.17211989),\n  array(0.17211989),\n  array(0.17211989),\n  array(0.17211989),\n  array(0.17211989),\n  array(0.17211989),\n  array(0.17211989),\n  array(0.17211989),\n  array(0.17211989),\n  array(0.17211989),\n  array(0.17211989),\n  array(0.17211989),\n  array(0.17211989),\n  array(0.17211989),\n  array(0.17211989),\n  array(0.17211989),\n  array(0.17211989),\n  array(0.17211989),\n  array(0.17211989),\n  array(0.17211989),\n  array(0.17211989),\n  array(0.17211989),\n  array(0.17211989),\n  array(0.17211989),\n  array(0.17211989),\n  array(0.17211989),\n  array(0.17211989),\n  array(0.17211989),\n  array(0.17211989),\n  array(0.17211989),\n  array(0.17211989),\n  array(0.17211989),\n  array(0.17211989),\n  array(0.17211989),\n  array(0.17211989),\n  array(0.17211989),\n  array(0.17211989),\n  array(0.17211989),\n  array(0.17211989)],\n 'position': [array([2.70075984e-05, 1.81757056e-04, 5.04865687e-03]),\n  array([2.68597023e-05, 2.04000000e-04, 5.00000000e-03]),\n  array([2.65e-05, 2.04e-04, 5.00e-03]),\n  array([2.6500000e-05, 2.0288713e-04, 5.0000000e-03]),\n  array([2.6500000e-05, 2.0288713e-04, 5.0000000e-03]),\n  array([2.6500000e-05, 2.0288713e-04, 5.0000000e-03]),\n  array([2.6500000e-05, 2.0288713e-04, 5.0000000e-03]),\n  array([2.6500000e-05, 2.0288713e-04, 5.0000000e-03]),\n  array([2.6500000e-05, 2.0288713e-04, 5.0000000e-03]),\n  array([2.6500000e-05, 2.0288713e-04, 5.0000000e-03]),\n  array([2.6500000e-05, 2.0288713e-04, 5.0000000e-03]),\n  array([2.6500000e-05, 2.0288713e-04, 5.0000000e-03]),\n  array([2.6500000e-05, 2.0288713e-04, 5.0000000e-03]),\n  array([2.6500000e-05, 2.0288713e-04, 5.0000000e-03]),\n  array([2.6500000e-05, 2.0288713e-04, 5.0000000e-03]),\n  array([2.65051809e-05, 2.02898287e-04, 5.00000000e-03]),\n  array([2.6500000e-05, 2.0297169e-04, 5.0000000e-03]),\n  array([2.6500000e-05, 2.0297169e-04, 5.0000000e-03]),\n  array([2.6500000e-05, 2.0297169e-04, 5.0000000e-03]),\n  array([2.6500000e-05, 2.0297169e-04, 5.0000000e-03]),\n  array([2.6500000e-05, 2.0297169e-04, 5.0000000e-03]),\n  array([2.6500000e-05, 2.0297169e-04, 5.0000000e-03]),\n  array([2.65000000e-05, 2.02976754e-04, 5.00000000e-03]),\n  array([2.65012171e-05, 2.02981396e-04, 5.00000000e-03]),\n  array([2.65012171e-05, 2.02981396e-04, 5.00000000e-03]),\n  array([2.65017191e-05, 2.02987276e-04, 5.00000000e-03]),\n  array([2.65017191e-05, 2.02987276e-04, 5.00000000e-03]),\n  array([2.65012898e-05, 2.02987044e-04, 5.00000000e-03]),\n  array([2.65012898e-05, 2.02987044e-04, 5.00000000e-03]),\n  array([2.65012898e-05, 2.02987044e-04, 5.00000000e-03]),\n  array([2.65008287e-05, 2.02988585e-04, 5.00000000e-03]),\n  array([2.65008287e-05, 2.02988585e-04, 5.00000000e-03]),\n  array([2.65008287e-05, 2.02988585e-04, 5.00000000e-03]),\n  array([2.65008287e-05, 2.02988585e-04, 5.00000000e-03]),\n  array([2.65001797e-05, 2.02988638e-04, 5.00000000e-03]),\n  array([2.65000000e-05, 2.02989055e-04, 5.00000000e-03]),\n  array([2.65000000e-05, 2.02989347e-04, 5.00000000e-03]),\n  array([2.65000000e-05, 2.02989551e-04, 5.00000000e-03]),\n  array([2.65000000e-05, 2.02989694e-04, 5.00000000e-03]),\n  array([2.65000000e-05, 2.02989794e-04, 5.00000000e-03]),\n  array([2.65000392e-05, 2.02990342e-04, 5.00000000e-03]),\n  array([2.65000000e-05, 2.02990548e-04, 5.00000000e-03]),\n  array([2.65000000e-05, 2.02990548e-04, 5.00000000e-03]),\n  array([2.65000000e-05, 2.02990548e-04, 5.00000000e-03]),\n  array([2.65000000e-05, 2.02990565e-04, 5.00000000e-03]),\n  array([2.65000000e-05, 2.02990636e-04, 5.00000000e-03]),\n  array([2.65000000e-05, 2.02990944e-04, 5.00000000e-03]),\n  array([2.65000000e-05, 2.02990944e-04, 5.00000000e-03]),\n  array([2.65000000e-05, 2.02990961e-04, 5.00000000e-03]),\n  array([2.65000000e-05, 2.02990961e-04, 5.00000000e-03]),\n  array([2.65000000e-05, 2.02990961e-04, 5.00000000e-03]),\n  array([2.65000000e-05, 2.02990961e-04, 5.00000000e-03]),\n  array([2.65000000e-05, 2.02990961e-04, 5.00000000e-03]),\n  array([2.65000000e-05, 2.02990961e-04, 5.00000000e-03]),\n  array([2.65000000e-05, 2.02990961e-04, 5.00000000e-03]),\n  array([2.65000000e-05, 2.02990961e-04, 5.00000000e-03]),\n  array([2.65000000e-05, 2.02990961e-04, 5.00000000e-03]),\n  array([2.65000000e-05, 2.02990961e-04, 5.00000000e-03]),\n  array([2.65000000e-05, 2.02990961e-04, 5.00000000e-03]),\n  array([2.65000000e-05, 2.02990961e-04, 5.00000000e-03]),\n  array([2.65000000e-05, 2.02990961e-04, 5.00000000e-03]),\n  array([2.65000000e-05, 2.02990961e-04, 5.00000000e-03]),\n  array([2.65000005e-05, 2.02990980e-04, 5.00000000e-03]),\n  array([2.65000005e-05, 2.02990980e-04, 5.00000000e-03]),\n  array([2.65000004e-05, 2.02990981e-04, 5.00000000e-03]),\n  array([2.65000004e-05, 2.02990981e-04, 5.00000000e-03]),\n  array([2.65000001e-05, 2.02990984e-04, 5.00000000e-03]),\n  array([2.65000001e-05, 2.02990984e-04, 5.00000000e-03]),\n  array([2.65000001e-05, 2.02990984e-04, 5.00000000e-03]),\n  array([2.65000001e-05, 2.02990984e-04, 5.00000000e-03]),\n  array([2.65000000e-05, 2.02990986e-04, 5.00000000e-03]),\n  array([2.6500000e-05, 2.0299099e-04, 5.0000000e-03]),\n  array([2.6500000e-05, 2.0299099e-04, 5.0000000e-03]),\n  array([2.6500000e-05, 2.0299099e-04, 5.0000000e-03]),\n  array([2.6500000e-05, 2.0299099e-04, 5.0000000e-03]),\n  array([2.6500000e-05, 2.0299099e-04, 5.0000000e-03]),\n  array([2.65000000e-05, 2.02990991e-04, 5.00000000e-03]),\n  array([2.65000000e-05, 2.02990991e-04, 5.00000000e-03]),\n  array([2.65000000e-05, 2.02990991e-04, 5.00000000e-03]),\n  array([2.65000000e-05, 2.02990991e-04, 5.00000000e-03]),\n  array([2.65000000e-05, 2.02990991e-04, 5.00000000e-03]),\n  array([2.65000000e-05, 2.02990991e-04, 5.00000000e-03]),\n  array([2.65000000e-05, 2.02990991e-04, 5.00000000e-03]),\n  array([2.65000000e-05, 2.02990991e-04, 5.00000000e-03]),\n  array([2.65000000e-05, 2.02990991e-04, 5.00000000e-03]),\n  array([2.65000000e-05, 2.02990991e-04, 5.00000000e-03]),\n  array([2.65000000e-05, 2.02990991e-04, 5.00000000e-03]),\n  array([2.65000000e-05, 2.02990991e-04, 5.00000000e-03]),\n  array([2.65000000e-05, 2.02990991e-04, 5.00000000e-03]),\n  array([2.65000000e-05, 2.02990991e-04, 5.00000000e-03]),\n  array([2.65000000e-05, 2.02990991e-04, 5.00000000e-03]),\n  array([2.65000000e-05, 2.02990991e-04, 5.00000000e-03]),\n  array([2.65000000e-05, 2.02990991e-04, 5.00000000e-03]),\n  array([2.65000000e-05, 2.02990991e-04, 5.00000000e-03]),\n  array([2.65000000e-05, 2.02990991e-04, 5.00000000e-03]),\n  array([2.65000000e-05, 2.02990991e-04, 5.00000000e-03]),\n  array([2.65000000e-05, 2.02990991e-04, 5.00000000e-03]),\n  array([2.65000000e-05, 2.02990991e-04, 5.00000000e-03]),\n  array([2.65000000e-05, 2.02990991e-04, 5.00000000e-03]),\n  array([2.65000000e-05, 2.02990991e-04, 5.00000000e-03]),\n  array([2.65000000e-05, 2.02990991e-04, 5.00000000e-03])],\n 'centroid': [array([ 0.16458362,  0.03762529, -0.05640609]),\n  array([ 0.37878735,  0.18285286, -0.99442805]),\n  array([ 0.89832579,  0.86929333, -1.        ]),\n  array([ 0.98996576,  0.99718733, -1.        ]),\n  array([ 0.99954075,  0.9963542 , -1.        ]),\n  array([ 0.99994721,  0.99869146, -1.        ]),\n  array([ 1.        ,  0.99864297, -1.        ]),\n  array([ 1.        ,  0.99815696, -1.        ]),\n  array([ 1.,  1., -1.]),\n  array([ 0.99957986,  0.99645929, -1.        ]),\n  array([ 1.,  1., -1.]),\n  array([ 1.,  1., -1.]),\n  array([ 1.,  1., -1.]),\n  array([ 0.999705  ,  0.99876868, -1.        ]),\n  array([ 0.99898784,  0.99335445, -1.        ]),\n  array([ 0.99826514,  0.98896151, -1.        ]),\n  array([ 0.99831721,  0.98798373, -1.        ]),\n  array([ 0.99754449,  0.9907889 , -1.        ]),\n  array([ 0.9994624 ,  0.99493453, -1.        ]),\n  array([ 1.        ,  0.99814233, -1.        ]),\n  array([ 0.99897789,  0.9858573 , -1.        ]),\n  array([ 0.99907343,  0.96583264, -1.        ]),\n  array([ 0.99892079,  0.96825794, -1.        ]),\n  array([ 0.99978729,  0.96891938, -1.        ]),\n  array([ 0.99991616,  0.96941922, -1.        ]),\n  array([ 0.99991814,  0.96973472, -1.        ]),\n  array([ 0.99991953,  0.96984659, -1.        ]),\n  array([ 0.99987228,  0.97000273, -1.        ]),\n  array([ 0.99986643,  0.97003252, -1.        ]),\n  array([ 0.99985   ,  0.97012403, -1.        ]),\n  array([ 0.99985426,  0.97019021, -1.        ]),\n  array([ 0.99985553,  0.9702122 , -1.        ]),\n  array([ 0.99987208,  0.9702222 , -1.        ]),\n  array([ 0.99986695,  0.97022969, -1.        ]),\n  array([ 0.99987788,  0.97023913, -1.        ]),\n  array([ 0.99989506,  0.9702382 , -1.        ]),\n  array([ 0.99995963,  0.97023884, -1.        ]),\n  array([ 0.99997832,  0.97023956, -1.        ]),\n  array([ 0.99997699,  0.97025223, -1.        ]),\n  array([ 0.99997902,  0.97026197, -1.        ]),\n  array([ 0.9999756 ,  0.97027769, -1.        ]),\n  array([ 0.99998026,  0.97028719, -1.        ]),\n  array([ 0.99997315,  0.97029192, -1.        ]),\n  array([ 0.99997664,  0.97029548, -1.        ]),\n  array([ 0.99998118,  0.97029989, -1.        ]),\n  array([ 0.99998981,  0.9703048 , -1.        ]),\n  array([ 0.9999983,  0.9703112, -1.       ]),\n  array([ 0.99999881,  0.97031211, -1.        ]),\n  array([ 0.99999945,  0.97031344, -1.        ]),\n  array([ 0.99999959,  0.97031401, -1.        ]),\n  array([ 0.99999953,  0.970315  , -1.        ]),\n  array([ 0.99999957,  0.97031661, -1.        ]),\n  array([ 0.99999975,  0.97031929, -1.        ]),\n  array([ 0.9999998 ,  0.97032129, -1.        ]),\n  array([ 0.99999981,  0.97032167, -1.        ]),\n  array([ 0.99999977,  0.97032187, -1.        ]),\n  array([ 0.99999983,  0.97032212, -1.        ]),\n  array([ 0.99999984,  0.97032213, -1.        ]),\n  array([ 0.99999984,  0.97032215, -1.        ]),\n  array([ 0.99999986,  0.97032215, -1.        ]),\n  array([ 0.99999988,  0.97032215, -1.        ]),\n  array([ 0.99999986,  0.9703221 , -1.        ]),\n  array([ 0.99999993,  0.97032224, -1.        ]),\n  array([ 0.99999992,  0.97032216, -1.        ]),\n  array([ 0.99999993,  0.97032221, -1.        ]),\n  array([ 0.99999982,  0.97032223, -1.        ]),\n  array([ 0.99999957,  0.97032248, -1.        ]),\n  array([ 0.99999978,  0.97032256, -1.        ]),\n  array([ 0.99999991,  0.97032275, -1.        ]),\n  array([ 0.9999999 ,  0.97032291, -1.        ]),\n  array([ 0.99999992,  0.970323  , -1.        ]),\n  array([ 0.99999998,  0.97032308, -1.        ]),\n  array([ 0.99999998,  0.97032313, -1.        ]),\n  array([ 0.99999998,  0.97032319, -1.        ]),\n  array([ 0.99999999,  0.97032321, -1.        ]),\n  array([ 0.99999999,  0.97032322, -1.        ]),\n  array([ 1.        ,  0.97032323, -1.        ]),\n  array([ 1.        ,  0.97032324, -1.        ]),\n  array([ 1.        ,  0.97032325, -1.        ]),\n  array([ 1.        ,  0.97032325, -1.        ]),\n  array([ 1.        ,  0.97032325, -1.        ]),\n  array([ 0.99999999,  0.97032325, -1.        ]),\n  array([ 1.        ,  0.97032325, -1.        ]),\n  array([ 1.        ,  0.97032325, -1.        ]),\n  array([ 1.        ,  0.97032325, -1.        ]),\n  array([ 1.        ,  0.97032325, -1.        ]),\n  array([ 1.        ,  0.97032325, -1.        ]),\n  array([ 1.        ,  0.97032325, -1.        ]),\n  array([ 1.        ,  0.97032326, -1.        ]),\n  array([ 1.        ,  0.97032326, -1.        ]),\n  array([ 1.        ,  0.97032326, -1.        ]),\n  array([ 1.        ,  0.97032326, -1.        ]),\n  array([ 1.        ,  0.97032326, -1.        ]),\n  array([ 1.        ,  0.97032326, -1.        ]),\n  array([ 1.        ,  0.97032326, -1.        ]),\n  array([ 1.        ,  0.97032326, -1.        ]),\n  array([ 1.        ,  0.97032326, -1.        ]),\n  array([ 1.        ,  0.97032326, -1.        ]),\n  array([ 1.        ,  0.97032326, -1.        ]),\n  array([ 1.        ,  0.97032326, -1.        ]),\n  array([ 1.        ,  0.97032326, -1.        ])],\n 'radius': [1.4287708469289584,\n  1.3790280254049505,\n  0.6695156121805417,\n  0.03781151048506032,\n  0.04409157848891853,\n  0.031422970709452956,\n  0.031374434786299976,\n  0.030888420473620948,\n  0.0,\n  0.030837304630817755,\n  0.0,\n  0.0,\n  0.0,\n  0.035733392701558786,\n  0.031812309221885694,\n  0.026568105856253642,\n  0.031476085816358225,\n  0.05008874422571189,\n  0.028610080632276064,\n  0.0318128290746047,\n  0.024613892654512564,\n  0.03417991887491947,\n  0.004786911652046151,\n  0.0017039937138340578,\n  0.0007405973712355834,\n  0.0004898194488817917,\n  0.0003814282462648344,\n  0.00022222899937138156,\n  0.00018806350494868115,\n  0.00014146248247675643,\n  8.481564503844243e-05,\n  6.923691136867154e-05,\n  4.410905083568497e-05,\n  5.670927094280868e-05,\n  0.00010408704591076852,\n  0.00010864263211832677,\n  5.4125396883667364e-05,\n  4.668479208004821e-05,\n  4.0128172896123585e-05,\n  3.347542222914321e-05,\n  7.788071459704323e-05,\n  4.12472981166385e-05,\n  1.7631295083056098e-05,\n  2.3268878602772267e-05,\n  2.1723463098103636e-05,\n  1.699496333640157e-05,\n  1.0819775629766299e-05,\n  2.3680512983381546e-06,\n  8.956111763547991e-06,\n  8.37559688799507e-06,\n  7.390738580134018e-06,\n  5.79002168698883e-06,\n  3.301042225973192e-06,\n  1.1880210568449815e-06,\n  9.290221793448994e-07,\n  9.539978003682414e-07,\n  1.1386917116300296e-07,\n  1.009033025879735e-07,\n  8.080230462571487e-08,\n  6.001430036677795e-08,\n  4.406674281997724e-08,\n  9.44387699330399e-07,\n  7.147455200623252e-07,\n  2.7320821228974684e-08,\n  7.537422395526847e-07,\n  1.2949137937498622e-06,\n  9.91299997132654e-07,\n  1.0998392173631604e-06,\n  3.9848378436916964e-07,\n  2.117915789944372e-07,\n  1.945376466819563e-07,\n  1.5371720657305546e-07,\n  1.0095155314015025e-07,\n  1.1466418480368666e-07,\n  4.128725962994695e-08,\n  2.633297092901142e-08,\n  2.7625121350643e-08,\n  1.0053394287255665e-08,\n  4.346664686957869e-09,\n  1.930475802082904e-09,\n  8.265971807186732e-10,\n  1.1101807780794821e-07,\n  2.5710187190463763e-09,\n  1.6494504465103091e-09,\n  1.0513431359211366e-09,\n  6.957188263366395e-10,\n  1.4458823805619753e-08,\n  1.2014742380712151e-08,\n  9.492728007180514e-09,\n  4.781640485450318e-09,\n  4.080151250699964e-09,\n  3.5891165503528027e-09,\n  3.631920972913311e-09,\n  2.5266120764604056e-09,\n  2.046636322675699e-09,\n  1.307039647281547e-09,\n  5.105798922907347e-10,\n  2.681678203382465e-10,\n  7.621114620253917e-10,\n  7.095531501074146e-10,\n  5.817911855602494e-09]}"
     },
     "execution_count": 21,
     "metadata": {},
     "output_type": "execute_result"
    }
   ],
   "source": [
    "met.historical"
   ],
   "metadata": {
    "collapsed": false,
    "pycharm": {
     "name": "#%%\n"
    }
   }
  },
  {
   "cell_type": "code",
   "execution_count": null,
   "outputs": [],
   "source": [
    "parameters=dict(\n",
    "        cardinality=3,  # Max. numb. of SOs in MHs, lvl:1\n",
    "        num_iterations=500,  # Iterations a MH performs, lvl:1\n",
    "        num_agents=300,  # Agents in population,     lvl:1\n",
    "        num_replicas=30,  # Replicas per each MH,     lvl:2\n",
    "        num_steps=100,  # Trials per HH step,       lvl:2\n",
    "        stagnation_percentage=0.5,  # Stagnation percentage,    lvl:2\n",
    "        max_temperature=200,  # Initial temperature (SA), lvl:2\n",
    "        cooling_rate=0.05,  # Cooling rate (SA),        lvl:2)\n",
    "        compute_replicas_in_parallel=False,\n",
    "        compute_agents_in_parallel=True)"
   ],
   "metadata": {
    "collapsed": false,
    "pycharm": {
     "name": "#%%\n"
    }
   }
  }
 ],
 "metadata": {
  "kernelspec": {
   "display_name": "Python 3",
   "language": "python",
   "name": "python3"
  },
  "language_info": {
   "codemirror_mode": {
    "name": "ipython",
    "version": 2
   },
   "file_extension": ".py",
   "mimetype": "text/x-python",
   "name": "python",
   "nbconvert_exporter": "python",
   "pygments_lexer": "ipython2",
   "version": "2.7.6"
  }
 },
 "nbformat": 4,
 "nbformat_minor": 0
}